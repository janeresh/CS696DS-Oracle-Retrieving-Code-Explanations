{
 "cells": [
  {
   "cell_type": "markdown",
   "id": "c0a95872",
   "metadata": {},
   "source": [
    "# HyDE\n",
    "For a given query, HyDE retrieval pipeline contains 4 components:\n",
    "1. Promptor: bulid prompt for generator based on specific task.\n",
    "2. Generator: generates hypothesis documents using Large Language Model.\n",
    "3. Encoder: encode hypothesis documents to HyDE vector.\n",
    "4. Searcher: search nearest neighbour for the HyDE vector (dense retrieval)."
   ]
  },
  {
   "cell_type": "markdown",
   "id": "a1ee489b",
   "metadata": {},
   "source": [
    "### Initialize HyDE components\n",
    "We use [pyserini](https://github.com/castorini/pyserini) as the search interface."
   ]
  },
  {
   "cell_type": "code",
   "execution_count": 1,
   "id": "65c24913",
   "metadata": {},
   "outputs": [
    {
     "name": "stdout",
     "output_type": "stream",
     "text": [
      "WARNING 04-07 00:30:08 _custom_ops.py:18] Failed to import from vllm._C with ImportError('libcuda.so.1: cannot open shared object file: No such file or directory')\n"
     ]
    }
   ],
   "source": [
    "import json\n",
    "# from pyserini.search.faiss import FaissSearcher\n",
    "# from pyserini.search.lucene import LuceneSearcher\n",
    "# from pyserini.encode import AutoQueryEncoder\n",
    "\n",
    "from hyde import Promptor, VLLMGenerator, HyDE"
   ]
  },
  {
   "cell_type": "code",
   "execution_count": 2,
   "id": "bfed3466",
   "metadata": {},
   "outputs": [],
   "source": [
    "import gc\n",
    "import torch\n",
    "\n",
    "gc.collect()\n",
    "torch.cuda.empty_cache()"
   ]
  },
  {
   "cell_type": "code",
   "execution_count": 3,
   "id": "dcb0db43",
   "metadata": {},
   "outputs": [],
   "source": [
    "KEY = '' # replace with your API key, it can be OpenAI api key or Cohere api key\n",
    "model_path = '/datasets/ai/ibm-granite/hub/models--ibm-granite--granite-3.0-2b-instruct/snapshots/69e41fe735f54cec1792de2ac4f124b6cc84638f'\n",
    "promptor = Promptor('expand_query')\n",
    "\n",
    "\n",
    "\n",
    "query = \"Write a Python function to check if a number is even.\"\n",
    "\n",
    "# encoder = AutoQueryEncoder(encoder_dir='facebook/contriever', pooling='mean')\n",
    "# searcher = FaissSearcher('contriever_msmarco_index/', encoder)\n",
    "# corpus = LuceneSearcher.from_prebuilt_index('msmarco-v1-passage')"
   ]
  },
  {
   "cell_type": "code",
   "execution_count": 4,
   "id": "1dbb4e6d",
   "metadata": {},
   "outputs": [
    {
     "ename": "KeyError",
     "evalue": "'allocated_bytes.all.current'",
     "output_type": "error",
     "traceback": [
      "\u001b[31m---------------------------------------------------------------------------\u001b[39m",
      "\u001b[31mKeyError\u001b[39m                                  Traceback (most recent call last)",
      "\u001b[36mCell\u001b[39m\u001b[36m \u001b[39m\u001b[32mIn[4]\u001b[39m\u001b[32m, line 1\u001b[39m\n\u001b[32m----> \u001b[39m\u001b[32m1\u001b[39m \u001b[38;5;28mprint\u001b[39m(\u001b[43mtorch\u001b[49m\u001b[43m.\u001b[49m\u001b[43mcuda\u001b[49m\u001b[43m.\u001b[49m\u001b[43mmemory_summary\u001b[49m\u001b[43m(\u001b[49m\u001b[43m)\u001b[49m)\n",
      "\u001b[36mFile \u001b[39m\u001b[32m/work/pi_wenlongzhao_umass_edu/27/.venv/lib/python3.12/site-packages/torch/cuda/memory.py:565\u001b[39m, in \u001b[36mmemory_summary\u001b[39m\u001b[34m(device, abbreviated)\u001b[39m\n\u001b[32m    562\u001b[39m \u001b[38;5;28;01mfor\u001b[39;00m submetric_key, submetric_name \u001b[38;5;129;01min\u001b[39;00m submetrics:\n\u001b[32m    563\u001b[39m     prefix = metric_key + \u001b[33m\"\u001b[39m\u001b[33m.\u001b[39m\u001b[33m\"\u001b[39m + submetric_key + \u001b[33m\"\u001b[39m\u001b[33m.\u001b[39m\u001b[33m\"\u001b[39m\n\u001b[32m--> \u001b[39m\u001b[32m565\u001b[39m     current = \u001b[43mstats\u001b[49m\u001b[43m[\u001b[49m\u001b[43mprefix\u001b[49m\u001b[43m \u001b[49m\u001b[43m+\u001b[49m\u001b[43m \u001b[49m\u001b[33;43m\"\u001b[39;49m\u001b[33;43mcurrent\u001b[39;49m\u001b[33;43m\"\u001b[39;49m\u001b[43m]\u001b[49m\n\u001b[32m    566\u001b[39m     peak = stats[prefix + \u001b[33m\"\u001b[39m\u001b[33mpeak\u001b[39m\u001b[33m\"\u001b[39m]\n\u001b[32m    567\u001b[39m     allocated = stats[prefix + \u001b[33m\"\u001b[39m\u001b[33mallocated\u001b[39m\u001b[33m\"\u001b[39m]\n",
      "\u001b[31mKeyError\u001b[39m: 'allocated_bytes.all.current'"
     ]
    }
   ],
   "source": [
    "print(torch.cuda.memory_summary())\n"
   ]
  },
  {
   "cell_type": "markdown",
   "id": "d0fe1eb3",
   "metadata": {},
   "source": [
    "### Build a HyDE pipeline"
   ]
  },
  {
   "cell_type": "code",
   "execution_count": 5,
   "id": "ccacadc5",
   "metadata": {},
   "outputs": [
    {
     "name": "stdout",
     "output_type": "stream",
     "text": [
      "Loading vLLM model from /datasets/ai/ibm-granite/hub/models--ibm-granite--granite-3.0-2b-instruct/snapshots/69e41fe735f54cec1792de2ac4f124b6cc84638f\n",
      "WARNING 04-07 00:41:02 config.py:1657] Casting torch.bfloat16 to torch.float16.\n",
      "INFO 04-07 00:41:02 llm_engine.py:223] Initializing an LLM engine (v0.6.1.post1) with config: model='/datasets/ai/ibm-granite/hub/models--ibm-granite--granite-3.0-2b-instruct/snapshots/69e41fe735f54cec1792de2ac4f124b6cc84638f', speculative_config=None, tokenizer='/datasets/ai/ibm-granite/hub/models--ibm-granite--granite-3.0-2b-instruct/snapshots/69e41fe735f54cec1792de2ac4f124b6cc84638f', skip_tokenizer_init=False, tokenizer_mode=auto, revision=None, override_neuron_config=None, rope_scaling=None, rope_theta=None, tokenizer_revision=None, trust_remote_code=True, dtype=torch.float16, max_seq_len=4096, download_dir=None, load_format=LoadFormat.AUTO, tensor_parallel_size=1, pipeline_parallel_size=1, disable_custom_all_reduce=False, quantization=None, enforce_eager=False, kv_cache_dtype=auto, quantization_param_path=None, device_config=cuda, decoding_config=DecodingConfig(guided_decoding_backend='outlines'), observability_config=ObservabilityConfig(otlp_traces_endpoint=None, collect_model_forward_time=False, collect_model_execute_time=False), seed=0, served_model_name=/datasets/ai/ibm-granite/hub/models--ibm-granite--granite-3.0-2b-instruct/snapshots/69e41fe735f54cec1792de2ac4f124b6cc84638f, use_v2_block_manager=False, num_scheduler_steps=1, enable_prefix_caching=False, use_async_output_proc=True)\n"
     ]
    },
    {
     "ename": "TypeError",
     "evalue": "'NoneType' object is not subscriptable",
     "output_type": "error",
     "traceback": [
      "\u001b[31m---------------------------------------------------------------------------\u001b[39m",
      "\u001b[31mTypeError\u001b[39m                                 Traceback (most recent call last)",
      "\u001b[36mCell\u001b[39m\u001b[36m \u001b[39m\u001b[32mIn[5]\u001b[39m\u001b[32m, line 1\u001b[39m\n\u001b[32m----> \u001b[39m\u001b[32m1\u001b[39m generator= \u001b[43mVLLMGenerator\u001b[49m\u001b[43m(\u001b[49m\u001b[33;43m'\u001b[39;49m\u001b[33;43mgranite\u001b[39;49m\u001b[33;43m'\u001b[39;49m\u001b[43m,\u001b[49m\u001b[43m \u001b[49m\u001b[43mmodel_path\u001b[49m\u001b[43m,\u001b[49m\u001b[43m \u001b[49m\u001b[43mapi_key\u001b[49m\u001b[43m=\u001b[49m\u001b[33;43m'\u001b[39;49m\u001b[33;43m'\u001b[39;49m\u001b[43m)\u001b[49m\n\u001b[32m      2\u001b[39m hyde = HyDE( generator, promptor)\n",
      "\u001b[36mFile \u001b[39m\u001b[32m/work/pi_wenlongzhao_umass_edu/27/janet/CS696DS-Oracle-Retrieving-Code-Explanations/query_expansion/hyde/src/hyde/generator.py:127\u001b[39m, in \u001b[36mVLLMGenerator.__init__\u001b[39m\u001b[34m(self, model_name, model_path, api_key, n, max_tokens, temperature, top_p)\u001b[39m\n\u001b[32m    125\u001b[39m \u001b[38;5;28mself\u001b[39m.top_p = top_p\n\u001b[32m    126\u001b[39m \u001b[38;5;28mprint\u001b[39m(\u001b[33mf\u001b[39m\u001b[33m\"\u001b[39m\u001b[33mLoading vLLM model from \u001b[39m\u001b[38;5;132;01m{\u001b[39;00mmodel_path\u001b[38;5;132;01m}\u001b[39;00m\u001b[33m\"\u001b[39m)\n\u001b[32m--> \u001b[39m\u001b[32m127\u001b[39m \u001b[38;5;28mself\u001b[39m.llm = \u001b[43mLLM\u001b[49m\u001b[43m(\u001b[49m\u001b[43mmodel\u001b[49m\u001b[43m=\u001b[49m\u001b[43mmodel_path\u001b[49m\u001b[43m,\u001b[49m\u001b[43m \u001b[49m\u001b[43mtrust_remote_code\u001b[49m\u001b[43m=\u001b[49m\u001b[38;5;28;43;01mTrue\u001b[39;49;00m\u001b[43m,\u001b[49m\u001b[43m \u001b[49m\u001b[43mdtype\u001b[49m\u001b[43m=\u001b[49m\u001b[33;43m\"\u001b[39;49m\u001b[33;43mfloat16\u001b[39;49m\u001b[33;43m\"\u001b[39;49m\u001b[43m)\u001b[49m\n\u001b[32m    128\u001b[39m \u001b[38;5;28mself\u001b[39m.sampling_params = SamplingParams(\n\u001b[32m    129\u001b[39m     temperature=\u001b[38;5;28mself\u001b[39m.temperature,\n\u001b[32m    130\u001b[39m     top_p=\u001b[38;5;28mself\u001b[39m.top_p,\n\u001b[32m    131\u001b[39m     max_tokens=\u001b[38;5;28mself\u001b[39m.max_tokens,\n\u001b[32m    132\u001b[39m     n=\u001b[38;5;28mself\u001b[39m.n\n\u001b[32m    133\u001b[39m )\n",
      "\u001b[36mFile \u001b[39m\u001b[32m/work/pi_wenlongzhao_umass_edu/27/.venv/lib/python3.12/site-packages/vllm/entrypoints/llm.py:178\u001b[39m, in \u001b[36mLLM.__init__\u001b[39m\u001b[34m(self, model, tokenizer, tokenizer_mode, skip_tokenizer_init, trust_remote_code, tensor_parallel_size, dtype, quantization, revision, tokenizer_revision, seed, gpu_memory_utilization, swap_space, cpu_offload_gb, enforce_eager, max_context_len_to_capture, max_seq_len_to_capture, disable_custom_all_reduce, disable_async_output_proc, **kwargs)\u001b[39m\n\u001b[32m    154\u001b[39m     \u001b[38;5;28;01mraise\u001b[39;00m \u001b[38;5;167;01mTypeError\u001b[39;00m(\n\u001b[32m    155\u001b[39m         \u001b[33m\"\u001b[39m\u001b[33mThere is no need to pass vision-related arguments anymore.\u001b[39m\u001b[33m\"\u001b[39m)\n\u001b[32m    156\u001b[39m engine_args = EngineArgs(\n\u001b[32m    157\u001b[39m     model=model,\n\u001b[32m    158\u001b[39m     tokenizer=tokenizer,\n\u001b[32m   (...)\u001b[39m\u001b[32m    176\u001b[39m     **kwargs,\n\u001b[32m    177\u001b[39m )\n\u001b[32m--> \u001b[39m\u001b[32m178\u001b[39m \u001b[38;5;28mself\u001b[39m.llm_engine = \u001b[43mLLMEngine\u001b[49m\u001b[43m.\u001b[49m\u001b[43mfrom_engine_args\u001b[49m\u001b[43m(\u001b[49m\n\u001b[32m    179\u001b[39m \u001b[43m    \u001b[49m\u001b[43mengine_args\u001b[49m\u001b[43m,\u001b[49m\u001b[43m \u001b[49m\u001b[43musage_context\u001b[49m\u001b[43m=\u001b[49m\u001b[43mUsageContext\u001b[49m\u001b[43m.\u001b[49m\u001b[43mLLM_CLASS\u001b[49m\u001b[43m)\u001b[49m\n\u001b[32m    180\u001b[39m \u001b[38;5;28mself\u001b[39m.request_counter = Counter()\n",
      "\u001b[36mFile \u001b[39m\u001b[32m/work/pi_wenlongzhao_umass_edu/27/.venv/lib/python3.12/site-packages/vllm/engine/llm_engine.py:550\u001b[39m, in \u001b[36mLLMEngine.from_engine_args\u001b[39m\u001b[34m(cls, engine_args, usage_context, stat_loggers)\u001b[39m\n\u001b[32m    548\u001b[39m executor_class = \u001b[38;5;28mcls\u001b[39m._get_executor_cls(engine_config)\n\u001b[32m    549\u001b[39m \u001b[38;5;66;03m# Create the LLM engine.\u001b[39;00m\n\u001b[32m--> \u001b[39m\u001b[32m550\u001b[39m engine = \u001b[38;5;28;43mcls\u001b[39;49m\u001b[43m(\u001b[49m\n\u001b[32m    551\u001b[39m \u001b[43m    \u001b[49m\u001b[43m*\u001b[49m\u001b[43m*\u001b[49m\u001b[43mengine_config\u001b[49m\u001b[43m.\u001b[49m\u001b[43mto_dict\u001b[49m\u001b[43m(\u001b[49m\u001b[43m)\u001b[49m\u001b[43m,\u001b[49m\n\u001b[32m    552\u001b[39m \u001b[43m    \u001b[49m\u001b[43mexecutor_class\u001b[49m\u001b[43m=\u001b[49m\u001b[43mexecutor_class\u001b[49m\u001b[43m,\u001b[49m\n\u001b[32m    553\u001b[39m \u001b[43m    \u001b[49m\u001b[43mlog_stats\u001b[49m\u001b[43m=\u001b[49m\u001b[38;5;129;43;01mnot\u001b[39;49;00m\u001b[43m \u001b[49m\u001b[43mengine_args\u001b[49m\u001b[43m.\u001b[49m\u001b[43mdisable_log_stats\u001b[49m\u001b[43m,\u001b[49m\n\u001b[32m    554\u001b[39m \u001b[43m    \u001b[49m\u001b[43musage_context\u001b[49m\u001b[43m=\u001b[49m\u001b[43musage_context\u001b[49m\u001b[43m,\u001b[49m\n\u001b[32m    555\u001b[39m \u001b[43m    \u001b[49m\u001b[43mstat_loggers\u001b[49m\u001b[43m=\u001b[49m\u001b[43mstat_loggers\u001b[49m\u001b[43m,\u001b[49m\n\u001b[32m    556\u001b[39m \u001b[43m\u001b[49m\u001b[43m)\u001b[49m\n\u001b[32m    558\u001b[39m \u001b[38;5;28;01mreturn\u001b[39;00m engine\n",
      "\u001b[36mFile \u001b[39m\u001b[32m/work/pi_wenlongzhao_umass_edu/27/.venv/lib/python3.12/site-packages/vllm/engine/llm_engine.py:317\u001b[39m, in \u001b[36mLLMEngine.__init__\u001b[39m\u001b[34m(self, model_config, cache_config, parallel_config, scheduler_config, device_config, load_config, lora_config, speculative_config, decoding_config, observability_config, prompt_adapter_config, executor_class, log_stats, usage_context, stat_loggers, input_registry)\u001b[39m\n\u001b[32m    313\u001b[39m \u001b[38;5;28mself\u001b[39m.input_registry = input_registry\n\u001b[32m    314\u001b[39m \u001b[38;5;28mself\u001b[39m.input_processor = input_registry.create_input_processor(\n\u001b[32m    315\u001b[39m     model_config)\n\u001b[32m--> \u001b[39m\u001b[32m317\u001b[39m \u001b[38;5;28mself\u001b[39m.model_executor = \u001b[43mexecutor_class\u001b[49m\u001b[43m(\u001b[49m\n\u001b[32m    318\u001b[39m \u001b[43m    \u001b[49m\u001b[43mmodel_config\u001b[49m\u001b[43m=\u001b[49m\u001b[43mmodel_config\u001b[49m\u001b[43m,\u001b[49m\n\u001b[32m    319\u001b[39m \u001b[43m    \u001b[49m\u001b[43mcache_config\u001b[49m\u001b[43m=\u001b[49m\u001b[43mcache_config\u001b[49m\u001b[43m,\u001b[49m\n\u001b[32m    320\u001b[39m \u001b[43m    \u001b[49m\u001b[43mparallel_config\u001b[49m\u001b[43m=\u001b[49m\u001b[43mparallel_config\u001b[49m\u001b[43m,\u001b[49m\n\u001b[32m    321\u001b[39m \u001b[43m    \u001b[49m\u001b[43mscheduler_config\u001b[49m\u001b[43m=\u001b[49m\u001b[43mscheduler_config\u001b[49m\u001b[43m,\u001b[49m\n\u001b[32m    322\u001b[39m \u001b[43m    \u001b[49m\u001b[43mdevice_config\u001b[49m\u001b[43m=\u001b[49m\u001b[43mdevice_config\u001b[49m\u001b[43m,\u001b[49m\n\u001b[32m    323\u001b[39m \u001b[43m    \u001b[49m\u001b[43mlora_config\u001b[49m\u001b[43m=\u001b[49m\u001b[43mlora_config\u001b[49m\u001b[43m,\u001b[49m\n\u001b[32m    324\u001b[39m \u001b[43m    \u001b[49m\u001b[43mspeculative_config\u001b[49m\u001b[43m=\u001b[49m\u001b[43mspeculative_config\u001b[49m\u001b[43m,\u001b[49m\n\u001b[32m    325\u001b[39m \u001b[43m    \u001b[49m\u001b[43mload_config\u001b[49m\u001b[43m=\u001b[49m\u001b[43mload_config\u001b[49m\u001b[43m,\u001b[49m\n\u001b[32m    326\u001b[39m \u001b[43m    \u001b[49m\u001b[43mprompt_adapter_config\u001b[49m\u001b[43m=\u001b[49m\u001b[43mprompt_adapter_config\u001b[49m\u001b[43m,\u001b[49m\n\u001b[32m    327\u001b[39m \u001b[43m    \u001b[49m\u001b[43mobservability_config\u001b[49m\u001b[43m=\u001b[49m\u001b[38;5;28;43mself\u001b[39;49m\u001b[43m.\u001b[49m\u001b[43mobservability_config\u001b[49m\u001b[43m,\u001b[49m\n\u001b[32m    328\u001b[39m \u001b[43m\u001b[49m\u001b[43m)\u001b[49m\n\u001b[32m    330\u001b[39m \u001b[38;5;28;01mif\u001b[39;00m \u001b[38;5;129;01mnot\u001b[39;00m \u001b[38;5;28mself\u001b[39m.model_config.embedding_mode:\n\u001b[32m    331\u001b[39m     \u001b[38;5;28mself\u001b[39m._initialize_kv_caches()\n",
      "\u001b[36mFile \u001b[39m\u001b[32m/work/pi_wenlongzhao_umass_edu/27/.venv/lib/python3.12/site-packages/vllm/executor/executor_base.py:47\u001b[39m, in \u001b[36mExecutorBase.__init__\u001b[39m\u001b[34m(self, model_config, cache_config, parallel_config, scheduler_config, device_config, load_config, lora_config, speculative_config, prompt_adapter_config, observability_config)\u001b[39m\n\u001b[32m     45\u001b[39m \u001b[38;5;28mself\u001b[39m.prompt_adapter_config = prompt_adapter_config\n\u001b[32m     46\u001b[39m \u001b[38;5;28mself\u001b[39m.observability_config = observability_config\n\u001b[32m---> \u001b[39m\u001b[32m47\u001b[39m \u001b[38;5;28;43mself\u001b[39;49m\u001b[43m.\u001b[49m\u001b[43m_init_executor\u001b[49m\u001b[43m(\u001b[49m\u001b[43m)\u001b[49m\n",
      "\u001b[36mFile \u001b[39m\u001b[32m/work/pi_wenlongzhao_umass_edu/27/.venv/lib/python3.12/site-packages/vllm/executor/gpu_executor.py:38\u001b[39m, in \u001b[36mGPUExecutor._init_executor\u001b[39m\u001b[34m(self)\u001b[39m\n\u001b[32m     33\u001b[39m \u001b[38;5;250m\u001b[39m\u001b[33;03m\"\"\"Initialize the worker and load the model.\u001b[39;00m\n\u001b[32m     34\u001b[39m \u001b[33;03m\"\"\"\u001b[39;00m\n\u001b[32m     35\u001b[39m \u001b[38;5;28;01massert\u001b[39;00m \u001b[38;5;28mself\u001b[39m.parallel_config.world_size == \u001b[32m1\u001b[39m, (\n\u001b[32m     36\u001b[39m     \u001b[33m\"\u001b[39m\u001b[33mGPUExecutor only supports single GPU.\u001b[39m\u001b[33m\"\u001b[39m)\n\u001b[32m---> \u001b[39m\u001b[32m38\u001b[39m \u001b[38;5;28mself\u001b[39m.driver_worker = \u001b[38;5;28;43mself\u001b[39;49m\u001b[43m.\u001b[49m\u001b[43m_create_worker\u001b[49m\u001b[43m(\u001b[49m\u001b[43m)\u001b[49m\n\u001b[32m     39\u001b[39m \u001b[38;5;28mself\u001b[39m.driver_worker.init_device()\n\u001b[32m     40\u001b[39m \u001b[38;5;28mself\u001b[39m.driver_worker.load_model()\n",
      "\u001b[36mFile \u001b[39m\u001b[32m/work/pi_wenlongzhao_umass_edu/27/.venv/lib/python3.12/site-packages/vllm/executor/gpu_executor.py:105\u001b[39m, in \u001b[36mGPUExecutor._create_worker\u001b[39m\u001b[34m(self, local_rank, rank, distributed_init_method)\u001b[39m\n\u001b[32m    101\u001b[39m \u001b[38;5;28;01mdef\u001b[39;00m\u001b[38;5;250m \u001b[39m\u001b[34m_create_worker\u001b[39m(\u001b[38;5;28mself\u001b[39m,\n\u001b[32m    102\u001b[39m                    local_rank: \u001b[38;5;28mint\u001b[39m = \u001b[32m0\u001b[39m,\n\u001b[32m    103\u001b[39m                    rank: \u001b[38;5;28mint\u001b[39m = \u001b[32m0\u001b[39m,\n\u001b[32m    104\u001b[39m                    distributed_init_method: Optional[\u001b[38;5;28mstr\u001b[39m] = \u001b[38;5;28;01mNone\u001b[39;00m):\n\u001b[32m--> \u001b[39m\u001b[32m105\u001b[39m     \u001b[38;5;28;01mreturn\u001b[39;00m \u001b[43mcreate_worker\u001b[49m\u001b[43m(\u001b[49m\u001b[43m*\u001b[49m\u001b[43m*\u001b[49m\u001b[38;5;28;43mself\u001b[39;49m\u001b[43m.\u001b[49m\u001b[43m_get_create_worker_kwargs\u001b[49m\u001b[43m(\u001b[49m\n\u001b[32m    106\u001b[39m \u001b[43m        \u001b[49m\u001b[43mlocal_rank\u001b[49m\u001b[43m=\u001b[49m\u001b[43mlocal_rank\u001b[49m\u001b[43m,\u001b[49m\n\u001b[32m    107\u001b[39m \u001b[43m        \u001b[49m\u001b[43mrank\u001b[49m\u001b[43m=\u001b[49m\u001b[43mrank\u001b[49m\u001b[43m,\u001b[49m\n\u001b[32m    108\u001b[39m \u001b[43m        \u001b[49m\u001b[43mdistributed_init_method\u001b[49m\u001b[43m=\u001b[49m\u001b[43mdistributed_init_method\u001b[49m\u001b[43m)\u001b[49m\u001b[43m)\u001b[49m\n",
      "\u001b[36mFile \u001b[39m\u001b[32m/work/pi_wenlongzhao_umass_edu/27/.venv/lib/python3.12/site-packages/vllm/executor/gpu_executor.py:24\u001b[39m, in \u001b[36mcreate_worker\u001b[39m\u001b[34m(worker_module_name, worker_class_name, worker_class_fn, **kwargs)\u001b[39m\n\u001b[32m     16\u001b[39m \u001b[38;5;28;01mdef\u001b[39;00m\u001b[38;5;250m \u001b[39m\u001b[34mcreate_worker\u001b[39m(worker_module_name: \u001b[38;5;28mstr\u001b[39m, worker_class_name: \u001b[38;5;28mstr\u001b[39m,\n\u001b[32m     17\u001b[39m                   worker_class_fn: Optional[Callable[[], Type[WorkerBase]]],\n\u001b[32m     18\u001b[39m                   **kwargs):\n\u001b[32m     19\u001b[39m     wrapper = WorkerWrapperBase(\n\u001b[32m     20\u001b[39m         worker_module_name=worker_module_name,\n\u001b[32m     21\u001b[39m         worker_class_name=worker_class_name,\n\u001b[32m     22\u001b[39m         worker_class_fn=worker_class_fn,\n\u001b[32m     23\u001b[39m     )\n\u001b[32m---> \u001b[39m\u001b[32m24\u001b[39m     \u001b[43mwrapper\u001b[49m\u001b[43m.\u001b[49m\u001b[43minit_worker\u001b[49m\u001b[43m(\u001b[49m\u001b[43m*\u001b[49m\u001b[43m*\u001b[49m\u001b[43mkwargs\u001b[49m\u001b[43m)\u001b[49m\n\u001b[32m     25\u001b[39m     \u001b[38;5;28;01mreturn\u001b[39;00m wrapper.worker\n",
      "\u001b[36mFile \u001b[39m\u001b[32m/work/pi_wenlongzhao_umass_edu/27/.venv/lib/python3.12/site-packages/vllm/worker/worker_base.py:449\u001b[39m, in \u001b[36mWorkerWrapperBase.init_worker\u001b[39m\u001b[34m(self, *args, **kwargs)\u001b[39m\n\u001b[32m    446\u001b[39m     mod = importlib.import_module(\u001b[38;5;28mself\u001b[39m.worker_module_name)\n\u001b[32m    447\u001b[39m     worker_class = \u001b[38;5;28mgetattr\u001b[39m(mod, \u001b[38;5;28mself\u001b[39m.worker_class_name)\n\u001b[32m--> \u001b[39m\u001b[32m449\u001b[39m \u001b[38;5;28mself\u001b[39m.worker = \u001b[43mworker_class\u001b[49m\u001b[43m(\u001b[49m\u001b[43m*\u001b[49m\u001b[43margs\u001b[49m\u001b[43m,\u001b[49m\u001b[43m \u001b[49m\u001b[43m*\u001b[49m\u001b[43m*\u001b[49m\u001b[43mkwargs\u001b[49m\u001b[43m)\u001b[49m\n\u001b[32m    450\u001b[39m \u001b[38;5;28;01massert\u001b[39;00m \u001b[38;5;28mself\u001b[39m.worker \u001b[38;5;129;01mis\u001b[39;00m \u001b[38;5;129;01mnot\u001b[39;00m \u001b[38;5;28;01mNone\u001b[39;00m\n",
      "\u001b[36mFile \u001b[39m\u001b[32m/work/pi_wenlongzhao_umass_edu/27/.venv/lib/python3.12/site-packages/vllm/worker/worker.py:99\u001b[39m, in \u001b[36mWorker.__init__\u001b[39m\u001b[34m(self, model_config, parallel_config, scheduler_config, device_config, cache_config, load_config, local_rank, rank, distributed_init_method, lora_config, speculative_config, prompt_adapter_config, is_driver_worker, model_runner_cls, observability_config)\u001b[39m\n\u001b[32m     97\u001b[39m \u001b[38;5;28;01melif\u001b[39;00m \u001b[38;5;28mself\u001b[39m._is_encoder_decoder_model():\n\u001b[32m     98\u001b[39m     ModelRunnerClass = EncoderDecoderModelRunner\n\u001b[32m---> \u001b[39m\u001b[32m99\u001b[39m \u001b[38;5;28mself\u001b[39m.model_runner: GPUModelRunnerBase = \u001b[43mModelRunnerClass\u001b[49m\u001b[43m(\u001b[49m\n\u001b[32m    100\u001b[39m \u001b[43m    \u001b[49m\u001b[43mmodel_config\u001b[49m\u001b[43m,\u001b[49m\n\u001b[32m    101\u001b[39m \u001b[43m    \u001b[49m\u001b[43mparallel_config\u001b[49m\u001b[43m,\u001b[49m\n\u001b[32m    102\u001b[39m \u001b[43m    \u001b[49m\u001b[43mscheduler_config\u001b[49m\u001b[43m,\u001b[49m\n\u001b[32m    103\u001b[39m \u001b[43m    \u001b[49m\u001b[43mdevice_config\u001b[49m\u001b[43m,\u001b[49m\n\u001b[32m    104\u001b[39m \u001b[43m    \u001b[49m\u001b[43mcache_config\u001b[49m\u001b[43m,\u001b[49m\n\u001b[32m    105\u001b[39m \u001b[43m    \u001b[49m\u001b[43mload_config\u001b[49m\u001b[43m=\u001b[49m\u001b[43mload_config\u001b[49m\u001b[43m,\u001b[49m\n\u001b[32m    106\u001b[39m \u001b[43m    \u001b[49m\u001b[43mlora_config\u001b[49m\u001b[43m=\u001b[49m\u001b[38;5;28;43mself\u001b[39;49m\u001b[43m.\u001b[49m\u001b[43mlora_config\u001b[49m\u001b[43m,\u001b[49m\n\u001b[32m    107\u001b[39m \u001b[43m    \u001b[49m\u001b[43mkv_cache_dtype\u001b[49m\u001b[43m=\u001b[49m\u001b[38;5;28;43mself\u001b[39;49m\u001b[43m.\u001b[49m\u001b[43mcache_config\u001b[49m\u001b[43m.\u001b[49m\u001b[43mcache_dtype\u001b[49m\u001b[43m,\u001b[49m\n\u001b[32m    108\u001b[39m \u001b[43m    \u001b[49m\u001b[43mis_driver_worker\u001b[49m\u001b[43m=\u001b[49m\u001b[43mis_driver_worker\u001b[49m\u001b[43m,\u001b[49m\n\u001b[32m    109\u001b[39m \u001b[43m    \u001b[49m\u001b[43mprompt_adapter_config\u001b[49m\u001b[43m=\u001b[49m\u001b[43mprompt_adapter_config\u001b[49m\u001b[43m,\u001b[49m\n\u001b[32m    110\u001b[39m \u001b[43m    \u001b[49m\u001b[43mobservability_config\u001b[49m\u001b[43m=\u001b[49m\u001b[43mobservability_config\u001b[49m\u001b[43m,\u001b[49m\n\u001b[32m    111\u001b[39m \u001b[43m    \u001b[49m\u001b[43m*\u001b[49m\u001b[43m*\u001b[49m\u001b[43mspeculative_args\u001b[49m\u001b[43m,\u001b[49m\n\u001b[32m    112\u001b[39m \u001b[43m\u001b[49m\u001b[43m)\u001b[49m\n\u001b[32m    113\u001b[39m \u001b[38;5;66;03m# Uninitialized cache engine. Will be initialized by\u001b[39;00m\n\u001b[32m    114\u001b[39m \u001b[38;5;66;03m# initialize_cache.\u001b[39;00m\n\u001b[32m    115\u001b[39m \u001b[38;5;28mself\u001b[39m.cache_engine: List[CacheEngine]\n",
      "\u001b[36mFile \u001b[39m\u001b[32m/work/pi_wenlongzhao_umass_edu/27/.venv/lib/python3.12/site-packages/vllm/worker/model_runner.py:960\u001b[39m, in \u001b[36mGPUModelRunnerBase.__init__\u001b[39m\u001b[34m(self, model_config, parallel_config, scheduler_config, device_config, cache_config, load_config, lora_config, kv_cache_dtype, is_driver_worker, prompt_adapter_config, return_hidden_states, observability_config, input_registry, mm_registry)\u001b[39m\n\u001b[32m    955\u001b[39m \u001b[38;5;28mself\u001b[39m.graph_block_tables = np.zeros(\n\u001b[32m    956\u001b[39m     (\u001b[38;5;28mself\u001b[39m.max_batchsize_to_capture, \u001b[38;5;28mself\u001b[39m.get_max_block_per_batch()),\n\u001b[32m    957\u001b[39m     dtype=np.int32)\n\u001b[32m    958\u001b[39m num_attn_heads = \u001b[38;5;28mself\u001b[39m.model_config.get_num_attention_heads(\n\u001b[32m    959\u001b[39m     \u001b[38;5;28mself\u001b[39m.parallel_config)\n\u001b[32m--> \u001b[39m\u001b[32m960\u001b[39m \u001b[38;5;28mself\u001b[39m.attn_backend = \u001b[43mget_attn_backend\u001b[49m\u001b[43m(\u001b[49m\n\u001b[32m    961\u001b[39m \u001b[43m    \u001b[49m\u001b[43mnum_attn_heads\u001b[49m\u001b[43m,\u001b[49m\n\u001b[32m    962\u001b[39m \u001b[43m    \u001b[49m\u001b[38;5;28;43mself\u001b[39;49m\u001b[43m.\u001b[49m\u001b[43mmodel_config\u001b[49m\u001b[43m.\u001b[49m\u001b[43mget_head_size\u001b[49m\u001b[43m(\u001b[49m\u001b[43m)\u001b[49m\u001b[43m,\u001b[49m\n\u001b[32m    963\u001b[39m \u001b[43m    \u001b[49m\u001b[38;5;28;43mself\u001b[39;49m\u001b[43m.\u001b[49m\u001b[43mmodel_config\u001b[49m\u001b[43m.\u001b[49m\u001b[43mget_num_kv_heads\u001b[49m\u001b[43m(\u001b[49m\u001b[38;5;28;43mself\u001b[39;49m\u001b[43m.\u001b[49m\u001b[43mparallel_config\u001b[49m\u001b[43m)\u001b[49m\u001b[43m,\u001b[49m\n\u001b[32m    964\u001b[39m \u001b[43m    \u001b[49m\u001b[38;5;28;43mself\u001b[39;49m\u001b[43m.\u001b[49m\u001b[43mmodel_config\u001b[49m\u001b[43m.\u001b[49m\u001b[43mget_sliding_window\u001b[49m\u001b[43m(\u001b[49m\u001b[43m)\u001b[49m\u001b[43m,\u001b[49m\n\u001b[32m    965\u001b[39m \u001b[43m    \u001b[49m\u001b[38;5;28;43mself\u001b[39;49m\u001b[43m.\u001b[49m\u001b[43mmodel_config\u001b[49m\u001b[43m.\u001b[49m\u001b[43mdtype\u001b[49m\u001b[43m,\u001b[49m\n\u001b[32m    966\u001b[39m \u001b[43m    \u001b[49m\u001b[38;5;28;43mself\u001b[39;49m\u001b[43m.\u001b[49m\u001b[43mkv_cache_dtype\u001b[49m\u001b[43m,\u001b[49m\n\u001b[32m    967\u001b[39m \u001b[43m    \u001b[49m\u001b[38;5;28;43mself\u001b[39;49m\u001b[43m.\u001b[49m\u001b[43mblock_size\u001b[49m\u001b[43m,\u001b[49m\n\u001b[32m    968\u001b[39m \u001b[43m\u001b[49m\u001b[43m)\u001b[49m \u001b[38;5;28;01mif\u001b[39;00m num_attn_heads \u001b[38;5;28;01melse\u001b[39;00m \u001b[38;5;28;01mNone\u001b[39;00m\n\u001b[32m    969\u001b[39m \u001b[38;5;28;01mif\u001b[39;00m \u001b[38;5;28mself\u001b[39m.attn_backend:\n\u001b[32m    970\u001b[39m     \u001b[38;5;28mself\u001b[39m.attn_state = \u001b[38;5;28mself\u001b[39m.attn_backend.get_state_cls()(\n\u001b[32m    971\u001b[39m         weakref.proxy(\u001b[38;5;28mself\u001b[39m))\n",
      "\u001b[36mFile \u001b[39m\u001b[32m/work/pi_wenlongzhao_umass_edu/27/.venv/lib/python3.12/site-packages/vllm/attention/selector.py:108\u001b[39m, in \u001b[36mget_attn_backend\u001b[39m\u001b[34m(num_heads, head_size, num_kv_heads, sliding_window, dtype, kv_cache_dtype, block_size, is_blocksparse)\u001b[39m\n\u001b[32m    104\u001b[39m     \u001b[38;5;28;01mfrom\u001b[39;00m\u001b[38;5;250m \u001b[39m\u001b[34;01mvllm\u001b[39;00m\u001b[34;01m.\u001b[39;00m\u001b[34;01mattention\u001b[39;00m\u001b[34;01m.\u001b[39;00m\u001b[34;01mbackends\u001b[39;00m\u001b[34;01m.\u001b[39;00m\u001b[34;01mblocksparse_attn\u001b[39;00m\u001b[38;5;250m \u001b[39m\u001b[38;5;28;01mimport\u001b[39;00m (\n\u001b[32m    105\u001b[39m         BlocksparseFlashAttentionBackend)\n\u001b[32m    106\u001b[39m     \u001b[38;5;28;01mreturn\u001b[39;00m BlocksparseFlashAttentionBackend\n\u001b[32m--> \u001b[39m\u001b[32m108\u001b[39m backend = \u001b[43mwhich_attn_to_use\u001b[49m\u001b[43m(\u001b[49m\u001b[43mnum_heads\u001b[49m\u001b[43m,\u001b[49m\u001b[43m \u001b[49m\u001b[43mhead_size\u001b[49m\u001b[43m,\u001b[49m\u001b[43m \u001b[49m\u001b[43mnum_kv_heads\u001b[49m\u001b[43m,\u001b[49m\n\u001b[32m    109\u001b[39m \u001b[43m                            \u001b[49m\u001b[43msliding_window\u001b[49m\u001b[43m,\u001b[49m\u001b[43m \u001b[49m\u001b[43mdtype\u001b[49m\u001b[43m,\u001b[49m\u001b[43m \u001b[49m\u001b[43mkv_cache_dtype\u001b[49m\u001b[43m,\u001b[49m\n\u001b[32m    110\u001b[39m \u001b[43m                            \u001b[49m\u001b[43mblock_size\u001b[49m\u001b[43m)\u001b[49m\n\u001b[32m    111\u001b[39m \u001b[38;5;28;01mif\u001b[39;00m backend == _Backend.FLASH_ATTN:\n\u001b[32m    112\u001b[39m     \u001b[38;5;28;01mfrom\u001b[39;00m\u001b[38;5;250m \u001b[39m\u001b[34;01mvllm\u001b[39;00m\u001b[34;01m.\u001b[39;00m\u001b[34;01mattention\u001b[39;00m\u001b[34;01m.\u001b[39;00m\u001b[34;01mbackends\u001b[39;00m\u001b[34;01m.\u001b[39;00m\u001b[34;01mflash_attn\u001b[39;00m\u001b[38;5;250m \u001b[39m\u001b[38;5;28;01mimport\u001b[39;00m (  \u001b[38;5;66;03m# noqa: F401\u001b[39;00m\n\u001b[32m    113\u001b[39m         FlashAttentionBackend)\n",
      "\u001b[36mFile \u001b[39m\u001b[32m/work/pi_wenlongzhao_umass_edu/27/.venv/lib/python3.12/site-packages/vllm/attention/selector.py:215\u001b[39m, in \u001b[36mwhich_attn_to_use\u001b[39m\u001b[34m(num_heads, head_size, num_kv_heads, sliding_window, dtype, kv_cache_dtype, block_size)\u001b[39m\n\u001b[32m    213\u001b[39m \u001b[38;5;66;03m# FlashAttn in NVIDIA GPUs.\u001b[39;00m\n\u001b[32m    214\u001b[39m \u001b[38;5;28;01mif\u001b[39;00m selected_backend == _Backend.FLASH_ATTN:\n\u001b[32m--> \u001b[39m\u001b[32m215\u001b[39m     \u001b[38;5;28;01mif\u001b[39;00m \u001b[43mcurrent_platform\u001b[49m\u001b[43m.\u001b[49m\u001b[43mget_device_capability\u001b[49m\u001b[43m(\u001b[49m\u001b[43m)\u001b[49m\u001b[43m[\u001b[49m\u001b[32;43m0\u001b[39;49m\u001b[43m]\u001b[49m < \u001b[32m8\u001b[39m:\n\u001b[32m    216\u001b[39m         \u001b[38;5;66;03m# Volta and Turing NVIDIA GPUs.\u001b[39;00m\n\u001b[32m    217\u001b[39m         logger.info(\n\u001b[32m    218\u001b[39m             \u001b[33m\"\u001b[39m\u001b[33mCannot use FlashAttention-2 backend for Volta and Turing \u001b[39m\u001b[33m\"\u001b[39m\n\u001b[32m    219\u001b[39m             \u001b[33m\"\u001b[39m\u001b[33mGPUs.\u001b[39m\u001b[33m\"\u001b[39m)\n\u001b[32m    220\u001b[39m         selected_backend = _Backend.XFORMERS\n",
      "\u001b[31mTypeError\u001b[39m: 'NoneType' object is not subscriptable"
     ]
    }
   ],
   "source": [
    "generator= VLLMGenerator('granite', model_path, api_key='')\n",
    "hyde = HyDE( generator, promptor)"
   ]
  },
  {
   "cell_type": "markdown",
   "id": "1ee99483",
   "metadata": {},
   "source": [
    "### Load example Query"
   ]
  },
  {
   "cell_type": "code",
   "execution_count": 37,
   "id": "b8d1a85c",
   "metadata": {},
   "outputs": [],
   "source": [
    "query = 'how long does it take to remove wisdom tooth'"
   ]
  },
  {
   "cell_type": "markdown",
   "id": "4c3be967",
   "metadata": {},
   "source": [
    "### Build Zeroshot Prompt"
   ]
  },
  {
   "cell_type": "code",
   "execution_count": 6,
   "id": "ab4256c5",
   "metadata": {},
   "outputs": [],
   "source": [
    "class HyDE:\n",
    "    # def __init__(self, promptor, generator, encoder, searcher):\n",
    "    def __init__(self,promptor, generator):\n",
    "        self.promptor = promptor\n",
    "        self.generator = generator\n",
    "        # self.encoder = encoder\n",
    "        # self.searcher = searcher\n",
    "    \n",
    "    def prompt(self, query):\n",
    "        return self.promptor.build_prompt(query)\n",
    "\n",
    "    def generate(self, query):\n",
    "        prompt = self.promptor.build_prompt(query)\n",
    "        hypothesis_documents = self.generator.generate(prompt)\n",
    "        return hypothesis_documents"
   ]
  },
  {
   "cell_type": "code",
   "execution_count": 7,
   "id": "94d82df0",
   "metadata": {},
   "outputs": [],
   "source": [
    "hyde = HyDE(promptor, generator)"
   ]
  },
  {
   "cell_type": "code",
   "execution_count": 8,
   "id": "a6e0eecc",
   "metadata": {},
   "outputs": [
    {
     "name": "stdout",
     "output_type": "stream",
     "text": [
      "Please write a passage to answer the question.\n",
      "Question: Write a Python function to check if a number is even.\n",
      "Passage:\n"
     ]
    }
   ],
   "source": [
    "prompt = hyde.prompt(query)\n",
    "print(prompt)"
   ]
  },
  {
   "cell_type": "markdown",
   "id": "1821d8b9",
   "metadata": {},
   "source": [
    "### Generate Hypothesis Documents"
   ]
  },
  {
   "cell_type": "code",
   "execution_count": 9,
   "id": "4032c2b7",
   "metadata": {},
   "outputs": [
    {
     "name": "stderr",
     "output_type": "stream",
     "text": [
      "Processed prompts: 100%|██████████| 1/1 [00:01<00:00,  1.21s/it, est. speed input: 23.07 toks/s, output: 106.27 toks/s]"
     ]
    },
    {
     "name": "stdout",
     "output_type": "stream",
     "text": [
      "HyDE Generated Document: 0\n",
      "Here is a simple Python function that checks if a number is even:\n",
      "\n",
      "```python\n",
      "def is_even(n):\n",
      "    return n % 2 == 0\n",
      "```\n",
      "\n",
      "This function uses the modulo operator (`%`) to find the remainder of the division of `n` by 2. If the remainder is 0, then the number is even. Otherwise, it is odd.\n",
      "\n",
      "You can use this function like this:\n",
      "\n",
      "```python\n",
      "print(is_even(4))  # Output: True\n",
      "print(is_even(7))  # Output: False\n",
      "```\n"
     ]
    },
    {
     "name": "stderr",
     "output_type": "stream",
     "text": [
      "\n"
     ]
    }
   ],
   "source": [
    "hypothesis_documents = hyde.generate(query)\n",
    "for i, doc in enumerate(hypothesis_documents):\n",
    "    print(f'HyDE Generated Document: {i}')\n",
    "    print(doc.strip())"
   ]
  },
  {
   "cell_type": "markdown",
   "id": "022a4cd8",
   "metadata": {},
   "source": [
    "### Encode HyDE vector"
   ]
  },
  {
   "cell_type": "code",
   "execution_count": 40,
   "id": "cdb4e5b9",
   "metadata": {},
   "outputs": [
    {
     "name": "stdout",
     "output_type": "stream",
     "text": [
      "(1, 768)\n"
     ]
    }
   ],
   "source": [
    "hyde_vector = hyde.encode(query, hypothesis_documents)\n",
    "print(hyde_vector.shape)"
   ]
  },
  {
   "cell_type": "markdown",
   "id": "fe95165a",
   "metadata": {},
   "source": [
    "### Search Relevant Documents"
   ]
  },
  {
   "cell_type": "code",
   "execution_count": 41,
   "id": "8ae97c0a",
   "metadata": {},
   "outputs": [
    {
     "name": "stdout",
     "output_type": "stream",
     "text": [
      "HyDE Retrieved Document: 0\n",
      "4174313\n",
      "The time it takes to remove the tooth will vary. Some procedures only take a few minutes, whereas others can take 20 minutes or longer. After your wisdom teeth have been removed, you may experience swelling and discomfort, both on the inside and outside of your mouth.This is usually worse for the first three days, but it can last for up to two weeks. Read more about how a wisdom tooth is removed and recovering from wisdom tooth removal.he time it takes to remove the tooth will vary. Some procedures only take a few minutes, whereas others can take 20 minutes or longer. After your wisdom teeth have been removed, you may experience swelling and discomfort, both on the inside and outside of your mouth.\n",
      "HyDE Retrieved Document: 1\n",
      "18103\n",
      "Before having your wisdom teeth removed, you'll be given an injection of local anaesthetic to numb the tooth and surrounding area. If you're particularly anxious about the procedure, your dentist or surgeon may give you a sedative to help you relax. This usually involves an injection into your arm.urgery to remove wisdom teeth shouldn't be painful, because the area will be numb. However, if you feel pain during the procedure, tell your dentist or oral surgeon so they can give you more anaesthetic. How long it takes to remove the tooth will vary.\n",
      "HyDE Retrieved Document: 2\n",
      "91493\n",
      "The time it takes to remove the tooth will vary. Some procedures only take a few minutes, whereas others can take 20 minutes or longer. After your wisdom teeth have been removed, you may experience swelling and discomfort, both on the inside and outside of your mouth. This is usually worse for the first three days, but it can last for up to two weeks. Read more about how a wisdom tooth is removed and recovering from wisdom tooth removal.\n",
      "HyDE Retrieved Document: 3\n",
      "4155912\n",
      "How long does it take to remove all wisdom teeth?   I got my wisdom teeth removed 5 days ago. I received intravenous anesthesia, so I was not concious during the process, but those present said it only took about 35 to 40â¦ minutes for removal.\n",
      "HyDE Retrieved Document: 4\n",
      "7344529\n",
      "Complications like infection can lengthen the time it takes to heal up, but here is a general timeline: 1  Swelling and pain will be the greatest during the first 3 days (peaking at about 48hours). 2  Normally, the sockets should take about 2 weeks to 1 month to cover over with solid gum tissue after scabbing first.\n",
      "HyDE Retrieved Document: 5\n",
      "4174308\n",
      "How wisdom teeth are removed. Your dentist may remove your wisdom teeth or they may refer you to a specialist surgeon for hospital treatment. Before the procedure, you'll usually be given a local anaesthetic injection to numb the area around the tooth.he time it takes to remove the tooth will vary. Some procedures only take a few minutes, whereas others can take 20 minutes or longer. After your wisdom teeth have been removed, you may experience swelling and discomfort, both on the inside and outside of your mouth.\n",
      "HyDE Retrieved Document: 6\n",
      "4174310\n",
      "If your dentist thinks you may need your wisdom teeth removed, they'll usually carry out an X-ray of your mouth. This gives them a clearer view of the position of your teeth. As with any teeth problems, it's important to see your dentist as soon as possible, rather than waiting for your regular dental check-up.he time it takes to remove the tooth will vary. Some procedures only take a few minutes, whereas others can take 20 minutes or longer. After your wisdom teeth have been removed, you may experience swelling and discomfort, both on the inside and outside of your mouth.\n",
      "HyDE Retrieved Document: 7\n",
      "4595794\n",
      "If you have a dentist remove your wisdom teeth, i can take between 20 minutes and three hours per tooth. If you get a surgeon to remove your wisdom teeth, it takes between 30 seconds and five minutes per tooth. To find out more on wisdom teeth surgery and the approximate times on surgery as well as post-operative instructions, go to http://dentalimplantsaustralia.com/. Source(s): http://dentalimplantsaustralia.com/.\n",
      "HyDE Retrieved Document: 8\n",
      "4159345\n",
      "How long does it take to heal after your wisdom teeth are removed. As with any type of surgery, everyone heals differently, but it usually takes between 10 days to 2 weeks for wisdom teeth removal.\n",
      "HyDE Retrieved Document: 9\n",
      "2940180\n",
      "You shouldn't even brush your teeth for the first day of recovery. According to the offices of practicing oral surgeon Dr. Joseph Arzadon of Arlington, Virginia, typical wisdom teeth recovery time is three to four days, although it can be as long as one week. The length of recovery depends a lot on how badly the wisdom teeth were impacted and how they were erupting.\n"
     ]
    }
   ],
   "source": [
    "hits = hyde.search(hyde_vector, k=10)\n",
    "for i, hit in enumerate(hits):\n",
    "    print(f'HyDE Retrieved Document: {i}')\n",
    "    print(hit.docid)\n",
    "    print(json.loads(corpus.doc(hit.docid).raw())['contents'])"
   ]
  },
  {
   "cell_type": "markdown",
   "id": "a2edb68c",
   "metadata": {},
   "source": [
    "### End to End Search\n",
    "\n",
    "e2e search will directly go through all the steps descripted above."
   ]
  },
  {
   "cell_type": "code",
   "execution_count": 42,
   "id": "47e9f353",
   "metadata": {},
   "outputs": [
    {
     "name": "stdout",
     "output_type": "stream",
     "text": [
      "HyDE Retrieved Document: 0\n",
      "4174313\n",
      "The time it takes to remove the tooth will vary. Some procedures only take a few minutes, whereas others can take 20 minutes or longer. After your wisdom teeth have been removed, you may experience swelling and discomfort, both on the inside and outside of your mouth.This is usually worse for the first three days, but it can last for up to two weeks. Read more about how a wisdom tooth is removed and recovering from wisdom tooth removal.he time it takes to remove the tooth will vary. Some procedures only take a few minutes, whereas others can take 20 minutes or longer. After your wisdom teeth have been removed, you may experience swelling and discomfort, both on the inside and outside of your mouth.\n",
      "HyDE Retrieved Document: 1\n",
      "91493\n",
      "The time it takes to remove the tooth will vary. Some procedures only take a few minutes, whereas others can take 20 minutes or longer. After your wisdom teeth have been removed, you may experience swelling and discomfort, both on the inside and outside of your mouth. This is usually worse for the first three days, but it can last for up to two weeks. Read more about how a wisdom tooth is removed and recovering from wisdom tooth removal.\n",
      "HyDE Retrieved Document: 2\n",
      "4155912\n",
      "How long does it take to remove all wisdom teeth?   I got my wisdom teeth removed 5 days ago. I received intravenous anesthesia, so I was not concious during the process, but those present said it only took about 35 to 40â¦ minutes for removal.\n",
      "HyDE Retrieved Document: 3\n",
      "18103\n",
      "Before having your wisdom teeth removed, you'll be given an injection of local anaesthetic to numb the tooth and surrounding area. If you're particularly anxious about the procedure, your dentist or surgeon may give you a sedative to help you relax. This usually involves an injection into your arm.urgery to remove wisdom teeth shouldn't be painful, because the area will be numb. However, if you feel pain during the procedure, tell your dentist or oral surgeon so they can give you more anaesthetic. How long it takes to remove the tooth will vary.\n",
      "HyDE Retrieved Document: 4\n",
      "7344529\n",
      "Complications like infection can lengthen the time it takes to heal up, but here is a general timeline: 1  Swelling and pain will be the greatest during the first 3 days (peaking at about 48hours). 2  Normally, the sockets should take about 2 weeks to 1 month to cover over with solid gum tissue after scabbing first.\n",
      "HyDE Retrieved Document: 5\n",
      "3654735\n",
      "All surgery is associated with some degree of pain, from mild to severe. If your surgery was more extensive, then you will have more post-operative pain, unfortunately. Typically the pain intensity peaks 6 to 10 hours after the procedures.\n",
      "HyDE Retrieved Document: 6\n",
      "4174308\n",
      "How wisdom teeth are removed. Your dentist may remove your wisdom teeth or they may refer you to a specialist surgeon for hospital treatment. Before the procedure, you'll usually be given a local anaesthetic injection to numb the area around the tooth.he time it takes to remove the tooth will vary. Some procedures only take a few minutes, whereas others can take 20 minutes or longer. After your wisdom teeth have been removed, you may experience swelling and discomfort, both on the inside and outside of your mouth.\n",
      "HyDE Retrieved Document: 7\n",
      "4159345\n",
      "How long does it take to heal after your wisdom teeth are removed. As with any type of surgery, everyone heals differently, but it usually takes between 10 days to 2 weeks for wisdom teeth removal.\n",
      "HyDE Retrieved Document: 8\n",
      "2940180\n",
      "You shouldn't even brush your teeth for the first day of recovery. According to the offices of practicing oral surgeon Dr. Joseph Arzadon of Arlington, Virginia, typical wisdom teeth recovery time is three to four days, although it can be as long as one week. The length of recovery depends a lot on how badly the wisdom teeth were impacted and how they were erupting.\n",
      "HyDE Retrieved Document: 9\n",
      "4595794\n",
      "If you have a dentist remove your wisdom teeth, i can take between 20 minutes and three hours per tooth. If you get a surgeon to remove your wisdom teeth, it takes between 30 seconds and five minutes per tooth. To find out more on wisdom teeth surgery and the approximate times on surgery as well as post-operative instructions, go to http://dentalimplantsaustralia.com/. Source(s): http://dentalimplantsaustralia.com/.\n"
     ]
    }
   ],
   "source": [
    "hits = hyde.e2e_search(query, k=10)\n",
    "for i, hit in enumerate(hits):\n",
    "    print(f'HyDE Retrieved Document: {i}')\n",
    "    print(hit.docid)\n",
    "    print(json.loads(corpus.doc(hit.docid).raw())['contents'])"
   ]
  },
  {
   "cell_type": "code",
   "execution_count": null,
   "id": "578d2ca9",
   "metadata": {},
   "outputs": [],
   "source": []
  }
 ],
 "metadata": {
  "kernelspec": {
   "display_name": "Python (GPU)",
   "language": "python",
   "name": "gpu_env"
  },
  "language_info": {
   "codemirror_mode": {
    "name": "ipython",
    "version": 3
   },
   "file_extension": ".py",
   "mimetype": "text/x-python",
   "name": "python",
   "nbconvert_exporter": "python",
   "pygments_lexer": "ipython3",
   "version": "3.12.3"
  }
 },
 "nbformat": 4,
 "nbformat_minor": 5
}
