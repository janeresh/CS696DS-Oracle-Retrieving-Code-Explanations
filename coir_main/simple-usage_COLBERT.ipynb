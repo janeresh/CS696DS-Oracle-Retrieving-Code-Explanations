{
 "cells": [
  {
   "cell_type": "code",
   "execution_count": 1,
   "id": "9fd6b5e4-b2b9-4ba7-80c0-79f6c79b457a",
   "metadata": {},
   "outputs": [
    {
     "name": "stdout",
     "output_type": "stream",
     "text": [
      "CUDA_HOME: /home/aabedeen_umass_edu/.conda/envs/colbert\n"
     ]
    }
   ],
   "source": [
    "from coir.data_loader import get_tasks\n",
    "from coir.evaluation import COIR\n",
    "from coir.models import YourCustomDEModel\n",
    "import pandas as pd\n",
    "import os\n",
    "from coir.beir.retrieval.evaluation import EvaluateRetrieval\n",
    "from coir.beir.retrieval.search.dense import DenseRetrievalExactSearch as DRES\n",
    "os.environ[\"CUDA_HOME\"] = os.environ.get(\"CONDA_PREFIX\", \"\")\n",
    "print(\"CUDA_HOME:\", os.environ[\"CUDA_HOME\"])\n",
    "import json\n",
    "from colbert.infra import Run, RunConfig, ColBERTConfig\n",
    "from colbert import Indexer, Searcher\n",
    "from colbert.data import Queries\n"
   ]
  },
  {
   "cell_type": "code",
   "execution_count": 3,
   "id": "aaa5fd6c-3dc8-4cb7-80da-e00b6eb2fbef",
   "metadata": {},
   "outputs": [
    {
     "data": {
      "application/vnd.jupyter.widget-view+json": {
       "model_id": "3d12e535bedd49199a26c610e38f0e87",
       "version_major": 2,
       "version_minor": 0
      },
      "text/plain": [
       "README.md:   0%|          | 0.00/800 [00:00<?, ?B/s]"
      ]
     },
     "metadata": {},
     "output_type": "display_data"
    },
    {
     "data": {
      "application/vnd.jupyter.widget-view+json": {
       "model_id": "c2f59d05f45f41c7ab58f42c812cd731",
       "version_major": 2,
       "version_minor": 0
      },
      "text/plain": [
       "queries-00000-of-00001.parquet:   0%|          | 0.00/34.4M [00:00<?, ?B/s]"
      ]
     },
     "metadata": {},
     "output_type": "display_data"
    },
    {
     "data": {
      "application/vnd.jupyter.widget-view+json": {
       "model_id": "5084f37340f54c9691bc06587cf70540",
       "version_major": 2,
       "version_minor": 0
      },
      "text/plain": [
       "corpus-00000-of-00001.parquet:   0%|          | 0.00/9.96M [00:00<?, ?B/s]"
      ]
     },
     "metadata": {},
     "output_type": "display_data"
    },
    {
     "data": {
      "application/vnd.jupyter.widget-view+json": {
       "model_id": "1dfd8f7622ef4b0091d67bd3c99e3aa6",
       "version_major": 2,
       "version_minor": 0
      },
      "text/plain": [
       "Generating queries split:   0%|          | 0/182735 [00:00<?, ? examples/s]"
      ]
     },
     "metadata": {},
     "output_type": "display_data"
    },
    {
     "data": {
      "application/vnd.jupyter.widget-view+json": {
       "model_id": "d683bb328f9e41caaaf14a1d99527cf6",
       "version_major": 2,
       "version_minor": 0
      },
      "text/plain": [
       "Generating corpus split:   0%|          | 0/182440 [00:00<?, ? examples/s]"
      ]
     },
     "metadata": {},
     "output_type": "display_data"
    },
    {
     "data": {
      "application/vnd.jupyter.widget-view+json": {
       "model_id": "0ed5b30c232a4a44970afc31393441dd",
       "version_major": 2,
       "version_minor": 0
      },
      "text/plain": [
       "README.md:   0%|          | 0.00/726 [00:00<?, ?B/s]"
      ]
     },
     "metadata": {},
     "output_type": "display_data"
    },
    {
     "data": {
      "application/vnd.jupyter.widget-view+json": {
       "model_id": "94e19fc9803244139091cf6fb113b97f",
       "version_major": 2,
       "version_minor": 0
      },
      "text/plain": [
       "train-00000-of-00001.parquet:   0%|          | 0.00/1.90M [00:00<?, ?B/s]"
      ]
     },
     "metadata": {},
     "output_type": "display_data"
    },
    {
     "data": {
      "application/vnd.jupyter.widget-view+json": {
       "model_id": "ba92ccd2011c4f879b2e5fa95ebedb40",
       "version_major": 2,
       "version_minor": 0
      },
      "text/plain": [
       "valid-00000-of-00001.parquet:   0%|          | 0.00/86.0k [00:00<?, ?B/s]"
      ]
     },
     "metadata": {},
     "output_type": "display_data"
    },
    {
     "data": {
      "application/vnd.jupyter.widget-view+json": {
       "model_id": "c03155d8f2054e6abf45b52d4143f8f9",
       "version_major": 2,
       "version_minor": 0
      },
      "text/plain": [
       "test-00000-of-00001.parquet:   0%|          | 0.00/95.4k [00:00<?, ?B/s]"
      ]
     },
     "metadata": {},
     "output_type": "display_data"
    },
    {
     "data": {
      "application/vnd.jupyter.widget-view+json": {
       "model_id": "81e4481587e44fbe91a78b9dcfe6b7b6",
       "version_major": 2,
       "version_minor": 0
      },
      "text/plain": [
       "Generating train split:   0%|          | 0/167288 [00:00<?, ? examples/s]"
      ]
     },
     "metadata": {},
     "output_type": "display_data"
    },
    {
     "data": {
      "application/vnd.jupyter.widget-view+json": {
       "model_id": "a57291eeda3e4f73915febaf12228bc0",
       "version_major": 2,
       "version_minor": 0
      },
      "text/plain": [
       "Generating valid split:   0%|          | 0/7325 [00:00<?, ? examples/s]"
      ]
     },
     "metadata": {},
     "output_type": "display_data"
    },
    {
     "data": {
      "application/vnd.jupyter.widget-view+json": {
       "model_id": "cc4b7da430c14b22a6215ac844cf4e1f",
       "version_major": 2,
       "version_minor": 0
      },
      "text/plain": [
       "Generating test split:   0%|          | 0/8122 [00:00<?, ? examples/s]"
      ]
     },
     "metadata": {},
     "output_type": "display_data"
    },
    {
     "data": {
      "application/vnd.jupyter.widget-view+json": {
       "model_id": "f91529f7a7bd42b0ab7fce3254d34b50",
       "version_major": 2,
       "version_minor": 0
      },
      "text/plain": [
       "0it [00:00, ?it/s]"
      ]
     },
     "metadata": {},
     "output_type": "display_data"
    },
    {
     "data": {
      "application/vnd.jupyter.widget-view+json": {
       "model_id": "a30a2b2af4ef43259cd0108e15da88c4",
       "version_major": 2,
       "version_minor": 0
      },
      "text/plain": [
       "README.md:   0%|          | 0.00/803 [00:00<?, ?B/s]"
      ]
     },
     "metadata": {},
     "output_type": "display_data"
    },
    {
     "data": {
      "application/vnd.jupyter.widget-view+json": {
       "model_id": "2f16a4869d2046a1a28f8b1aa1688dd3",
       "version_major": 2,
       "version_minor": 0
      },
      "text/plain": [
       "queries-00000-of-00001.parquet:   0%|          | 0.00/44.4M [00:00<?, ?B/s]"
      ]
     },
     "metadata": {},
     "output_type": "display_data"
    },
    {
     "data": {
      "application/vnd.jupyter.widget-view+json": {
       "model_id": "860b3236e6ae44ffbc2e8f92e8bf84a6",
       "version_major": 2,
       "version_minor": 0
      },
      "text/plain": [
       "corpus-00000-of-00001.parquet:   0%|          | 0.00/15.2M [00:00<?, ?B/s]"
      ]
     },
     "metadata": {},
     "output_type": "display_data"
    },
    {
     "data": {
      "application/vnd.jupyter.widget-view+json": {
       "model_id": "b225c3ed0be84ce395b1e75a56672d1f",
       "version_major": 2,
       "version_minor": 0
      },
      "text/plain": [
       "Generating queries split:   0%|          | 0/181061 [00:00<?, ? examples/s]"
      ]
     },
     "metadata": {},
     "output_type": "display_data"
    },
    {
     "data": {
      "application/vnd.jupyter.widget-view+json": {
       "model_id": "373f3ad4f9a5443ba6aab63353436e49",
       "version_major": 2,
       "version_minor": 0
      },
      "text/plain": [
       "Generating corpus split:   0%|          | 0/180866 [00:00<?, ? examples/s]"
      ]
     },
     "metadata": {},
     "output_type": "display_data"
    },
    {
     "data": {
      "application/vnd.jupyter.widget-view+json": {
       "model_id": "bd2511667c3145b6bf8bd1bb7c429653",
       "version_major": 2,
       "version_minor": 0
      },
      "text/plain": [
       "README.md:   0%|          | 0.00/729 [00:00<?, ?B/s]"
      ]
     },
     "metadata": {},
     "output_type": "display_data"
    },
    {
     "data": {
      "application/vnd.jupyter.widget-view+json": {
       "model_id": "a61de6cb85ce439a8ce021266a8bb0a7",
       "version_major": 2,
       "version_minor": 0
      },
      "text/plain": [
       "train-00000-of-00001.parquet:   0%|          | 0.00/1.87M [00:00<?, ?B/s]"
      ]
     },
     "metadata": {},
     "output_type": "display_data"
    },
    {
     "data": {
      "application/vnd.jupyter.widget-view+json": {
       "model_id": "8099cb961eb04307a38bc848f175d6fc",
       "version_major": 2,
       "version_minor": 0
      },
      "text/plain": [
       "valid-00000-of-00001.parquet:   0%|          | 0.00/61.4k [00:00<?, ?B/s]"
      ]
     },
     "metadata": {},
     "output_type": "display_data"
    },
    {
     "data": {
      "application/vnd.jupyter.widget-view+json": {
       "model_id": "0fdf9baed4f9447c89c59c9e178e5c5c",
       "version_major": 2,
       "version_minor": 0
      },
      "text/plain": [
       "test-00000-of-00001.parquet:   0%|          | 0.00/127k [00:00<?, ?B/s]"
      ]
     },
     "metadata": {},
     "output_type": "display_data"
    },
    {
     "data": {
      "application/vnd.jupyter.widget-view+json": {
       "model_id": "8324f11a05e14cb48b150373d3483287",
       "version_major": 2,
       "version_minor": 0
      },
      "text/plain": [
       "Generating train split:   0%|          | 0/164923 [00:00<?, ? examples/s]"
      ]
     },
     "metadata": {},
     "output_type": "display_data"
    },
    {
     "data": {
      "application/vnd.jupyter.widget-view+json": {
       "model_id": "ee91ec671c0846fd9c527014d46b3e57",
       "version_major": 2,
       "version_minor": 0
      },
      "text/plain": [
       "Generating valid split:   0%|          | 0/5183 [00:00<?, ? examples/s]"
      ]
     },
     "metadata": {},
     "output_type": "display_data"
    },
    {
     "data": {
      "application/vnd.jupyter.widget-view+json": {
       "model_id": "51322c7d8943411dab95a8963f2416e7",
       "version_major": 2,
       "version_minor": 0
      },
      "text/plain": [
       "Generating test split:   0%|          | 0/10955 [00:00<?, ? examples/s]"
      ]
     },
     "metadata": {},
     "output_type": "display_data"
    },
    {
     "data": {
      "application/vnd.jupyter.widget-view+json": {
       "model_id": "c4b3498e542b4f23a32deb395c3eddf4",
       "version_major": 2,
       "version_minor": 0
      },
      "text/plain": [
       "0it [00:00, ?it/s]"
      ]
     },
     "metadata": {},
     "output_type": "display_data"
    },
    {
     "data": {
      "application/vnd.jupyter.widget-view+json": {
       "model_id": "12e3243900ca4846a1f16f6942516561",
       "version_major": 2,
       "version_minor": 0
      },
      "text/plain": [
       "README.md:   0%|          | 0.00/805 [00:00<?, ?B/s]"
      ]
     },
     "metadata": {},
     "output_type": "display_data"
    },
    {
     "data": {
      "application/vnd.jupyter.widget-view+json": {
       "model_id": "e7e4b282c2ad4b2e8dabd8ec3a8208b4",
       "version_major": 2,
       "version_minor": 0
      },
      "text/plain": [
       "queries-00000-of-00001.parquet:   0%|          | 0.00/18.6M [00:00<?, ?B/s]"
      ]
     },
     "metadata": {},
     "output_type": "display_data"
    },
    {
     "data": {
      "application/vnd.jupyter.widget-view+json": {
       "model_id": "383ba49162d742e488f4094e0dfe6dce",
       "version_major": 2,
       "version_minor": 0
      },
      "text/plain": [
       "corpus-00000-of-00001.parquet:   0%|          | 0.00/6.02M [00:00<?, ?B/s]"
      ]
     },
     "metadata": {},
     "output_type": "display_data"
    },
    {
     "data": {
      "application/vnd.jupyter.widget-view+json": {
       "model_id": "83639a974f7e4c0ea648471206d9e786",
       "version_major": 2,
       "version_minor": 0
      },
      "text/plain": [
       "Generating queries split:   0%|          | 0/65201 [00:00<?, ? examples/s]"
      ]
     },
     "metadata": {},
     "output_type": "display_data"
    },
    {
     "data": {
      "application/vnd.jupyter.widget-view+json": {
       "model_id": "29c3273c4de84c2283b1737c0c24d0c2",
       "version_major": 2,
       "version_minor": 0
      },
      "text/plain": [
       "Generating corpus split:   0%|          | 0/64854 [00:00<?, ? examples/s]"
      ]
     },
     "metadata": {},
     "output_type": "display_data"
    },
    {
     "data": {
      "application/vnd.jupyter.widget-view+json": {
       "model_id": "d1f87ca9f8c34b0bab13773358820194",
       "version_major": 2,
       "version_minor": 0
      },
      "text/plain": [
       "README.md:   0%|          | 0.00/731 [00:00<?, ?B/s]"
      ]
     },
     "metadata": {},
     "output_type": "display_data"
    },
    {
     "data": {
      "application/vnd.jupyter.widget-view+json": {
       "model_id": "c82aca700a114b8784d5605a21de1a3a",
       "version_major": 2,
       "version_minor": 0
      },
      "text/plain": [
       "train-00000-of-00001.parquet:   0%|          | 0.00/659k [00:00<?, ?B/s]"
      ]
     },
     "metadata": {},
     "output_type": "display_data"
    },
    {
     "data": {
      "application/vnd.jupyter.widget-view+json": {
       "model_id": "48083a4a50204d8a8b0819f73d11560f",
       "version_major": 2,
       "version_minor": 0
      },
      "text/plain": [
       "valid-00000-of-00001.parquet:   0%|          | 0.00/45.4k [00:00<?, ?B/s]"
      ]
     },
     "metadata": {},
     "output_type": "display_data"
    },
    {
     "data": {
      "application/vnd.jupyter.widget-view+json": {
       "model_id": "51ba4f2c98ef449c90313b1ad0096da8",
       "version_major": 2,
       "version_minor": 0
      },
      "text/plain": [
       "test-00000-of-00001.parquet:   0%|          | 0.00/39.6k [00:00<?, ?B/s]"
      ]
     },
     "metadata": {},
     "output_type": "display_data"
    },
    {
     "data": {
      "application/vnd.jupyter.widget-view+json": {
       "model_id": "2785ca8c072546a185746607e030f90a",
       "version_major": 2,
       "version_minor": 0
      },
      "text/plain": [
       "Generating train split:   0%|          | 0/58025 [00:00<?, ? examples/s]"
      ]
     },
     "metadata": {},
     "output_type": "display_data"
    },
    {
     "data": {
      "application/vnd.jupyter.widget-view+json": {
       "model_id": "073c6475ccf446c5915b359e94df3ff5",
       "version_major": 2,
       "version_minor": 0
      },
      "text/plain": [
       "Generating valid split:   0%|          | 0/3885 [00:00<?, ? examples/s]"
      ]
     },
     "metadata": {},
     "output_type": "display_data"
    },
    {
     "data": {
      "application/vnd.jupyter.widget-view+json": {
       "model_id": "6eb548a59c864fdda219d0f133db7b66",
       "version_major": 2,
       "version_minor": 0
      },
      "text/plain": [
       "Generating test split:   0%|          | 0/3291 [00:00<?, ? examples/s]"
      ]
     },
     "metadata": {},
     "output_type": "display_data"
    },
    {
     "data": {
      "application/vnd.jupyter.widget-view+json": {
       "model_id": "21e04fec7e04487fb6c54d03db1ecc37",
       "version_major": 2,
       "version_minor": 0
      },
      "text/plain": [
       "0it [00:00, ?it/s]"
      ]
     },
     "metadata": {},
     "output_type": "display_data"
    },
    {
     "data": {
      "application/vnd.jupyter.widget-view+json": {
       "model_id": "16514ac1a6ee4061b7ee51e772bebb37",
       "version_major": 2,
       "version_minor": 0
      },
      "text/plain": [
       "README.md:   0%|          | 0.00/797 [00:00<?, ?B/s]"
      ]
     },
     "metadata": {},
     "output_type": "display_data"
    },
    {
     "data": {
      "application/vnd.jupyter.widget-view+json": {
       "model_id": "4e918429704c4ea1af26dfdeff0e8f19",
       "version_major": 2,
       "version_minor": 0
      },
      "text/plain": [
       "queries-00000-of-00001.parquet:   0%|          | 0.00/5.83M [00:00<?, ?B/s]"
      ]
     },
     "metadata": {},
     "output_type": "display_data"
    },
    {
     "data": {
      "application/vnd.jupyter.widget-view+json": {
       "model_id": "6a1d1003aa674a33b328ac3795699754",
       "version_major": 2,
       "version_minor": 0
      },
      "text/plain": [
       "corpus-00000-of-00001.parquet:   0%|          | 0.00/3.14M [00:00<?, ?B/s]"
      ]
     },
     "metadata": {},
     "output_type": "display_data"
    },
    {
     "data": {
      "application/vnd.jupyter.widget-view+json": {
       "model_id": "07ac55908a95428aba266152f6417a11",
       "version_major": 2,
       "version_minor": 0
      },
      "text/plain": [
       "Generating queries split:   0%|          | 0/27588 [00:00<?, ? examples/s]"
      ]
     },
     "metadata": {},
     "output_type": "display_data"
    },
    {
     "data": {
      "application/vnd.jupyter.widget-view+json": {
       "model_id": "bad683f410494be58cd47b16c26728ec",
       "version_major": 2,
       "version_minor": 0
      },
      "text/plain": [
       "Generating corpus split:   0%|          | 0/27570 [00:00<?, ? examples/s]"
      ]
     },
     "metadata": {},
     "output_type": "display_data"
    },
    {
     "data": {
      "application/vnd.jupyter.widget-view+json": {
       "model_id": "977e4a9017a440d6996a10f0b0c89e8e",
       "version_major": 2,
       "version_minor": 0
      },
      "text/plain": [
       "README.md:   0%|          | 0.00/1.29k [00:00<?, ?B/s]"
      ]
     },
     "metadata": {},
     "output_type": "display_data"
    },
    {
     "data": {
      "application/vnd.jupyter.widget-view+json": {
       "model_id": "80bc46be6cb545a790eeb5e89e18c90c",
       "version_major": 2,
       "version_minor": 0
      },
      "text/plain": [
       "train-00000-of-00001.parquet:   0%|          | 0.00/283k [00:00<?, ?B/s]"
      ]
     },
     "metadata": {},
     "output_type": "display_data"
    },
    {
     "data": {
      "application/vnd.jupyter.widget-view+json": {
       "model_id": "9bf10980672743f4b8fd18d58d394960",
       "version_major": 2,
       "version_minor": 0
      },
      "text/plain": [
       "valid-00000-of-00001.parquet:   0%|          | 0.00/17.6k [00:00<?, ?B/s]"
      ]
     },
     "metadata": {},
     "output_type": "display_data"
    },
    {
     "data": {
      "application/vnd.jupyter.widget-view+json": {
       "model_id": "6c402641e69e49fdab26a795d8ea5b14",
       "version_major": 2,
       "version_minor": 0
      },
      "text/plain": [
       "test-00000-of-00001.parquet:   0%|          | 0.00/16.0k [00:00<?, ?B/s]"
      ]
     },
     "metadata": {},
     "output_type": "display_data"
    },
    {
     "data": {
      "application/vnd.jupyter.widget-view+json": {
       "model_id": "f023c0ffcccd415c8d703e986a980660",
       "version_major": 2,
       "version_minor": 0
      },
      "text/plain": [
       "Generating train split:   0%|          | 0/24927 [00:00<?, ? examples/s]"
      ]
     },
     "metadata": {},
     "output_type": "display_data"
    },
    {
     "data": {
      "application/vnd.jupyter.widget-view+json": {
       "model_id": "f957fc071c254746acac87e6aadcc61a",
       "version_major": 2,
       "version_minor": 0
      },
      "text/plain": [
       "Generating valid split:   0%|          | 0/1400 [00:00<?, ? examples/s]"
      ]
     },
     "metadata": {},
     "output_type": "display_data"
    },
    {
     "data": {
      "application/vnd.jupyter.widget-view+json": {
       "model_id": "200caf2177dc411281a39d98f7034d8a",
       "version_major": 2,
       "version_minor": 0
      },
      "text/plain": [
       "Generating test split:   0%|          | 0/1261 [00:00<?, ? examples/s]"
      ]
     },
     "metadata": {},
     "output_type": "display_data"
    },
    {
     "data": {
      "application/vnd.jupyter.widget-view+json": {
       "model_id": "9e86e4fdd0b74a56997120837b3e5c3a",
       "version_major": 2,
       "version_minor": 0
      },
      "text/plain": [
       "0it [00:00, ?it/s]"
      ]
     },
     "metadata": {},
     "output_type": "display_data"
    },
    {
     "data": {
      "application/vnd.jupyter.widget-view+json": {
       "model_id": "6c51a373befd4b6db0d9079794ec4194",
       "version_major": 2,
       "version_minor": 0
      },
      "text/plain": [
       "README.md:   0%|          | 0.00/806 [00:00<?, ?B/s]"
      ]
     },
     "metadata": {},
     "output_type": "display_data"
    },
    {
     "data": {
      "application/vnd.jupyter.widget-view+json": {
       "model_id": "0e00000fabb64274b4a0bd91ccf3b311",
       "version_major": 2,
       "version_minor": 0
      },
      "text/plain": [
       "queries-00000-of-00001.parquet:   0%|          | 0.00/105M [00:00<?, ?B/s]"
      ]
     },
     "metadata": {},
     "output_type": "display_data"
    },
    {
     "data": {
      "application/vnd.jupyter.widget-view+json": {
       "model_id": "fef34beaf44d44f2ba56a27e8ed13b17",
       "version_major": 2,
       "version_minor": 0
      },
      "text/plain": [
       "corpus-00000-of-00001.parquet:   0%|          | 0.00/33.1M [00:00<?, ?B/s]"
      ]
     },
     "metadata": {},
     "output_type": "display_data"
    },
    {
     "data": {
      "application/vnd.jupyter.widget-view+json": {
       "model_id": "dfd3e7c6a8104ae9971bdede98fd10dc",
       "version_major": 2,
       "version_minor": 0
      },
      "text/plain": [
       "Generating queries split:   0%|          | 0/280652 [00:00<?, ? examples/s]"
      ]
     },
     "metadata": {},
     "output_type": "display_data"
    },
    {
     "data": {
      "application/vnd.jupyter.widget-view+json": {
       "model_id": "0d59f8c515d74c13b071891bba724429",
       "version_major": 2,
       "version_minor": 0
      },
      "text/plain": [
       "Generating corpus split:   0%|          | 0/280310 [00:00<?, ? examples/s]"
      ]
     },
     "metadata": {},
     "output_type": "display_data"
    },
    {
     "data": {
      "application/vnd.jupyter.widget-view+json": {
       "model_id": "7033d45a46034e849b7b1aeaf36acf4b",
       "version_major": 2,
       "version_minor": 0
      },
      "text/plain": [
       "README.md:   0%|          | 0.00/732 [00:00<?, ?B/s]"
      ]
     },
     "metadata": {},
     "output_type": "display_data"
    },
    {
     "data": {
      "application/vnd.jupyter.widget-view+json": {
       "model_id": "03aab01e11c849d28f9c38476efa086d",
       "version_major": 2,
       "version_minor": 0
      },
      "text/plain": [
       "train-00000-of-00001.parquet:   0%|          | 0.00/2.86M [00:00<?, ?B/s]"
      ]
     },
     "metadata": {},
     "output_type": "display_data"
    },
    {
     "data": {
      "application/vnd.jupyter.widget-view+json": {
       "model_id": "1c2873e6e91d4994b225d8e53bf100c7",
       "version_major": 2,
       "version_minor": 0
      },
      "text/plain": [
       "valid-00000-of-00001.parquet:   0%|          | 0.00/162k [00:00<?, ?B/s]"
      ]
     },
     "metadata": {},
     "output_type": "display_data"
    },
    {
     "data": {
      "application/vnd.jupyter.widget-view+json": {
       "model_id": "4affe99bc2b348ccb9340f1dd539359b",
       "version_major": 2,
       "version_minor": 0
      },
      "text/plain": [
       "test-00000-of-00001.parquet:   0%|          | 0.00/173k [00:00<?, ?B/s]"
      ]
     },
     "metadata": {},
     "output_type": "display_data"
    },
    {
     "data": {
      "application/vnd.jupyter.widget-view+json": {
       "model_id": "65c5ee2142f24963836bf1d03a1dacaa",
       "version_major": 2,
       "version_minor": 0
      },
      "text/plain": [
       "Generating train split:   0%|          | 0/251820 [00:00<?, ? examples/s]"
      ]
     },
     "metadata": {},
     "output_type": "display_data"
    },
    {
     "data": {
      "application/vnd.jupyter.widget-view+json": {
       "model_id": "b34152ab87bb4ced8b41eeef3583672b",
       "version_major": 2,
       "version_minor": 0
      },
      "text/plain": [
       "Generating valid split:   0%|          | 0/13914 [00:00<?, ? examples/s]"
      ]
     },
     "metadata": {},
     "output_type": "display_data"
    },
    {
     "data": {
      "application/vnd.jupyter.widget-view+json": {
       "model_id": "c5673dbf7b1b485c8363b271e14165ea",
       "version_major": 2,
       "version_minor": 0
      },
      "text/plain": [
       "Generating test split:   0%|          | 0/14918 [00:00<?, ? examples/s]"
      ]
     },
     "metadata": {},
     "output_type": "display_data"
    },
    {
     "data": {
      "application/vnd.jupyter.widget-view+json": {
       "model_id": "1ac09bf6e226424986f058086a48f26d",
       "version_major": 2,
       "version_minor": 0
      },
      "text/plain": [
       "0it [00:00, ?it/s]"
      ]
     },
     "metadata": {},
     "output_type": "display_data"
    },
    {
     "data": {
      "application/vnd.jupyter.widget-view+json": {
       "model_id": "e66208a32af44763a1ebc7436a015ce8",
       "version_major": 2,
       "version_minor": 0
      },
      "text/plain": [
       "README.md:   0%|          | 0.00/802 [00:00<?, ?B/s]"
      ]
     },
     "metadata": {},
     "output_type": "display_data"
    },
    {
     "data": {
      "application/vnd.jupyter.widget-view+json": {
       "model_id": "a7b2ac261561434f905f1af356733869",
       "version_major": 2,
       "version_minor": 0
      },
      "text/plain": [
       "queries-00000-of-00001.parquet:   0%|          | 0.00/62.7M [00:00<?, ?B/s]"
      ]
     },
     "metadata": {},
     "output_type": "display_data"
    },
    {
     "data": {
      "application/vnd.jupyter.widget-view+json": {
       "model_id": "428f1c3f2d2448eda4df3fa21e4c0784",
       "version_major": 2,
       "version_minor": 0
      },
      "text/plain": [
       "corpus-00000-of-00001.parquet:   0%|          | 0.00/21.4M [00:00<?, ?B/s]"
      ]
     },
     "metadata": {},
     "output_type": "display_data"
    },
    {
     "data": {
      "application/vnd.jupyter.widget-view+json": {
       "model_id": "bd802d04b3a247418591b9146f2271d1",
       "version_major": 2,
       "version_minor": 0
      },
      "text/plain": [
       "Generating queries split:   0%|          | 0/268237 [00:00<?, ? examples/s]"
      ]
     },
     "metadata": {},
     "output_type": "display_data"
    },
    {
     "data": {
      "application/vnd.jupyter.widget-view+json": {
       "model_id": "573cb434d5494de7b5ad99b00f61f6f6",
       "version_major": 2,
       "version_minor": 0
      },
      "text/plain": [
       "Generating corpus split:   0%|          | 0/267725 [00:00<?, ? examples/s]"
      ]
     },
     "metadata": {},
     "output_type": "display_data"
    },
    {
     "data": {
      "application/vnd.jupyter.widget-view+json": {
       "model_id": "21f41ab1d5ae4718bd068d42003f602e",
       "version_major": 2,
       "version_minor": 0
      },
      "text/plain": [
       "README.md:   0%|          | 0.00/729 [00:00<?, ?B/s]"
      ]
     },
     "metadata": {},
     "output_type": "display_data"
    },
    {
     "data": {
      "application/vnd.jupyter.widget-view+json": {
       "model_id": "9c7df57395d542b7b69ee894a7486012",
       "version_major": 2,
       "version_minor": 0
      },
      "text/plain": [
       "train-00000-of-00001.parquet:   0%|          | 0.00/2.74M [00:00<?, ?B/s]"
      ]
     },
     "metadata": {},
     "output_type": "display_data"
    },
    {
     "data": {
      "application/vnd.jupyter.widget-view+json": {
       "model_id": "d9654c94d94d43dcae1c71256a836603",
       "version_major": 2,
       "version_minor": 0
      },
      "text/plain": [
       "valid-00000-of-00001.parquet:   0%|          | 0.00/151k [00:00<?, ?B/s]"
      ]
     },
     "metadata": {},
     "output_type": "display_data"
    },
    {
     "data": {
      "application/vnd.jupyter.widget-view+json": {
       "model_id": "003e70f0fa2b4856988ec9479c8d8625",
       "version_major": 2,
       "version_minor": 0
      },
      "text/plain": [
       "test-00000-of-00001.parquet:   0%|          | 0.00/164k [00:00<?, ?B/s]"
      ]
     },
     "metadata": {},
     "output_type": "display_data"
    },
    {
     "data": {
      "application/vnd.jupyter.widget-view+json": {
       "model_id": "d537394c85b840f49372a8e58d60fbe6",
       "version_major": 2,
       "version_minor": 0
      },
      "text/plain": [
       "Generating train split:   0%|          | 0/241241 [00:00<?, ? examples/s]"
      ]
     },
     "metadata": {},
     "output_type": "display_data"
    },
    {
     "data": {
      "application/vnd.jupyter.widget-view+json": {
       "model_id": "001d80854cfe4960924f56fbb6969641",
       "version_major": 2,
       "version_minor": 0
      },
      "text/plain": [
       "Generating valid split:   0%|          | 0/12982 [00:00<?, ? examples/s]"
      ]
     },
     "metadata": {},
     "output_type": "display_data"
    },
    {
     "data": {
      "application/vnd.jupyter.widget-view+json": {
       "model_id": "e400e189b00a476e959d1b2eb9cbdb11",
       "version_major": 2,
       "version_minor": 0
      },
      "text/plain": [
       "Generating test split:   0%|          | 0/14014 [00:00<?, ? examples/s]"
      ]
     },
     "metadata": {},
     "output_type": "display_data"
    },
    {
     "data": {
      "application/vnd.jupyter.widget-view+json": {
       "model_id": "03d509f48d7f489385e95c890820205d",
       "version_major": 2,
       "version_minor": 0
      },
      "text/plain": [
       "0it [00:00, ?it/s]"
      ]
     },
     "metadata": {},
     "output_type": "display_data"
    }
   ],
   "source": [
    "tasks = get_tasks(tasks=[\"codesearchnet\"])"
   ]
  },
  {
   "cell_type": "code",
   "execution_count": 16,
   "id": "bdde2bc4-b1c0-40a9-8311-79a9aa78647d",
   "metadata": {},
   "outputs": [
    {
     "data": {
      "text/plain": [
       "{'text': 'str->list\\n    Convert XML to URL List.\\n    From Biligrab.',\n",
       " 'title': ''}"
      ]
     },
     "execution_count": 16,
     "metadata": {},
     "output_type": "execute_result"
    }
   ],
   "source": [
    "tasks['CodeSearchNet-python'][0]['c265608']"
   ]
  },
  {
   "cell_type": "code",
   "execution_count": 4,
   "id": "73e42b01-fc59-4bd7-bd84-7ea243c8063c",
   "metadata": {},
   "outputs": [
    {
     "data": {
      "text/html": [
       "<div>\n",
       "<style scoped>\n",
       "    .dataframe tbody tr th:only-of-type {\n",
       "        vertical-align: middle;\n",
       "    }\n",
       "\n",
       "    .dataframe tbody tr th {\n",
       "        vertical-align: top;\n",
       "    }\n",
       "\n",
       "    .dataframe thead th {\n",
       "        text-align: right;\n",
       "    }\n",
       "</style>\n",
       "<table border=\"1\" class=\"dataframe\">\n",
       "  <thead>\n",
       "    <tr style=\"text-align: right;\">\n",
       "      <th></th>\n",
       "      <th>Unnamed: 0</th>\n",
       "      <th>query_id</th>\n",
       "      <th>doc</th>\n",
       "      <th>corpus_id</th>\n",
       "      <th>code</th>\n",
       "      <th>explanation_granite_1</th>\n",
       "      <th>explanation_granite_2</th>\n",
       "      <th>explanation_granite_3</th>\n",
       "      <th>explanation_granite_4</th>\n",
       "      <th>explanation_deepseek_1_cleaned</th>\n",
       "      <th>explanation_deepseek_2_cleaned</th>\n",
       "      <th>explanation_deepseek_3_cleaned</th>\n",
       "      <th>explanation_deepseek_4_cleaned</th>\n",
       "    </tr>\n",
       "  </thead>\n",
       "  <tbody>\n",
       "    <tr>\n",
       "      <th>0</th>\n",
       "      <td>0</td>\n",
       "      <td>q1</td>\n",
       "      <td>python code to write bool value 1</td>\n",
       "      <td>d1</td>\n",
       "      <td>def writeBoolean(self, n):\\n        \"\"\"\\n     ...</td>\n",
       "      <td>\\nThe provided code is a Python method named `...</td>\n",
       "      <td>\\n1. `def writeBoolean(self, n):` - This line ...</td>\n",
       "      <td>\\nThis code snippet is a function that writes ...</td>\n",
       "      <td>\\nThe code snippet provided is a method named ...</td>\n",
       "      <td>The doc string and code both write the boolean...</td>\n",
       "      <td>Alright, I need to break down this Python code...</td>\n",
       "      <td>The code snippet writes a boolean value to a s...</td>\n",
       "      <td>The code snippet defines a method called write...</td>\n",
       "    </tr>\n",
       "    <tr>\n",
       "      <th>1</th>\n",
       "      <td>1</td>\n",
       "      <td>q2</td>\n",
       "      <td>\"python how to manipulate clipboard\"</td>\n",
       "      <td>d2</td>\n",
       "      <td>def paste(xsel=False):\\n    \"\"\"Returns system ...</td>\n",
       "      <td>\\nThe provided Python code snippet defines a f...</td>\n",
       "      <td>\\n1. `def paste(xsel=False):` - This line defi...</td>\n",
       "      <td>\\nThis code snippet is a function in Python th...</td>\n",
       "      <td>\\nThe code snippet provided is a Python functi...</td>\n",
       "      <td>The paste function pastes data from the clipbo...</td>\n",
       "      <td>The code snippet begins by defining a function...</td>\n",
       "      <td>The code snippet is a function called paste th...</td>\n",
       "      <td>The code snippet defines a function called pas...</td>\n",
       "    </tr>\n",
       "    <tr>\n",
       "      <th>2</th>\n",
       "      <td>2</td>\n",
       "      <td>q3</td>\n",
       "      <td>python colored output to html</td>\n",
       "      <td>d3</td>\n",
       "      <td>def _format_json(data, theme):\\n    \"\"\"Pretty ...</td>\n",
       "      <td>\\nThis Python function, `_format_json`, takes ...</td>\n",
       "      <td>\\n1. `def _format_json(data, theme):` - This l...</td>\n",
       "      <td>\\nThis code snippet, named `_format_json`, is ...</td>\n",
       "      <td>\\n```python\\nimport json\\nimport sys\\nimport p...</td>\n",
       "      <td>The docstring explains that the function _form...</td>\n",
       "      <td>```pythondef _format_json(data, theme):    \"\"\"...</td>\n",
       "      <td>This code snippet is a function called _format...</td>\n",
       "      <td>To explain the code snippet in a way that can ...</td>\n",
       "    </tr>\n",
       "    <tr>\n",
       "      <th>3</th>\n",
       "      <td>3</td>\n",
       "      <td>q4</td>\n",
       "      <td>python \"create directory\" using \"relative path\"</td>\n",
       "      <td>d4</td>\n",
       "      <td>def create_path(path):\\n    \"\"\"Creates a absol...</td>\n",
       "      <td>\\nThe provided Python function, `create_path(p...</td>\n",
       "      <td>\\n1. The code snippet defines a function named...</td>\n",
       "      <td>\\nThis code snippet helps you create a new dir...</td>\n",
       "      <td>\\nThe provided code snippet is a Python functi...</td>\n",
       "      <td>The doc and code create an absolute path from ...</td>\n",
       "      <td>Okay, I need to explain this Python code snipp...</td>\n",
       "      <td>This code creates a file system where any path...</td>\n",
       "      <td>The code snippet defines a function called cre...</td>\n",
       "    </tr>\n",
       "    <tr>\n",
       "      <th>4</th>\n",
       "      <td>4</td>\n",
       "      <td>q5</td>\n",
       "      <td>python column of an array</td>\n",
       "      <td>d5</td>\n",
       "      <td>def _vector_or_scalar(x, type='row'):\\n    \"\"\"...</td>\n",
       "      <td>\\nThe provided Python code defines a function ...</td>\n",
       "      <td>\\nThis code snippet defines a function called ...</td>\n",
       "      <td>\\nThis code snippet is a function that convert...</td>\n",
       "      <td>\\nThe code snippet provided is a function defi...</td>\n",
       "      <td>The code checks if an object `x` is an array o...</td>\n",
       "      <td>Alright, so I've got this Python code snippet ...</td>\n",
       "      <td>The code snippet is a Python function called _...</td>\n",
       "      <td>Okay, I'm going to try to figure out how to ex...</td>\n",
       "    </tr>\n",
       "  </tbody>\n",
       "</table>\n",
       "</div>"
      ],
      "text/plain": [
       "   Unnamed: 0 query_id                                              doc  \\\n",
       "0           0       q1                python code to write bool value 1   \n",
       "1           1       q2             \"python how to manipulate clipboard\"   \n",
       "2           2       q3                    python colored output to html   \n",
       "3           3       q4  python \"create directory\" using \"relative path\"   \n",
       "4           4       q5                        python column of an array   \n",
       "\n",
       "  corpus_id                                               code  \\\n",
       "0        d1  def writeBoolean(self, n):\\n        \"\"\"\\n     ...   \n",
       "1        d2  def paste(xsel=False):\\n    \"\"\"Returns system ...   \n",
       "2        d3  def _format_json(data, theme):\\n    \"\"\"Pretty ...   \n",
       "3        d4  def create_path(path):\\n    \"\"\"Creates a absol...   \n",
       "4        d5  def _vector_or_scalar(x, type='row'):\\n    \"\"\"...   \n",
       "\n",
       "                               explanation_granite_1  \\\n",
       "0  \\nThe provided code is a Python method named `...   \n",
       "1  \\nThe provided Python code snippet defines a f...   \n",
       "2  \\nThis Python function, `_format_json`, takes ...   \n",
       "3  \\nThe provided Python function, `create_path(p...   \n",
       "4  \\nThe provided Python code defines a function ...   \n",
       "\n",
       "                               explanation_granite_2  \\\n",
       "0  \\n1. `def writeBoolean(self, n):` - This line ...   \n",
       "1  \\n1. `def paste(xsel=False):` - This line defi...   \n",
       "2  \\n1. `def _format_json(data, theme):` - This l...   \n",
       "3  \\n1. The code snippet defines a function named...   \n",
       "4  \\nThis code snippet defines a function called ...   \n",
       "\n",
       "                               explanation_granite_3  \\\n",
       "0  \\nThis code snippet is a function that writes ...   \n",
       "1  \\nThis code snippet is a function in Python th...   \n",
       "2  \\nThis code snippet, named `_format_json`, is ...   \n",
       "3  \\nThis code snippet helps you create a new dir...   \n",
       "4  \\nThis code snippet is a function that convert...   \n",
       "\n",
       "                               explanation_granite_4  \\\n",
       "0  \\nThe code snippet provided is a method named ...   \n",
       "1  \\nThe code snippet provided is a Python functi...   \n",
       "2  \\n```python\\nimport json\\nimport sys\\nimport p...   \n",
       "3  \\nThe provided code snippet is a Python functi...   \n",
       "4  \\nThe code snippet provided is a function defi...   \n",
       "\n",
       "                      explanation_deepseek_1_cleaned  \\\n",
       "0  The doc string and code both write the boolean...   \n",
       "1  The paste function pastes data from the clipbo...   \n",
       "2  The docstring explains that the function _form...   \n",
       "3  The doc and code create an absolute path from ...   \n",
       "4  The code checks if an object `x` is an array o...   \n",
       "\n",
       "                      explanation_deepseek_2_cleaned  \\\n",
       "0  Alright, I need to break down this Python code...   \n",
       "1  The code snippet begins by defining a function...   \n",
       "2  ```pythondef _format_json(data, theme):    \"\"\"...   \n",
       "3  Okay, I need to explain this Python code snipp...   \n",
       "4  Alright, so I've got this Python code snippet ...   \n",
       "\n",
       "                      explanation_deepseek_3_cleaned  \\\n",
       "0  The code snippet writes a boolean value to a s...   \n",
       "1  The code snippet is a function called paste th...   \n",
       "2  This code snippet is a function called _format...   \n",
       "3  This code creates a file system where any path...   \n",
       "4  The code snippet is a Python function called _...   \n",
       "\n",
       "                      explanation_deepseek_4_cleaned  \n",
       "0  The code snippet defines a method called write...  \n",
       "1  The code snippet defines a function called pas...  \n",
       "2  To explain the code snippet in a way that can ...  \n",
       "3  The code snippet defines a function called cre...  \n",
       "4  Okay, I'm going to try to figure out how to ex...  "
      ]
     },
     "execution_count": 4,
     "metadata": {},
     "output_type": "execute_result"
    }
   ],
   "source": [
    "#expl_path = '/work/pi_wenlongzhao_umass_edu/27/anamikaghosh/CoSQA_deepseek_exp.csv'\n",
    "expl_path = '/work/pi_wenlongzhao_umass_edu/27/anamikaghosh/CoSQA_explanations_query_code.csv'\n",
    "expl_df = pd.read_csv(expl_path)\n",
    "expl_df.head()"
   ]
  },
  {
   "cell_type": "code",
   "execution_count": 6,
   "id": "849b166e-2dc4-46cb-83ab-12314d8fb1cc",
   "metadata": {},
   "outputs": [
    {
     "name": "stdout",
     "output_type": "stream",
     "text": [
      "{'text': 'def _unzip_handle(handle):\\n    \"\"\"Transparently unzip the file handle\"\"\"\\n    if isinstance(handle, basestring):\\n        handle = _gzip_open_filename(handle)\\n    else:\\n        handle = _gzip_open_handle(handle)\\n    return handle', 'title': ''}\n",
      "{'q20105': {'d20105': 1}, 'q20106': {'d20106': 1}, 'q20107': {'d20107': 1}, 'q20108': {'d20108': 1}, 'q20109': {'d20109': 1}, 'q20110': {'d20110': 1}, 'q20111': {'d20111': 1}, 'q20112': {'d20112': 1}, 'q20113': {'d20113': 1}, 'q20114': {'d20114': 1}, 'q20115': {'d20115': 1}, 'q20116': {'d20116': 1}, 'q20117': {'d20117': 1}, 'q20118': {'d20118': 1}, 'q20119': {'d20119': 1}, 'q20120': {'d20120': 1}, 'q20121': {'d20121': 1}, 'q20122': {'d20122': 1}, 'q20123': {'d20123': 1}, 'q20124': {'d20124': 1}, 'q20125': {'d20125': 1}, 'q20126': {'d20126': 1}, 'q20127': {'d20127': 1}, 'q20128': {'d20128': 1}, 'q20129': {'d20129': 1}, 'q20130': {'d20130': 1}, 'q20131': {'d20131': 1}, 'q20132': {'d20132': 1}, 'q20133': {'d20133': 1}, 'q20134': {'d20134': 1}, 'q20135': {'d20135': 1}, 'q20136': {'d20136': 1}, 'q20137': {'d20137': 1}, 'q20138': {'d20138': 1}, 'q20139': {'d20139': 1}, 'q20140': {'d20140': 1}, 'q20141': {'d20141': 1}, 'q20142': {'d20142': 1}, 'q20143': {'d20143': 1}, 'q20144': {'d20144': 1}, 'q20145': {'d20145': 1}, 'q20146': {'d20146': 1}, 'q20147': {'d20147': 1}, 'q20148': {'d20148': 1}, 'q20149': {'d20149': 1}, 'q20150': {'d20150': 1}, 'q20151': {'d20151': 1}, 'q20152': {'d20152': 1}, 'q20153': {'d20153': 1}, 'q20154': {'d20154': 1}, 'q20155': {'d20155': 1}, 'q20156': {'d20156': 1}, 'q20157': {'d20157': 1}, 'q20158': {'d20158': 1}, 'q20159': {'d20159': 1}, 'q20160': {'d20160': 1}, 'q20161': {'d20161': 1}, 'q20162': {'d20162': 1}, 'q20163': {'d20163': 1}, 'q20164': {'d20164': 1}, 'q20165': {'d20165': 1}, 'q20166': {'d20166': 1}, 'q20167': {'d20167': 1}, 'q20168': {'d20168': 1}, 'q20169': {'d20169': 1}, 'q20170': {'d20170': 1}, 'q20171': {'d20171': 1}, 'q20172': {'d20172': 1}, 'q20173': {'d20173': 1}, 'q20174': {'d20174': 1}, 'q20175': {'d20175': 1}, 'q20176': {'d20176': 1}, 'q20177': {'d20177': 1}, 'q20178': {'d20178': 1}, 'q20179': {'d20179': 1}, 'q20180': {'d20180': 1}, 'q20181': {'d20181': 1}, 'q20182': {'d20182': 1}, 'q20183': {'d20183': 1}, 'q20184': {'d20184': 1}, 'q20185': {'d20185': 1}, 'q20186': {'d20186': 1}, 'q20187': {'d20187': 1}, 'q20188': {'d20188': 1}, 'q20189': {'d20189': 1}, 'q20190': {'d20190': 1}, 'q20191': {'d20191': 1}, 'q20192': {'d20192': 1}, 'q20193': {'d20193': 1}, 'q20194': {'d20194': 1}, 'q20195': {'d20195': 1}, 'q20196': {'d20196': 1}, 'q20197': {'d20197': 1}, 'q20198': {'d20198': 1}, 'q20199': {'d20199': 1}, 'q20200': {'d20200': 1}, 'q20201': {'d20201': 1}, 'q20202': {'d20202': 1}, 'q20203': {'d20203': 1}, 'q20204': {'d20204': 1}, 'q20205': {'d20205': 1}, 'q20206': {'d20206': 1}, 'q20207': {'d20207': 1}, 'q20208': {'d20208': 1}, 'q20209': {'d20209': 1}, 'q20210': {'d20210': 1}, 'q20211': {'d20211': 1}, 'q20212': {'d20212': 1}, 'q20213': {'d20213': 1}, 'q20214': {'d20214': 1}, 'q20215': {'d20215': 1}, 'q20216': {'d20216': 1}, 'q20217': {'d20217': 1}, 'q20218': {'d20218': 1}, 'q20219': {'d20219': 1}, 'q20220': {'d20220': 1}, 'q20221': {'d20221': 1}, 'q20222': {'d20222': 1}, 'q20223': {'d20223': 1}, 'q20224': {'d20224': 1}, 'q20225': {'d20225': 1}, 'q20226': {'d20226': 1}, 'q20227': {'d20227': 1}, 'q20228': {'d20228': 1}, 'q20229': {'d20229': 1}, 'q20230': {'d20230': 1}, 'q20231': {'d20231': 1}, 'q20232': {'d20232': 1}, 'q20233': {'d20233': 1}, 'q20234': {'d20234': 1}, 'q20235': {'d20235': 1}, 'q20236': {'d20236': 1}, 'q20237': {'d20237': 1}, 'q20238': {'d20238': 1}, 'q20239': {'d20239': 1}, 'q20240': {'d20240': 1}, 'q20241': {'d20241': 1}, 'q20242': {'d20242': 1}, 'q20243': {'d20243': 1}, 'q20244': {'d20244': 1}, 'q20245': {'d20245': 1}, 'q20246': {'d20246': 1}, 'q20247': {'d20247': 1}, 'q20248': {'d20248': 1}, 'q20249': {'d20249': 1}, 'q20250': {'d20250': 1}, 'q20251': {'d20251': 1}, 'q20252': {'d20252': 1}, 'q20253': {'d20253': 1}, 'q20254': {'d20254': 1}, 'q20255': {'d20255': 1}, 'q20256': {'d20256': 1}, 'q20257': {'d20257': 1}, 'q20258': {'d20258': 1}, 'q20259': {'d20259': 1}, 'q20260': {'d20260': 1}, 'q20261': {'d20261': 1}, 'q20262': {'d20262': 1}, 'q20263': {'d20263': 1}, 'q20264': {'d20264': 1}, 'q20265': {'d20265': 1}, 'q20266': {'d20266': 1}, 'q20267': {'d20267': 1}, 'q20268': {'d20268': 1}, 'q20269': {'d20269': 1}, 'q20270': {'d20270': 1}, 'q20271': {'d20271': 1}, 'q20272': {'d20272': 1}, 'q20273': {'d20273': 1}, 'q20274': {'d20274': 1}, 'q20275': {'d20275': 1}, 'q20276': {'d20276': 1}, 'q20277': {'d20277': 1}, 'q20278': {'d20278': 1}, 'q20279': {'d20279': 1}, 'q20280': {'d20280': 1}, 'q20281': {'d20281': 1}, 'q20282': {'d20282': 1}, 'q20283': {'d20283': 1}, 'q20284': {'d20284': 1}, 'q20285': {'d20285': 1}, 'q20286': {'d20286': 1}, 'q20287': {'d20287': 1}, 'q20288': {'d20288': 1}, 'q20289': {'d20289': 1}, 'q20290': {'d20290': 1}, 'q20291': {'d20291': 1}, 'q20292': {'d20292': 1}, 'q20293': {'d20293': 1}, 'q20294': {'d20294': 1}, 'q20295': {'d20295': 1}, 'q20296': {'d20296': 1}, 'q20297': {'d20297': 1}, 'q20298': {'d20298': 1}, 'q20299': {'d20299': 1}, 'q20300': {'d20300': 1}, 'q20301': {'d20301': 1}, 'q20302': {'d20302': 1}, 'q20303': {'d20303': 1}, 'q20304': {'d20304': 1}, 'q20305': {'d20305': 1}, 'q20306': {'d20306': 1}, 'q20307': {'d20307': 1}, 'q20308': {'d20308': 1}, 'q20309': {'d20309': 1}, 'q20310': {'d20310': 1}, 'q20311': {'d20311': 1}, 'q20312': {'d20312': 1}, 'q20313': {'d20313': 1}, 'q20314': {'d20314': 1}, 'q20315': {'d20315': 1}, 'q20316': {'d20316': 1}, 'q20317': {'d20317': 1}, 'q20318': {'d20318': 1}, 'q20319': {'d20319': 1}, 'q20320': {'d20320': 1}, 'q20321': {'d20321': 1}, 'q20322': {'d20322': 1}, 'q20323': {'d20323': 1}, 'q20324': {'d20324': 1}, 'q20325': {'d20325': 1}, 'q20326': {'d20326': 1}, 'q20327': {'d20327': 1}, 'q20328': {'d20328': 1}, 'q20329': {'d20329': 1}, 'q20330': {'d20330': 1}, 'q20331': {'d20331': 1}, 'q20332': {'d20332': 1}, 'q20333': {'d20333': 1}, 'q20334': {'d20334': 1}, 'q20335': {'d20335': 1}, 'q20336': {'d20336': 1}, 'q20337': {'d20337': 1}, 'q20338': {'d20338': 1}, 'q20339': {'d20339': 1}, 'q20340': {'d20340': 1}, 'q20341': {'d20341': 1}, 'q20342': {'d20342': 1}, 'q20343': {'d20343': 1}, 'q20344': {'d20344': 1}, 'q20345': {'d20345': 1}, 'q20346': {'d20346': 1}, 'q20347': {'d20347': 1}, 'q20348': {'d20348': 1}, 'q20349': {'d20349': 1}, 'q20350': {'d20350': 1}, 'q20351': {'d20351': 1}, 'q20352': {'d20352': 1}, 'q20353': {'d20353': 1}, 'q20354': {'d20354': 1}, 'q20355': {'d20355': 1}, 'q20356': {'d20356': 1}, 'q20357': {'d20357': 1}, 'q20358': {'d20358': 1}, 'q20359': {'d20359': 1}, 'q20360': {'d20360': 1}, 'q20361': {'d20361': 1}, 'q20362': {'d20362': 1}, 'q20363': {'d20363': 1}, 'q20364': {'d20364': 1}, 'q20365': {'d20365': 1}, 'q20366': {'d20366': 1}, 'q20367': {'d20367': 1}, 'q20368': {'d20368': 1}, 'q20369': {'d20369': 1}, 'q20370': {'d20370': 1}, 'q20371': {'d20371': 1}, 'q20372': {'d20372': 1}, 'q20373': {'d20373': 1}, 'q20374': {'d20374': 1}, 'q20375': {'d20375': 1}, 'q20376': {'d20376': 1}, 'q20377': {'d20377': 1}, 'q20378': {'d20378': 1}, 'q20379': {'d20379': 1}, 'q20380': {'d20380': 1}, 'q20381': {'d20381': 1}, 'q20382': {'d20382': 1}, 'q20383': {'d20383': 1}, 'q20384': {'d20384': 1}, 'q20385': {'d20385': 1}, 'q20386': {'d20386': 1}, 'q20387': {'d20387': 1}, 'q20388': {'d20388': 1}, 'q20389': {'d20389': 1}, 'q20390': {'d20390': 1}, 'q20391': {'d20391': 1}, 'q20392': {'d20392': 1}, 'q20393': {'d20393': 1}, 'q20394': {'d20394': 1}, 'q20395': {'d20395': 1}, 'q20396': {'d20396': 1}, 'q20397': {'d20397': 1}, 'q20398': {'d20398': 1}, 'q20399': {'d20399': 1}, 'q20400': {'d20400': 1}, 'q20401': {'d20401': 1}, 'q20402': {'d20402': 1}, 'q20403': {'d20403': 1}, 'q20404': {'d20404': 1}, 'q20405': {'d20405': 1}, 'q20406': {'d20406': 1}, 'q20407': {'d20407': 1}, 'q20408': {'d20408': 1}, 'q20409': {'d20409': 1}, 'q20410': {'d20410': 1}, 'q20411': {'d20411': 1}, 'q20412': {'d20412': 1}, 'q20413': {'d20413': 1}, 'q20414': {'d20414': 1}, 'q20415': {'d20415': 1}, 'q20416': {'d20416': 1}, 'q20417': {'d20417': 1}, 'q20418': {'d20418': 1}, 'q20419': {'d20419': 1}, 'q20420': {'d20420': 1}, 'q20421': {'d20421': 1}, 'q20422': {'d20422': 1}, 'q20423': {'d20423': 1}, 'q20424': {'d20424': 1}, 'q20425': {'d20425': 1}, 'q20426': {'d20426': 1}, 'q20427': {'d20427': 1}, 'q20428': {'d20428': 1}, 'q20429': {'d20429': 1}, 'q20430': {'d20430': 1}, 'q20431': {'d20431': 1}, 'q20432': {'d20432': 1}, 'q20433': {'d20433': 1}, 'q20434': {'d20434': 1}, 'q20435': {'d20435': 1}, 'q20436': {'d20436': 1}, 'q20437': {'d20437': 1}, 'q20438': {'d20438': 1}, 'q20439': {'d20439': 1}, 'q20440': {'d20440': 1}, 'q20441': {'d20441': 1}, 'q20442': {'d20442': 1}, 'q20443': {'d20443': 1}, 'q20444': {'d20444': 1}, 'q20445': {'d20445': 1}, 'q20446': {'d20446': 1}, 'q20447': {'d20447': 1}, 'q20448': {'d20448': 1}, 'q20449': {'d20449': 1}, 'q20450': {'d20450': 1}, 'q20451': {'d20451': 1}, 'q20452': {'d20452': 1}, 'q20453': {'d20453': 1}, 'q20454': {'d20454': 1}, 'q20455': {'d20455': 1}, 'q20456': {'d20456': 1}, 'q20457': {'d20457': 1}, 'q20458': {'d20458': 1}, 'q20459': {'d20459': 1}, 'q20460': {'d20460': 1}, 'q20461': {'d20461': 1}, 'q20462': {'d20462': 1}, 'q20463': {'d20463': 1}, 'q20464': {'d20464': 1}, 'q20465': {'d20465': 1}, 'q20466': {'d20466': 1}, 'q20467': {'d20467': 1}, 'q20468': {'d20468': 1}, 'q20469': {'d20469': 1}, 'q20470': {'d20470': 1}, 'q20471': {'d20471': 1}, 'q20472': {'d20472': 1}, 'q20473': {'d20473': 1}, 'q20474': {'d20474': 1}, 'q20475': {'d20475': 1}, 'q20476': {'d20476': 1}, 'q20477': {'d20477': 1}, 'q20478': {'d20478': 1}, 'q20479': {'d20479': 1}, 'q20480': {'d20480': 1}, 'q20481': {'d20481': 1}, 'q20482': {'d20482': 1}, 'q20483': {'d20483': 1}, 'q20484': {'d20484': 1}, 'q20485': {'d20485': 1}, 'q20486': {'d20486': 1}, 'q20487': {'d20487': 1}, 'q20488': {'d20488': 1}, 'q20489': {'d20489': 1}, 'q20490': {'d20490': 1}, 'q20491': {'d20491': 1}, 'q20492': {'d20492': 1}, 'q20493': {'d20493': 1}, 'q20494': {'d20494': 1}, 'q20495': {'d20495': 1}, 'q20496': {'d20496': 1}, 'q20497': {'d20497': 1}, 'q20498': {'d20498': 1}, 'q20499': {'d20499': 1}, 'q20500': {'d20500': 1}, 'q20501': {'d20501': 1}, 'q20502': {'d20502': 1}, 'q20503': {'d20503': 1}, 'q20504': {'d20504': 1}, 'q20505': {'d20505': 1}, 'q20506': {'d20506': 1}, 'q20507': {'d20507': 1}, 'q20508': {'d20508': 1}, 'q20509': {'d20509': 1}, 'q20510': {'d20510': 1}, 'q20511': {'d20511': 1}, 'q20512': {'d20512': 1}, 'q20513': {'d20513': 1}, 'q20514': {'d20514': 1}, 'q20515': {'d20515': 1}, 'q20516': {'d20516': 1}, 'q20517': {'d20517': 1}, 'q20518': {'d20518': 1}, 'q20519': {'d20519': 1}, 'q20520': {'d20520': 1}, 'q20521': {'d20521': 1}, 'q20522': {'d20522': 1}, 'q20523': {'d20523': 1}, 'q20524': {'d20524': 1}, 'q20525': {'d20525': 1}, 'q20526': {'d20526': 1}, 'q20527': {'d20527': 1}, 'q20528': {'d20528': 1}, 'q20529': {'d20529': 1}, 'q20530': {'d20530': 1}, 'q20531': {'d20531': 1}, 'q20532': {'d20532': 1}, 'q20533': {'d20533': 1}, 'q20534': {'d20534': 1}, 'q20535': {'d20535': 1}, 'q20536': {'d20536': 1}, 'q20537': {'d20537': 1}, 'q20538': {'d20538': 1}, 'q20539': {'d20539': 1}, 'q20540': {'d20540': 1}, 'q20541': {'d20541': 1}, 'q20542': {'d20542': 1}, 'q20543': {'d20543': 1}, 'q20544': {'d20544': 1}, 'q20545': {'d20545': 1}, 'q20546': {'d20546': 1}, 'q20547': {'d20547': 1}, 'q20548': {'d20548': 1}, 'q20549': {'d20549': 1}, 'q20550': {'d20550': 1}, 'q20551': {'d20551': 1}, 'q20552': {'d20552': 1}, 'q20553': {'d20553': 1}, 'q20554': {'d20554': 1}, 'q20555': {'d20555': 1}, 'q20556': {'d20556': 1}, 'q20557': {'d20557': 1}, 'q20558': {'d20558': 1}, 'q20559': {'d20559': 1}, 'q20560': {'d20560': 1}, 'q20561': {'d20561': 1}, 'q20562': {'d20562': 1}, 'q20563': {'d20563': 1}, 'q20564': {'d20564': 1}, 'q20565': {'d20565': 1}, 'q20566': {'d20566': 1}, 'q20567': {'d20567': 1}, 'q20568': {'d20568': 1}, 'q20569': {'d20569': 1}, 'q20570': {'d20570': 1}, 'q20571': {'d20571': 1}, 'q20572': {'d20572': 1}, 'q20573': {'d20573': 1}, 'q20574': {'d20574': 1}, 'q20575': {'d20575': 1}, 'q20576': {'d20576': 1}, 'q20577': {'d20577': 1}, 'q20578': {'d20578': 1}, 'q20579': {'d20579': 1}, 'q20580': {'d20580': 1}, 'q20581': {'d20581': 1}, 'q20582': {'d20582': 1}, 'q20583': {'d20583': 1}, 'q20584': {'d20584': 1}, 'q20585': {'d20585': 1}, 'q20586': {'d20586': 1}, 'q20587': {'d20587': 1}, 'q20588': {'d20588': 1}, 'q20589': {'d20589': 1}, 'q20590': {'d20590': 1}, 'q20591': {'d20591': 1}, 'q20592': {'d20592': 1}, 'q20593': {'d20593': 1}, 'q20594': {'d20594': 1}, 'q20595': {'d20595': 1}, 'q20596': {'d20596': 1}, 'q20597': {'d20597': 1}, 'q20598': {'d20598': 1}, 'q20599': {'d20599': 1}, 'q20600': {'d20600': 1}, 'q20601': {'d20601': 1}, 'q20602': {'d20602': 1}, 'q20603': {'d20603': 1}, 'q20604': {'d20604': 1}}\n",
      "Total docs in corpus after replacement: 20604\n",
      "Number of docs still missing 'text': 0\n"
     ]
    }
   ],
   "source": [
    "# # Unpack the tuple\n",
    "corpus, queries, qrels = tasks['cosqa']\n",
    "\n",
    "for _, row in expl_df.iterrows():\n",
    "    corpus_id = row['corpus_id']\n",
    "    explanation = row['code']\n",
    "\n",
    "    if corpus_id in corpus and explanation and explanation.strip():\n",
    "        corpus[corpus_id]['text'] = explanation  \n",
    "\n",
    "corpus = {doc_id: doc for doc_id, doc in corpus.items() if 'text' in doc and doc['text'].strip()}\n",
    "\n",
    "print(corpus['d20604'])\n",
    "print(qrels)\n",
    "tasks['cosqa'] = (corpus, queries, qrels)\n",
    "\n",
    "print(f\"Total docs in corpus after replacement: {len(tasks['cosqa'][0])}\")\n",
    "missing_text = sum(1 for doc in tasks['cosqa'][0].values() if not doc.get('text'))\n",
    "print(f\"Number of docs still missing 'text': {missing_text}\")\n"
   ]
  },
  {
   "cell_type": "code",
   "execution_count": 7,
   "id": "89b8ad9c",
   "metadata": {},
   "outputs": [
    {
     "name": "stdout",
     "output_type": "stream",
     "text": [
      "qrels.tsv created!\n"
     ]
    }
   ],
   "source": [
    "import csv\n",
    "\n",
    "with open(\"collection.tsv\", \"w\", newline=\"\", encoding=\"utf-8\") as f:\n",
    "    writer = csv.writer(f, delimiter=\"\\t\", quoting=csv.QUOTE_MINIMAL)\n",
    "    for i, (doc_id, doc) in enumerate(corpus.items()):\n",
    "        clean_text = doc['text'].strip().replace(\"\\n\", \" \").replace(\"\\r\", \" \").replace(\"\\t\", \" \")\n",
    "        writer.writerow([i, clean_text])  # i is the numeric ID, clean_text is the doc text\n",
    "\n",
    "with open(\"queries.tsv\", \"w\", newline=\"\", encoding=\"utf-8\") as f:\n",
    "    writer = csv.writer(f, delimiter=\"\\t\", quoting=csv.QUOTE_MINIMAL)\n",
    "    for i, (query_id, query_str) in enumerate(queries.items()):\n",
    "        # query_str is already the text of the query (not a dict).\n",
    "        clean_text = query_str.strip().replace(\"\\n\", \" \").replace(\"\\r\", \" \").replace(\"\\t\", \" \")\n",
    "        writer.writerow([i, clean_text])  # i is a numeric ID, clean_text is the query text\n",
    "\n",
    "\n",
    "def convert_doc_id(doc_id):\n",
    "    \"\"\"\n",
    "    Convert a corpus document ID from the format 'dXX...' (e.g., 'd01') \n",
    "    to a numeric index (0-indexed).\n",
    "    \"\"\"\n",
    "    return int(doc_id[1:]) - 1\n",
    "\n",
    "def convert_query_id(query_id):\n",
    "    \"\"\"\n",
    "    Convert a query ID from the format 'qYYYYY' (e.g., 'q20105') \n",
    "    to a numeric index (0-indexed), subtracting 20105.\n",
    "    \"\"\"\n",
    "    return int(query_id[1:]) - 20105\n",
    "\n",
    "with open(\"qrels.tsv\", \"w\", newline=\"\", encoding=\"utf-8\") as f:\n",
    "    writer = csv.writer(f, delimiter=\"\\t\", quoting=csv.QUOTE_MINIMAL)\n",
    "    # TREC format: query_index, 0, doc_index, relevance\n",
    "    for query_id, doc_dict in qrels.items():\n",
    "        new_query_index = convert_query_id(query_id)\n",
    "        for doc_id, relevance in doc_dict.items():\n",
    "            new_doc_index = convert_doc_id(doc_id)\n",
    "            writer.writerow([new_query_index, \"0\", new_doc_index, relevance])\n",
    "\n",
    "print(\"qrels.tsv created!\")\n",
    "\n",
    "tsv_output = \"collection.tsv\"\n",
    "\n",
    "\n"
   ]
  },
  {
   "cell_type": "code",
   "execution_count": 8,
   "id": "9925781c",
   "metadata": {},
   "outputs": [
    {
     "name": "stdout",
     "output_type": "stream",
     "text": [
      "\n",
      "\n",
      "[Apr 02, 19:36:15] #> Creating directory /work/pi_wenlongzhao_umass_edu/27/atifabedeen/pipeline/coir_main/experiments/cosqa_experiment_baseline/indexes/cosqa_index_baseline \n",
      "\n",
      "\n",
      "#> Starting...\n",
      "nranks = 1 \t num_gpus = 1 \t device=0\n",
      "{\n",
      "    \"query_token_id\": \"[unused0]\",\n",
      "    \"doc_token_id\": \"[unused1]\",\n",
      "    \"query_token\": \"[Q]\",\n",
      "    \"doc_token\": \"[D]\",\n",
      "    \"ncells\": null,\n",
      "    \"centroid_score_threshold\": null,\n",
      "    \"ndocs\": null,\n",
      "    \"load_index_with_mmap\": false,\n",
      "    \"index_path\": null,\n",
      "    \"index_bsize\": 64,\n",
      "    \"nbits\": 1,\n",
      "    \"kmeans_niters\": 20,\n",
      "    \"resume\": false,\n",
      "    \"pool_factor\": 1,\n",
      "    \"clustering_mode\": \"hierarchical\",\n",
      "    \"protected_tokens\": 0,\n",
      "    \"similarity\": \"cosine\",\n",
      "    \"bsize\": 64,\n",
      "    \"accumsteps\": 1,\n",
      "    \"lr\": 1e-5,\n",
      "    \"maxsteps\": 400000,\n",
      "    \"save_every\": null,\n",
      "    \"warmup\": 20000,\n",
      "    \"warmup_bert\": null,\n",
      "    \"relu\": false,\n",
      "    \"nway\": 64,\n",
      "    \"use_ib_negatives\": true,\n",
      "    \"reranker\": false,\n",
      "    \"distillation_alpha\": 1.0,\n",
      "    \"ignore_scores\": false,\n",
      "    \"model_name\": null,\n",
      "    \"query_maxlen\": 32,\n",
      "    \"attend_to_mask_tokens\": false,\n",
      "    \"interaction\": \"colbert\",\n",
      "    \"dim\": 128,\n",
      "    \"doc_maxlen\": 180,\n",
      "    \"mask_punctuation\": true,\n",
      "    \"checkpoint\": \"\\/work\\/pi_wenlongzhao_umass_edu\\/27\\/atifabedeen\\/models\\/colbertv2.0\",\n",
      "    \"triples\": \"\\/future\\/u\\/okhattab\\/root\\/unit\\/experiments\\/2021.10\\/downstream.distillation.round2.2_score\\/round2.nway6.cosine.ib\\/examples.64.json\",\n",
      "    \"collection\": \"collection.tsv\",\n",
      "    \"queries\": \"\\/future\\/u\\/okhattab\\/data\\/MSMARCO\\/queries.train.tsv\",\n",
      "    \"index_name\": \"cosqa_index_baseline\",\n",
      "    \"overwrite\": false,\n",
      "    \"root\": \"\\/work\\/pi_wenlongzhao_umass_edu\\/27\\/atifabedeen\\/pipeline\\/coir_main\\/experiments\",\n",
      "    \"experiment\": \"cosqa_experiment_baseline\",\n",
      "    \"index_root\": null,\n",
      "    \"name\": \"2025-04\\/02\\/19.35.25\",\n",
      "    \"rank\": 0,\n",
      "    \"nranks\": 1,\n",
      "    \"amp\": true,\n",
      "    \"gpus\": 1,\n",
      "    \"avoid_fork_if_possible\": false\n",
      "}\n",
      "[Apr 02, 19:36:20] #> Loading collection...\n",
      "0M \n",
      "[Apr 02, 19:36:23] [0] \t\t # of sampled PIDs = 20604 \t sampled_pids[:3] = [13651, 333, 9785]\n",
      "[Apr 02, 19:36:23] [0] \t\t #> Encoding 20604 passages..\n",
      "[Apr 02, 19:36:53] [0] \t\t avg_doclen_est = 50.35396194458008 \t len(local_sample) = 20,604\n",
      "[Apr 02, 19:36:53] [0] \t\t Creating 8,192 partitions.\n",
      "[Apr 02, 19:36:53] [0] \t\t *Estimated* 1,037,493 embeddings.\n",
      "[Apr 02, 19:36:53] [0] \t\t #> Saving the indexing plan to /work/pi_wenlongzhao_umass_edu/27/atifabedeen/pipeline/coir_main/experiments/cosqa_experiment_baseline/indexes/cosqa_index_baseline/plan.json ..\n",
      "Clustering 987493 points in 128D to 8192 clusters, redo 1 times, 20 iterations\n",
      "  Preprocessing in 0.08 s\n",
      "  Iteration 19 (9.84 s, search 8.31 s): objective=144390 imbalance=1.549 nsplit=0        \n",
      "[Apr 02, 19:37:05] Loading decompress_residuals_cpp extension (set COLBERT_LOAD_TORCH_EXTENSION_VERBOSE=True for more info)...\n",
      "[Apr 02, 19:37:06] Loading packbits_cpp extension (set COLBERT_LOAD_TORCH_EXTENSION_VERBOSE=True for more info)...\n",
      "[0.026, 0.026, 0.027, 0.023, 0.023, 0.026, 0.025, 0.025, 0.025, 0.026, 0.025, 0.026, 0.025, 0.026, 0.026, 0.028, 0.024, 0.025, 0.025, 0.025, 0.027, 0.026, 0.025, 0.026, 0.025, 0.026, 0.026, 0.025, 0.025, 0.026, 0.024, 0.028, 0.026, 0.024, 0.025, 0.024, 0.028, 0.025, 0.024, 0.03, 0.028, 0.026, 0.027, 0.028, 0.024, 0.024, 0.024, 0.029, 0.028, 0.027, 0.026, 0.024, 0.025, 0.027, 0.025, 0.027, 0.029, 0.026, 0.028, 0.024, 0.026, 0.026, 0.025, 0.027, 0.026, 0.028, 0.026, 0.025, 0.025, 0.025, 0.028, 0.025, 0.025, 0.026, 0.025, 0.026, 0.026, 0.026, 0.026, 0.028, 0.027, 0.027, 0.026, 0.026, 0.024, 0.026, 0.025, 0.025, 0.024, 0.029, 0.026, 0.027, 0.024, 0.029, 0.025, 0.025, 0.028, 0.025, 0.027, 0.025, 0.026, 0.027, 0.026, 0.026, 0.026, 0.024, 0.025, 0.025, 0.027, 0.024, 0.027, 0.028, 0.026, 0.025, 0.026, 0.025, 0.026, 0.027, 0.025, 0.027, 0.023, 0.025, 0.025, 0.027, 0.025, 0.028, 0.025, 0.026]\n",
      "[Apr 02, 19:37:06] #> Got bucket_cutoffs_quantiles = tensor([0.5000], device='cuda:0') and bucket_weights_quantiles = tensor([0.2500, 0.7500], device='cuda:0')\n",
      "[Apr 02, 19:37:06] #> Got bucket_cutoffs = tensor([-0.0001], device='cuda:0') and bucket_weights = tensor([-0.0194,  0.0191], device='cuda:0')\n",
      "[Apr 02, 19:37:06] avg_residual = 0.025848388671875\n",
      "[Apr 02, 19:37:06] [0] \t\t #> Encoding 20604 passages..\n"
     ]
    },
    {
     "name": "stderr",
     "output_type": "stream",
     "text": [
      "0it [00:00, ?it/s]"
     ]
    },
    {
     "name": "stdout",
     "output_type": "stream",
     "text": [
      "[Apr 02, 19:37:34] [0] \t\t #> Saving chunk 0: \t 20,604 passages and 1,037,493 embeddings. From #0 onward.\n"
     ]
    },
    {
     "name": "stderr",
     "output_type": "stream",
     "text": [
      "1it [00:28, 28.48s/it]\n",
      "100%|██████████| 1/1 [00:00<00:00, 290.52it/s]\n"
     ]
    },
    {
     "name": "stdout",
     "output_type": "stream",
     "text": [
      "[Apr 02, 19:37:35] [0] \t\t #> Checking all files were saved...\n",
      "[Apr 02, 19:37:35] [0] \t\t Found all files!\n",
      "[Apr 02, 19:37:35] [0] \t\t #> Building IVF...\n",
      "[Apr 02, 19:37:35] [0] \t\t #> Loading codes...\n",
      "[Apr 02, 19:37:35] [0] \t\t Sorting codes...\n",
      "[Apr 02, 19:37:35] [0] \t\t Getting unique codes...\n",
      "[Apr 02, 19:37:35] #> Optimizing IVF to store map from centroids to list of pids..\n",
      "[Apr 02, 19:37:35] #> Building the emb2pid mapping..\n",
      "[Apr 02, 19:37:35] len(emb2pid) = 1037493\n"
     ]
    },
    {
     "name": "stderr",
     "output_type": "stream",
     "text": [
      "100%|██████████| 8192/8192 [00:00<00:00, 52490.71it/s]\n"
     ]
    },
    {
     "name": "stdout",
     "output_type": "stream",
     "text": [
      "[Apr 02, 19:37:35] #> Saved optimized IVF to /work/pi_wenlongzhao_umass_edu/27/atifabedeen/pipeline/coir_main/experiments/cosqa_experiment_baseline/indexes/cosqa_index_baseline/ivf.pid.pt\n",
      "[Apr 02, 19:37:35] [0] \t\t #> Saving the indexing metadata to /work/pi_wenlongzhao_umass_edu/27/atifabedeen/pipeline/coir_main/experiments/cosqa_experiment_baseline/indexes/cosqa_index_baseline/metadata.json ..\n",
      "#> Joined...\n",
      "Indexing complete.\n"
     ]
    }
   ],
   "source": [
    "checkpoint_path = \"/work/pi_wenlongzhao_umass_edu/27/atifabedeen/models/colbertv2.0\"\n",
    "experiment_root = \"experiments\"           \n",
    "# Indexing the collection\n",
    "with Run().context(RunConfig(nranks=1, experiment=\"cosqa_experiment_baseline\")):\n",
    "    config = ColBERTConfig(\n",
    "        root=experiment_root,\n",
    "        # You can set other hyperparameters here if needed.\n",
    "    )\n",
    "    indexer = Indexer(checkpoint=checkpoint_path, config=config)\n",
    "    indexer.index(name=\"cosqa_index_baseline\", collection=tsv_output)\n",
    "    \n",
    "print(\"Indexing complete.\")"
   ]
  },
  {
   "cell_type": "code",
   "execution_count": 10,
   "id": "41877380",
   "metadata": {},
   "outputs": [
    {
     "name": "stdout",
     "output_type": "stream",
     "text": [
      "[Apr 02, 19:40:48] #> Loading collection...\n",
      "0M \n",
      "[Apr 02, 19:40:51] #> Loading codec...\n",
      "[Apr 02, 19:40:51] Loading decompress_residuals_cpp extension (set COLBERT_LOAD_TORCH_EXTENSION_VERBOSE=True for more info)...\n",
      "[Apr 02, 19:40:51] Loading packbits_cpp extension (set COLBERT_LOAD_TORCH_EXTENSION_VERBOSE=True for more info)...\n",
      "[Apr 02, 19:40:52] #> Loading IVF...\n",
      "[Apr 02, 19:40:52] #> Loading doclens...\n"
     ]
    },
    {
     "name": "stderr",
     "output_type": "stream",
     "text": [
      "100%|██████████| 1/1 [00:00<00:00, 698.58it/s]"
     ]
    },
    {
     "name": "stdout",
     "output_type": "stream",
     "text": [
      "[Apr 02, 19:40:52] #> Loading codes and residuals...\n"
     ]
    },
    {
     "name": "stderr",
     "output_type": "stream",
     "text": [
      "\n",
      "100%|██████████| 1/1 [00:00<00:00, 17.14it/s]"
     ]
    },
    {
     "name": "stdout",
     "output_type": "stream",
     "text": [
      "[Apr 02, 19:40:52] #> Loading the queries from /work/pi_wenlongzhao_umass_edu/27/atifabedeen/pipeline/coir_main/queries.tsv ...\n",
      "[Apr 02, 19:40:52] #> Got 500 queries. All QIDs are unique.\n",
      "\n"
     ]
    },
    {
     "name": "stderr",
     "output_type": "stream",
     "text": [
      "\n",
      "500it [00:08, 60.64it/s]\n"
     ]
    },
    {
     "name": "stdout",
     "output_type": "stream",
     "text": [
      "\n",
      "\n",
      "[Apr 02, 19:41:01] #> Creating directory /work/pi_wenlongzhao_umass_edu/27/atifabedeen/pipeline/coir_main/experiments/cosqa_experiment_baseline/none/2025-04/02/19.35.25 \n",
      "\n",
      "\n",
      "[Apr 02, 19:41:02] #> Saved ranking of 500 queries and 500000 lines to /work/pi_wenlongzhao_umass_edu/27/atifabedeen/pipeline/coir_main/experiments/cosqa_experiment_baseline/none/2025-04/02/19.35.25/cosqa_index.ranking.tsv\n",
      "Retrieval complete. Ranking results saved to 'cosqa_index.ranking.tsv'.\n"
     ]
    }
   ],
   "source": [
    "queries_tsv = \"/work/pi_wenlongzhao_umass_edu/27/atifabedeen/pipeline/coir_main/queries.tsv\" \n",
    "with Run().context(RunConfig(nranks=1, experiment=\"cosqa_experiment_baseline\")):\n",
    "    config = ColBERTConfig(root=experiment_root)\n",
    "    searcher = Searcher(index=\"cosqa_index_baseline\", config=config)\n",
    "    queries = Queries(queries_tsv)\n",
    "    \n",
    "    # Retrieve top-100 passages for each query.\n",
    "    ranking = searcher.search_all(queries, k=1000)\n",
    "    ranking.save(\"cosqa_index.ranking.tsv\")\n",
    "    \n",
    "print(\"Retrieval complete. Ranking results saved to 'cosqa_index.ranking.tsv'.\")"
   ]
  },
  {
   "cell_type": "code",
   "execution_count": 11,
   "id": "072f9b8c",
   "metadata": {},
   "outputs": [
    {
     "name": "stdout",
     "output_type": "stream",
     "text": [
      "500\n"
     ]
    }
   ],
   "source": [
    "task_results = {}\n",
    "\n",
    "with open(\"/work/pi_wenlongzhao_umass_edu/27/atifabedeen/pipeline/coir_main/experiments/cosqa_experiment_baseline/none/2025-04/02/19.35.25/cosqa_index.ranking.tsv\", \"r\") as f:\n",
    "    for line in f:\n",
    "        parts = line.strip().split(\"\\t\")\n",
    "        if len(parts) < 3:\n",
    "            continue  # Skip malformed lines\n",
    "\n",
    "        query_id = int(parts[0]) + 20105\n",
    "        query_id = \"q\" + str(query_id)\n",
    "        doc_id = int(parts[1]) + 1\n",
    "        doc_id = \"d\" + str(doc_id)\n",
    "        \n",
    "        # Use the score if provided; otherwise, derive one from the rank (e.g., 1/rank)\n",
    "        if len(parts) >= 4 and parts[3]:\n",
    "            score = float(parts[3])\n",
    "        else:\n",
    "            rank = int(parts[2])\n",
    "            score = 1.0 / rank\n",
    "        \n",
    "        # Initialize the inner dictionary if necessary\n",
    "        if query_id not in task_results:\n",
    "            task_results[query_id] = {}\n",
    "        task_results[query_id][doc_id] = score\n",
    "\n",
    "print(len(task_results))\n"
   ]
  },
  {
   "cell_type": "code",
   "execution_count": null,
   "id": "12d92582",
   "metadata": {},
   "outputs": [],
   "source": [
    "import pickle\n",
    "with open(\"colbert_results.pkl\", \"wb\") as f:\n",
    "    pickle.dump(task_results, f)"
   ]
  },
  {
   "cell_type": "code",
   "execution_count": 12,
   "id": "0efb9b03-cfea-4608-9a17-40b75b036f39",
   "metadata": {},
   "outputs": [],
   "source": [
    "model_name = \"BAAI/bge-base-en\"\n",
    "model = YourCustomDEModel(model_name=model_name)"
   ]
  },
  {
   "cell_type": "code",
   "execution_count": 13,
   "id": "d4d236e3",
   "metadata": {},
   "outputs": [
    {
     "name": "stdout",
     "output_type": "stream",
     "text": [
      "{'COSQA': {'NDCG': {'NDCG@1': 0.06, 'NDCG@3': 0.11176, 'NDCG@5': 0.13689, 'NDCG@10': 0.17159, 'NDCG@100': 0.23302}, 'MAP': {'MAP@1': 0.06, 'MAP@3': 0.098, 'MAP@5': 0.1117, 'MAP@10': 0.12628, 'MAP@100': 0.13708}, 'Recall': {'Recall@1': 0.06, 'Recall@3': 0.152, 'Recall@5': 0.214, 'Recall@10': 0.32, 'Recall@100': 0.628}, 'Precision': {'P@1': 0.06, 'P@3': 0.05067, 'P@5': 0.0428, 'P@10': 0.032, 'P@100': 0.00628}}}\n"
     ]
    }
   ],
   "source": [
    "results = {}\n",
    "output_folder = \"/work/pi_wenlongzhao_umass_edu/27/atifabedeen/pipeline/coir_main/experiments/cosqa_experiment_granite_expl1/none/2025-04/02/19.02.01\"\n",
    "task_name = \"COSQA\"\n",
    "custom_model = DRES(model, batch_size=2)\n",
    "retriever = EvaluateRetrieval(custom_model, score_function=\"cos_sim\")\n",
    "output_file = os.path.join(output_folder, f\"{task_name}.json\")\n",
    "# Evaluate results\n",
    "ndcg, map, recall, precision = retriever.evaluate(qrels, task_results, [1,3,5,10,100])\n",
    "metrics = {\n",
    "    \"NDCG\": ndcg,\n",
    "    \"MAP\": map,\n",
    "    \"Recall\": recall,\n",
    "    \"Precision\": precision\n",
    "}\n",
    "\n",
    "# Save results\n",
    "os.makedirs(output_folder, exist_ok=True)\n",
    "with open(output_file, 'w') as json_file:\n",
    "    json.dump({\"metrics\": metrics}, json_file, indent=4)\n",
    "\n",
    "# logger.info(f\"Results for {task_name} saved to {output_folder}\")\n",
    "results[task_name] = metrics\n",
    "print(results)"
   ]
  },
  {
   "cell_type": "code",
   "execution_count": null,
   "id": "b03db9fc-b19e-48e8-a179-9c2c5292e6f9",
   "metadata": {},
   "outputs": [
    {
     "ename": "NameError",
     "evalue": "name 'tasks' is not defined",
     "output_type": "error",
     "traceback": [
      "\u001b[0;31m---------------------------------------------------------------------------\u001b[0m",
      "\u001b[0;31mNameError\u001b[0m                                 Traceback (most recent call last)",
      "Cell \u001b[0;32mIn[8], line 1\u001b[0m\n\u001b[0;32m----> 1\u001b[0m evaluation \u001b[38;5;241m=\u001b[39m COIR(tasks\u001b[38;5;241m=\u001b[39m\u001b[43mtasks\u001b[49m,batch_size\u001b[38;5;241m=\u001b[39m\u001b[38;5;241m2\u001b[39m)\n",
      "\u001b[0;31mNameError\u001b[0m: name 'tasks' is not defined"
     ]
    }
   ],
   "source": [
    "evaluation = COIR(tasks=tasks,batch_size=2)"
   ]
  },
  {
   "cell_type": "code",
   "execution_count": 17,
   "id": "70f1bf23-98e6-41b2-b41b-6095b9446b05",
   "metadata": {},
   "outputs": [
    {
     "name": "stdout",
     "output_type": "stream",
     "text": [
      "Results for cosqa already exist. Skipping task.\n",
      "{}\n"
     ]
    }
   ],
   "source": [
    "results = evaluation.run(model, output_folder=f\"results/{model_name}\")\n",
    "print(results)"
   ]
  }
 ],
 "metadata": {
  "kernelspec": {
   "display_name": "Python 3",
   "language": "python",
   "name": "python3"
  },
  "language_info": {
   "codemirror_mode": {
    "name": "ipython",
    "version": 3
   },
   "file_extension": ".py",
   "mimetype": "text/x-python",
   "name": "python",
   "nbconvert_exporter": "python",
   "pygments_lexer": "ipython3",
   "version": "3.8.20"
  }
 },
 "nbformat": 4,
 "nbformat_minor": 5
}
