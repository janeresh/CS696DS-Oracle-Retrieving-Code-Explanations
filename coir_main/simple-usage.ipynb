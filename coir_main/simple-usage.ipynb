{
 "cells": [
  {
   "cell_type": "markdown",
   "id": "ddca6d07-911d-47bb-a7fe-baaa271ad1d3",
   "metadata": {
    "tags": []
   },
   "source": [
    "### Imports"
   ]
  },
  {
   "cell_type": "code",
   "execution_count": 1,
   "id": "7a911296-c7d8-49fd-a1a9-41f5241de9f9",
   "metadata": {},
   "outputs": [
    {
     "name": "stdout",
     "output_type": "stream",
     "text": [
      "['/work/pi_wenlongzhao_umass_edu/27/atifabedeen/pipeline/coir_main', '/work/pi_wenlongzhao_umass_edu/27/vaishnavisha/envs/virtual-env/lib/python38.zip', '/work/pi_wenlongzhao_umass_edu/27/vaishnavisha/envs/virtual-env/lib/python3.8', '/work/pi_wenlongzhao_umass_edu/27/vaishnavisha/envs/virtual-env/lib/python3.8/lib-dynload', '', '/home/aabedeen_umass_edu/.local/lib/python3.8/site-packages', '/work/pi_wenlongzhao_umass_edu/27/vaishnavisha/envs/virtual-env/lib/python3.8/site-packages']\n"
     ]
    }
   ],
   "source": [
    "import sys\n",
    "#sys.path.insert(0, \"/work/pi_wenlongzhao_umass_edu/27/vaishnavisha/CS696DS-Oracle-Retrieving-Code-Explanations/coir-main\")\n",
    "#sys.path.remove(\"/work/pi_wenlongzhao_umass_edu/27/CS696DS-Oracle-Retrieving-Code-Explanations/coir-main\")\n",
    "\n",
    "print(sys.path)\n"
   ]
  },
  {
   "cell_type": "code",
   "execution_count": 2,
   "id": "a78e0cc7-5993-4636-987c-63ff8a77d156",
   "metadata": {},
   "outputs": [],
   "source": [
    "if 'coir' in sys.modules:\n",
    "    del sys.modules['coir']\n",
    "    print(\"success\")"
   ]
  },
  {
   "cell_type": "code",
   "execution_count": 3,
   "id": "9fd6b5e4-b2b9-4ba7-80c0-79f6c79b457a",
   "metadata": {},
   "outputs": [],
   "source": [
    "from coir.data_loader import get_tasks\n",
    "from coir.evaluation import COIR\n",
    "from coir.models import YourCustomDEModel\n",
    "import pandas as pd"
   ]
  },
  {
   "cell_type": "markdown",
   "id": "ecf03ad4-cf58-4bd6-baa0-168ba881ab59",
   "metadata": {
    "tags": []
   },
   "source": [
    "### getting the corpus & queries"
   ]
  },
  {
   "cell_type": "code",
   "execution_count": 8,
   "id": "aaa5fd6c-3dc8-4cb7-80da-e00b6eb2fbef",
   "metadata": {},
   "outputs": [
    {
     "data": {
      "application/vnd.jupyter.widget-view+json": {
       "model_id": "d237eda1c62d4f9f970725402a88404d",
       "version_major": 2,
       "version_minor": 0
      },
      "text/plain": [
       "0it [00:00, ?it/s]"
      ]
     },
     "metadata": {},
     "output_type": "display_data"
    }
   ],
   "source": [
    "tasks = get_tasks(tasks=[\"CodeSearchNet-python\"])"
   ]
  },
  {
   "cell_type": "code",
   "execution_count": 13,
   "id": "bdde2bc4-b1c0-40a9-8311-79a9aa78647d",
   "metadata": {},
   "outputs": [
    {
     "data": {
      "text/plain": [
       "280310"
      ]
     },
     "execution_count": 13,
     "metadata": {},
     "output_type": "execute_result"
    }
   ],
   "source": [
    "len(tasks['CodeSearchNet-python'][0])"
   ]
  },
  {
   "cell_type": "code",
   "execution_count": 5,
   "id": "73e42b01-fc59-4bd7-bd84-7ea243c8063c",
   "metadata": {},
   "outputs": [
    {
     "data": {
      "text/html": [
       "<div>\n",
       "<style scoped>\n",
       "    .dataframe tbody tr th:only-of-type {\n",
       "        vertical-align: middle;\n",
       "    }\n",
       "\n",
       "    .dataframe tbody tr th {\n",
       "        vertical-align: top;\n",
       "    }\n",
       "\n",
       "    .dataframe thead th {\n",
       "        text-align: right;\n",
       "    }\n",
       "</style>\n",
       "<table border=\"1\" class=\"dataframe\">\n",
       "  <thead>\n",
       "    <tr style=\"text-align: right;\">\n",
       "      <th></th>\n",
       "      <th>Unnamed: 0</th>\n",
       "      <th>query-id</th>\n",
       "      <th>doc</th>\n",
       "      <th>corpus-id</th>\n",
       "      <th>code</th>\n",
       "      <th>explanation_granite_1</th>\n",
       "      <th>explanation_granite_2</th>\n",
       "      <th>explanation_granite_3</th>\n",
       "      <th>explanation_granite_4</th>\n",
       "      <th>explanation_deepseek_1_cleaned</th>\n",
       "      <th>explanation_deepseek_2_cleaned</th>\n",
       "      <th>explanation_deepseek_3_cleaned</th>\n",
       "      <th>explanation_deepseek_4_cleaned</th>\n",
       "    </tr>\n",
       "  </thead>\n",
       "  <tbody>\n",
       "    <tr>\n",
       "      <th>0</th>\n",
       "      <td>0</td>\n",
       "      <td>q1</td>\n",
       "      <td>python code to write bool value 1</td>\n",
       "      <td>d1</td>\n",
       "      <td>def writeBoolean(self, n):\\n        \"\"\"\\n     ...</td>\n",
       "      <td>\\nThe provided code is a Python method named `...</td>\n",
       "      <td>\\n1. `def writeBoolean(self, n):` - This line ...</td>\n",
       "      <td>\\nThis code snippet is a function that writes ...</td>\n",
       "      <td>\\nThe code snippet provided is a method named ...</td>\n",
       "      <td>The doc string and code both write the boolean...</td>\n",
       "      <td>Alright, I need to break down this Python code...</td>\n",
       "      <td>The code snippet writes a boolean value to a s...</td>\n",
       "      <td>The code snippet defines a method called write...</td>\n",
       "    </tr>\n",
       "    <tr>\n",
       "      <th>1</th>\n",
       "      <td>1</td>\n",
       "      <td>q2</td>\n",
       "      <td>\"python how to manipulate clipboard\"</td>\n",
       "      <td>d2</td>\n",
       "      <td>def paste(xsel=False):\\n    \"\"\"Returns system ...</td>\n",
       "      <td>\\nThe provided Python code snippet defines a f...</td>\n",
       "      <td>\\n1. `def paste(xsel=False):` - This line defi...</td>\n",
       "      <td>\\nThis code snippet is a function in Python th...</td>\n",
       "      <td>\\nThe code snippet provided is a Python functi...</td>\n",
       "      <td>The paste function pastes data from the clipbo...</td>\n",
       "      <td>The code snippet begins by defining a function...</td>\n",
       "      <td>The code snippet is a function called paste th...</td>\n",
       "      <td>The code snippet defines a function called pas...</td>\n",
       "    </tr>\n",
       "    <tr>\n",
       "      <th>2</th>\n",
       "      <td>2</td>\n",
       "      <td>q3</td>\n",
       "      <td>python colored output to html</td>\n",
       "      <td>d3</td>\n",
       "      <td>def _format_json(data, theme):\\n    \"\"\"Pretty ...</td>\n",
       "      <td>\\nThis Python function, `_format_json`, takes ...</td>\n",
       "      <td>\\n1. `def _format_json(data, theme):` - This l...</td>\n",
       "      <td>\\nThis code snippet, named `_format_json`, is ...</td>\n",
       "      <td>\\n```python\\nimport json\\nimport sys\\nimport p...</td>\n",
       "      <td>The docstring explains that the function _form...</td>\n",
       "      <td>```pythondef _format_json(data, theme):    \"\"\"...</td>\n",
       "      <td>This code snippet is a function called _format...</td>\n",
       "      <td>To explain the code snippet in a way that can ...</td>\n",
       "    </tr>\n",
       "    <tr>\n",
       "      <th>3</th>\n",
       "      <td>3</td>\n",
       "      <td>q4</td>\n",
       "      <td>python \"create directory\" using \"relative path\"</td>\n",
       "      <td>d4</td>\n",
       "      <td>def create_path(path):\\n    \"\"\"Creates a absol...</td>\n",
       "      <td>\\nThe provided Python function, `create_path(p...</td>\n",
       "      <td>\\n1. The code snippet defines a function named...</td>\n",
       "      <td>\\nThis code snippet helps you create a new dir...</td>\n",
       "      <td>\\nThe provided code snippet is a Python functi...</td>\n",
       "      <td>The doc and code create an absolute path from ...</td>\n",
       "      <td>Okay, I need to explain this Python code snipp...</td>\n",
       "      <td>This code creates a file system where any path...</td>\n",
       "      <td>The code snippet defines a function called cre...</td>\n",
       "    </tr>\n",
       "    <tr>\n",
       "      <th>4</th>\n",
       "      <td>4</td>\n",
       "      <td>q5</td>\n",
       "      <td>python column of an array</td>\n",
       "      <td>d5</td>\n",
       "      <td>def _vector_or_scalar(x, type='row'):\\n    \"\"\"...</td>\n",
       "      <td>\\nThe provided Python code defines a function ...</td>\n",
       "      <td>\\nThis code snippet defines a function called ...</td>\n",
       "      <td>\\nThis code snippet is a function that convert...</td>\n",
       "      <td>\\nThe code snippet provided is a function defi...</td>\n",
       "      <td>The code checks if an object `x` is an array o...</td>\n",
       "      <td>Alright, so I've got this Python code snippet ...</td>\n",
       "      <td>The code snippet is a Python function called _...</td>\n",
       "      <td>Okay, I'm going to try to figure out how to ex...</td>\n",
       "    </tr>\n",
       "  </tbody>\n",
       "</table>\n",
       "</div>"
      ],
      "text/plain": [
       "   Unnamed: 0 query-id                                              doc  \\\n",
       "0           0       q1                python code to write bool value 1   \n",
       "1           1       q2             \"python how to manipulate clipboard\"   \n",
       "2           2       q3                    python colored output to html   \n",
       "3           3       q4  python \"create directory\" using \"relative path\"   \n",
       "4           4       q5                        python column of an array   \n",
       "\n",
       "  corpus-id                                               code  \\\n",
       "0        d1  def writeBoolean(self, n):\\n        \"\"\"\\n     ...   \n",
       "1        d2  def paste(xsel=False):\\n    \"\"\"Returns system ...   \n",
       "2        d3  def _format_json(data, theme):\\n    \"\"\"Pretty ...   \n",
       "3        d4  def create_path(path):\\n    \"\"\"Creates a absol...   \n",
       "4        d5  def _vector_or_scalar(x, type='row'):\\n    \"\"\"...   \n",
       "\n",
       "                               explanation_granite_1  \\\n",
       "0  \\nThe provided code is a Python method named `...   \n",
       "1  \\nThe provided Python code snippet defines a f...   \n",
       "2  \\nThis Python function, `_format_json`, takes ...   \n",
       "3  \\nThe provided Python function, `create_path(p...   \n",
       "4  \\nThe provided Python code defines a function ...   \n",
       "\n",
       "                               explanation_granite_2  \\\n",
       "0  \\n1. `def writeBoolean(self, n):` - This line ...   \n",
       "1  \\n1. `def paste(xsel=False):` - This line defi...   \n",
       "2  \\n1. `def _format_json(data, theme):` - This l...   \n",
       "3  \\n1. The code snippet defines a function named...   \n",
       "4  \\nThis code snippet defines a function called ...   \n",
       "\n",
       "                               explanation_granite_3  \\\n",
       "0  \\nThis code snippet is a function that writes ...   \n",
       "1  \\nThis code snippet is a function in Python th...   \n",
       "2  \\nThis code snippet, named `_format_json`, is ...   \n",
       "3  \\nThis code snippet helps you create a new dir...   \n",
       "4  \\nThis code snippet is a function that convert...   \n",
       "\n",
       "                               explanation_granite_4  \\\n",
       "0  \\nThe code snippet provided is a method named ...   \n",
       "1  \\nThe code snippet provided is a Python functi...   \n",
       "2  \\n```python\\nimport json\\nimport sys\\nimport p...   \n",
       "3  \\nThe provided code snippet is a Python functi...   \n",
       "4  \\nThe code snippet provided is a function defi...   \n",
       "\n",
       "                      explanation_deepseek_1_cleaned  \\\n",
       "0  The doc string and code both write the boolean...   \n",
       "1  The paste function pastes data from the clipbo...   \n",
       "2  The docstring explains that the function _form...   \n",
       "3  The doc and code create an absolute path from ...   \n",
       "4  The code checks if an object `x` is an array o...   \n",
       "\n",
       "                      explanation_deepseek_2_cleaned  \\\n",
       "0  Alright, I need to break down this Python code...   \n",
       "1  The code snippet begins by defining a function...   \n",
       "2  ```pythondef _format_json(data, theme):    \"\"\"...   \n",
       "3  Okay, I need to explain this Python code snipp...   \n",
       "4  Alright, so I've got this Python code snippet ...   \n",
       "\n",
       "                      explanation_deepseek_3_cleaned  \\\n",
       "0  The code snippet writes a boolean value to a s...   \n",
       "1  The code snippet is a function called paste th...   \n",
       "2  This code snippet is a function called _format...   \n",
       "3  This code creates a file system where any path...   \n",
       "4  The code snippet is a Python function called _...   \n",
       "\n",
       "                      explanation_deepseek_4_cleaned  \n",
       "0  The code snippet defines a method called write...  \n",
       "1  The code snippet defines a function called pas...  \n",
       "2  To explain the code snippet in a way that can ...  \n",
       "3  The code snippet defines a function called cre...  \n",
       "4  Okay, I'm going to try to figure out how to ex...  "
      ]
     },
     "execution_count": 5,
     "metadata": {},
     "output_type": "execute_result"
    }
   ],
   "source": [
    "#expl_path = '/work/pi_wenlongzhao_umass_edu/27/anamikaghosh/CoSQA_deepseek_exp.csv'\n",
    "expl_path = '/work/pi_wenlongzhao_umass_edu/27/anamikaghosh/CoSQA_explanations_query_code.csv'\n",
    "expl_df = pd.read_csv(expl_path)\n",
    "expl_df.rename(columns={\"query_id\": \"query-id\", \"corpus_id\": \"corpus-id\"}, inplace=True)\n",
    "expl_df.head()"
   ]
  },
  {
   "cell_type": "code",
   "execution_count": 7,
   "id": "bd242da4-3708-46ce-b3fc-2340f5a46e75",
   "metadata": {},
   "outputs": [],
   "source": [
    "# for col in expl_df.columns:\n",
    "#     nan_rows = expl_df[expl_df[col].isna()]\n",
    "#     if not nan_rows.empty:\n",
    "#         print(f\"Column: {col} - NaN Count: {nan_rows.shape[0]}\")\n",
    "#         #print(nan_rows)  # Print the rows with NaN values for this column\n",
    "#         print(\"-\" * 50)  # Separator for readability"
   ]
  },
  {
   "cell_type": "code",
   "execution_count": 8,
   "id": "e661e97b-0fd4-4a2f-9917-6a7b8be47dbf",
   "metadata": {},
   "outputs": [],
   "source": [
    "# expl_df.columns"
   ]
  },
  {
   "cell_type": "markdown",
   "id": "f6398b95-d0d8-4b0c-a1cc-de4b39f879bf",
   "metadata": {
    "tags": []
   },
   "source": [
    "### adding explanation to df"
   ]
  },
  {
   "cell_type": "markdown",
   "id": "e2c5a9ed-d399-4d7f-97f3-405fd7638cf1",
   "metadata": {
    "tags": []
   },
   "source": [
    "#### multiple explanations "
   ]
  },
  {
   "cell_type": "code",
   "execution_count": 8,
   "id": "5a5a73bd-1d80-46b7-9003-396539aa45b2",
   "metadata": {},
   "outputs": [
    {
     "name": "stdout",
     "output_type": "stream",
     "text": [
      "Total docs in expanded corpus: 82416\n",
      "Total qrels entries: 61812\n",
      "('d1_1', {'text': \"\\nThe provided code is a Python method named `writeBoolean` that writes a Boolean value to a stream. It takes one argument `n`, which is a Boolean value. If `n` is `False`, it sets the value of `t` to `TYPE_BOOL_FALSE`. Otherwise, it sets `t` to `TYPE_BOOL_TRUE`. Finally, it writes the value of `t` to the stream using the `write` method of the `self.stream` object. The doc string provides a brief description of the method's purpose and functionality.\", 'title': ''})\n",
      "('q1', {'d1_1': 1, 'd1_2': 1, 'd1_3': 1})\n"
     ]
    }
   ],
   "source": [
    "corpus, queries, qrels = tasks['cosqa']\n",
    "new_corpus = {}\n",
    "new_qrels = {}\n",
    "\n",
    "for _, row in expl_df.iterrows():\n",
    "    base_corpus_id = row['corpus-id']  # Existing base document ID (e.g., d1, d2, etc.)\n",
    "    query_id = row['query-id']         # Query ID (e.g., q1, q2, etc.)\n",
    "    \n",
    "    # Iterate over multiple explanations and create new corpus entries\n",
    "    for i in range(1, 4):  # Assuming 4 explanations per document\n",
    "        explanation_col = f'explanation_granite_{i}'\n",
    "        if explanation_col in row and row[explanation_col] and row[explanation_col].strip():\n",
    "            new_corpus_id = f\"{base_corpus_id}_{i}\"  # e.g., d1_1, d1_2, ...\n",
    "\n",
    "            # Store new document in corpus\n",
    "            new_corpus[new_corpus_id] = {\n",
    "                \"text\": row[explanation_col],\n",
    "                \"title\": \"\"\n",
    "            }\n",
    "\n",
    "            # Ensure the query is mapped to the new corpus ID\n",
    "            if query_id not in new_qrels:\n",
    "                new_qrels[query_id] = {}  # Initialize query entry if missing\n",
    "            \n",
    "            new_qrels[query_id][new_corpus_id] = 1  # Assign relevance score\n",
    "\n",
    "corpus.update(new_corpus)\n",
    "qrels.update(new_qrels)\n",
    "tasks['cosqa'] = (corpus, queries, qrels)\n",
    "\n",
    "print(f\"Total docs in expanded corpus: {len(corpus)}\")\n",
    "print(f\"Total qrels entries: {sum(len(v) for v in qrels.values())}\")\n",
    "\n",
    "# Print first few new corpus and qrel entries\n",
    "print(next(iter(new_corpus.items())))  # Print first new corpus entry\n",
    "print(next(iter(new_qrels.items())))  # Print first new qrel entry\n"
   ]
  },
  {
   "cell_type": "code",
   "execution_count": null,
   "id": "889cd8d9-d953-428e-a414-e65ef083bedd",
   "metadata": {},
   "outputs": [],
   "source": [
    "# corpus, queries, qrels = tasks['cosqa']\n",
    "# corpus_ids = sorted(corpus, key=lambda k: len(corpus[k].get(\"title\", \"\") + corpus[k].get(\"text\", \"\")), reverse=True)\n",
    "# corpus = [corpus[cid] for cid in corpus_ids]"
   ]
  },
  {
   "cell_type": "code",
   "execution_count": null,
   "id": "dc9a93e2-6b9d-4048-9e98-cdc8b8e4775d",
   "metadata": {},
   "outputs": [
    {
     "ename": "TypeError",
     "evalue": "string indices must be integers",
     "output_type": "error",
     "traceback": [
      "\u001b[0;31m---------------------------------------------------------------------------\u001b[0m",
      "\u001b[0;31mTypeError\u001b[0m                                 Traceback (most recent call last)",
      "Cell \u001b[0;32mIn[15], line 1\u001b[0m\n\u001b[0;32m----> 1\u001b[0m all_texts \u001b[38;5;241m=\u001b[39m [\u001b[38;5;124m\"\u001b[39m\u001b[38;5;124mpassage: \u001b[39m\u001b[38;5;124m\"\u001b[39m\u001b[38;5;241m+\u001b[39m doc[\u001b[38;5;124m'\u001b[39m\u001b[38;5;124mtext\u001b[39m\u001b[38;5;124m'\u001b[39m] \u001b[38;5;28;01mfor\u001b[39;00m doc \u001b[38;5;129;01min\u001b[39;00m corpus]\n\u001b[1;32m      2\u001b[0m \u001b[38;5;28mlen\u001b[39m(all_texts)\n",
      "Cell \u001b[0;32mIn[15], line 1\u001b[0m, in \u001b[0;36m<listcomp>\u001b[0;34m(.0)\u001b[0m\n\u001b[0;32m----> 1\u001b[0m all_texts \u001b[38;5;241m=\u001b[39m [\u001b[38;5;124m\"\u001b[39m\u001b[38;5;124mpassage: \u001b[39m\u001b[38;5;124m\"\u001b[39m\u001b[38;5;241m+\u001b[39m \u001b[43mdoc\u001b[49m\u001b[43m[\u001b[49m\u001b[38;5;124;43m'\u001b[39;49m\u001b[38;5;124;43mtext\u001b[39;49m\u001b[38;5;124;43m'\u001b[39;49m\u001b[43m]\u001b[49m \u001b[38;5;28;01mfor\u001b[39;00m doc \u001b[38;5;129;01min\u001b[39;00m corpus]\n\u001b[1;32m      2\u001b[0m \u001b[38;5;28mlen\u001b[39m(all_texts)\n",
      "\u001b[0;31mTypeError\u001b[0m: string indices must be integers"
     ]
    }
   ],
   "source": [
    "# all_texts = [\"passage: \"+ doc['text'] for doc in corpus]\n",
    "# len(all_texts)"
   ]
  },
  {
   "cell_type": "markdown",
   "id": "3403ceb3-2d81-4282-a89b-1a76c55fca6b",
   "metadata": {
    "tags": []
   },
   "source": [
    "#### single explanation"
   ]
  },
  {
   "cell_type": "code",
   "execution_count": 6,
   "id": "849b166e-2dc4-46cb-83ab-12314d8fb1cc",
   "metadata": {},
   "outputs": [
    {
     "name": "stdout",
     "output_type": "stream",
     "text": [
      "{'text': \"\\nThe provided code is a Python method named `writeBoolean` that writes a Boolean value to a stream. It takes one argument `n`, which is a Boolean value. If `n` is `False`, it sets the value of `t` to `TYPE_BOOL_FALSE`. Otherwise, it sets `t` to `TYPE_BOOL_TRUE`. Finally, it writes the value of `t` to the stream using the `write` method of the `self.stream` object. The doc string provides a brief description of the method's purpose and functionality.\", 'title': ''}\n",
      "Total docs in corpus after replacement: 20604\n",
      "Number of docs still missing 'text': 0\n"
     ]
    }
   ],
   "source": [
    "# # Unpack the tuple\n",
    "corpus, queries, qrels = tasks['cosqa']\n",
    "\n",
    "for _, row in expl_df.iterrows():\n",
    "    corpus_id = row['corpus-id']\n",
    "    explanation = row['explanation_granite_1']\n",
    "\n",
    "    if corpus_id in corpus and explanation and explanation.strip():\n",
    "        corpus[corpus_id]['text'] = explanation  \n",
    "\n",
    "corpus = {doc_id: doc for doc_id, doc in corpus.items() if 'text' in doc and doc['text'].strip()}\n",
    "print(corpus['d1'])\n",
    "tasks['cosqa'] = (corpus, queries, qrels)\n",
    "\n",
    "print(f\"Total docs in corpus after replacement: {len(tasks['cosqa'][0])}\")\n",
    "missing_text = sum(1 for doc in tasks['cosqa'][0].values() if not doc.get('text'))\n",
    "print(f\"Number of docs still missing 'text': {missing_text}\")\n"
   ]
  },
  {
   "cell_type": "code",
   "execution_count": 7,
   "id": "74fce90b-6a57-443b-a287-e57b456abb97",
   "metadata": {},
   "outputs": [
    {
     "name": "stdout",
     "output_type": "stream",
     "text": [
      "{'text': \"\\nThe provided code snippet is a Python function called `_unzip_handle` that takes a file handle as input and transparently unzips it. If the input is a string, it assumes it's a filename and opens it using `_gzip_open_filename`. If it's a handle, it opens it using `_gzip_open_handle`. The function then returns the unzipped handle. This function is useful for unzipping files in a transparent way, without the need to manually handle the unzipping process.\", 'title': ''}\n"
     ]
    }
   ],
   "source": [
    "print(corpus['d20604'])"
   ]
  },
  {
   "cell_type": "markdown",
   "id": "b955078a-838c-4b08-9439-5f27d2f9039a",
   "metadata": {},
   "source": [
    "### Running the pipeline"
   ]
  },
  {
   "cell_type": "code",
   "execution_count": 11,
   "id": "b03db9fc-b19e-48e8-a179-9c2c5292e6f9",
   "metadata": {},
   "outputs": [
    {
     "data": {
      "application/vnd.jupyter.widget-view+json": {
       "model_id": "f69f96cf0ef140a38aae7d16730c7f9b",
       "version_major": 2,
       "version_minor": 0
      },
      "text/plain": [
       "tokenizer_config.json:   0%|          | 0.00/314 [00:00<?, ?B/s]"
      ]
     },
     "metadata": {},
     "output_type": "display_data"
    },
    {
     "data": {
      "application/vnd.jupyter.widget-view+json": {
       "model_id": "e1e834b1c94846728058fd9c7fa35eae",
       "version_major": 2,
       "version_minor": 0
      },
      "text/plain": [
       "vocab.txt: 0.00B [00:00, ?B/s]"
      ]
     },
     "metadata": {},
     "output_type": "display_data"
    },
    {
     "data": {
      "application/vnd.jupyter.widget-view+json": {
       "model_id": "fa75a9afb9734880b2e2c63b35a12db7",
       "version_major": 2,
       "version_minor": 0
      },
      "text/plain": [
       "tokenizer.json: 0.00B [00:00, ?B/s]"
      ]
     },
     "metadata": {},
     "output_type": "display_data"
    },
    {
     "data": {
      "application/vnd.jupyter.widget-view+json": {
       "model_id": "760c2594c4e0488f82c09d64c12955b5",
       "version_major": 2,
       "version_minor": 0
      },
      "text/plain": [
       "special_tokens_map.json:   0%|          | 0.00/125 [00:00<?, ?B/s]"
      ]
     },
     "metadata": {},
     "output_type": "display_data"
    },
    {
     "data": {
      "application/vnd.jupyter.widget-view+json": {
       "model_id": "86a15d43e3eb43b9bc85baff0d2cd2a6",
       "version_major": 2,
       "version_minor": 0
      },
      "text/plain": [
       "config.json:   0%|          | 0.00/650 [00:00<?, ?B/s]"
      ]
     },
     "metadata": {},
     "output_type": "display_data"
    },
    {
     "data": {
      "application/vnd.jupyter.widget-view+json": {
       "model_id": "97e122e25aa24b7582d73be8933400de",
       "version_major": 2,
       "version_minor": 0
      },
      "text/plain": [
       "model.safetensors:   0%|          | 0.00/438M [00:00<?, ?B/s]"
      ]
     },
     "metadata": {},
     "output_type": "display_data"
    },
    {
     "data": {
      "application/vnd.jupyter.widget-view+json": {
       "model_id": "4a182e3996ab436fa03ef7f15985c4fa",
       "version_major": 2,
       "version_minor": 0
      },
      "text/plain": [
       "Encoding batches:   0%|          | 0/4 [00:00<?, ?batch/s]"
      ]
     },
     "metadata": {},
     "output_type": "display_data"
    },
    {
     "data": {
      "application/vnd.jupyter.widget-view+json": {
       "model_id": "5dca8e2e2a2842549f743f84b74c7abd",
       "version_major": 2,
       "version_minor": 0
      },
      "text/plain": [
       "Encoding batches:   0%|          | 0/161 [00:00<?, ?batch/s]"
      ]
     },
     "metadata": {},
     "output_type": "display_data"
    },
    {
     "name": "stdout",
     "output_type": "stream",
     "text": [
      "{'cosqa': {'NDCG': {'NDCG@1': 0.236, 'NDCG@3': 0.30438, 'NDCG@5': 0.34216, 'NDCG@10': 0.39245, 'NDCG@100': 0.46143, 'NDCG@1000': 0.47045}, 'MAP': {'MAP@1': 0.236, 'MAP@3': 0.28667, 'MAP@5': 0.30757, 'MAP@10': 0.32786, 'MAP@100': 0.34246, 'MAP@1000': 0.34282}, 'Recall': {'Recall@1': 0.236, 'Recall@3': 0.356, 'Recall@5': 0.448, 'Recall@10': 0.606, 'Recall@100': 0.922, 'Recall@1000': 0.992}, 'Precision': {'P@1': 0.236, 'P@3': 0.11867, 'P@5': 0.0896, 'P@10': 0.0606, 'P@100': 0.00922, 'P@1000': 0.00099}}}\n"
     ]
    }
   ],
   "source": [
    "model_name = \"intfloat/e5-base-v2\"\n",
    "model = YourCustomDEModel(model_name=model_name)\n",
    "\n",
    "evaluation = COIR(tasks=tasks,batch_size=128)\n",
    "\n",
    "results = evaluation.run(model, output_folder=f\"results/{model_name}_GRANITE_EXPL_1\")\n",
    "print(results)"
   ]
  },
  {
   "cell_type": "code",
   "execution_count": 9,
   "id": "ba7e8c05-b966-4c91-b5af-6a12dc319484",
   "metadata": {},
   "outputs": [
    {
     "data": {
      "application/vnd.jupyter.widget-view+json": {
       "model_id": "ebeb55c24a434f74ad3a3913d5fffa78",
       "version_major": 2,
       "version_minor": 0
      },
      "text/plain": [
       "Encoding batches:   0%|          | 0/4 [00:00<?, ?batch/s]"
      ]
     },
     "metadata": {},
     "output_type": "display_data"
    },
    {
     "data": {
      "application/vnd.jupyter.widget-view+json": {
       "model_id": "a51c43374d98496cb3c7a19df196498d",
       "version_major": 2,
       "version_minor": 0
      },
      "text/plain": [
       "Encoding batches:   0%|          | 0/391 [00:00<?, ?batch/s]"
      ]
     },
     "metadata": {},
     "output_type": "display_data"
    },
    {
     "data": {
      "application/vnd.jupyter.widget-view+json": {
       "model_id": "4096fe0cd36e4e7bac236e561902a1af",
       "version_major": 2,
       "version_minor": 0
      },
      "text/plain": [
       "Encoding batches:   0%|          | 0/254 [00:00<?, ?batch/s]"
      ]
     },
     "metadata": {},
     "output_type": "display_data"
    },
    {
     "name": "stdout",
     "output_type": "stream",
     "text": [
      "Results for BAAI/bge-base-en: {'cosqa': {'NDCG': {'NDCG@1': 0.036, 'NDCG@3': 0.04745, 'NDCG@5': 0.06309, 'NDCG@10': 0.08603, 'NDCG@100': 0.19709, 'NDCG@1000': 0.26269}, 'MAP': {'MAP@1': 0.012, 'MAP@3': 0.03233, 'MAP@5': 0.04503, 'MAP@10': 0.05464, 'MAP@100': 0.07881, 'MAP@1000': 0.08239}, 'Recall': {'Recall@1': 0.012, 'Recall@3': 0.05, 'Recall@5': 0.07667, 'Recall@10': 0.128, 'Recall@100': 0.52533, 'Recall@1000': 0.89667}, 'Precision': {'P@1': 0.036, 'P@3': 0.05, 'P@5': 0.046, 'P@10': 0.0384, 'P@100': 0.01576, 'P@1000': 0.00269}}}\n"
     ]
    },
    {
     "data": {
      "application/vnd.jupyter.widget-view+json": {
       "model_id": "f12bae7312c4485f96a396e64d0f7901",
       "version_major": 2,
       "version_minor": 0
      },
      "text/plain": [
       "tokenizer_config.json:   0%|          | 0.00/314 [00:00<?, ?B/s]"
      ]
     },
     "metadata": {},
     "output_type": "display_data"
    },
    {
     "data": {
      "application/vnd.jupyter.widget-view+json": {
       "model_id": "3bda58514aca4e9ab7d5a7e1297d79ad",
       "version_major": 2,
       "version_minor": 0
      },
      "text/plain": [
       "vocab.txt:   0%|          | 0.00/232k [00:00<?, ?B/s]"
      ]
     },
     "metadata": {},
     "output_type": "display_data"
    },
    {
     "data": {
      "application/vnd.jupyter.widget-view+json": {
       "model_id": "0b5da50658244327a2f95f93f3f83063",
       "version_major": 2,
       "version_minor": 0
      },
      "text/plain": [
       "tokenizer.json:   0%|          | 0.00/711k [00:00<?, ?B/s]"
      ]
     },
     "metadata": {},
     "output_type": "display_data"
    },
    {
     "data": {
      "application/vnd.jupyter.widget-view+json": {
       "model_id": "0ab10d833a9b40769462b65a2d197e1c",
       "version_major": 2,
       "version_minor": 0
      },
      "text/plain": [
       "special_tokens_map.json:   0%|          | 0.00/125 [00:00<?, ?B/s]"
      ]
     },
     "metadata": {},
     "output_type": "display_data"
    },
    {
     "data": {
      "application/vnd.jupyter.widget-view+json": {
       "model_id": "b7641c11260f4729ba2e42a42027739d",
       "version_major": 2,
       "version_minor": 0
      },
      "text/plain": [
       "config.json:   0%|          | 0.00/650 [00:00<?, ?B/s]"
      ]
     },
     "metadata": {},
     "output_type": "display_data"
    },
    {
     "data": {
      "application/vnd.jupyter.widget-view+json": {
       "model_id": "f58c47ff4daa46c7a4a6ad2176c906f4",
       "version_major": 2,
       "version_minor": 0
      },
      "text/plain": [
       "model.safetensors:   0%|          | 0.00/438M [00:00<?, ?B/s]"
      ]
     },
     "metadata": {},
     "output_type": "display_data"
    },
    {
     "data": {
      "application/vnd.jupyter.widget-view+json": {
       "model_id": "34ca668a8898492897d95ad7a545c785",
       "version_major": 2,
       "version_minor": 0
      },
      "text/plain": [
       "Encoding batches:   0%|          | 0/4 [00:00<?, ?batch/s]"
      ]
     },
     "metadata": {},
     "output_type": "display_data"
    },
    {
     "data": {
      "application/vnd.jupyter.widget-view+json": {
       "model_id": "c376618a85ab43348ddc5ee67d5e5e0e",
       "version_major": 2,
       "version_minor": 0
      },
      "text/plain": [
       "Encoding batches:   0%|          | 0/391 [00:00<?, ?batch/s]"
      ]
     },
     "metadata": {},
     "output_type": "display_data"
    },
    {
     "data": {
      "application/vnd.jupyter.widget-view+json": {
       "model_id": "9c3c3be14d84405c965be016e32aeb02",
       "version_major": 2,
       "version_minor": 0
      },
      "text/plain": [
       "Encoding batches:   0%|          | 0/254 [00:00<?, ?batch/s]"
      ]
     },
     "metadata": {},
     "output_type": "display_data"
    },
    {
     "name": "stdout",
     "output_type": "stream",
     "text": [
      "Results for intfloat/e5-base-v2: {'cosqa': {'NDCG': {'NDCG@1': 0.232, 'NDCG@3': 0.18463, 'NDCG@5': 0.22005, 'NDCG@10': 0.26202, 'NDCG@100': 0.38776, 'NDCG@1000': 0.42432}, 'MAP': {'MAP@1': 0.07733, 'MAP@3': 0.13878, 'MAP@5': 0.16314, 'MAP@10': 0.18349, 'MAP@100': 0.21756, 'MAP@1000': 0.21998}, 'Recall': {'Recall@1': 0.07733, 'Recall@3': 0.17133, 'Recall@5': 0.232, 'Recall@10': 0.32533, 'Recall@100': 0.764, 'Recall@1000': 0.968}, 'Precision': {'P@1': 0.232, 'P@3': 0.17133, 'P@5': 0.1392, 'P@10': 0.0976, 'P@100': 0.02292, 'P@1000': 0.0029}}}\n"
     ]
    },
    {
     "data": {
      "application/vnd.jupyter.widget-view+json": {
       "model_id": "dc07579c52d049eca3921f154acc4ac5",
       "version_major": 2,
       "version_minor": 0
      },
      "text/plain": [
       "tokenizer_config.json:   0%|          | 0.00/350 [00:00<?, ?B/s]"
      ]
     },
     "metadata": {},
     "output_type": "display_data"
    },
    {
     "data": {
      "application/vnd.jupyter.widget-view+json": {
       "model_id": "064a15ecaa344d52a467cd3e76af0263",
       "version_major": 2,
       "version_minor": 0
      },
      "text/plain": [
       "vocab.txt:   0%|          | 0.00/232k [00:00<?, ?B/s]"
      ]
     },
     "metadata": {},
     "output_type": "display_data"
    },
    {
     "data": {
      "application/vnd.jupyter.widget-view+json": {
       "model_id": "b1fd2fc3616d435f928528602022e65d",
       "version_major": 2,
       "version_minor": 0
      },
      "text/plain": [
       "tokenizer.json:   0%|          | 0.00/466k [00:00<?, ?B/s]"
      ]
     },
     "metadata": {},
     "output_type": "display_data"
    },
    {
     "data": {
      "application/vnd.jupyter.widget-view+json": {
       "model_id": "ed4c8ca2d4c44c02b6ae77b8b9f8a645",
       "version_major": 2,
       "version_minor": 0
      },
      "text/plain": [
       "special_tokens_map.json:   0%|          | 0.00/112 [00:00<?, ?B/s]"
      ]
     },
     "metadata": {},
     "output_type": "display_data"
    },
    {
     "data": {
      "application/vnd.jupyter.widget-view+json": {
       "model_id": "10182a5c2b994f95a907ab1095f241d1",
       "version_major": 2,
       "version_minor": 0
      },
      "text/plain": [
       "config.json:   0%|          | 0.00/612 [00:00<?, ?B/s]"
      ]
     },
     "metadata": {},
     "output_type": "display_data"
    },
    {
     "data": {
      "application/vnd.jupyter.widget-view+json": {
       "model_id": "65ef2891795c4c63a7217fa548de9eee",
       "version_major": 2,
       "version_minor": 0
      },
      "text/plain": [
       "model.safetensors:   0%|          | 0.00/90.9M [00:00<?, ?B/s]"
      ]
     },
     "metadata": {},
     "output_type": "display_data"
    },
    {
     "data": {
      "application/vnd.jupyter.widget-view+json": {
       "model_id": "095f105c775e44ffbd772bd259ae55a7",
       "version_major": 2,
       "version_minor": 0
      },
      "text/plain": [
       "Encoding batches:   0%|          | 0/4 [00:00<?, ?batch/s]"
      ]
     },
     "metadata": {},
     "output_type": "display_data"
    },
    {
     "data": {
      "application/vnd.jupyter.widget-view+json": {
       "model_id": "82d440a545884ad3ac29e7d1d6bc9be4",
       "version_major": 2,
       "version_minor": 0
      },
      "text/plain": [
       "Encoding batches:   0%|          | 0/391 [00:00<?, ?batch/s]"
      ]
     },
     "metadata": {},
     "output_type": "display_data"
    },
    {
     "data": {
      "application/vnd.jupyter.widget-view+json": {
       "model_id": "851baf2875e64eddac7e517e5339a98c",
       "version_major": 2,
       "version_minor": 0
      },
      "text/plain": [
       "Encoding batches:   0%|          | 0/254 [00:00<?, ?batch/s]"
      ]
     },
     "metadata": {},
     "output_type": "display_data"
    },
    {
     "name": "stdout",
     "output_type": "stream",
     "text": [
      "Results for sentence-transformers/all-MiniLM-L6-v2: {'cosqa': {'NDCG': {'NDCG@1': 0.116, 'NDCG@3': 0.09139, 'NDCG@5': 0.11174, 'NDCG@10': 0.13539, 'NDCG@100': 0.2422, 'NDCG@1000': 0.30085}, 'MAP': {'MAP@1': 0.03867, 'MAP@3': 0.06467, 'MAP@5': 0.07663, 'MAP@10': 0.08773, 'MAP@100': 0.11051, 'MAP@1000': 0.11381}, 'Recall': {'Recall@1': 0.03867, 'Recall@3': 0.084, 'Recall@5': 0.11933, 'Recall@10': 0.17133, 'Recall@100': 0.55533, 'Recall@1000': 0.88867}, 'Precision': {'P@1': 0.116, 'P@3': 0.084, 'P@5': 0.0716, 'P@10': 0.0514, 'P@100': 0.01666, 'P@1000': 0.00267}}}\n"
     ]
    },
    {
     "data": {
      "application/vnd.jupyter.widget-view+json": {
       "model_id": "fd4f28a5d07f41eeb3f2fa3b3f7b61aa",
       "version_major": 2,
       "version_minor": 0
      },
      "text/plain": [
       "tokenizer_config.json:   0%|          | 0.00/1.11k [00:00<?, ?B/s]"
      ]
     },
     "metadata": {},
     "output_type": "display_data"
    },
    {
     "data": {
      "application/vnd.jupyter.widget-view+json": {
       "model_id": "0fff8ba7fe284941a1e59ae91d62ccbb",
       "version_major": 2,
       "version_minor": 0
      },
      "text/plain": [
       "vocab.json:   0%|          | 0.00/938k [00:00<?, ?B/s]"
      ]
     },
     "metadata": {},
     "output_type": "display_data"
    },
    {
     "data": {
      "application/vnd.jupyter.widget-view+json": {
       "model_id": "edd87507bf5c4bbe8429eae705243f50",
       "version_major": 2,
       "version_minor": 0
      },
      "text/plain": [
       "merges.txt:   0%|          | 0.00/444k [00:00<?, ?B/s]"
      ]
     },
     "metadata": {},
     "output_type": "display_data"
    },
    {
     "data": {
      "application/vnd.jupyter.widget-view+json": {
       "model_id": "61ffb5c9a86b4e7384223a4f2955df23",
       "version_major": 2,
       "version_minor": 0
      },
      "text/plain": [
       "special_tokens_map.json:   0%|          | 0.00/772 [00:00<?, ?B/s]"
      ]
     },
     "metadata": {},
     "output_type": "display_data"
    },
    {
     "data": {
      "application/vnd.jupyter.widget-view+json": {
       "model_id": "babdc904452d428fa1bebea134a55a86",
       "version_major": 2,
       "version_minor": 0
      },
      "text/plain": [
       "config.json:   0%|          | 0.00/691 [00:00<?, ?B/s]"
      ]
     },
     "metadata": {},
     "output_type": "display_data"
    },
    {
     "data": {
      "application/vnd.jupyter.widget-view+json": {
       "model_id": "debb953b8d1a4eaeaab0f546f6d75f4d",
       "version_major": 2,
       "version_minor": 0
      },
      "text/plain": [
       "pytorch_model.bin:   0%|          | 0.00/504M [00:00<?, ?B/s]"
      ]
     },
     "metadata": {},
     "output_type": "display_data"
    },
    {
     "name": "stderr",
     "output_type": "stream",
     "text": [
      "Error during conversion: ChunkedEncodingError(ProtocolError('Response ended prematurely'))\n"
     ]
    },
    {
     "data": {
      "application/vnd.jupyter.widget-view+json": {
       "model_id": "afef910a2fd0445783fee00ec0889b5e",
       "version_major": 2,
       "version_minor": 0
      },
      "text/plain": [
       "model.safetensors:   0%|          | 0.00/504M [00:00<?, ?B/s]"
      ]
     },
     "metadata": {},
     "output_type": "display_data"
    },
    {
     "data": {
      "application/vnd.jupyter.widget-view+json": {
       "model_id": "cce61cb17d2c459dad51d285ac45d702",
       "version_major": 2,
       "version_minor": 0
      },
      "text/plain": [
       "Encoding batches:   0%|          | 0/4 [00:00<?, ?batch/s]"
      ]
     },
     "metadata": {},
     "output_type": "display_data"
    },
    {
     "data": {
      "application/vnd.jupyter.widget-view+json": {
       "model_id": "c98a9c45d1374480bf3c9e3e25f68340",
       "version_major": 2,
       "version_minor": 0
      },
      "text/plain": [
       "Encoding batches:   0%|          | 0/391 [00:00<?, ?batch/s]"
      ]
     },
     "metadata": {},
     "output_type": "display_data"
    },
    {
     "data": {
      "application/vnd.jupyter.widget-view+json": {
       "model_id": "07d9fb5043e94dabadaed53a58d5ef5b",
       "version_major": 2,
       "version_minor": 0
      },
      "text/plain": [
       "Encoding batches:   0%|          | 0/254 [00:00<?, ?batch/s]"
      ]
     },
     "metadata": {},
     "output_type": "display_data"
    },
    {
     "name": "stdout",
     "output_type": "stream",
     "text": [
      "Results for microsoft/unixcoder-base: {'cosqa': {'NDCG': {'NDCG@1': 0.088, 'NDCG@3': 0.07069, 'NDCG@5': 0.08552, 'NDCG@10': 0.10667, 'NDCG@100': 0.20791, 'NDCG@1000': 0.26523}, 'MAP': {'MAP@1': 0.02933, 'MAP@3': 0.04956, 'MAP@5': 0.05922, 'MAP@10': 0.06763, 'MAP@100': 0.0891, 'MAP@1000': 0.09222}, 'Recall': {'Recall@1': 0.02933, 'Recall@3': 0.06533, 'Recall@5': 0.09067, 'Recall@10': 0.13733, 'Recall@100': 0.5, 'Recall@1000': 0.82733}, 'Precision': {'P@1': 0.088, 'P@3': 0.06533, 'P@5': 0.0544, 'P@10': 0.0412, 'P@100': 0.015, 'P@1000': 0.00248}}}\n"
     ]
    },
    {
     "data": {
      "application/vnd.jupyter.widget-view+json": {
       "model_id": "ab83ee5639b24bf0b2e73ff948188752",
       "version_major": 2,
       "version_minor": 0
      },
      "text/plain": [
       "tokenizer_config.json:   0%|          | 0.00/1.33k [00:00<?, ?B/s]"
      ]
     },
     "metadata": {},
     "output_type": "display_data"
    },
    {
     "data": {
      "application/vnd.jupyter.widget-view+json": {
       "model_id": "45b3b70f00d04ea291f5a1dc2d1a24cf",
       "version_major": 2,
       "version_minor": 0
      },
      "text/plain": [
       "vocab.json:   0%|          | 0.00/2.78M [00:00<?, ?B/s]"
      ]
     },
     "metadata": {},
     "output_type": "display_data"
    },
    {
     "data": {
      "application/vnd.jupyter.widget-view+json": {
       "model_id": "41c5e805c81046b5b429b9917c610009",
       "version_major": 2,
       "version_minor": 0
      },
      "text/plain": [
       "merges.txt:   0%|          | 0.00/1.67M [00:00<?, ?B/s]"
      ]
     },
     "metadata": {},
     "output_type": "display_data"
    },
    {
     "data": {
      "application/vnd.jupyter.widget-view+json": {
       "model_id": "aa8ea54938f24c94b62a23c740398b33",
       "version_major": 2,
       "version_minor": 0
      },
      "text/plain": [
       "tokenizer.json:   0%|          | 0.00/7.03M [00:00<?, ?B/s]"
      ]
     },
     "metadata": {},
     "output_type": "display_data"
    },
    {
     "data": {
      "application/vnd.jupyter.widget-view+json": {
       "model_id": "fd3db6eb8d9240cd9d2f2cea3bee3eb6",
       "version_major": 2,
       "version_minor": 0
      },
      "text/plain": [
       "added_tokens.json:   0%|          | 0.00/80.0 [00:00<?, ?B/s]"
      ]
     },
     "metadata": {},
     "output_type": "display_data"
    },
    {
     "data": {
      "application/vnd.jupyter.widget-view+json": {
       "model_id": "923dc734bf3a4bb69da664f837b310aa",
       "version_major": 2,
       "version_minor": 0
      },
      "text/plain": [
       "special_tokens_map.json:   0%|          | 0.00/370 [00:00<?, ?B/s]"
      ]
     },
     "metadata": {},
     "output_type": "display_data"
    },
    {
     "data": {
      "application/vnd.jupyter.widget-view+json": {
       "model_id": "fa49ce82ce1845b8b952b3e4952f0c76",
       "version_major": 2,
       "version_minor": 0
      },
      "text/plain": [
       "config.json:   0%|          | 0.00/918 [00:00<?, ?B/s]"
      ]
     },
     "metadata": {},
     "output_type": "display_data"
    },
    {
     "data": {
      "application/vnd.jupyter.widget-view+json": {
       "model_id": "a9049ada559148b28b27a4b57d26742e",
       "version_major": 2,
       "version_minor": 0
      },
      "text/plain": [
       "model.safetensors:   0%|          | 0.00/3.09G [00:00<?, ?B/s]"
      ]
     },
     "metadata": {},
     "output_type": "display_data"
    },
    {
     "data": {
      "application/vnd.jupyter.widget-view+json": {
       "model_id": "e602b4c6bd7a4fc88075ae8a4c38f68e",
       "version_major": 2,
       "version_minor": 0
      },
      "text/plain": [
       "Encoding batches:   0%|          | 0/4 [00:00<?, ?batch/s]"
      ]
     },
     "metadata": {},
     "output_type": "display_data"
    },
    {
     "data": {
      "application/vnd.jupyter.widget-view+json": {
       "model_id": "07ab7b06735c4c47bc7dcdf919f02f3f",
       "version_major": 2,
       "version_minor": 0
      },
      "text/plain": [
       "Encoding batches:   0%|          | 0/391 [00:00<?, ?batch/s]"
      ]
     },
     "metadata": {},
     "output_type": "display_data"
    },
    {
     "data": {
      "application/vnd.jupyter.widget-view+json": {
       "model_id": "64e262480f304f78b36d98f546d549a5",
       "version_major": 2,
       "version_minor": 0
      },
      "text/plain": [
       "Encoding batches:   0%|          | 0/254 [00:00<?, ?batch/s]"
      ]
     },
     "metadata": {},
     "output_type": "display_data"
    },
    {
     "name": "stdout",
     "output_type": "stream",
     "text": [
      "Results for infly/inf-retriever-v1-1.5b: {'cosqa': {'NDCG': {'NDCG@1': 0.072, 'NDCG@3': 0.05512, 'NDCG@5': 0.064, 'NDCG@10': 0.07921, 'NDCG@100': 0.14968, 'NDCG@1000': 0.21409}, 'MAP': {'MAP@1': 0.024, 'MAP@3': 0.03767, 'MAP@5': 0.0424, 'MAP@10': 0.04807, 'MAP@100': 0.06142, 'MAP@1000': 0.06438}, 'Recall': {'Recall@1': 0.024, 'Recall@3': 0.05133, 'Recall@5': 0.06667, 'Recall@10': 0.10067, 'Recall@100': 0.356, 'Recall@1000': 0.73067}, 'Precision': {'P@1': 0.072, 'P@3': 0.05133, 'P@5': 0.04, 'P@10': 0.0302, 'P@100': 0.01068, 'P@1000': 0.00219}}}\n"
     ]
    },
    {
     "data": {
      "application/vnd.jupyter.widget-view+json": {
       "model_id": "4c5dccc16c7046fa96726aa91c99a813",
       "version_major": 2,
       "version_minor": 0
      },
      "text/plain": [
       "tokenizer_config.json:   0%|          | 0.00/1.31k [00:00<?, ?B/s]"
      ]
     },
     "metadata": {},
     "output_type": "display_data"
    },
    {
     "data": {
      "application/vnd.jupyter.widget-view+json": {
       "model_id": "8d468788ead14d0bbee2e4fd50990989",
       "version_major": 2,
       "version_minor": 0
      },
      "text/plain": [
       "vocab.json:   0%|          | 0.00/2.78M [00:00<?, ?B/s]"
      ]
     },
     "metadata": {},
     "output_type": "display_data"
    },
    {
     "data": {
      "application/vnd.jupyter.widget-view+json": {
       "model_id": "e7bf80a165714e78880c2911a5dad63f",
       "version_major": 2,
       "version_minor": 0
      },
      "text/plain": [
       "merges.txt:   0%|          | 0.00/1.67M [00:00<?, ?B/s]"
      ]
     },
     "metadata": {},
     "output_type": "display_data"
    },
    {
     "data": {
      "application/vnd.jupyter.widget-view+json": {
       "model_id": "36cf14b61dee483f807ed9de4f98ee64",
       "version_major": 2,
       "version_minor": 0
      },
      "text/plain": [
       "tokenizer.json:   0%|          | 0.00/7.03M [00:00<?, ?B/s]"
      ]
     },
     "metadata": {},
     "output_type": "display_data"
    },
    {
     "data": {
      "application/vnd.jupyter.widget-view+json": {
       "model_id": "a49e8cd12ffd4452b62a1000eed9798b",
       "version_major": 2,
       "version_minor": 0
      },
      "text/plain": [
       "added_tokens.json:   0%|          | 0.00/80.0 [00:00<?, ?B/s]"
      ]
     },
     "metadata": {},
     "output_type": "display_data"
    },
    {
     "data": {
      "application/vnd.jupyter.widget-view+json": {
       "model_id": "07e1f0a6c2304c96a42874b1a16b38ff",
       "version_major": 2,
       "version_minor": 0
      },
      "text/plain": [
       "special_tokens_map.json:   0%|          | 0.00/370 [00:00<?, ?B/s]"
      ]
     },
     "metadata": {},
     "output_type": "display_data"
    },
    {
     "data": {
      "application/vnd.jupyter.widget-view+json": {
       "model_id": "a2269d322a644db5b609a449e91e89d5",
       "version_major": 2,
       "version_minor": 0
      },
      "text/plain": [
       "config.json:   0%|          | 0.00/901 [00:00<?, ?B/s]"
      ]
     },
     "metadata": {},
     "output_type": "display_data"
    },
    {
     "data": {
      "application/vnd.jupyter.widget-view+json": {
       "model_id": "4f9b7fe081d144a1959aa598ffcd539e",
       "version_major": 2,
       "version_minor": 0
      },
      "text/plain": [
       "model.safetensors.index.json:   0%|          | 0.00/27.8k [00:00<?, ?B/s]"
      ]
     },
     "metadata": {},
     "output_type": "display_data"
    },
    {
     "data": {
      "application/vnd.jupyter.widget-view+json": {
       "model_id": "1e5763bd419c4be58c5fc57e93fc1ba1",
       "version_major": 2,
       "version_minor": 0
      },
      "text/plain": [
       "Downloading shards:   0%|          | 0/2 [00:00<?, ?it/s]"
      ]
     },
     "metadata": {},
     "output_type": "display_data"
    },
    {
     "data": {
      "application/vnd.jupyter.widget-view+json": {
       "model_id": "1f8d6bad8b6e477294afbf8c0ae3691c",
       "version_major": 2,
       "version_minor": 0
      },
      "text/plain": [
       "model-00001-of-00002.safetensors:   0%|          | 0.00/4.99G [00:00<?, ?B/s]"
      ]
     },
     "metadata": {},
     "output_type": "display_data"
    },
    {
     "data": {
      "application/vnd.jupyter.widget-view+json": {
       "model_id": "ddd21de5da834a35a474cb7cdf0815b2",
       "version_major": 2,
       "version_minor": 0
      },
      "text/plain": [
       "model-00002-of-00002.safetensors:   0%|          | 0.00/2.11G [00:00<?, ?B/s]"
      ]
     },
     "metadata": {},
     "output_type": "display_data"
    },
    {
     "data": {
      "application/vnd.jupyter.widget-view+json": {
       "model_id": "2179d2ddecc3478c9daff6f771d341a9",
       "version_major": 2,
       "version_minor": 0
      },
      "text/plain": [
       "Loading checkpoint shards:   0%|          | 0/2 [00:00<?, ?it/s]"
      ]
     },
     "metadata": {},
     "output_type": "display_data"
    },
    {
     "data": {
      "application/vnd.jupyter.widget-view+json": {
       "model_id": "c13750c83f654187be505067dde133cf",
       "version_major": 2,
       "version_minor": 0
      },
      "text/plain": [
       "Encoding batches:   0%|          | 0/4 [00:00<?, ?batch/s]"
      ]
     },
     "metadata": {},
     "output_type": "display_data"
    },
    {
     "data": {
      "application/vnd.jupyter.widget-view+json": {
       "model_id": "51afab4c75624f749d1d0fe13427b1c2",
       "version_major": 2,
       "version_minor": 0
      },
      "text/plain": [
       "Encoding batches:   0%|          | 0/391 [00:00<?, ?batch/s]"
      ]
     },
     "metadata": {},
     "output_type": "display_data"
    },
    {
     "data": {
      "application/vnd.jupyter.widget-view+json": {
       "model_id": "15de533f439a46db80de41d1b2a2625b",
       "version_major": 2,
       "version_minor": 0
      },
      "text/plain": [
       "Encoding batches:   0%|          | 0/254 [00:00<?, ?batch/s]"
      ]
     },
     "metadata": {},
     "output_type": "display_data"
    },
    {
     "name": "stdout",
     "output_type": "stream",
     "text": [
      "Results for Alibaba-NLP/gte-Qwen2-1.5B-instruct: {'cosqa': {'NDCG': {'NDCG@1': 0.07, 'NDCG@3': 0.05718, 'NDCG@5': 0.06777, 'NDCG@10': 0.08294, 'NDCG@100': 0.1422, 'NDCG@1000': 0.20128}, 'MAP': {'MAP@1': 0.02333, 'MAP@3': 0.03811, 'MAP@5': 0.04348, 'MAP@10': 0.04896, 'MAP@100': 0.05928, 'MAP@1000': 0.06194}, 'Recall': {'Recall@1': 0.02333, 'Recall@3': 0.05267, 'Recall@5': 0.07067, 'Recall@10': 0.10467, 'Recall@100': 0.32067, 'Recall@1000': 0.664}, 'Precision': {'P@1': 0.07, 'P@3': 0.05267, 'P@5': 0.0424, 'P@10': 0.0314, 'P@100': 0.00962, 'P@1000': 0.00199}}}\n"
     ]
    },
    {
     "data": {
      "application/vnd.jupyter.widget-view+json": {
       "model_id": "3d3eb7b27a3948b29dfa24b91b6b2413",
       "version_major": 2,
       "version_minor": 0
      },
      "text/plain": [
       "tokenizer_config.json:   0%|          | 0.00/48.0 [00:00<?, ?B/s]"
      ]
     },
     "metadata": {},
     "output_type": "display_data"
    },
    {
     "data": {
      "application/vnd.jupyter.widget-view+json": {
       "model_id": "e9280643fff54d8cbfbb29d21db1437e",
       "version_major": 2,
       "version_minor": 0
      },
      "text/plain": [
       "config.json:   0%|          | 0.00/570 [00:00<?, ?B/s]"
      ]
     },
     "metadata": {},
     "output_type": "display_data"
    },
    {
     "data": {
      "application/vnd.jupyter.widget-view+json": {
       "model_id": "10a0b04b4c624d0f8898874befb6f912",
       "version_major": 2,
       "version_minor": 0
      },
      "text/plain": [
       "vocab.txt:   0%|          | 0.00/232k [00:00<?, ?B/s]"
      ]
     },
     "metadata": {},
     "output_type": "display_data"
    },
    {
     "data": {
      "application/vnd.jupyter.widget-view+json": {
       "model_id": "a21b897aead34412814f226590ab32ad",
       "version_major": 2,
       "version_minor": 0
      },
      "text/plain": [
       "tokenizer.json:   0%|          | 0.00/466k [00:00<?, ?B/s]"
      ]
     },
     "metadata": {},
     "output_type": "display_data"
    },
    {
     "data": {
      "application/vnd.jupyter.widget-view+json": {
       "model_id": "21a53bbbfb624d47bcb857f05c24e793",
       "version_major": 2,
       "version_minor": 0
      },
      "text/plain": [
       "model.safetensors:   0%|          | 0.00/440M [00:00<?, ?B/s]"
      ]
     },
     "metadata": {},
     "output_type": "display_data"
    },
    {
     "data": {
      "application/vnd.jupyter.widget-view+json": {
       "model_id": "d489a371f75f4a4fbd1d28ec07539802",
       "version_major": 2,
       "version_minor": 0
      },
      "text/plain": [
       "Encoding batches:   0%|          | 0/4 [00:00<?, ?batch/s]"
      ]
     },
     "metadata": {},
     "output_type": "display_data"
    },
    {
     "data": {
      "application/vnd.jupyter.widget-view+json": {
       "model_id": "b0869e49623d4589ac279e70586f4fd7",
       "version_major": 2,
       "version_minor": 0
      },
      "text/plain": [
       "Encoding batches:   0%|          | 0/391 [00:00<?, ?batch/s]"
      ]
     },
     "metadata": {},
     "output_type": "display_data"
    },
    {
     "data": {
      "application/vnd.jupyter.widget-view+json": {
       "model_id": "10d978b2c715467ea6eac48d011c5634",
       "version_major": 2,
       "version_minor": 0
      },
      "text/plain": [
       "Encoding batches:   0%|          | 0/254 [00:00<?, ?batch/s]"
      ]
     },
     "metadata": {},
     "output_type": "display_data"
    },
    {
     "name": "stdout",
     "output_type": "stream",
     "text": [
      "Results for google-bert/bert-base-uncased: {'cosqa': {'NDCG': {'NDCG@1': 0.006, 'NDCG@3': 0.00435, 'NDCG@5': 0.00552, 'NDCG@10': 0.00646, 'NDCG@100': 0.01305, 'NDCG@1000': 0.02399}, 'MAP': {'MAP@1': 0.002, 'MAP@3': 0.00278, 'MAP@5': 0.00324, 'MAP@10': 0.00353, 'MAP@100': 0.00439, 'MAP@1000': 0.00463}, 'Recall': {'Recall@1': 0.002, 'Recall@3': 0.004, 'Recall@5': 0.006, 'Recall@10': 0.008, 'Recall@100': 0.032, 'Recall@1000': 0.09867}, 'Precision': {'P@1': 0.006, 'P@3': 0.004, 'P@5': 0.0036, 'P@10': 0.0024, 'P@100': 0.00096, 'P@1000': 0.0003}}}\n"
     ]
    }
   ],
   "source": [
    "models_list = [\"BAAI/bge-base-en\", \"intfloat/e5-base-v2\", \"sentence-transformers/all-MiniLM-L6-v2\", \"microsoft/unixcoder-base\", \"infly/inf-retriever-v1-1.5b\", \"Alibaba-NLP/gte-Qwen2-1.5B-instruct\", \"google-bert/bert-base-uncased\"]  # Add your models here\n",
    "\n",
    "for model_name in models_list:\n",
    "    model = YourCustomDEModel(model_name=model_name)\n",
    "    \n",
    "    evaluation = COIR(tasks=tasks, batch_size=128)\n",
    "    \n",
    "    results = evaluation.run(model, output_folder=f\"results/{model_name}_explanation_granite_all\")\n",
    "    \n",
    "    print(f\"Results for {model_name}: {results}\")\n"
   ]
  }
 ],
 "metadata": {
  "kernelspec": {
   "display_name": "Python 3",
   "language": "python",
   "name": "python3"
  },
  "language_info": {
   "codemirror_mode": {
    "name": "ipython",
    "version": 3
   },
   "file_extension": ".py",
   "mimetype": "text/x-python",
   "name": "python",
   "nbconvert_exporter": "python",
   "pygments_lexer": "ipython3",
   "version": "3.8.20"
  }
 },
 "nbformat": 4,
 "nbformat_minor": 5
}
