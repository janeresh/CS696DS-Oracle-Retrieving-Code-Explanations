{
 "cells": [
  {
   "cell_type": "code",
   "execution_count": 1,
   "id": "7a911296-c7d8-49fd-a1a9-41f5241de9f9",
   "metadata": {},
   "outputs": [
    {
     "name": "stdout",
     "output_type": "stream",
     "text": [
      "['/work/pi_wenlongzhao_umass_edu/27/CS696DS-Oracle-Retrieving-Code-Explanations/coir-main', '/work/pi_wenlongzhao_umass_edu/27/CS696DS-Oracle-Retrieving-Code-Explanations/coir-main', '/work/pi_wenlongzhao_umass_edu/27/vaishnavisha/envs/virtual-env/lib/python38.zip', '/work/pi_wenlongzhao_umass_edu/27/vaishnavisha/envs/virtual-env/lib/python3.8', '/work/pi_wenlongzhao_umass_edu/27/vaishnavisha/envs/virtual-env/lib/python3.8/lib-dynload', '', '/work/pi_wenlongzhao_umass_edu/27/vaishnavisha/envs/virtual-env/lib/python3.8/site-packages']\n"
     ]
    }
   ],
   "source": [
    "import sys\n",
    "sys.path.insert(0, \"/work/pi_wenlongzhao_umass_edu/27/CS696DS-Oracle-Retrieving-Code-Explanations/coir-main\")\n",
    "\n",
    "print(sys.path)\n"
   ]
  },
  {
   "cell_type": "code",
   "execution_count": 2,
   "id": "a78e0cc7-5993-4636-987c-63ff8a77d156",
   "metadata": {},
   "outputs": [],
   "source": [
    "if 'coir' in sys.modules:\n",
    "    del sys.modules['coir']"
   ]
  },
  {
   "cell_type": "code",
   "execution_count": 3,
   "id": "9fd6b5e4-b2b9-4ba7-80c0-79f6c79b457a",
   "metadata": {},
   "outputs": [
    {
     "name": "stderr",
     "output_type": "stream",
     "text": [
      "/work/pi_wenlongzhao_umass_edu/27/vaishnavisha/envs/virtual-env/lib/python3.8/site-packages/tqdm/auto.py:21: TqdmWarning: IProgress not found. Please update jupyter and ipywidgets. See https://ipywidgets.readthedocs.io/en/stable/user_install.html\n",
      "  from .autonotebook import tqdm as notebook_tqdm\n"
     ]
    }
   ],
   "source": [
    "from coir.data_loader import get_tasks\n",
    "from coir.evaluation import COIR\n",
    "from coir.models import YourCustomDEModel\n",
    "import pandas as pd"
   ]
  },
  {
   "cell_type": "code",
   "execution_count": 4,
   "id": "aaa5fd6c-3dc8-4cb7-80da-e00b6eb2fbef",
   "metadata": {},
   "outputs": [
    {
     "name": "stdout",
     "output_type": "stream",
     "text": [
      "in tasks \n",
      "fetched data from hf\n",
      "data loader init\n"
     ]
    },
    {
     "name": "stderr",
     "output_type": "stream",
     "text": [
      "20604it [00:00, 119542.69it/s]\n"
     ]
    }
   ],
   "source": [
    "tasks = get_tasks(tasks=[\"cosqa\"])"
   ]
  },
  {
   "cell_type": "code",
   "execution_count": 5,
   "id": "bdde2bc4-b1c0-40a9-8311-79a9aa78647d",
   "metadata": {},
   "outputs": [
    {
     "data": {
      "text/plain": [
       "{'text': 'def writeBoolean(self, n):\\n        \"\"\"\\n        Writes a Boolean to the stream.\\n        \"\"\"\\n        t = TYPE_BOOL_TRUE\\n\\n        if n is False:\\n            t = TYPE_BOOL_FALSE\\n\\n        self.stream.write(t)',\n",
       " 'title': ''}"
      ]
     },
     "execution_count": 5,
     "metadata": {},
     "output_type": "execute_result"
    }
   ],
   "source": [
    "tasks['cosqa'][0]['d1']"
   ]
  },
  {
   "cell_type": "code",
   "execution_count": 6,
   "id": "73e42b01-fc59-4bd7-bd84-7ea243c8063c",
   "metadata": {},
   "outputs": [
    {
     "data": {
      "text/html": [
       "<div>\n",
       "<style scoped>\n",
       "    .dataframe tbody tr th:only-of-type {\n",
       "        vertical-align: middle;\n",
       "    }\n",
       "\n",
       "    .dataframe tbody tr th {\n",
       "        vertical-align: top;\n",
       "    }\n",
       "\n",
       "    .dataframe thead th {\n",
       "        text-align: right;\n",
       "    }\n",
       "</style>\n",
       "<table border=\"1\" class=\"dataframe\">\n",
       "  <thead>\n",
       "    <tr style=\"text-align: right;\">\n",
       "      <th></th>\n",
       "      <th>query-id</th>\n",
       "      <th>corpus-id</th>\n",
       "      <th>score</th>\n",
       "      <th>partition_x</th>\n",
       "      <th>code</th>\n",
       "      <th>title_x</th>\n",
       "      <th>language_x</th>\n",
       "      <th>meta_information_x</th>\n",
       "      <th>partition_y</th>\n",
       "      <th>doc</th>\n",
       "      <th>title_y</th>\n",
       "      <th>language_y</th>\n",
       "      <th>meta_information_y</th>\n",
       "      <th>deepseek</th>\n",
       "      <th>explanation_deepseek</th>\n",
       "    </tr>\n",
       "  </thead>\n",
       "  <tbody>\n",
       "    <tr>\n",
       "      <th>0</th>\n",
       "      <td>q1</td>\n",
       "      <td>d1</td>\n",
       "      <td>0</td>\n",
       "      <td>train</td>\n",
       "      <td>def writeBoolean(self, n):\\n        \"\"\"\\n     ...</td>\n",
       "      <td>NaN</td>\n",
       "      <td>PYTHON</td>\n",
       "      <td>{'dummy_field': ''}</td>\n",
       "      <td>train</td>\n",
       "      <td>python code to write bool value 1</td>\n",
       "      <td>NaN</td>\n",
       "      <td>NaN</td>\n",
       "      <td>{'dummy_field': ''}</td>\n",
       "      <td>NaN</td>\n",
       "      <td>The doc and code are meant to write a boolean ...</td>\n",
       "    </tr>\n",
       "    <tr>\n",
       "      <th>1</th>\n",
       "      <td>q2</td>\n",
       "      <td>d2</td>\n",
       "      <td>0</td>\n",
       "      <td>train</td>\n",
       "      <td>def paste(xsel=False):\\n    \"\"\"Returns system ...</td>\n",
       "      <td>NaN</td>\n",
       "      <td>PYTHON</td>\n",
       "      <td>{'dummy_field': ''}</td>\n",
       "      <td>train</td>\n",
       "      <td>\"python how to manipulate clipboard\"</td>\n",
       "      <td>NaN</td>\n",
       "      <td>NaN</td>\n",
       "      <td>{'dummy_field': ''}</td>\n",
       "      <td>NaN</td>\n",
       "      <td>&lt;/think&gt;\\n\\nThe function `paste()` pastes the ...</td>\n",
       "    </tr>\n",
       "    <tr>\n",
       "      <th>2</th>\n",
       "      <td>q3</td>\n",
       "      <td>d3</td>\n",
       "      <td>0</td>\n",
       "      <td>train</td>\n",
       "      <td>def _format_json(data, theme):\\n    \"\"\"Pretty ...</td>\n",
       "      <td>NaN</td>\n",
       "      <td>PYTHON</td>\n",
       "      <td>{'dummy_field': ''}</td>\n",
       "      <td>train</td>\n",
       "      <td>python colored output to html</td>\n",
       "      <td>NaN</td>\n",
       "      <td>NaN</td>\n",
       "      <td>{'dummy_field': ''}</td>\n",
       "      <td>NaN</td>\n",
       "      <td>&lt;/think&gt;\\n\\nThe function `_format_json` takes ...</td>\n",
       "    </tr>\n",
       "    <tr>\n",
       "      <th>3</th>\n",
       "      <td>q4</td>\n",
       "      <td>d4</td>\n",
       "      <td>0</td>\n",
       "      <td>train</td>\n",
       "      <td>def create_path(path):\\n    \"\"\"Creates a absol...</td>\n",
       "      <td>NaN</td>\n",
       "      <td>PYTHON</td>\n",
       "      <td>{'dummy_field': ''}</td>\n",
       "      <td>train</td>\n",
       "      <td>python \"create directory\" using \"relative path\"</td>\n",
       "      <td>NaN</td>\n",
       "      <td>NaN</td>\n",
       "      <td>{'dummy_field': ''}</td>\n",
       "      <td>NaN</td>\n",
       "      <td>&lt;/think&gt;\\n\\nThe code snippet creates an absolu...</td>\n",
       "    </tr>\n",
       "    <tr>\n",
       "      <th>4</th>\n",
       "      <td>q5</td>\n",
       "      <td>d5</td>\n",
       "      <td>0</td>\n",
       "      <td>train</td>\n",
       "      <td>def _vector_or_scalar(x, type='row'):\\n    \"\"\"...</td>\n",
       "      <td>NaN</td>\n",
       "      <td>PYTHON</td>\n",
       "      <td>{'dummy_field': ''}</td>\n",
       "      <td>train</td>\n",
       "      <td>python column of an array</td>\n",
       "      <td>NaN</td>\n",
       "      <td>NaN</td>\n",
       "      <td>{'dummy_field': ''}</td>\n",
       "      <td>NaN</td>\n",
       "      <td>&lt;/think&gt;\\n\\nThe code converts an object into a...</td>\n",
       "    </tr>\n",
       "  </tbody>\n",
       "</table>\n",
       "</div>"
      ],
      "text/plain": [
       "  query-id corpus-id  score partition_x  \\\n",
       "0       q1        d1      0       train   \n",
       "1       q2        d2      0       train   \n",
       "2       q3        d3      0       train   \n",
       "3       q4        d4      0       train   \n",
       "4       q5        d5      0       train   \n",
       "\n",
       "                                                code  title_x language_x  \\\n",
       "0  def writeBoolean(self, n):\\n        \"\"\"\\n     ...      NaN     PYTHON   \n",
       "1  def paste(xsel=False):\\n    \"\"\"Returns system ...      NaN     PYTHON   \n",
       "2  def _format_json(data, theme):\\n    \"\"\"Pretty ...      NaN     PYTHON   \n",
       "3  def create_path(path):\\n    \"\"\"Creates a absol...      NaN     PYTHON   \n",
       "4  def _vector_or_scalar(x, type='row'):\\n    \"\"\"...      NaN     PYTHON   \n",
       "\n",
       "    meta_information_x partition_y  \\\n",
       "0  {'dummy_field': ''}       train   \n",
       "1  {'dummy_field': ''}       train   \n",
       "2  {'dummy_field': ''}       train   \n",
       "3  {'dummy_field': ''}       train   \n",
       "4  {'dummy_field': ''}       train   \n",
       "\n",
       "                                               doc  title_y  language_y  \\\n",
       "0                python code to write bool value 1      NaN         NaN   \n",
       "1             \"python how to manipulate clipboard\"      NaN         NaN   \n",
       "2                    python colored output to html      NaN         NaN   \n",
       "3  python \"create directory\" using \"relative path\"      NaN         NaN   \n",
       "4                        python column of an array      NaN         NaN   \n",
       "\n",
       "    meta_information_y  deepseek  \\\n",
       "0  {'dummy_field': ''}       NaN   \n",
       "1  {'dummy_field': ''}       NaN   \n",
       "2  {'dummy_field': ''}       NaN   \n",
       "3  {'dummy_field': ''}       NaN   \n",
       "4  {'dummy_field': ''}       NaN   \n",
       "\n",
       "                                explanation_deepseek  \n",
       "0  The doc and code are meant to write a boolean ...  \n",
       "1  </think>\\n\\nThe function `paste()` pastes the ...  \n",
       "2  </think>\\n\\nThe function `_format_json` takes ...  \n",
       "3  </think>\\n\\nThe code snippet creates an absolu...  \n",
       "4  </think>\\n\\nThe code converts an object into a...  "
      ]
     },
     "execution_count": 6,
     "metadata": {},
     "output_type": "execute_result"
    }
   ],
   "source": [
    "expl_path = '/work/pi_wenlongzhao_umass_edu/27/anamikaghosh/CoSQA_deepseek_exp.csv'\n",
    "expl_df = pd.read_csv(expl_path)\n",
    "expl_df.head()"
   ]
  },
  {
   "cell_type": "code",
   "execution_count": 7,
   "id": "849b166e-2dc4-46cb-83ab-12314d8fb1cc",
   "metadata": {},
   "outputs": [
    {
     "name": "stdout",
     "output_type": "stream",
     "text": [
      "{'text': 'The doc and code are meant to write a boolean value 1 to the stream.\\n</think>\\n\\nThe doc and code are meant to write a boolean value 1 to the stream.\\n\\n```explanation```', 'title': ''}\n",
      "Total docs in corpus after replacement: 20604\n",
      "Number of docs still missing 'text': 0\n"
     ]
    }
   ],
   "source": [
    "# # Unpack the tuple\n",
    "corpus, queries, qrels = tasks['cosqa']\n",
    "\n",
    "for _, row in expl_df.iterrows():\n",
    "    corpus_id = row['corpus-id']\n",
    "    explanation = row['explanation_deepseek']\n",
    "\n",
    "    if corpus_id in corpus and explanation and explanation.strip():\n",
    "        corpus[corpus_id]['text'] = explanation  \n",
    "\n",
    "corpus = {doc_id: doc for doc_id, doc in corpus.items() if 'text' in doc and doc['text'].strip()}\n",
    "print(corpus['d1'])\n",
    "tasks['cosqa'] = (corpus, queries, qrels)\n",
    "\n",
    "print(f\"Total docs in corpus after replacement: {len(tasks['cosqa'][0])}\")\n",
    "missing_text = sum(1 for doc in tasks['cosqa'][0].values() if not doc.get('text'))\n",
    "print(f\"Number of docs still missing 'text': {missing_text}\")\n"
   ]
  },
  {
   "cell_type": "code",
   "execution_count": 8,
   "id": "0efb9b03-cfea-4608-9a17-40b75b036f39",
   "metadata": {},
   "outputs": [
    {
     "name": "stdout",
     "output_type": "stream",
     "text": [
      "YourCustomDEModel init\n"
     ]
    }
   ],
   "source": [
    "model_name = \"BAAI/bge-base-en\"\n",
    "model = YourCustomDEModel(model_name=model_name)"
   ]
  },
  {
   "cell_type": "code",
   "execution_count": 9,
   "id": "b03db9fc-b19e-48e8-a179-9c2c5292e6f9",
   "metadata": {},
   "outputs": [
    {
     "name": "stdout",
     "output_type": "stream",
     "text": [
      "COIR init\n"
     ]
    }
   ],
   "source": [
    "evaluation = COIR(tasks=tasks,batch_size=128)"
   ]
  },
  {
   "cell_type": "code",
   "execution_count": 10,
   "id": "1f12554c-28ea-4b66-9d91-9f4ffb81bbaf",
   "metadata": {},
   "outputs": [
    {
     "name": "stdout",
     "output_type": "stream",
     "text": [
      "in evaluation.py: loading up dres\n",
      "\n",
      "in evaluation.py: loading up retriever\n",
      "\n",
      "Batch size: 128\n",
      "in evaluation.py: retrieving\n",
      "\n",
      "in beir/retrieval/evaluation.py: loading up search\n",
      "\n"
     ]
    },
    {
     "name": "stderr",
     "output_type": "stream",
     "text": [
      "Encoding batches: 100%|██████████| 4/4 [00:02<00:00,  2.00batch/s]\n",
      "Encoding batches: 100%|██████████| 161/161 [01:57<00:00,  1.38batch/s]\n"
     ]
    },
    {
     "name": "stdout",
     "output_type": "stream",
     "text": [
      "in evaluation.py: evaluating\n",
      "\n",
      "in beir/retrieval/evaluation.py: evaluating now\n",
      "\n",
      "{'cosqa': {'NDCG': {'NDCG@1': 0.406, 'NDCG@3': 0.50166, 'NDCG@5': 0.54031, 'NDCG@10': 0.57263, 'NDCG@100': 0.61255, 'NDCG@1000': 0.61884}, 'MAP': {'MAP@1': 0.406, 'MAP@3': 0.47867, 'MAP@5': 0.50007, 'MAP@10': 0.51339, 'MAP@100': 0.52214, 'MAP@1000': 0.52236}, 'Recall': {'Recall@1': 0.406, 'Recall@3': 0.568, 'Recall@5': 0.662, 'Recall@10': 0.762, 'Recall@100': 0.942, 'Recall@1000': 0.992}, 'Precision': {'P@1': 0.406, 'P@3': 0.18933, 'P@5': 0.1324, 'P@10': 0.0762, 'P@100': 0.00942, 'P@1000': 0.00099}}}\n"
     ]
    }
   ],
   "source": [
    "results = evaluation.run(model, output_folder=f\"results/{model_name}5\")\n",
    "print(results)"
   ]
  },
  {
   "cell_type": "code",
   "execution_count": null,
   "id": "3a203966-e32c-474c-a309-7d516507844b",
   "metadata": {},
   "outputs": [],
   "source": []
  }
 ],
 "metadata": {
  "kernelspec": {
   "display_name": "“virtual-env”",
   "language": "python",
   "name": "vaishnavisha-virtual-env"
  },
  "language_info": {
   "codemirror_mode": {
    "name": "ipython",
    "version": 3
   },
   "file_extension": ".py",
   "mimetype": "text/x-python",
   "name": "python",
   "nbconvert_exporter": "python",
   "pygments_lexer": "ipython3",
   "version": "3.8.20"
  }
 },
 "nbformat": 4,
 "nbformat_minor": 5
}
