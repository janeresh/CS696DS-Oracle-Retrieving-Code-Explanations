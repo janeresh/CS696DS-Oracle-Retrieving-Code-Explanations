{
 "cells": [
  {
   "cell_type": "markdown",
   "id": "ddca6d07-911d-47bb-a7fe-baaa271ad1d3",
   "metadata": {
    "jp-MarkdownHeadingCollapsed": true,
    "tags": []
   },
   "source": [
    "### Imports"
   ]
  },
  {
   "cell_type": "code",
   "execution_count": 20,
   "id": "7a911296-c7d8-49fd-a1a9-41f5241de9f9",
   "metadata": {},
   "outputs": [
    {
     "name": "stdout",
     "output_type": "stream",
     "text": [
      "['/work/pi_wenlongzhao_umass_edu/27/vaishnavisha/CS696DS-Oracle-Retrieving-Code-Explanations/coir-main', '/work/pi_wenlongzhao_umass_edu/27/vaishnavisha/envs/virtual-env/lib/python38.zip', '/work/pi_wenlongzhao_umass_edu/27/vaishnavisha/envs/virtual-env/lib/python3.8', '/work/pi_wenlongzhao_umass_edu/27/vaishnavisha/envs/virtual-env/lib/python3.8/lib-dynload', '', '/work/pi_wenlongzhao_umass_edu/27/vaishnavisha/envs/virtual-env/lib/python3.8/site-packages']\n"
     ]
    }
   ],
   "source": [
    "import sys\n",
    "#sys.path.insert(0, \"/work/pi_wenlongzhao_umass_edu/27/vaishnavisha/CS696DS-Oracle-Retrieving-Code-Explanations/coir-main\")\n",
    "#sys.path.remove(\"/work/pi_wenlongzhao_umass_edu/27/CS696DS-Oracle-Retrieving-Code-Explanations/coir-main\")\n",
    "\n",
    "print(sys.path)\n"
   ]
  },
  {
   "cell_type": "code",
   "execution_count": 21,
   "id": "a78e0cc7-5993-4636-987c-63ff8a77d156",
   "metadata": {},
   "outputs": [],
   "source": [
    "if 'coir' in sys.modules:\n",
    "    del sys.modules['coir']"
   ]
  },
  {
   "cell_type": "code",
   "execution_count": 22,
   "id": "9fd6b5e4-b2b9-4ba7-80c0-79f6c79b457a",
   "metadata": {},
   "outputs": [],
   "source": [
    "from coir.data_loader import get_tasks\n",
    "from coir.evaluation import COIR\n",
    "from coir.models import YourCustomDEModel\n",
    "import pandas as pd"
   ]
  },
  {
   "cell_type": "markdown",
   "id": "ecf03ad4-cf58-4bd6-baa0-168ba881ab59",
   "metadata": {
    "jp-MarkdownHeadingCollapsed": true,
    "tags": []
   },
   "source": [
    "### getting the corpus & queries"
   ]
  },
  {
   "cell_type": "code",
   "execution_count": 28,
   "id": "aaa5fd6c-3dc8-4cb7-80da-e00b6eb2fbef",
   "metadata": {},
   "outputs": [
    {
     "name": "stdout",
     "output_type": "stream",
     "text": [
      "in tasks \n",
      "fetched data from hf\n",
      "data loader init\n"
     ]
    },
    {
     "name": "stderr",
     "output_type": "stream",
     "text": [
      "20604it [00:00, 182458.84it/s]\n"
     ]
    }
   ],
   "source": [
    "tasks = get_tasks(tasks=[\"cosqa\"])"
   ]
  },
  {
   "cell_type": "code",
   "execution_count": 29,
   "id": "bdde2bc4-b1c0-40a9-8311-79a9aa78647d",
   "metadata": {},
   "outputs": [
    {
     "data": {
      "text/plain": [
       "{'text': 'def writeBoolean(self, n):\\n        \"\"\"\\n        Writes a Boolean to the stream.\\n        \"\"\"\\n        t = TYPE_BOOL_TRUE\\n\\n        if n is False:\\n            t = TYPE_BOOL_FALSE\\n\\n        self.stream.write(t)',\n",
       " 'title': ''}"
      ]
     },
     "execution_count": 29,
     "metadata": {},
     "output_type": "execute_result"
    }
   ],
   "source": [
    "tasks['cosqa'][0]['d1']"
   ]
  },
  {
   "cell_type": "code",
   "execution_count": 30,
   "id": "73e42b01-fc59-4bd7-bd84-7ea243c8063c",
   "metadata": {},
   "outputs": [
    {
     "data": {
      "text/html": [
       "<div>\n",
       "<style scoped>\n",
       "    .dataframe tbody tr th:only-of-type {\n",
       "        vertical-align: middle;\n",
       "    }\n",
       "\n",
       "    .dataframe tbody tr th {\n",
       "        vertical-align: top;\n",
       "    }\n",
       "\n",
       "    .dataframe thead th {\n",
       "        text-align: right;\n",
       "    }\n",
       "</style>\n",
       "<table border=\"1\" class=\"dataframe\">\n",
       "  <thead>\n",
       "    <tr style=\"text-align: right;\">\n",
       "      <th></th>\n",
       "      <th>Unnamed: 0</th>\n",
       "      <th>query-id</th>\n",
       "      <th>doc</th>\n",
       "      <th>corpus-id</th>\n",
       "      <th>code</th>\n",
       "      <th>explanation_granite_1</th>\n",
       "      <th>explanation_granite_2</th>\n",
       "      <th>explanation_granite_3</th>\n",
       "      <th>explanation_granite_4</th>\n",
       "      <th>explanation_deepseek_1_cleaned</th>\n",
       "      <th>explanation_deepseek_2_cleaned</th>\n",
       "      <th>explanation_deepseek_3_cleaned</th>\n",
       "      <th>explanation_deepseek_4_cleaned</th>\n",
       "    </tr>\n",
       "  </thead>\n",
       "  <tbody>\n",
       "    <tr>\n",
       "      <th>0</th>\n",
       "      <td>0</td>\n",
       "      <td>q1</td>\n",
       "      <td>python code to write bool value 1</td>\n",
       "      <td>d1</td>\n",
       "      <td>def writeBoolean(self, n):\\n        \"\"\"\\n     ...</td>\n",
       "      <td>\\nThe provided code is a Python method named `...</td>\n",
       "      <td>\\n1. `def writeBoolean(self, n):` - This line ...</td>\n",
       "      <td>\\nThis code snippet is a function that writes ...</td>\n",
       "      <td>\\nThe code snippet provided is a method named ...</td>\n",
       "      <td>The doc string and code both write the boolean...</td>\n",
       "      <td>Alright, I need to break down this Python code...</td>\n",
       "      <td>The code snippet writes a boolean value to a s...</td>\n",
       "      <td>The code snippet defines a method called write...</td>\n",
       "    </tr>\n",
       "    <tr>\n",
       "      <th>1</th>\n",
       "      <td>1</td>\n",
       "      <td>q2</td>\n",
       "      <td>\"python how to manipulate clipboard\"</td>\n",
       "      <td>d2</td>\n",
       "      <td>def paste(xsel=False):\\n    \"\"\"Returns system ...</td>\n",
       "      <td>\\nThe provided Python code snippet defines a f...</td>\n",
       "      <td>\\n1. `def paste(xsel=False):` - This line defi...</td>\n",
       "      <td>\\nThis code snippet is a function in Python th...</td>\n",
       "      <td>\\nThe code snippet provided is a Python functi...</td>\n",
       "      <td>The paste function pastes data from the clipbo...</td>\n",
       "      <td>The code snippet begins by defining a function...</td>\n",
       "      <td>The code snippet is a function called paste th...</td>\n",
       "      <td>The code snippet defines a function called pas...</td>\n",
       "    </tr>\n",
       "    <tr>\n",
       "      <th>2</th>\n",
       "      <td>2</td>\n",
       "      <td>q3</td>\n",
       "      <td>python colored output to html</td>\n",
       "      <td>d3</td>\n",
       "      <td>def _format_json(data, theme):\\n    \"\"\"Pretty ...</td>\n",
       "      <td>\\nThis Python function, `_format_json`, takes ...</td>\n",
       "      <td>\\n1. `def _format_json(data, theme):` - This l...</td>\n",
       "      <td>\\nThis code snippet, named `_format_json`, is ...</td>\n",
       "      <td>\\n```python\\nimport json\\nimport sys\\nimport p...</td>\n",
       "      <td>The docstring explains that the function _form...</td>\n",
       "      <td>```pythondef _format_json(data, theme):    \"\"\"...</td>\n",
       "      <td>This code snippet is a function called _format...</td>\n",
       "      <td>To explain the code snippet in a way that can ...</td>\n",
       "    </tr>\n",
       "    <tr>\n",
       "      <th>3</th>\n",
       "      <td>3</td>\n",
       "      <td>q4</td>\n",
       "      <td>python \"create directory\" using \"relative path\"</td>\n",
       "      <td>d4</td>\n",
       "      <td>def create_path(path):\\n    \"\"\"Creates a absol...</td>\n",
       "      <td>\\nThe provided Python function, `create_path(p...</td>\n",
       "      <td>\\n1. The code snippet defines a function named...</td>\n",
       "      <td>\\nThis code snippet helps you create a new dir...</td>\n",
       "      <td>\\nThe provided code snippet is a Python functi...</td>\n",
       "      <td>The doc and code create an absolute path from ...</td>\n",
       "      <td>Okay, I need to explain this Python code snipp...</td>\n",
       "      <td>This code creates a file system where any path...</td>\n",
       "      <td>The code snippet defines a function called cre...</td>\n",
       "    </tr>\n",
       "    <tr>\n",
       "      <th>4</th>\n",
       "      <td>4</td>\n",
       "      <td>q5</td>\n",
       "      <td>python column of an array</td>\n",
       "      <td>d5</td>\n",
       "      <td>def _vector_or_scalar(x, type='row'):\\n    \"\"\"...</td>\n",
       "      <td>\\nThe provided Python code defines a function ...</td>\n",
       "      <td>\\nThis code snippet defines a function called ...</td>\n",
       "      <td>\\nThis code snippet is a function that convert...</td>\n",
       "      <td>\\nThe code snippet provided is a function defi...</td>\n",
       "      <td>The code checks if an object `x` is an array o...</td>\n",
       "      <td>Alright, so I've got this Python code snippet ...</td>\n",
       "      <td>The code snippet is a Python function called _...</td>\n",
       "      <td>Okay, I'm going to try to figure out how to ex...</td>\n",
       "    </tr>\n",
       "  </tbody>\n",
       "</table>\n",
       "</div>"
      ],
      "text/plain": [
       "   Unnamed: 0 query-id                                              doc  \\\n",
       "0           0       q1                python code to write bool value 1   \n",
       "1           1       q2             \"python how to manipulate clipboard\"   \n",
       "2           2       q3                    python colored output to html   \n",
       "3           3       q4  python \"create directory\" using \"relative path\"   \n",
       "4           4       q5                        python column of an array   \n",
       "\n",
       "  corpus-id                                               code  \\\n",
       "0        d1  def writeBoolean(self, n):\\n        \"\"\"\\n     ...   \n",
       "1        d2  def paste(xsel=False):\\n    \"\"\"Returns system ...   \n",
       "2        d3  def _format_json(data, theme):\\n    \"\"\"Pretty ...   \n",
       "3        d4  def create_path(path):\\n    \"\"\"Creates a absol...   \n",
       "4        d5  def _vector_or_scalar(x, type='row'):\\n    \"\"\"...   \n",
       "\n",
       "                               explanation_granite_1  \\\n",
       "0  \\nThe provided code is a Python method named `...   \n",
       "1  \\nThe provided Python code snippet defines a f...   \n",
       "2  \\nThis Python function, `_format_json`, takes ...   \n",
       "3  \\nThe provided Python function, `create_path(p...   \n",
       "4  \\nThe provided Python code defines a function ...   \n",
       "\n",
       "                               explanation_granite_2  \\\n",
       "0  \\n1. `def writeBoolean(self, n):` - This line ...   \n",
       "1  \\n1. `def paste(xsel=False):` - This line defi...   \n",
       "2  \\n1. `def _format_json(data, theme):` - This l...   \n",
       "3  \\n1. The code snippet defines a function named...   \n",
       "4  \\nThis code snippet defines a function called ...   \n",
       "\n",
       "                               explanation_granite_3  \\\n",
       "0  \\nThis code snippet is a function that writes ...   \n",
       "1  \\nThis code snippet is a function in Python th...   \n",
       "2  \\nThis code snippet, named `_format_json`, is ...   \n",
       "3  \\nThis code snippet helps you create a new dir...   \n",
       "4  \\nThis code snippet is a function that convert...   \n",
       "\n",
       "                               explanation_granite_4  \\\n",
       "0  \\nThe code snippet provided is a method named ...   \n",
       "1  \\nThe code snippet provided is a Python functi...   \n",
       "2  \\n```python\\nimport json\\nimport sys\\nimport p...   \n",
       "3  \\nThe provided code snippet is a Python functi...   \n",
       "4  \\nThe code snippet provided is a function defi...   \n",
       "\n",
       "                      explanation_deepseek_1_cleaned  \\\n",
       "0  The doc string and code both write the boolean...   \n",
       "1  The paste function pastes data from the clipbo...   \n",
       "2  The docstring explains that the function _form...   \n",
       "3  The doc and code create an absolute path from ...   \n",
       "4  The code checks if an object `x` is an array o...   \n",
       "\n",
       "                      explanation_deepseek_2_cleaned  \\\n",
       "0  Alright, I need to break down this Python code...   \n",
       "1  The code snippet begins by defining a function...   \n",
       "2  ```pythondef _format_json(data, theme):    \"\"\"...   \n",
       "3  Okay, I need to explain this Python code snipp...   \n",
       "4  Alright, so I've got this Python code snippet ...   \n",
       "\n",
       "                      explanation_deepseek_3_cleaned  \\\n",
       "0  The code snippet writes a boolean value to a s...   \n",
       "1  The code snippet is a function called paste th...   \n",
       "2  This code snippet is a function called _format...   \n",
       "3  This code creates a file system where any path...   \n",
       "4  The code snippet is a Python function called _...   \n",
       "\n",
       "                      explanation_deepseek_4_cleaned  \n",
       "0  The code snippet defines a method called write...  \n",
       "1  The code snippet defines a function called pas...  \n",
       "2  To explain the code snippet in a way that can ...  \n",
       "3  The code snippet defines a function called cre...  \n",
       "4  Okay, I'm going to try to figure out how to ex...  "
      ]
     },
     "execution_count": 30,
     "metadata": {},
     "output_type": "execute_result"
    }
   ],
   "source": [
    "#expl_path = '/work/pi_wenlongzhao_umass_edu/27/anamikaghosh/CoSQA_deepseek_exp.csv'\n",
    "expl_path = '/work/pi_wenlongzhao_umass_edu/27/anamikaghosh/CoSQA_explanations_query_code.csv'\n",
    "expl_df = pd.read_csv(expl_path)\n",
    "expl_df.rename(columns={\"query_id\": \"query-id\", \"corpus_id\": \"corpus-id\"}, inplace=True)\n",
    "expl_df.head()"
   ]
  },
  {
   "cell_type": "code",
   "execution_count": 26,
   "id": "bd242da4-3708-46ce-b3fc-2340f5a46e75",
   "metadata": {},
   "outputs": [],
   "source": [
    "# for col in expl_df.columns:\n",
    "#     nan_rows = expl_df[expl_df[col].isna()]\n",
    "#     if not nan_rows.empty:\n",
    "#         print(f\"Column: {col} - NaN Count: {nan_rows.shape[0]}\")\n",
    "#         #print(nan_rows)  # Print the rows with NaN values for this column\n",
    "#         print(\"-\" * 50)  # Separator for readability"
   ]
  },
  {
   "cell_type": "code",
   "execution_count": 8,
   "id": "e661e97b-0fd4-4a2f-9917-6a7b8be47dbf",
   "metadata": {},
   "outputs": [],
   "source": [
    "# expl_df.columns"
   ]
  },
  {
   "cell_type": "markdown",
   "id": "f6398b95-d0d8-4b0c-a1cc-de4b39f879bf",
   "metadata": {
    "jp-MarkdownHeadingCollapsed": true,
    "tags": []
   },
   "source": [
    "### adding explanation to df"
   ]
  },
  {
   "cell_type": "markdown",
   "id": "e2c5a9ed-d399-4d7f-97f3-405fd7638cf1",
   "metadata": {
    "jp-MarkdownHeadingCollapsed": true,
    "tags": []
   },
   "source": [
    "#### multiple explanations "
   ]
  },
  {
   "cell_type": "code",
   "execution_count": 9,
   "id": "5a5a73bd-1d80-46b7-9003-396539aa45b2",
   "metadata": {},
   "outputs": [
    {
     "name": "stdout",
     "output_type": "stream",
     "text": [
      "Total docs in expanded corpus: 82416\n",
      "Total qrels entries: 61812\n",
      "('d1_1', {'text': 'The doc string and code both write the boolean value 1 to the stream. The code uses a condition based on n, flipping between TRUE and FALSE values. The stream is a mechanism for writing to a binary stream.The docstring and code both write the boolean value 1 to the stream. The code uses a condition based on n, flipping between TRUE and FALSE values. The stream is a mechanism for writing to a binary stream.', 'title': ''})\n",
      "('q1', {'d1_1': 1, 'd1_2': 1, 'd1_3': 1})\n"
     ]
    }
   ],
   "source": [
    "corpus, queries, qrels = tasks['cosqa']\n",
    "new_corpus = {}\n",
    "new_qrels = {}\n",
    "\n",
    "for _, row in expl_df.iterrows():\n",
    "    base_corpus_id = row['corpus-id']  # Existing base document ID (e.g., d1, d2, etc.)\n",
    "    query_id = row['query-id']         # Query ID (e.g., q1, q2, etc.)\n",
    "    \n",
    "    # Iterate over multiple explanations and create new corpus entries\n",
    "    for i in range(1, 4):  # Assuming 4 explanations per document\n",
    "        explanation_col = f'explanation_deepseek_{i}_cleaned'\n",
    "        if explanation_col in row and row[explanation_col] and row[explanation_col].strip():\n",
    "            new_corpus_id = f\"{base_corpus_id}_{i}\"  # e.g., d1_1, d1_2, ...\n",
    "\n",
    "            # Store new document in corpus\n",
    "            new_corpus[new_corpus_id] = {\n",
    "                \"text\": row[explanation_col],\n",
    "                \"title\": \"\"\n",
    "            }\n",
    "\n",
    "            # Ensure the query is mapped to the new corpus ID\n",
    "            if query_id not in new_qrels:\n",
    "                new_qrels[query_id] = {}  # Initialize query entry if missing\n",
    "            \n",
    "            new_qrels[query_id][new_corpus_id] = 1  # Assign relevance score\n",
    "\n",
    "corpus.update(new_corpus)\n",
    "qrels.update(new_qrels)\n",
    "tasks['cosqa'] = (corpus, queries, qrels)\n",
    "\n",
    "print(f\"Total docs in expanded corpus: {len(corpus)}\")\n",
    "print(f\"Total qrels entries: {sum(len(v) for v in qrels.values())}\")\n",
    "\n",
    "# Print first few new corpus and qrel entries\n",
    "print(next(iter(new_corpus.items())))  # Print first new corpus entry\n",
    "print(next(iter(new_qrels.items())))  # Print first new qrel entry\n"
   ]
  },
  {
   "cell_type": "code",
   "execution_count": 10,
   "id": "889cd8d9-d953-428e-a414-e65ef083bedd",
   "metadata": {},
   "outputs": [],
   "source": [
    "corpus, queries, qrels = tasks['cosqa']\n",
    "corpus_ids = sorted(corpus, key=lambda k: len(corpus[k].get(\"title\", \"\") + corpus[k].get(\"text\", \"\")), reverse=True)\n",
    "corpus = [corpus[cid] for cid in corpus_ids]"
   ]
  },
  {
   "cell_type": "code",
   "execution_count": 11,
   "id": "dc9a93e2-6b9d-4048-9e98-cdc8b8e4775d",
   "metadata": {},
   "outputs": [
    {
     "data": {
      "text/plain": [
       "82416"
      ]
     },
     "execution_count": 11,
     "metadata": {},
     "output_type": "execute_result"
    }
   ],
   "source": [
    "all_texts = [\"passage: \"+ doc['text'] for doc in corpus]\n",
    "len(all_texts)"
   ]
  },
  {
   "cell_type": "code",
   "execution_count": 17,
   "id": "5a6ed5c0-2903-4432-8cbc-f26c16a7f16a",
   "metadata": {},
   "outputs": [
    {
     "data": {
      "text/plain": [
       "{'d20105_1': 1, 'd20105_2': 1, 'd20105_3': 1}"
      ]
     },
     "execution_count": 17,
     "metadata": {},
     "output_type": "execute_result"
    }
   ],
   "source": [
    "qrels['q20105']"
   ]
  },
  {
   "cell_type": "markdown",
   "id": "3403ceb3-2d81-4282-a89b-1a76c55fca6b",
   "metadata": {
    "tags": []
   },
   "source": [
    "#### single explanation"
   ]
  },
  {
   "cell_type": "code",
   "execution_count": 31,
   "id": "849b166e-2dc4-46cb-83ab-12314d8fb1cc",
   "metadata": {},
   "outputs": [
    {
     "name": "stdout",
     "output_type": "stream",
     "text": [
      "{'text': \"\\nThe provided code is a Python method named `writeBoolean` that writes a Boolean value to a stream. It takes one argument `n`, which is a Boolean value. If `n` is `False`, it sets the value of `t` to `TYPE_BOOL_FALSE`. Otherwise, it sets `t` to `TYPE_BOOL_TRUE`. Finally, it writes the value of `t` to the stream using the `write` method of the `self.stream` object. The doc string provides a brief description of the method's purpose and functionality.\", 'title': ''}\n",
      "Total docs in corpus after replacement: 20604\n",
      "Number of docs still missing 'text': 0\n"
     ]
    }
   ],
   "source": [
    "# # Unpack the tuple\n",
    "corpus, queries, qrels = tasks['cosqa']\n",
    "\n",
    "for _, row in expl_df.iterrows():\n",
    "    corpus_id = row['corpus-id']\n",
    "    explanation = row['explanation_granite_1']\n",
    "\n",
    "    if corpus_id in corpus and explanation and explanation.strip():\n",
    "        corpus[corpus_id]['text'] = explanation  \n",
    "\n",
    "corpus = {doc_id: doc for doc_id, doc in corpus.items() if 'text' in doc and doc['text'].strip()}\n",
    "print(corpus['d1'])\n",
    "tasks['cosqa'] = (corpus, queries, qrels)\n",
    "\n",
    "print(f\"Total docs in corpus after replacement: {len(tasks['cosqa'][0])}\")\n",
    "missing_text = sum(1 for doc in tasks['cosqa'][0].values() if not doc.get('text'))\n",
    "print(f\"Number of docs still missing 'text': {missing_text}\")\n"
   ]
  },
  {
   "cell_type": "code",
   "execution_count": 32,
   "id": "74fce90b-6a57-443b-a287-e57b456abb97",
   "metadata": {},
   "outputs": [
    {
     "name": "stdout",
     "output_type": "stream",
     "text": [
      "{'text': \"\\nThe provided code snippet is a Python function called `_unzip_handle` that takes a file handle as input and transparently unzips it. If the input is a string, it assumes it's a filename and opens it using `_gzip_open_filename`. If it's a handle, it opens it using `_gzip_open_handle`. The function then returns the unzipped handle. This function is useful for unzipping files in a transparent way, without the need to manually handle the unzipping process.\", 'title': ''}\n"
     ]
    }
   ],
   "source": [
    "print(corpus['d20604'])"
   ]
  },
  {
   "cell_type": "markdown",
   "id": "b955078a-838c-4b08-9439-5f27d2f9039a",
   "metadata": {
    "jp-MarkdownHeadingCollapsed": true,
    "tags": []
   },
   "source": [
    "### Running the pipeline"
   ]
  },
  {
   "cell_type": "code",
   "execution_count": 33,
   "id": "b03db9fc-b19e-48e8-a179-9c2c5292e6f9",
   "metadata": {},
   "outputs": [],
   "source": [
    "# model_name = \"BAAI/bge-base-en\"\n",
    "# model = YourCustomDEModel(model_name=model_name)\n",
    "\n",
    "# evaluation = COIR(tasks=tasks,batch_size=128)\n",
    "\n",
    "# results = evaluation.run(model, output_folder=f\"results/{model_name}_explanation_deepseek_all\")\n",
    "# print(results)"
   ]
  },
  {
   "cell_type": "code",
   "execution_count": 34,
   "id": "ba7e8c05-b966-4c91-b5af-6a12dc319484",
   "metadata": {},
   "outputs": [
    {
     "name": "stdout",
     "output_type": "stream",
     "text": [
      "YourCustomDEModel init\n",
      "COIR init!\n",
      "in evaluation.py: loading up dres\n",
      "\n",
      "in evaluation.py: retrieving\n",
      "\n",
      "in beir/retrieval/evaluation.py: loading up search\n",
      "\n"
     ]
    },
    {
     "name": "stderr",
     "output_type": "stream",
     "text": [
      "Encoding batches: 100%|██████████| 4/4 [00:00<00:00, 25.39batch/s]\n",
      "Encoding batches: 100%|██████████| 161/161 [00:52<00:00,  3.09batch/s]\n"
     ]
    },
    {
     "name": "stdout",
     "output_type": "stream",
     "text": [
      "in evaluation.py: evaluating\n",
      "\n",
      "in beir/retrieval/evaluation.py: evaluating now\n",
      "\n",
      "Retrieval evaluation results saved to results/BAAI/bge-base-en_explanation_granite_1\n",
      "Results for BAAI/bge-base-en: {'cosqa': {'NDCG': {'NDCG@1': 0.172, 'NDCG@3': 0.23433, 'NDCG@5': 0.27211, 'NDCG@10': 0.31621, 'NDCG@100': 0.39332, 'NDCG@1000': 0.40692}, 'MAP': {'MAP@1': 0.172, 'MAP@3': 0.218, 'MAP@5': 0.2389, 'MAP@10': 0.25716, 'MAP@100': 0.27233, 'MAP@1000': 0.27289}, 'Recall': {'Recall@1': 0.172, 'Recall@3': 0.282, 'Recall@5': 0.374, 'Recall@10': 0.51, 'Recall@100': 0.878, 'Recall@1000': 0.982}, 'Precision': {'P@1': 0.172, 'P@3': 0.094, 'P@5': 0.0748, 'P@10': 0.051, 'P@100': 0.00878, 'P@1000': 0.00098}}}\n",
      "YourCustomDEModel init\n",
      "COIR init!\n",
      "in evaluation.py: loading up dres\n",
      "\n",
      "in evaluation.py: retrieving\n",
      "\n",
      "in beir/retrieval/evaluation.py: loading up search\n",
      "\n"
     ]
    },
    {
     "name": "stderr",
     "output_type": "stream",
     "text": [
      "Encoding batches: 100%|██████████| 4/4 [00:00<00:00, 25.47batch/s]\n",
      "Encoding batches: 100%|██████████| 161/161 [00:53<00:00,  3.03batch/s]\n"
     ]
    },
    {
     "name": "stdout",
     "output_type": "stream",
     "text": [
      "in evaluation.py: evaluating\n",
      "\n",
      "in beir/retrieval/evaluation.py: evaluating now\n",
      "\n",
      "Retrieval evaluation results saved to results/intfloat/e5-base-v2_explanation_granite_1\n",
      "Results for intfloat/e5-base-v2: {'cosqa': {'NDCG': {'NDCG@1': 0.236, 'NDCG@3': 0.30438, 'NDCG@5': 0.34216, 'NDCG@10': 0.39245, 'NDCG@100': 0.46143, 'NDCG@1000': 0.47045}, 'MAP': {'MAP@1': 0.236, 'MAP@3': 0.28667, 'MAP@5': 0.30757, 'MAP@10': 0.32786, 'MAP@100': 0.34246, 'MAP@1000': 0.34282}, 'Recall': {'Recall@1': 0.236, 'Recall@3': 0.356, 'Recall@5': 0.448, 'Recall@10': 0.606, 'Recall@100': 0.922, 'Recall@1000': 0.992}, 'Precision': {'P@1': 0.236, 'P@3': 0.11867, 'P@5': 0.0896, 'P@10': 0.0606, 'P@100': 0.00922, 'P@1000': 0.00099}}}\n",
      "YourCustomDEModel init\n",
      "COIR init!\n",
      "in evaluation.py: loading up dres\n",
      "\n",
      "in evaluation.py: retrieving\n",
      "\n",
      "in beir/retrieval/evaluation.py: loading up search\n",
      "\n"
     ]
    },
    {
     "name": "stderr",
     "output_type": "stream",
     "text": [
      "Encoding batches: 100%|██████████| 4/4 [00:00<00:00, 70.83batch/s]\n",
      "Encoding batches: 100%|██████████| 161/161 [00:15<00:00, 10.70batch/s]\n"
     ]
    },
    {
     "name": "stdout",
     "output_type": "stream",
     "text": [
      "in evaluation.py: evaluating\n",
      "\n",
      "in beir/retrieval/evaluation.py: evaluating now\n",
      "\n",
      "Retrieval evaluation results saved to results/sentence-transformers/all-MiniLM-L6-v2_explanation_granite_1\n",
      "Results for sentence-transformers/all-MiniLM-L6-v2: {'cosqa': {'NDCG': {'NDCG@1': 0.188, 'NDCG@3': 0.26147, 'NDCG@5': 0.29857, 'NDCG@10': 0.34455, 'NDCG@100': 0.41212, 'NDCG@1000': 0.42693}, 'MAP': {'MAP@1': 0.188, 'MAP@3': 0.24333, 'MAP@5': 0.26393, 'MAP@10': 0.28255, 'MAP@100': 0.29627, 'MAP@1000': 0.29683}, 'Recall': {'Recall@1': 0.188, 'Recall@3': 0.314, 'Recall@5': 0.404, 'Recall@10': 0.548, 'Recall@100': 0.866, 'Recall@1000': 0.982}, 'Precision': {'P@1': 0.188, 'P@3': 0.10467, 'P@5': 0.0808, 'P@10': 0.0548, 'P@100': 0.00866, 'P@1000': 0.00098}}}\n"
     ]
    },
    {
     "name": "stderr",
     "output_type": "stream",
     "text": [
      "/work/pi_wenlongzhao_umass_edu/27/vaishnavisha/envs/virtual-env/lib/python3.8/site-packages/torch/_utils.py:776: UserWarning: TypedStorage is deprecated. It will be removed in the future and UntypedStorage will be the only storage class. This should only matter to you if you are using storages directly.  To access UntypedStorage directly, use tensor.untyped_storage() instead of tensor.storage()\n",
      "  return self.fget.__get__(instance, owner)()\n"
     ]
    },
    {
     "name": "stdout",
     "output_type": "stream",
     "text": [
      "YourCustomDEModel init\n",
      "COIR init!\n",
      "in evaluation.py: loading up dres\n",
      "\n",
      "in evaluation.py: retrieving\n",
      "\n",
      "in beir/retrieval/evaluation.py: loading up search\n",
      "\n"
     ]
    },
    {
     "name": "stderr",
     "output_type": "stream",
     "text": [
      "Encoding batches: 100%|██████████| 4/4 [00:00<00:00, 23.79batch/s]\n",
      "Encoding batches: 100%|██████████| 161/161 [00:48<00:00,  3.34batch/s]\n"
     ]
    },
    {
     "name": "stdout",
     "output_type": "stream",
     "text": [
      "in evaluation.py: evaluating\n",
      "\n",
      "in beir/retrieval/evaluation.py: evaluating now\n",
      "\n",
      "Retrieval evaluation results saved to results/microsoft/unixcoder-base_explanation_granite_1\n",
      "Results for microsoft/unixcoder-base: {'cosqa': {'NDCG': {'NDCG@1': 0.134, 'NDCG@3': 0.19559, 'NDCG@5': 0.2178, 'NDCG@10': 0.26271, 'NDCG@100': 0.33809, 'NDCG@1000': 0.36127}, 'MAP': {'MAP@1': 0.134, 'MAP@3': 0.17967, 'MAP@5': 0.19197, 'MAP@10': 0.21067, 'MAP@100': 0.22554, 'MAP@1000': 0.22641}, 'Recall': {'Recall@1': 0.134, 'Recall@3': 0.242, 'Recall@5': 0.296, 'Recall@10': 0.434, 'Recall@100': 0.794, 'Recall@1000': 0.976}, 'Precision': {'P@1': 0.134, 'P@3': 0.08067, 'P@5': 0.0592, 'P@10': 0.0434, 'P@100': 0.00794, 'P@1000': 0.00098}}}\n",
      "YourCustomDEModel init\n",
      "COIR init!\n",
      "in evaluation.py: loading up dres\n",
      "\n",
      "in evaluation.py: retrieving\n",
      "\n",
      "in beir/retrieval/evaluation.py: loading up search\n",
      "\n"
     ]
    },
    {
     "name": "stderr",
     "output_type": "stream",
     "text": [
      "Encoding batches: 100%|██████████| 4/4 [00:01<00:00,  2.42batch/s]\n",
      "Encoding batches: 100%|██████████| 161/161 [08:32<00:00,  3.18s/batch]\n"
     ]
    },
    {
     "name": "stdout",
     "output_type": "stream",
     "text": [
      "in evaluation.py: evaluating\n",
      "\n",
      "in beir/retrieval/evaluation.py: evaluating now\n",
      "\n",
      "Retrieval evaluation results saved to results/infly/inf-retriever-v1-1.5b_explanation_granite_1\n",
      "Results for infly/inf-retriever-v1-1.5b: {'cosqa': {'NDCG': {'NDCG@1': 0.076, 'NDCG@3': 0.12202, 'NDCG@5': 0.14319, 'NDCG@10': 0.16773, 'NDCG@100': 0.24988, 'NDCG@1000': 0.28031}, 'MAP': {'MAP@1': 0.076, 'MAP@3': 0.11033, 'MAP@5': 0.12193, 'MAP@10': 0.13205, 'MAP@100': 0.14718, 'MAP@1000': 0.14828}, 'Recall': {'Recall@1': 0.076, 'Recall@3': 0.156, 'Recall@5': 0.208, 'Recall@10': 0.284, 'Recall@100': 0.688, 'Recall@1000': 0.93}, 'Precision': {'P@1': 0.076, 'P@3': 0.052, 'P@5': 0.0416, 'P@10': 0.0284, 'P@100': 0.00688, 'P@1000': 0.00093}}}\n"
     ]
    },
    {
     "name": "stderr",
     "output_type": "stream",
     "text": [
      "Downloading shards: 100%|██████████| 2/2 [00:00<00:00,  6.70it/s]\n",
      "Loading checkpoint shards: 100%|██████████| 2/2 [00:16<00:00,  8.00s/it]\n"
     ]
    },
    {
     "name": "stdout",
     "output_type": "stream",
     "text": [
      "YourCustomDEModel init\n",
      "COIR init!\n",
      "in evaluation.py: loading up dres\n",
      "\n",
      "in evaluation.py: retrieving\n",
      "\n",
      "in beir/retrieval/evaluation.py: loading up search\n",
      "\n"
     ]
    },
    {
     "name": "stderr",
     "output_type": "stream",
     "text": [
      "Encoding batches: 100%|██████████| 4/4 [00:01<00:00,  2.62batch/s]\n",
      "Encoding batches: 100%|██████████| 161/161 [08:35<00:00,  3.20s/batch]\n"
     ]
    },
    {
     "name": "stdout",
     "output_type": "stream",
     "text": [
      "in evaluation.py: evaluating\n",
      "\n",
      "in beir/retrieval/evaluation.py: evaluating now\n",
      "\n",
      "Retrieval evaluation results saved to results/Alibaba-NLP/gte-Qwen2-1.5B-instruct_explanation_granite_1\n",
      "Results for Alibaba-NLP/gte-Qwen2-1.5B-instruct: {'cosqa': {'NDCG': {'NDCG@1': 0.064, 'NDCG@3': 0.10193, 'NDCG@5': 0.12913, 'NDCG@10': 0.15319, 'NDCG@100': 0.23721, 'NDCG@1000': 0.26633}, 'MAP': {'MAP@1': 0.064, 'MAP@3': 0.09167, 'MAP@5': 0.10677, 'MAP@10': 0.11678, 'MAP@100': 0.1323, 'MAP@1000': 0.13336}, 'Recall': {'Recall@1': 0.064, 'Recall@3': 0.132, 'Recall@5': 0.198, 'Recall@10': 0.272, 'Recall@100': 0.686, 'Recall@1000': 0.916}, 'Precision': {'P@1': 0.064, 'P@3': 0.044, 'P@5': 0.0396, 'P@10': 0.0272, 'P@100': 0.00686, 'P@1000': 0.00092}}}\n",
      "YourCustomDEModel init\n",
      "COIR init!\n",
      "in evaluation.py: loading up dres\n",
      "\n",
      "in evaluation.py: retrieving\n",
      "\n",
      "in beir/retrieval/evaluation.py: loading up search\n",
      "\n"
     ]
    },
    {
     "name": "stderr",
     "output_type": "stream",
     "text": [
      "Encoding batches: 100%|██████████| 4/4 [00:00<00:00, 24.81batch/s]\n",
      "Encoding batches: 100%|██████████| 161/161 [00:53<00:00,  3.01batch/s]\n"
     ]
    },
    {
     "name": "stdout",
     "output_type": "stream",
     "text": [
      "in evaluation.py: evaluating\n",
      "\n",
      "in beir/retrieval/evaluation.py: evaluating now\n",
      "\n",
      "Retrieval evaluation results saved to results/google-bert/bert-base-uncased_explanation_granite_1\n",
      "Results for google-bert/bert-base-uncased: {'cosqa': {'NDCG': {'NDCG@1': 0.01, 'NDCG@3': 0.01605, 'NDCG@5': 0.01923, 'NDCG@10': 0.02575, 'NDCG@100': 0.05324, 'NDCG@1000': 0.08326}, 'MAP': {'MAP@1': 0.01, 'MAP@3': 0.01467, 'MAP@5': 0.01637, 'MAP@10': 0.01908, 'MAP@100': 0.02394, 'MAP@1000': 0.02478}, 'Recall': {'Recall@1': 0.01, 'Recall@3': 0.02, 'Recall@5': 0.028, 'Recall@10': 0.048, 'Recall@100': 0.186, 'Recall@1000': 0.44}, 'Precision': {'P@1': 0.01, 'P@3': 0.00667, 'P@5': 0.0056, 'P@10': 0.0048, 'P@100': 0.00186, 'P@1000': 0.00044}}}\n"
     ]
    }
   ],
   "source": [
    "models_list = [\"BAAI/bge-base-en\", \"intfloat/e5-base-v2\", \"sentence-transformers/all-MiniLM-L6-v2\", \"microsoft/unixcoder-base\", \"infly/inf-retriever-v1-1.5b\", \"Alibaba-NLP/gte-Qwen2-1.5B-instruct\", \"google-bert/bert-base-uncased\"]  # Add your models here\n",
    "\n",
    "for model_name in models_list:\n",
    "    model = YourCustomDEModel(model_name=model_name)\n",
    "    \n",
    "    evaluation = COIR(tasks=tasks, batch_size=128)\n",
    "    \n",
    "    results = evaluation.run(model, output_folder=f\"results/{model_name}_explanation_granite_1\")\n",
    "    \n",
    "    print(f\"Results for {model_name}: {results}\")\n"
   ]
  },
  {
   "cell_type": "code",
   "execution_count": null,
   "id": "d1c8412a-178e-4c38-83aa-c5cca3b6f9b0",
   "metadata": {},
   "outputs": [],
   "source": []
  }
 ],
 "metadata": {
  "kernelspec": {
   "display_name": "“virtual-env”",
   "language": "python",
   "name": "vaishnavisha-virtual-env"
  },
  "language_info": {
   "codemirror_mode": {
    "name": "ipython",
    "version": 3
   },
   "file_extension": ".py",
   "mimetype": "text/x-python",
   "name": "python",
   "nbconvert_exporter": "python",
   "pygments_lexer": "ipython3",
   "version": "3.8.20"
  }
 },
 "nbformat": 4,
 "nbformat_minor": 5
}
