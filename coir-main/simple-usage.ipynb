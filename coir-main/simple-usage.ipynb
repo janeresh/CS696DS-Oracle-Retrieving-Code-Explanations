{
 "cells": [
  {
   "cell_type": "markdown",
   "id": "ddca6d07-911d-47bb-a7fe-baaa271ad1d3",
   "metadata": {
    "tags": []
   },
   "source": [
    "### Imports"
   ]
  },
  {
   "cell_type": "code",
   "execution_count": 1,
   "id": "7a911296-c7d8-49fd-a1a9-41f5241de9f9",
   "metadata": {},
   "outputs": [
    {
     "name": "stdout",
     "output_type": "stream",
     "text": [
      "['/work/pi_wenlongzhao_umass_edu/27/vaishnavisha/CS696DS-Oracle-Retrieving-Code-Explanations/coir-main', '/work/pi_wenlongzhao_umass_edu/27/vaishnavisha/envs/virtual-env/lib/python38.zip', '/work/pi_wenlongzhao_umass_edu/27/vaishnavisha/envs/virtual-env/lib/python3.8', '/work/pi_wenlongzhao_umass_edu/27/vaishnavisha/envs/virtual-env/lib/python3.8/lib-dynload', '', '/work/pi_wenlongzhao_umass_edu/27/vaishnavisha/envs/virtual-env/lib/python3.8/site-packages']\n"
     ]
    }
   ],
   "source": [
    "import sys\n",
    "#sys.path.insert(0, \"/work/pi_wenlongzhao_umass_edu/27/vaishnavisha/CS696DS-Oracle-Retrieving-Code-Explanations/coir-main\")\n",
    "#sys.path.remove(\"/work/pi_wenlongzhao_umass_edu/27/CS696DS-Oracle-Retrieving-Code-Explanations/coir-main\")\n",
    "\n",
    "print(sys.path)\n"
   ]
  },
  {
   "cell_type": "code",
   "execution_count": 2,
   "id": "a78e0cc7-5993-4636-987c-63ff8a77d156",
   "metadata": {},
   "outputs": [],
   "source": [
    "if 'coir' in sys.modules:\n",
    "    del sys.modules['coir']"
   ]
  },
  {
   "cell_type": "code",
   "execution_count": 3,
   "id": "9fd6b5e4-b2b9-4ba7-80c0-79f6c79b457a",
   "metadata": {},
   "outputs": [
    {
     "name": "stderr",
     "output_type": "stream",
     "text": [
      "/work/pi_wenlongzhao_umass_edu/27/vaishnavisha/envs/virtual-env/lib/python3.8/site-packages/tqdm/auto.py:21: TqdmWarning: IProgress not found. Please update jupyter and ipywidgets. See https://ipywidgets.readthedocs.io/en/stable/user_install.html\n",
      "  from .autonotebook import tqdm as notebook_tqdm\n"
     ]
    }
   ],
   "source": [
    "from coir.data_loader import get_tasks\n",
    "from coir.evaluation import COIR\n",
    "from coir.models import YourCustomDEModel\n",
    "import pandas as pd"
   ]
  },
  {
   "cell_type": "markdown",
   "id": "ecf03ad4-cf58-4bd6-baa0-168ba881ab59",
   "metadata": {
    "tags": []
   },
   "source": [
    "### getting the corpus & queries"
   ]
  },
  {
   "cell_type": "code",
   "execution_count": 4,
   "id": "aaa5fd6c-3dc8-4cb7-80da-e00b6eb2fbef",
   "metadata": {},
   "outputs": [
    {
     "name": "stdout",
     "output_type": "stream",
     "text": [
      "in tasks \n",
      "fetched data from hf\n",
      "data loader init\n"
     ]
    },
    {
     "name": "stderr",
     "output_type": "stream",
     "text": [
      "20604it [00:00, 236756.51it/s]\n"
     ]
    }
   ],
   "source": [
    "tasks = get_tasks(tasks=[\"cosqa\"])"
   ]
  },
  {
   "cell_type": "code",
   "execution_count": 5,
   "id": "bdde2bc4-b1c0-40a9-8311-79a9aa78647d",
   "metadata": {},
   "outputs": [],
   "source": [
    "#tasks['cosqa'][0]['d1']"
   ]
  },
  {
   "cell_type": "code",
   "execution_count": 6,
   "id": "73e42b01-fc59-4bd7-bd84-7ea243c8063c",
   "metadata": {},
   "outputs": [
    {
     "data": {
      "text/html": [
       "<div>\n",
       "<style scoped>\n",
       "    .dataframe tbody tr th:only-of-type {\n",
       "        vertical-align: middle;\n",
       "    }\n",
       "\n",
       "    .dataframe tbody tr th {\n",
       "        vertical-align: top;\n",
       "    }\n",
       "\n",
       "    .dataframe thead th {\n",
       "        text-align: right;\n",
       "    }\n",
       "</style>\n",
       "<table border=\"1\" class=\"dataframe\">\n",
       "  <thead>\n",
       "    <tr style=\"text-align: right;\">\n",
       "      <th></th>\n",
       "      <th>Unnamed: 0</th>\n",
       "      <th>query-id</th>\n",
       "      <th>doc</th>\n",
       "      <th>corpus-id</th>\n",
       "      <th>code</th>\n",
       "      <th>explanation_granite_1</th>\n",
       "      <th>explanation_granite_2</th>\n",
       "      <th>explanation_granite_3</th>\n",
       "      <th>explanation_granite_4</th>\n",
       "      <th>explanation_deepseek_1_cleaned</th>\n",
       "      <th>explanation_deepseek_2_cleaned</th>\n",
       "      <th>explanation_deepseek_3_cleaned</th>\n",
       "      <th>explanation_deepseek_4_cleaned</th>\n",
       "    </tr>\n",
       "  </thead>\n",
       "  <tbody>\n",
       "    <tr>\n",
       "      <th>0</th>\n",
       "      <td>0</td>\n",
       "      <td>q1</td>\n",
       "      <td>python code to write bool value 1</td>\n",
       "      <td>d1</td>\n",
       "      <td>def writeBoolean(self, n):\\n        \"\"\"\\n     ...</td>\n",
       "      <td>\\nThe provided code is a Python method named `...</td>\n",
       "      <td>\\n1. `def writeBoolean(self, n):` - This line ...</td>\n",
       "      <td>\\nThis code snippet is a function that writes ...</td>\n",
       "      <td>\\nThe code snippet provided is a method named ...</td>\n",
       "      <td>The doc string and code both write the boolean...</td>\n",
       "      <td>Alright, I need to break down this Python code...</td>\n",
       "      <td>The code snippet writes a boolean value to a s...</td>\n",
       "      <td>The code snippet defines a method called write...</td>\n",
       "    </tr>\n",
       "    <tr>\n",
       "      <th>1</th>\n",
       "      <td>1</td>\n",
       "      <td>q2</td>\n",
       "      <td>\"python how to manipulate clipboard\"</td>\n",
       "      <td>d2</td>\n",
       "      <td>def paste(xsel=False):\\n    \"\"\"Returns system ...</td>\n",
       "      <td>\\nThe provided Python code snippet defines a f...</td>\n",
       "      <td>\\n1. `def paste(xsel=False):` - This line defi...</td>\n",
       "      <td>\\nThis code snippet is a function in Python th...</td>\n",
       "      <td>\\nThe code snippet provided is a Python functi...</td>\n",
       "      <td>The paste function pastes data from the clipbo...</td>\n",
       "      <td>The code snippet begins by defining a function...</td>\n",
       "      <td>The code snippet is a function called paste th...</td>\n",
       "      <td>The code snippet defines a function called pas...</td>\n",
       "    </tr>\n",
       "    <tr>\n",
       "      <th>2</th>\n",
       "      <td>2</td>\n",
       "      <td>q3</td>\n",
       "      <td>python colored output to html</td>\n",
       "      <td>d3</td>\n",
       "      <td>def _format_json(data, theme):\\n    \"\"\"Pretty ...</td>\n",
       "      <td>\\nThis Python function, `_format_json`, takes ...</td>\n",
       "      <td>\\n1. `def _format_json(data, theme):` - This l...</td>\n",
       "      <td>\\nThis code snippet, named `_format_json`, is ...</td>\n",
       "      <td>\\n```python\\nimport json\\nimport sys\\nimport p...</td>\n",
       "      <td>The docstring explains that the function _form...</td>\n",
       "      <td>```pythondef _format_json(data, theme):    \"\"\"...</td>\n",
       "      <td>This code snippet is a function called _format...</td>\n",
       "      <td>To explain the code snippet in a way that can ...</td>\n",
       "    </tr>\n",
       "    <tr>\n",
       "      <th>3</th>\n",
       "      <td>3</td>\n",
       "      <td>q4</td>\n",
       "      <td>python \"create directory\" using \"relative path\"</td>\n",
       "      <td>d4</td>\n",
       "      <td>def create_path(path):\\n    \"\"\"Creates a absol...</td>\n",
       "      <td>\\nThe provided Python function, `create_path(p...</td>\n",
       "      <td>\\n1. The code snippet defines a function named...</td>\n",
       "      <td>\\nThis code snippet helps you create a new dir...</td>\n",
       "      <td>\\nThe provided code snippet is a Python functi...</td>\n",
       "      <td>The doc and code create an absolute path from ...</td>\n",
       "      <td>Okay, I need to explain this Python code snipp...</td>\n",
       "      <td>This code creates a file system where any path...</td>\n",
       "      <td>The code snippet defines a function called cre...</td>\n",
       "    </tr>\n",
       "    <tr>\n",
       "      <th>4</th>\n",
       "      <td>4</td>\n",
       "      <td>q5</td>\n",
       "      <td>python column of an array</td>\n",
       "      <td>d5</td>\n",
       "      <td>def _vector_or_scalar(x, type='row'):\\n    \"\"\"...</td>\n",
       "      <td>\\nThe provided Python code defines a function ...</td>\n",
       "      <td>\\nThis code snippet defines a function called ...</td>\n",
       "      <td>\\nThis code snippet is a function that convert...</td>\n",
       "      <td>\\nThe code snippet provided is a function defi...</td>\n",
       "      <td>The code checks if an object `x` is an array o...</td>\n",
       "      <td>Alright, so I've got this Python code snippet ...</td>\n",
       "      <td>The code snippet is a Python function called _...</td>\n",
       "      <td>Okay, I'm going to try to figure out how to ex...</td>\n",
       "    </tr>\n",
       "  </tbody>\n",
       "</table>\n",
       "</div>"
      ],
      "text/plain": [
       "   Unnamed: 0 query-id                                              doc  \\\n",
       "0           0       q1                python code to write bool value 1   \n",
       "1           1       q2             \"python how to manipulate clipboard\"   \n",
       "2           2       q3                    python colored output to html   \n",
       "3           3       q4  python \"create directory\" using \"relative path\"   \n",
       "4           4       q5                        python column of an array   \n",
       "\n",
       "  corpus-id                                               code  \\\n",
       "0        d1  def writeBoolean(self, n):\\n        \"\"\"\\n     ...   \n",
       "1        d2  def paste(xsel=False):\\n    \"\"\"Returns system ...   \n",
       "2        d3  def _format_json(data, theme):\\n    \"\"\"Pretty ...   \n",
       "3        d4  def create_path(path):\\n    \"\"\"Creates a absol...   \n",
       "4        d5  def _vector_or_scalar(x, type='row'):\\n    \"\"\"...   \n",
       "\n",
       "                               explanation_granite_1  \\\n",
       "0  \\nThe provided code is a Python method named `...   \n",
       "1  \\nThe provided Python code snippet defines a f...   \n",
       "2  \\nThis Python function, `_format_json`, takes ...   \n",
       "3  \\nThe provided Python function, `create_path(p...   \n",
       "4  \\nThe provided Python code defines a function ...   \n",
       "\n",
       "                               explanation_granite_2  \\\n",
       "0  \\n1. `def writeBoolean(self, n):` - This line ...   \n",
       "1  \\n1. `def paste(xsel=False):` - This line defi...   \n",
       "2  \\n1. `def _format_json(data, theme):` - This l...   \n",
       "3  \\n1. The code snippet defines a function named...   \n",
       "4  \\nThis code snippet defines a function called ...   \n",
       "\n",
       "                               explanation_granite_3  \\\n",
       "0  \\nThis code snippet is a function that writes ...   \n",
       "1  \\nThis code snippet is a function in Python th...   \n",
       "2  \\nThis code snippet, named `_format_json`, is ...   \n",
       "3  \\nThis code snippet helps you create a new dir...   \n",
       "4  \\nThis code snippet is a function that convert...   \n",
       "\n",
       "                               explanation_granite_4  \\\n",
       "0  \\nThe code snippet provided is a method named ...   \n",
       "1  \\nThe code snippet provided is a Python functi...   \n",
       "2  \\n```python\\nimport json\\nimport sys\\nimport p...   \n",
       "3  \\nThe provided code snippet is a Python functi...   \n",
       "4  \\nThe code snippet provided is a function defi...   \n",
       "\n",
       "                      explanation_deepseek_1_cleaned  \\\n",
       "0  The doc string and code both write the boolean...   \n",
       "1  The paste function pastes data from the clipbo...   \n",
       "2  The docstring explains that the function _form...   \n",
       "3  The doc and code create an absolute path from ...   \n",
       "4  The code checks if an object `x` is an array o...   \n",
       "\n",
       "                      explanation_deepseek_2_cleaned  \\\n",
       "0  Alright, I need to break down this Python code...   \n",
       "1  The code snippet begins by defining a function...   \n",
       "2  ```pythondef _format_json(data, theme):    \"\"\"...   \n",
       "3  Okay, I need to explain this Python code snipp...   \n",
       "4  Alright, so I've got this Python code snippet ...   \n",
       "\n",
       "                      explanation_deepseek_3_cleaned  \\\n",
       "0  The code snippet writes a boolean value to a s...   \n",
       "1  The code snippet is a function called paste th...   \n",
       "2  This code snippet is a function called _format...   \n",
       "3  This code creates a file system where any path...   \n",
       "4  The code snippet is a Python function called _...   \n",
       "\n",
       "                      explanation_deepseek_4_cleaned  \n",
       "0  The code snippet defines a method called write...  \n",
       "1  The code snippet defines a function called pas...  \n",
       "2  To explain the code snippet in a way that can ...  \n",
       "3  The code snippet defines a function called cre...  \n",
       "4  Okay, I'm going to try to figure out how to ex...  "
      ]
     },
     "execution_count": 6,
     "metadata": {},
     "output_type": "execute_result"
    }
   ],
   "source": [
    "#expl_path = '/work/pi_wenlongzhao_umass_edu/27/anamikaghosh/CoSQA_deepseek_exp.csv'\n",
    "expl_path = '/work/pi_wenlongzhao_umass_edu/27/anamikaghosh/CoSQA_explanations_query_code.csv'\n",
    "expl_df = pd.read_csv(expl_path)\n",
    "expl_df.rename(columns={\"query_id\": \"query-id\", \"corpus_id\": \"corpus-id\"}, inplace=True)\n",
    "expl_df.head()"
   ]
  },
  {
   "cell_type": "code",
   "execution_count": 7,
   "id": "bd242da4-3708-46ce-b3fc-2340f5a46e75",
   "metadata": {},
   "outputs": [],
   "source": [
    "# for col in expl_df.columns:\n",
    "#     nan_rows = expl_df[expl_df[col].isna()]\n",
    "#     if not nan_rows.empty:\n",
    "#         print(f\"Column: {col} - NaN Count: {nan_rows.shape[0]}\")\n",
    "#         #print(nan_rows)  # Print the rows with NaN values for this column\n",
    "#         print(\"-\" * 50)  # Separator for readability"
   ]
  },
  {
   "cell_type": "code",
   "execution_count": 8,
   "id": "e661e97b-0fd4-4a2f-9917-6a7b8be47dbf",
   "metadata": {},
   "outputs": [],
   "source": [
    "# expl_df.columns"
   ]
  },
  {
   "cell_type": "markdown",
   "id": "f6398b95-d0d8-4b0c-a1cc-de4b39f879bf",
   "metadata": {
    "tags": []
   },
   "source": [
    "### adding explanation to df"
   ]
  },
  {
   "cell_type": "markdown",
   "id": "e2c5a9ed-d399-4d7f-97f3-405fd7638cf1",
   "metadata": {
    "tags": []
   },
   "source": [
    "#### multiple explanations "
   ]
  },
  {
   "cell_type": "code",
   "execution_count": 9,
   "id": "5a5a73bd-1d80-46b7-9003-396539aa45b2",
   "metadata": {},
   "outputs": [],
   "source": [
    "# corpus, queries, qrels = tasks['cosqa']\n",
    "# new_corpus = {}\n",
    "# new_qrels = {}\n",
    "\n",
    "# for _, row in expl_df.iterrows():\n",
    "#     base_corpus_id = row['corpus-id']  # Existing base document ID (e.g., d1, d2, etc.)\n",
    "#     query_id = row['query-id']         # Query ID (e.g., q1, q2, etc.)\n",
    "    \n",
    "#     # Iterate over multiple explanations and create new corpus entries\n",
    "#     for i in range(1, 4):  # Assuming 4 explanations per document\n",
    "#         explanation_col = f'explanation_deepseek_{i}_cleaned'\n",
    "#         if explanation_col in row and row[explanation_col] and row[explanation_col].strip():\n",
    "#             new_corpus_id = f\"{base_corpus_id}_{i}\"  # e.g., d1_1, d1_2, ...\n",
    "\n",
    "#             # Store new document in corpus\n",
    "#             new_corpus[new_corpus_id] = {\n",
    "#                 \"text\": row[explanation_col],\n",
    "#                 \"title\": \"\"\n",
    "#             }\n",
    "\n",
    "#             # Ensure the query is mapped to the new corpus ID\n",
    "#             if query_id not in new_qrels:\n",
    "#                 new_qrels[query_id] = {}  # Initialize query entry if missing\n",
    "            \n",
    "#             new_qrels[query_id][new_corpus_id] = 1  # Assign relevance score\n",
    "\n",
    "# corpus.update(new_corpus)\n",
    "# qrels.update(new_qrels)\n",
    "# tasks['cosqa'] = (corpus, queries, qrels)\n",
    "\n",
    "# print(f\"Total docs in expanded corpus: {len(corpus)}\")\n",
    "# print(f\"Total qrels entries: {sum(len(v) for v in qrels.values())}\")\n",
    "\n",
    "# # Print first few new corpus and qrel entries\n",
    "# print(next(iter(new_corpus.items())))  # Print first new corpus entry\n",
    "# print(next(iter(new_qrels.items())))  # Print first new qrel entry\n"
   ]
  },
  {
   "cell_type": "code",
   "execution_count": 10,
   "id": "889cd8d9-d953-428e-a414-e65ef083bedd",
   "metadata": {},
   "outputs": [],
   "source": [
    "# corpus, queries, qrels = tasks['cosqa']\n",
    "# corpus_ids = sorted(corpus, key=lambda k: len(corpus[k].get(\"title\", \"\") + corpus[k].get(\"text\", \"\")), reverse=True)\n",
    "# corpus = [corpus[cid] for cid in corpus_ids]"
   ]
  },
  {
   "cell_type": "code",
   "execution_count": 11,
   "id": "dc9a93e2-6b9d-4048-9e98-cdc8b8e4775d",
   "metadata": {},
   "outputs": [],
   "source": [
    "# all_texts = [\"passage: \"+ doc['text'] for doc in corpus]\n",
    "# len(all_texts)"
   ]
  },
  {
   "cell_type": "code",
   "execution_count": 12,
   "id": "5a6ed5c0-2903-4432-8cbc-f26c16a7f16a",
   "metadata": {},
   "outputs": [],
   "source": [
    "# qrels['q20105']"
   ]
  },
  {
   "cell_type": "code",
   "execution_count": 13,
   "id": "bb0979dd-31a0-4c8e-9d57-4b96e4eaac0d",
   "metadata": {},
   "outputs": [],
   "source": [
    "# for doc in corpus.values():\n",
    "#     print(doc)\n",
    "#     break"
   ]
  },
  {
   "cell_type": "markdown",
   "id": "3403ceb3-2d81-4282-a89b-1a76c55fca6b",
   "metadata": {
    "tags": []
   },
   "source": [
    "#### single explanation"
   ]
  },
  {
   "cell_type": "code",
   "execution_count": 14,
   "id": "849b166e-2dc4-46cb-83ab-12314d8fb1cc",
   "metadata": {},
   "outputs": [
    {
     "name": "stdout",
     "output_type": "stream",
     "text": [
      "{'text': 'The doc string and code both write the boolean value 1 to the stream. The code uses a condition based on n, flipping between TRUE and FALSE values. The stream is a mechanism for writing to a binary stream.The docstring and code both write the boolean value 1 to the stream. The code uses a condition based on n, flipping between TRUE and FALSE values. The stream is a mechanism for writing to a binary stream.', 'title': ''}\n",
      "Total docs in corpus after replacement: 20604\n",
      "Number of docs still missing 'text': 0\n"
     ]
    }
   ],
   "source": [
    "# # Unpack the tuple\n",
    "corpus, queries, qrels = tasks['cosqa']\n",
    "\n",
    "for _, row in expl_df.iterrows():\n",
    "    corpus_id = row['corpus-id']\n",
    "    explanation = row['explanation_deepseek_1_cleaned']\n",
    "\n",
    "    if corpus_id in corpus and explanation and explanation.strip():\n",
    "        corpus[corpus_id]['text'] = explanation  \n",
    "\n",
    "corpus = {doc_id: doc for doc_id, doc in corpus.items() if 'text' in doc and doc['text'].strip()}\n",
    "print(corpus['d1'])\n",
    "tasks['cosqa'] = (corpus, queries, qrels)\n",
    "\n",
    "print(f\"Total docs in corpus after replacement: {len(tasks['cosqa'][0])}\")\n",
    "missing_text = sum(1 for doc in tasks['cosqa'][0].values() if not doc.get('text'))\n",
    "print(f\"Number of docs still missing 'text': {missing_text}\")\n"
   ]
  },
  {
   "cell_type": "code",
   "execution_count": 15,
   "id": "74fce90b-6a57-443b-a287-e57b456abb97",
   "metadata": {},
   "outputs": [
    {
     "name": "stdout",
     "output_type": "stream",
     "text": [
      "{'text': 'The code snippet defines a function `_unzip_handle` that takes a `handle` as input. If the handle is a string, it uses `_gzip_open_filename` to convert it, otherwise, it uses `_gzip_open_handle`. The function returns the handle after conversion. The docstring explains that it unzips the file handle, handling strings by converting them to filename handles. The code is concise and explains the process clearly.', 'title': ''}\n"
     ]
    }
   ],
   "source": [
    "print(corpus['d20604'])"
   ]
  },
  {
   "cell_type": "markdown",
   "id": "b955078a-838c-4b08-9439-5f27d2f9039a",
   "metadata": {
    "tags": []
   },
   "source": [
    "### Running the pipeline"
   ]
  },
  {
   "cell_type": "code",
   "execution_count": 16,
   "id": "b03db9fc-b19e-48e8-a179-9c2c5292e6f9",
   "metadata": {},
   "outputs": [
    {
     "name": "stdout",
     "output_type": "stream",
     "text": [
      "YourCustomDEModel init\n",
      "COIR init!\n",
      "in evaluation.py: loading up dres\n",
      "\n",
      "in evaluation.py: retrieving\n",
      "\n",
      "in beir/retrieval/evaluation.py: loading up search\n",
      "\n",
      "len of queries:  500\n"
     ]
    },
    {
     "name": "stderr",
     "output_type": "stream",
     "text": [
      "Encoding batches: 100%|██████████| 2/2 [00:01<00:00,  1.87batch/s]\n"
     ]
    },
    {
     "name": "stdout",
     "output_type": "stream",
     "text": [
      "len of corpus:  20604\n"
     ]
    },
    {
     "name": "stderr",
     "output_type": "stream",
     "text": [
      "Encoding batches: 100%|██████████| 81/81 [00:32<00:00,  2.51batch/s]\n"
     ]
    },
    {
     "name": "stdout",
     "output_type": "stream",
     "text": [
      "in evaluation.py: evaluating\n",
      "\n",
      "in beir/retrieval/evaluation.py: evaluating now\n",
      "\n",
      "Retrieval evaluation results saved to results/intfloat/e5-base-v2/explanation_deepseek_1_baseline1\n",
      "{'cosqa': {'NDCG': {'NDCG@1': 0.218, 'NDCG@3': 0.29717, 'NDCG@5': 0.32857, 'NDCG@10': 0.37425, 'NDCG@100': 0.43706, 'NDCG@1000': 0.4518}, 'MAP': {'MAP@1': 0.218, 'MAP@3': 0.27633, 'MAP@5': 0.29333, 'MAP@10': 0.31243, 'MAP@100': 0.3251, 'MAP@1000': 0.32573}, 'Recall': {'Recall@1': 0.218, 'Recall@3': 0.358, 'Recall@5': 0.436, 'Recall@10': 0.576, 'Recall@100': 0.874, 'Recall@1000': 0.986}, 'Precision': {'P@1': 0.218, 'P@3': 0.11933, 'P@5': 0.0872, 'P@10': 0.0576, 'P@100': 0.00874, 'P@1000': 0.00099}}}\n"
     ]
    }
   ],
   "source": [
    "model_name = \"intfloat/e5-base-v2\"\n",
    "model = YourCustomDEModel(model_name=model_name)\n",
    "\n",
    "evaluation = COIR(tasks=tasks,batch_size=256)\n",
    "\n",
    "results = evaluation.run(model, output_folder=f\"results/{model_name}/explanation_deepseek_1_baseline1\")\n",
    "print(results)"
   ]
  },
  {
   "cell_type": "code",
   "execution_count": 17,
   "id": "ba7e8c05-b966-4c91-b5af-6a12dc319484",
   "metadata": {},
   "outputs": [],
   "source": [
    "# models_list = [\"BAAI/bge-base-en\", \"intfloat/e5-base-v2\", \"sentence-transformers/all-MiniLM-L6-v2\", \"microsoft/unixcoder-base\", \"infly/inf-retriever-v1-1.5b\", \"Alibaba-NLP/gte-Qwen2-1.5B-instruct\", \"google-bert/bert-base-uncased\"]  # Add your models here\n",
    "\n",
    "# for model_name in models_list:\n",
    "#     model = YourCustomDEModel(model_name=model_name)\n",
    "    \n",
    "#     evaluation = COIR(tasks=tasks, batch_size=128)\n",
    "    \n",
    "#     results = evaluation.run(model, output_folder=f\"results/{model_name}_explanation_granite_1\")\n",
    "    \n",
    "#     print(f\"Results for {model_name}: {results}\")\n"
   ]
  }
 ],
 "metadata": {
  "kernelspec": {
   "display_name": "“virtual-env”",
   "language": "python",
   "name": "vaishnavisha-virtual-env"
  },
  "language_info": {
   "codemirror_mode": {
    "name": "ipython",
    "version": 3
   },
   "file_extension": ".py",
   "mimetype": "text/x-python",
   "name": "python",
   "nbconvert_exporter": "python",
   "pygments_lexer": "ipython3",
   "version": "3.8.20"
  }
 },
 "nbformat": 4,
 "nbformat_minor": 5
}
