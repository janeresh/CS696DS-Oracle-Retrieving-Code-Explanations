{
 "cells": [
  {
   "cell_type": "code",
   "execution_count": 1,
   "id": "15aa88a1-3037-4777-9a39-ba6be4ca8043",
   "metadata": {},
   "outputs": [
    {
     "name": "stderr",
     "output_type": "stream",
     "text": [
      "/work/pi_wenlongzhao_umass_edu/27/vaishnavisha/envs/virtual-env/lib/python3.8/site-packages/tqdm/auto.py:21: TqdmWarning: IProgress not found. Please update jupyter and ipywidgets. See https://ipywidgets.readthedocs.io/en/stable/user_install.html\n",
      "  from .autonotebook import tqdm as notebook_tqdm\n"
     ]
    }
   ],
   "source": [
    "import pandas as pd\n",
    "\n",
    "df = pd.read_parquet(\"hf://datasets/vaishnavisha/retrieved_results_cosqa_upd_baseline_dres_BAAI_bge-base-en/data/train-00000-of-00001.parquet\")"
   ]
  },
  {
   "cell_type": "code",
   "execution_count": 2,
   "id": "9be3f691-3371-4aec-9c89-f14af6cd0045",
   "metadata": {},
   "outputs": [
    {
     "name": "stdout",
     "output_type": "stream",
     "text": [
      "Total queries: 500, Total retrieved docs: 500000\n"
     ]
    }
   ],
   "source": [
    "# total q & retrieved docs\n",
    "\n",
    "total_queries = df['query_id'].nunique()\n",
    "total_retrieved_docs = len(df)\n",
    "print(f\"Total queries: {total_queries}, Total retrieved docs: {total_retrieved_docs}\")\n"
   ]
  },
  {
   "cell_type": "code",
   "execution_count": 3,
   "id": "bcab250d-54be-4250-98d3-2a2cccfa0756",
   "metadata": {},
   "outputs": [
    {
     "name": "stdout",
     "output_type": "stream",
     "text": [
      "   ground_truth_relevance   count\n",
      "0                       0  499510\n",
      "1                       1     490\n"
     ]
    }
   ],
   "source": [
    "# distribution of relevance labels\n",
    "\n",
    "relevance_distribution = df['ground_truth_relevance'].value_counts().reset_index()\n",
    "relevance_distribution.columns = ['ground_truth_relevance', 'count']\n",
    "print(relevance_distribution)\n"
   ]
  },
  {
   "cell_type": "code",
   "execution_count": 6,
   "id": "fdb3bf4b-d387-44b1-b206-bffe7dc2a84a",
   "metadata": {},
   "outputs": [
    {
     "name": "stdout",
     "output_type": "stream",
     "text": [
      "Queries with relevant doc in top 5: 159 out of 500\n"
     ]
    }
   ],
   "source": [
    "# Precision@5: Queries with relevant docs in top 5\n",
    "\n",
    "ranked = df.copy()\n",
    "ranked['rank'] = ranked.groupby('query_id')['score'].rank(ascending=False, method='first')\n",
    "prec_at_5 = ranked[(ranked['rank'] <= 5) & (ranked['ground_truth_relevance'] == 1)]\n",
    "queries_with_relevant_in_top5 = prec_at_5['query_id'].nunique()\n",
    "print(f\"Queries with relevant doc in top 5: {queries_with_relevant_in_top5} out of {(total_queries)}\")\n"
   ]
  },
  {
   "cell_type": "code",
   "execution_count": 7,
   "id": "ee86222c-916f-4710-8373-68961f08a82a",
   "metadata": {},
   "outputs": [
    {
     "name": "stdout",
     "output_type": "stream",
     "text": [
      "   ground_truth_relevance      mean       min       max\n",
      "0                       0  0.821635  0.768250  0.921884\n",
      "1                       1  0.860586  0.801716  0.921884\n"
     ]
    }
   ],
   "source": [
    "# score distribution\n",
    "\n",
    "score_stats = df.groupby('ground_truth_relevance')['score'].agg(['mean', 'min', 'max']).reset_index()\n",
    "print(score_stats)"
   ]
  },
  {
   "cell_type": "code",
   "execution_count": 8,
   "id": "e026e270-057e-407c-8bca-a706fce481d1",
   "metadata": {},
   "outputs": [
    {
     "name": "stdout",
     "output_type": "stream",
     "text": [
      "                                         retrieved_code  query_id\n",
      "1860  \\ndef coords_from_query(query):\\n\\n    try:\\n ...       390\n",
      "3491  \\ndef inventory(self, source_id, fetch=False, ...       282\n",
      "3668  \\ndef is_stats_query(query):\\n\\n    if not que...       274\n",
      "4685  \\ndef querySQL(self, sql, args=()):\\n\\n    if ...       271\n",
      "4687  \\ndef query_fetch_one(self, query, values):\\n\\...       267\n",
      "4605  \\ndef print_runs(query):\\n\\n    if query is No...       258\n",
      "3146  \\ndef get_sql(query):\\n\\n    sql = str(query.s...       253\n",
      "1329  \\ndef atlasdb_format_query(query, values):\\n\\n...       248\n",
      "4442  \\ndef parse_query_string(query):\\n\\n    result...       247\n",
      "5459  \\ndef sqlmany(self, stringname, *args):\\n\\n   ...       237\n"
     ]
    }
   ],
   "source": [
    "# Duplicated retrieved_code across different queries\n",
    "\n",
    "duplicates = df.groupby('retrieved_code')['query_id'].nunique().reset_index()\n",
    "duplicates = duplicates[duplicates['query_id'] > 1].sort_values(by='query_id', ascending=False).head(10)\n",
    "print(duplicates)"
   ]
  },
  {
   "cell_type": "code",
   "execution_count": 9,
   "id": "a9db8060-5af7-454f-8658-266bd2f3a05f",
   "metadata": {},
   "outputs": [
    {
     "name": "stdout",
     "output_type": "stream",
     "text": [
      "Queries with no relevant docs: 10\n"
     ]
    }
   ],
   "source": [
    "# Queries with no relevant docs at all\n",
    "\n",
    "no_rel_queries = df.groupby('query_id')['ground_truth_relevance'].sum()\n",
    "no_rel_queries = no_rel_queries[no_rel_queries == 0].index.tolist()\n",
    "print(f\"Queries with no relevant docs: {len(no_rel_queries)}\")"
   ]
  },
  {
   "cell_type": "code",
   "execution_count": 13,
   "id": "c47fe65e-8503-437b-bcc7-fb825a784182",
   "metadata": {},
   "outputs": [
    {
     "name": "stdout",
     "output_type": "stream",
     "text": [
      "    query_id  distinct_explanations\n",
      "387   q20492                    984\n",
      "261   q20366                    985\n",
      "375   q20480                    985\n",
      "326   q20431                    985\n",
      "9     q20114                    985\n",
      "219   q20324                    985\n",
      "110   q20215                    985\n",
      "378   q20483                    986\n",
      "340   q20445                    986\n",
      "260   q20365                    987\n"
     ]
    }
   ],
   "source": [
    "# Queries always retrieving the same explanation\n",
    "\n",
    "same_expl = df.groupby('query_id')['retrieved_explanation'].nunique().reset_index()\n",
    "same_expl.columns = ['query_id', 'distinct_explanations']\n",
    "same_expl = same_expl.sort_values('distinct_explanations').head(10)\n",
    "print(same_expl)"
   ]
  },
  {
   "cell_type": "code",
   "execution_count": 14,
   "id": "cc6bd8db-0320-4631-8d9e-a653bec93e14",
   "metadata": {},
   "outputs": [
    {
     "name": "stdout",
     "output_type": "stream",
     "text": [
      "          avg_rel_score  avg_irrel_score  score_gap\n",
      "query_id                                           \n",
      "q20148         0.801716         0.811687  -0.009970\n",
      "q20357         0.813210         0.821074  -0.007864\n",
      "q20349         0.830722         0.837616  -0.006894\n",
      "q20368         0.819490         0.826204  -0.006715\n",
      "q20371         0.818292         0.824556  -0.006264\n",
      "q20163         0.814860         0.820966  -0.006106\n",
      "q20374         0.823833         0.829288  -0.005455\n",
      "q20398         0.824209         0.829141  -0.004932\n",
      "q20419         0.822557         0.826802  -0.004245\n",
      "q20393         0.821702         0.825901  -0.004200\n"
     ]
    }
   ],
   "source": [
    "#  Average relevant vs irrelevant scores per query\n",
    "\n",
    "score_diff = df.groupby('query_id').agg(\n",
    "    avg_rel_score=('score', lambda x: x[df.loc[x.index, 'ground_truth_relevance'] == 1].mean()),\n",
    "    avg_irrel_score=('score', lambda x: x[df.loc[x.index, 'ground_truth_relevance'] == 0].mean())\n",
    ").dropna()\n",
    "score_diff['score_gap'] = score_diff['avg_rel_score'] - score_diff['avg_irrel_score']\n",
    "score_diff = score_diff.sort_values('score_gap')\n",
    "print(score_diff.head(10))"
   ]
  },
  {
   "cell_type": "code",
   "execution_count": 17,
   "id": "70eeddc7-e175-48b9-8291-3507603b9a0c",
   "metadata": {},
   "outputs": [
    {
     "name": "stdout",
     "output_type": "stream",
     "text": [
      "                                retrieved_explanation  \\\n",
      "73  The code reads text from a file and returns th...   \n",
      "75  The code removes the specified key from each d...   \n",
      "81  The code sets self._should_quit to True and re...   \n",
      "52  The code fills NaN values with a specified fil...   \n",
      "33  The code constructs an adjacency matrix for a ...   \n",
      "71  The code reads credentials from a file, extrac...   \n",
      "35  The code converts a datetime object to a date ...   \n",
      "68  The code reads a file from the given filepath ...   \n",
      "25  The code checks if two Index objects are equal...   \n",
      "66  The code reads a JSON file and returns its con...   \n",
      "\n",
      "                            retrieved_doc_id  num_doc_ids  \n",
      "73  [d18574, d18395, d19486, d17213, d17787]            5  \n",
      "75          [d16680, d17535, d19453, d19517]            4  \n",
      "81          [d18806, d19535, d17443, d19482]            4  \n",
      "52                      [d2748, d312, d6707]            3  \n",
      "33                     [d7085, d4319, d4354]            3  \n",
      "71                     [d2568, d1612, d3871]            3  \n",
      "35                      [d162, d12663, d349]            3  \n",
      "68                   [d11166, d4792, d20452]            3  \n",
      "25                  [d16789, d17761, d18366]            3  \n",
      "66                    [d4914, d7480, d11559]            3  \n"
     ]
    }
   ],
   "source": [
    "# different retrieved_doc_id s with same retrieved explanations\n",
    "\n",
    "dup_expl = df.groupby('retrieved_explanation')['retrieved_doc_id'].nunique().reset_index()\n",
    "dup_expl = dup_expl[dup_expl['retrieved_doc_id'] > 1]\n",
    "\n",
    "shared_expl = df[df['retrieved_explanation'].isin(dup_expl['retrieved_explanation'])]\n",
    "\n",
    "grouped_shared = shared_expl.groupby('retrieved_explanation')['retrieved_doc_id'].unique().reset_index()\n",
    "grouped_shared['num_doc_ids'] = grouped_shared['retrieved_doc_id'].apply(len)\n",
    "\n",
    "print(grouped_shared.sort_values('num_doc_ids', ascending=False).head(10))"
   ]
  },
  {
   "cell_type": "code",
   "execution_count": null,
   "id": "855934ac-293f-4934-b115-1a6438d80cee",
   "metadata": {},
   "outputs": [],
   "source": []
  }
 ],
 "metadata": {
  "kernelspec": {
   "display_name": "“virtual-env”",
   "language": "python",
   "name": "vaishnavisha-virtual-env"
  },
  "language_info": {
   "codemirror_mode": {
    "name": "ipython",
    "version": 3
   },
   "file_extension": ".py",
   "mimetype": "text/x-python",
   "name": "python",
   "nbconvert_exporter": "python",
   "pygments_lexer": "ipython3",
   "version": "3.8.20"
  }
 },
 "nbformat": 4,
 "nbformat_minor": 5
}
