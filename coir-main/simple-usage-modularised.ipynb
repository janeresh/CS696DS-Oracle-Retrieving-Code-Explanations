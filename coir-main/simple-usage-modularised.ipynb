{
 "cells": [
  {
   "cell_type": "markdown",
   "id": "5badc6fb-56b3-4e00-8c3e-a34482dbe593",
   "metadata": {
    "jp-MarkdownHeadingCollapsed": true,
    "tags": []
   },
   "source": [
    "#### things to make modular\n",
    "* query expansion\n",
    "* query expansion result aggregation method\n",
    "* using clean corpus\n",
    "* retrieval method (dres/bm25)"
   ]
  },
  {
   "cell_type": "markdown",
   "id": "c1239c3e-a778-4150-893d-53ddaadbf38e",
   "metadata": {
    "tags": []
   },
   "source": [
    "#### imports"
   ]
  },
  {
   "cell_type": "code",
   "execution_count": 1,
   "id": "9fd6b5e4-b2b9-4ba7-80c0-79f6c79b457a",
   "metadata": {},
   "outputs": [],
   "source": [
    "from coir.data_loader import get_tasks\n",
    "from coir.evaluation import COIR\n",
    "from coir.models import YourCustomDEModel\n",
    "from datasets import load_dataset, Dataset, concatenate_datasets\n",
    "import pandas as pd\n",
    "from query_expansion import expand_queries_and_qrels\n",
    "from functions import * \n",
    "from collections import defaultdict\n",
    "from corpus_expansion import expand_corpus\n",
    "import copy"
   ]
  },
  {
   "cell_type": "code",
   "execution_count": 2,
   "id": "06a2d35f-3355-4e71-a5ca-f223b107f890",
   "metadata": {},
   "outputs": [],
   "source": [
    "cosqa_expl_path = '/work/pi_wenlongzhao_umass_edu/27/anamikaghosh/Cosqa/CoSQA_explanations_query_code.csv'\n",
    "cosqa_deepseek_updated_path='/work/pi_wenlongzhao_umass_edu/27/anamikaghosh/CS696DS-Oracle-Retrieving-Code-Explanations/Explanation_Generation/Cosqa/postprocessing/output/COSQA_deepseek_explanations_clean.csv'\n",
    "cosqa_granite_updated_path='/work/pi_wenlongzhao_umass_edu/27/anamikaghosh/CS696DS-Oracle-Retrieving-Code-Explanations/Explanation_Generation/Cosqa/postprocessing/output/COSQA_granite_explanations_clean.csv'\n",
    "cosqa_deepseek_temp_0_qe_path = '/work/pi_wenlongzhao_umass_edu/27/janet/query_expansion/results/cosqa/cosqa_queries_expanded_deepseek_temp_0.csv'\n",
    "cosqa_queries_expanded_granite_temp_0pt5_mmr_2_path='/work/pi_wenlongzhao_umass_edu/27/janet/query_expansion/results/cosqa/cosqa_queries_expanded_granite_temp_0.5_mmr_2.csv'\n",
    "cosqa_queries_variants_expanded_deepseek= '/work/pi_wenlongzhao_umass_edu/27/janet/query_expansion/results/cosqa/variants_based_prompting/cosqa_queries_variants_expanded_deepseek.csv'\n",
    "cosqa_queries_variants_expanded_granite='/work/pi_wenlongzhao_umass_edu/27/janet/query_expansion/results/cosqa/variants_based_prompting/cosqa_queries_variants_expanded_granite.csv'\n",
    "cosqa_granite_variants_corpus_expansions = '/work/pi_wenlongzhao_umass_edu/27/anamikaghosh/CS696DS-Oracle-Retrieving-Code-Explanations/Explanation_Generation/Cosqa/postprocessing/output/COSQA_granite_explanations_clean_new_prompts.csv'\n",
    "csn_queries_expanded_granite_temp_0pt5_mmr_path = '/work/pi_wenlongzhao_umass_edu/27/janet/query_expansion/results/csn/csn_test_queries_expanded_granite_temp_0.5_mmr.csv'\n",
    "csn_deepseek_path = '/work/pi_wenlongzhao_umass_edu/27/anamikaghosh/CS696DS-Oracle-Retrieving-Code-Explanations/Explanation_Generation/output/CSN_deepseek.csv'\n",
    "csn_granite_path = '/work/pi_wenlongzhao_umass_edu/27/anamikaghosh/CS696DS-Oracle-Retrieving-Code-Explanations/Explanation_Generation/output/CSN_granite.csv'\n",
    "csn_code_based_queries_expanded = '/work/pi_wenlongzhao_umass_edu/27/janet/query_expansion/results/csn/csn_test_queries_expanded_granite_code_based.csv'\n",
    "csn_test_queries_variants_expanded_granite = '/work/pi_wenlongzhao_umass_edu/27/janet/query_expansion/results/csn/variants_based_prompting/csn_test_queries_variants_expanded_granite.csv'\n",
    "csn_test_queries_variants_expanded_deepseek= '/work/pi_wenlongzhao_umass_edu/27/janet/query_expansion/results/csn/variants_based_prompting/csn_test_queries_variants_expanded_deepseek.csv'\n",
    "csn_granite_test_variants_corpus_expansions = '/work/pi_wenlongzhao_umass_edu/27/anamikaghosh/CS696DS-Oracle-Retrieving-Code-Explanations/Explanation_Generation/postprocessing/output/CSN_granite_test_clean_new_prompts.csv'\n",
    "csn_granite_train_variants_corpus_expansions= '/work/pi_wenlongzhao_umass_edu/27/anamikaghosh/CS696DS-Oracle-Retrieving-Code-Explanations/Explanation_Generation/postprocessing/output/CSN_granite_train_clean_new_prompts.csv'\n",
    "csn_granite_valid_variants_corpus_expansions = '/work/pi_wenlongzhao_umass_edu/27/anamikaghosh/CS696DS-Oracle-Retrieving-Code-Explanations/Explanation_Generation/postprocessing/output/CSN_granite_valid_clean_new_prompts.csv'"
   ]
  },
  {
   "cell_type": "markdown",
   "id": "f69384e0-ec1f-4b4c-b0c7-d851ca2dd144",
   "metadata": {
    "tags": []
   },
   "source": [
    "#### No QE"
   ]
  },
  {
   "cell_type": "code",
   "execution_count": 3,
   "id": "8f9090a8-2ab7-4664-a65b-0bfcd71c94b6",
   "metadata": {},
   "outputs": [
    {
     "name": "stdout",
     "output_type": "stream",
     "text": [
      "in tasks \n",
      "data loader init\n"
     ]
    },
    {
     "data": {
      "application/vnd.jupyter.widget-view+json": {
       "model_id": "044a831c031843038babc7c6e4640199",
       "version_major": 2,
       "version_minor": 0
      },
      "text/plain": [
       "0it [00:00, ?it/s]"
      ]
     },
     "metadata": {},
     "output_type": "display_data"
    }
   ],
   "source": [
    "dataset_name = \"cosqa\" #CodeSearchNet-python  or cosqa\n",
    "tasks = load_data(dataset_name)\n",
    "corpus, queries, qrels = tasks[dataset_name]"
   ]
  },
  {
   "cell_type": "code",
   "execution_count": 4,
   "id": "60906e5b-9901-4941-a1c8-9d0acf30dedc",
   "metadata": {},
   "outputs": [],
   "source": [
    "df= pd.read_csv(cosqa_granite_updated_path) # csn_granite_path or cosqa_deepseek_updated_path\n",
    "corpus = update_corpus_with_cleaned_code(corpus, df) # updating the corpus with no comments in code\n",
    "tasks[dataset_name] = (corpus, queries, qrels)"
   ]
  },
  {
   "cell_type": "markdown",
   "id": "f9fd7f81-5e3d-45d5-9ddc-615f44ecc51d",
   "metadata": {
    "jp-MarkdownHeadingCollapsed": true,
    "tags": []
   },
   "source": [
    "#### Query Expansion"
   ]
  },
  {
   "cell_type": "code",
   "execution_count": 3,
   "id": "4ac09cf8-957a-4045-af3c-520ec5511d69",
   "metadata": {},
   "outputs": [
    {
     "name": "stdout",
     "output_type": "stream",
     "text": [
      "in tasks \n",
      "data loader init\n"
     ]
    },
    {
     "data": {
      "application/vnd.jupyter.widget-view+json": {
       "model_id": "1671f37151bf4c53a0bcdd5ced196411",
       "version_major": 2,
       "version_minor": 0
      },
      "text/plain": [
       "0it [00:00, ?it/s]"
      ]
     },
     "metadata": {},
     "output_type": "display_data"
    }
   ],
   "source": [
    "# CSN qe variants \n",
    "# csn_variants_qe_df = pd.read_csv(csn_test_queries_variants_expanded_deepseek)\n",
    "# csn_variants_qe_df = csn_variants_qe_df.rename(columns= {'generated_explanation': 'expanded_query'})\n",
    "\n",
    "# dataset_name = \"CodeSearchNet-python\"\n",
    "# tasks = load_data(dataset_name)\n",
    "# corpus, queries, qrels = tasks[dataset_name]\n",
    "\n",
    "# df= pd.read_csv(csn_granite_path) # csn_granite_path or cosqa_deepseek_updated_path\n",
    "# corpus = update_corpus_with_cleaned_code(corpus, df) # updating the corpus with no comments in code\n",
    "# tasks[dataset_name] = (corpus, queries, qrels)\n",
    "\n",
    "# # updating queries for qe\n",
    "# new_queries, new_qrels = expand_queries_and_qrels(csn_variants_qe_df, qrels)\n",
    "# tasks[dataset_name] = (corpus, new_queries, qrels)\n",
    "\n",
    "\n",
    "# CSN code based qe\n",
    "# csn_code_based_qe_df = pd.read_csv(csn_code_based_queries_expanded)\n",
    "# csn_code_based_qe_df=csn_code_based_qe_df.rename(columns={'explanation': 'expanded_query'})\n",
    "# csn_code_based_qe_df=csn_code_based_qe_df.rename(columns={'id': 'v_id'})\n",
    "# csn_code_based_qe_df=csn_code_based_qe_df.rename(columns={'query_id': 'id'})\n",
    "\n",
    "# dataset_name = \"CodeSearchNet-python\"\n",
    "# tasks = load_data(dataset_name)\n",
    "# corpus, queries, qrels = tasks[dataset_name]\n",
    "\n",
    "# df= pd.read_csv(csn_granite_path) # csn_granite_path or cosqa_deepseek_updated_path\n",
    "# corpus = update_corpus_with_cleaned_code(corpus, df) # updating the corpus with no comments in code\n",
    "# tasks[dataset_name] = (corpus, queries, qrels)\n",
    "\n",
    "# # updating queries for qe\n",
    "# new_queries, new_qrels = expand_queries_and_qrels(csn_code_based_qe_df, qrels)\n",
    "# tasks[dataset_name] = (corpus, new_queries, qrels)\n",
    "\n",
    "# CSN\n",
    "# csn_qe_df = pd.read_csv(csn_queries_expanded_granite_temp_0pt5_mmr_path)\n",
    "# csn_qe_df=csn_qe_df.rename(columns={'mmr_explanation': 'expanded_query'})\n",
    "\n",
    "# dataset_name = \"CodeSearchNet-python\"\n",
    "# tasks = load_data(dataset_name)\n",
    "# corpus, queries, qrels = tasks[dataset_name]\n",
    "\n",
    "# df= pd.read_csv(csn_granite_path) # csn_granite_path or cosqa_deepseek_updated_path\n",
    "# corpus = update_corpus_with_cleaned_code(corpus, df) # updating the corpus with no comments in code\n",
    "# tasks[dataset_name] = (corpus, queries, qrels)\n",
    "\n",
    "# # updating queries for qe\n",
    "# new_queries, new_qrels = expand_queries_and_qrels(csn_qe_df, qrels)\n",
    "# tasks[dataset_name] = (corpus, new_queries, qrels)\n",
    "\n",
    "# COSQA\n",
    "dataset_name = \"cosqa\"\n",
    "tasks = load_data(dataset_name)\n",
    "corpus, queries, qrels = tasks[dataset_name]\n",
    "\n",
    "# expanded df\n",
    "cosqa_qe_df = pd.read_csv(cosqa_queries_variants_expanded_deepseek)\n",
    "cosqa_qe_df = cosqa_qe_df.rename(columns={'generated_explanation': 'expanded_query'})\n",
    "cosqa_qe_df = cosqa_qe_df[cosqa_qe_df[\"id\"].isin(queries.keys())]\n",
    "\n",
    "\n",
    "# updating the corpus with no comments in code\n",
    "# df= pd.read_csv(cosqa_granite_updated_path)\n",
    "# new_corpus = update_corpus_with_cleaned_code(corpus, df) \n",
    "\n",
    "# updating the corpus with corpus expansions\n",
    "df=pd.read_csv(cosqa_granite_variants_corpus_expansions) \n",
    "new_corpus = expand_corpus(corpus, df)\n",
    "\n",
    "# updating queries for qe\n",
    "new_queries, new_qrels = expand_queries_and_qrels(cosqa_qe_df, qrels)\n",
    "tasks[dataset_name] = (new_corpus, new_queries, qrels)"
   ]
  },
  {
   "cell_type": "markdown",
   "id": "f349fbf4-4bf8-4616-8c6a-bc33c1f5ff3a",
   "metadata": {
    "tags": []
   },
   "source": [
    "#### Explanations"
   ]
  },
  {
   "cell_type": "code",
   "execution_count": 4,
   "id": "c5002aa4-93ad-43cd-95d1-92d0d43f3374",
   "metadata": {},
   "outputs": [
    {
     "name": "stdout",
     "output_type": "stream",
     "text": [
      "Total docs in corpus after replacement: 103020\n",
      "Number of docs still missing 'text': 0\n"
     ]
    }
   ],
   "source": [
    "# if you want to add explanations (deepseek / granite) (cosqa / csn)\n",
    "tasks_expl = copy.deepcopy(tasks)\n",
    "#add_expl(tasks_expl, dataset_name, csn_granite_path, \"explanation_granite_1\") # adding explanation instead of code\n",
    "#add_expl(tasks, \"CodeSearchNet-python\", csn_deepseek_path, \"explanation_deepseek_1\") # adding explanation instead of code\n",
    "add_expl(tasks_expl, \"cosqa\", cosqa_granite_updated_path, \"explanation_granite_1_cleaned\") # adding explanation instead of code"
   ]
  },
  {
   "cell_type": "markdown",
   "id": "736d1ff2-83e5-4d28-a6a9-8787ca69e332",
   "metadata": {
    "tags": []
   },
   "source": [
    "#### Running the pipeline"
   ]
  },
  {
   "cell_type": "code",
   "execution_count": 5,
   "id": "5c219aa5-79ac-40bd-ae24-223efe05ca11",
   "metadata": {
    "tags": []
   },
   "outputs": [],
   "source": [
    "c,b,a = tasks[dataset_name]\n",
    "f,e,d = tasks_expl[dataset_name]"
   ]
  },
  {
   "cell_type": "code",
   "execution_count": 4,
   "id": "764315d5-e96e-4fba-82b6-0ca7c2374e66",
   "metadata": {},
   "outputs": [
    {
     "name": "stdout",
     "output_type": "stream",
     "text": [
      "YourCustomDEModel init\n",
      "COIR init!\n",
      "in evaluation.py: loading up dres\n",
      "\n",
      "in evaluation.py: retrieving\n",
      "\n",
      "in beir/retrieval/evaluation.py: loading up search\n",
      "\n",
      "in exact_search.py\n",
      "len of queries:  2500\n"
     ]
    },
    {
     "data": {
      "application/vnd.jupyter.widget-view+json": {
       "model_id": "bbf9de9691f749ce8aaafcc2db7e5551",
       "version_major": 2,
       "version_minor": 0
      },
      "text/plain": [
       "Encoding batches:   0%|          | 0/10 [00:00<?, ?batch/s]"
      ]
     },
     "metadata": {},
     "output_type": "display_data"
    },
    {
     "name": "stdout",
     "output_type": "stream",
     "text": [
      "len of corpus:  103020\n",
      "Encoding Corpus in batches... Warning: This might take a while!\n",
      "Scoring Function: Cosine Similarity (cos_sim)\n",
      "Encoding Batch 1/11...\n"
     ]
    },
    {
     "data": {
      "application/vnd.jupyter.widget-view+json": {
       "model_id": "37d8251fce1f480a948309144c3a9b34",
       "version_major": 2,
       "version_minor": 0
      },
      "text/plain": [
       "Encoding batches:   0%|          | 0/40 [00:00<?, ?batch/s]"
      ]
     },
     "metadata": {},
     "output_type": "display_data"
    },
    {
     "name": "stdout",
     "output_type": "stream",
     "text": [
      "Encoding Batch 2/11...\n"
     ]
    },
    {
     "data": {
      "application/vnd.jupyter.widget-view+json": {
       "model_id": "681b499d68be4f7d935b258455e987e2",
       "version_major": 2,
       "version_minor": 0
      },
      "text/plain": [
       "Encoding batches:   0%|          | 0/40 [00:00<?, ?batch/s]"
      ]
     },
     "metadata": {},
     "output_type": "display_data"
    },
    {
     "name": "stdout",
     "output_type": "stream",
     "text": [
      "Encoding Batch 3/11...\n"
     ]
    },
    {
     "data": {
      "application/vnd.jupyter.widget-view+json": {
       "model_id": "d6c2a20a53de4cb19394952470e8da56",
       "version_major": 2,
       "version_minor": 0
      },
      "text/plain": [
       "Encoding batches:   0%|          | 0/40 [00:00<?, ?batch/s]"
      ]
     },
     "metadata": {},
     "output_type": "display_data"
    },
    {
     "name": "stdout",
     "output_type": "stream",
     "text": [
      "Encoding Batch 4/11...\n"
     ]
    },
    {
     "data": {
      "application/vnd.jupyter.widget-view+json": {
       "model_id": "578f1b4d846c4a9699d38cf1dbb987a5",
       "version_major": 2,
       "version_minor": 0
      },
      "text/plain": [
       "Encoding batches:   0%|          | 0/40 [00:00<?, ?batch/s]"
      ]
     },
     "metadata": {},
     "output_type": "display_data"
    },
    {
     "name": "stdout",
     "output_type": "stream",
     "text": [
      "Encoding Batch 5/11...\n"
     ]
    },
    {
     "data": {
      "application/vnd.jupyter.widget-view+json": {
       "model_id": "2c180f06fe5d45f093f86548c5e2bf78",
       "version_major": 2,
       "version_minor": 0
      },
      "text/plain": [
       "Encoding batches:   0%|          | 0/40 [00:00<?, ?batch/s]"
      ]
     },
     "metadata": {},
     "output_type": "display_data"
    },
    {
     "name": "stdout",
     "output_type": "stream",
     "text": [
      "Encoding Batch 6/11...\n"
     ]
    },
    {
     "data": {
      "application/vnd.jupyter.widget-view+json": {
       "model_id": "df10f07bb2934498ae87d9c74c1d96ac",
       "version_major": 2,
       "version_minor": 0
      },
      "text/plain": [
       "Encoding batches:   0%|          | 0/40 [00:00<?, ?batch/s]"
      ]
     },
     "metadata": {},
     "output_type": "display_data"
    },
    {
     "name": "stdout",
     "output_type": "stream",
     "text": [
      "Encoding Batch 7/11...\n"
     ]
    },
    {
     "data": {
      "application/vnd.jupyter.widget-view+json": {
       "model_id": "e35ef8d93a944cd0ad9f966dd7eef2d4",
       "version_major": 2,
       "version_minor": 0
      },
      "text/plain": [
       "Encoding batches:   0%|          | 0/40 [00:00<?, ?batch/s]"
      ]
     },
     "metadata": {},
     "output_type": "display_data"
    },
    {
     "name": "stdout",
     "output_type": "stream",
     "text": [
      "Encoding Batch 8/11...\n"
     ]
    },
    {
     "data": {
      "application/vnd.jupyter.widget-view+json": {
       "model_id": "cfc58ad44cfb4769a965d3cf3811c542",
       "version_major": 2,
       "version_minor": 0
      },
      "text/plain": [
       "Encoding batches:   0%|          | 0/40 [00:00<?, ?batch/s]"
      ]
     },
     "metadata": {},
     "output_type": "display_data"
    },
    {
     "name": "stdout",
     "output_type": "stream",
     "text": [
      "Encoding Batch 9/11...\n"
     ]
    },
    {
     "data": {
      "application/vnd.jupyter.widget-view+json": {
       "model_id": "0a266cc790864c07b998caac9a5d22d5",
       "version_major": 2,
       "version_minor": 0
      },
      "text/plain": [
       "Encoding batches:   0%|          | 0/40 [00:00<?, ?batch/s]"
      ]
     },
     "metadata": {},
     "output_type": "display_data"
    },
    {
     "name": "stdout",
     "output_type": "stream",
     "text": [
      "Encoding Batch 10/11...\n"
     ]
    },
    {
     "data": {
      "application/vnd.jupyter.widget-view+json": {
       "model_id": "2fef9453a52c4ec1b8008b6b8c761a46",
       "version_major": 2,
       "version_minor": 0
      },
      "text/plain": [
       "Encoding batches:   0%|          | 0/40 [00:00<?, ?batch/s]"
      ]
     },
     "metadata": {},
     "output_type": "display_data"
    },
    {
     "name": "stdout",
     "output_type": "stream",
     "text": [
      "Encoding Batch 11/11...\n"
     ]
    },
    {
     "data": {
      "application/vnd.jupyter.widget-view+json": {
       "model_id": "30c802b7cf744e9697038e106f44b9ec",
       "version_major": 2,
       "version_minor": 0
      },
      "text/plain": [
       "Encoding batches:   0%|          | 0/12 [00:00<?, ?batch/s]"
      ]
     },
     "metadata": {},
     "output_type": "display_data"
    },
    {
     "name": "stdout",
     "output_type": "stream",
     "text": [
      "exact_search finished\n",
      "in evaluation.py: evaluating\n",
      "\n",
      "in beir/retrieval/evaluation.py: evaluating now\n",
      "\n",
      "in combine scores by average\n",
      "Retrieval evaluation results saved to results/cosqa/query_corpus_expansions/granite1/dres/intfloat/e5-base-v2\n",
      "{'cosqa': {'NDCG': {'NDCG@1': 0.09, 'NDCG@3': 0.14102, 'NDCG@5': 0.18104, 'NDCG@10': 0.2232, 'NDCG@100': 0.29518, 'NDCG@1000': 0.32331}, 'MAP': {'MAP@1': 0.09, 'MAP@3': 0.12767, 'MAP@5': 0.14967, 'MAP@10': 0.16751, 'MAP@100': 0.18097, 'MAP@1000': 0.182}, 'Recall': {'Recall@1': 0.09, 'Recall@3': 0.18, 'Recall@5': 0.278, 'Recall@10': 0.406, 'Recall@100': 0.756, 'Recall@1000': 0.98}, 'Precision': {'P@1': 0.09, 'P@3': 0.06, 'P@5': 0.0556, 'P@10': 0.0406, 'P@100': 0.00756, 'P@1000': 0.00098}}}\n",
      "YourCustomDEModel init\n",
      "COIR init!\n",
      "in evaluation.py: loading up dres\n",
      "\n",
      "in evaluation.py: retrieving\n",
      "\n",
      "in beir/retrieval/evaluation.py: loading up search\n",
      "\n",
      "in exact_search.py\n",
      "len of queries:  2500\n"
     ]
    },
    {
     "data": {
      "application/vnd.jupyter.widget-view+json": {
       "model_id": "d773c257bb404bdfa3d494ddf8afe320",
       "version_major": 2,
       "version_minor": 0
      },
      "text/plain": [
       "Encoding batches:   0%|          | 0/10 [00:00<?, ?batch/s]"
      ]
     },
     "metadata": {},
     "output_type": "display_data"
    },
    {
     "name": "stdout",
     "output_type": "stream",
     "text": [
      "len of corpus:  103020\n",
      "Encoding Corpus in batches... Warning: This might take a while!\n",
      "Scoring Function: Cosine Similarity (cos_sim)\n",
      "Encoding Batch 1/11...\n"
     ]
    },
    {
     "data": {
      "application/vnd.jupyter.widget-view+json": {
       "model_id": "0f9df676cd8a4f14a4fd88482f82946d",
       "version_major": 2,
       "version_minor": 0
      },
      "text/plain": [
       "Encoding batches:   0%|          | 0/40 [00:00<?, ?batch/s]"
      ]
     },
     "metadata": {},
     "output_type": "display_data"
    },
    {
     "name": "stdout",
     "output_type": "stream",
     "text": [
      "Encoding Batch 2/11...\n"
     ]
    },
    {
     "data": {
      "application/vnd.jupyter.widget-view+json": {
       "model_id": "2c96e6f3c7564392a57fbb333f401818",
       "version_major": 2,
       "version_minor": 0
      },
      "text/plain": [
       "Encoding batches:   0%|          | 0/40 [00:00<?, ?batch/s]"
      ]
     },
     "metadata": {},
     "output_type": "display_data"
    },
    {
     "name": "stdout",
     "output_type": "stream",
     "text": [
      "Encoding Batch 3/11...\n"
     ]
    },
    {
     "data": {
      "application/vnd.jupyter.widget-view+json": {
       "model_id": "bc0e99b6fbcd421aa581baea4d823c80",
       "version_major": 2,
       "version_minor": 0
      },
      "text/plain": [
       "Encoding batches:   0%|          | 0/40 [00:00<?, ?batch/s]"
      ]
     },
     "metadata": {},
     "output_type": "display_data"
    },
    {
     "name": "stdout",
     "output_type": "stream",
     "text": [
      "Encoding Batch 4/11...\n"
     ]
    },
    {
     "data": {
      "application/vnd.jupyter.widget-view+json": {
       "model_id": "1cf2a4048341484da33a11fbef421d5d",
       "version_major": 2,
       "version_minor": 0
      },
      "text/plain": [
       "Encoding batches:   0%|          | 0/40 [00:00<?, ?batch/s]"
      ]
     },
     "metadata": {},
     "output_type": "display_data"
    },
    {
     "name": "stdout",
     "output_type": "stream",
     "text": [
      "Encoding Batch 5/11...\n"
     ]
    },
    {
     "data": {
      "application/vnd.jupyter.widget-view+json": {
       "model_id": "146e01063a854cb6bb5f3c3ffffd4c92",
       "version_major": 2,
       "version_minor": 0
      },
      "text/plain": [
       "Encoding batches:   0%|          | 0/40 [00:00<?, ?batch/s]"
      ]
     },
     "metadata": {},
     "output_type": "display_data"
    },
    {
     "name": "stdout",
     "output_type": "stream",
     "text": [
      "Encoding Batch 6/11...\n"
     ]
    },
    {
     "data": {
      "application/vnd.jupyter.widget-view+json": {
       "model_id": "8a6cf0f669584699b31335f8838f1baf",
       "version_major": 2,
       "version_minor": 0
      },
      "text/plain": [
       "Encoding batches:   0%|          | 0/40 [00:00<?, ?batch/s]"
      ]
     },
     "metadata": {},
     "output_type": "display_data"
    },
    {
     "name": "stdout",
     "output_type": "stream",
     "text": [
      "Encoding Batch 7/11...\n"
     ]
    },
    {
     "data": {
      "application/vnd.jupyter.widget-view+json": {
       "model_id": "f9851885acfc46939525912aa7712f8b",
       "version_major": 2,
       "version_minor": 0
      },
      "text/plain": [
       "Encoding batches:   0%|          | 0/40 [00:00<?, ?batch/s]"
      ]
     },
     "metadata": {},
     "output_type": "display_data"
    },
    {
     "name": "stdout",
     "output_type": "stream",
     "text": [
      "Encoding Batch 8/11...\n"
     ]
    },
    {
     "data": {
      "application/vnd.jupyter.widget-view+json": {
       "model_id": "89dc224081ae4f17994cb0e13a67981a",
       "version_major": 2,
       "version_minor": 0
      },
      "text/plain": [
       "Encoding batches:   0%|          | 0/40 [00:00<?, ?batch/s]"
      ]
     },
     "metadata": {},
     "output_type": "display_data"
    },
    {
     "name": "stdout",
     "output_type": "stream",
     "text": [
      "Encoding Batch 9/11...\n"
     ]
    },
    {
     "data": {
      "application/vnd.jupyter.widget-view+json": {
       "model_id": "71b659e9d398415c914b96d9c190d898",
       "version_major": 2,
       "version_minor": 0
      },
      "text/plain": [
       "Encoding batches:   0%|          | 0/40 [00:00<?, ?batch/s]"
      ]
     },
     "metadata": {},
     "output_type": "display_data"
    },
    {
     "name": "stdout",
     "output_type": "stream",
     "text": [
      "Encoding Batch 10/11...\n"
     ]
    },
    {
     "data": {
      "application/vnd.jupyter.widget-view+json": {
       "model_id": "1482b0087c0e49ef96d9bc18ec786c52",
       "version_major": 2,
       "version_minor": 0
      },
      "text/plain": [
       "Encoding batches:   0%|          | 0/40 [00:00<?, ?batch/s]"
      ]
     },
     "metadata": {},
     "output_type": "display_data"
    },
    {
     "name": "stdout",
     "output_type": "stream",
     "text": [
      "Encoding Batch 11/11...\n"
     ]
    },
    {
     "data": {
      "application/vnd.jupyter.widget-view+json": {
       "model_id": "5d64c73091c7480fadb4a37113304655",
       "version_major": 2,
       "version_minor": 0
      },
      "text/plain": [
       "Encoding batches:   0%|          | 0/12 [00:00<?, ?batch/s]"
      ]
     },
     "metadata": {},
     "output_type": "display_data"
    },
    {
     "name": "stdout",
     "output_type": "stream",
     "text": [
      "exact_search finished\n",
      "in evaluation.py: evaluating\n",
      "\n",
      "in beir/retrieval/evaluation.py: evaluating now\n",
      "\n",
      "in combine scores by average\n",
      "Retrieval evaluation results saved to results/cosqa/query_corpus_expansions/granite1/dres/BAAI/bge-base-en\n",
      "{'cosqa': {'NDCG': {'NDCG@1': 0.096, 'NDCG@3': 0.14728, 'NDCG@5': 0.17559, 'NDCG@10': 0.22598, 'NDCG@100': 0.31499, 'NDCG@1000': 0.3323}, 'MAP': {'MAP@1': 0.096, 'MAP@3': 0.134, 'MAP@5': 0.1494, 'MAP@10': 0.17015, 'MAP@100': 0.18736, 'MAP@1000': 0.18802}, 'Recall': {'Recall@1': 0.096, 'Recall@3': 0.186, 'Recall@5': 0.256, 'Recall@10': 0.412, 'Recall@100': 0.84, 'Recall@1000': 0.976}, 'Precision': {'P@1': 0.096, 'P@3': 0.062, 'P@5': 0.0512, 'P@10': 0.0412, 'P@100': 0.0084, 'P@1000': 0.00098}}}\n",
      "Run failed: cannot unpack non-iterable NoneType object\n",
      "Run failed: cannot unpack non-iterable NoneType object\n"
     ]
    }
   ],
   "source": [
    "from concurrent.futures import ThreadPoolExecutor, as_completed\n",
    "\n",
    "run_params = [\n",
    "    # run(\"intfloat/e5-base-v2\", tasks, \"baseline\", \"dres\", \"cosqa/query_corpus_expansions\"),\n",
    "    # run(\"BAAI/bge-base-en\", tasks, \"baseline\", \"dres\", \"cosqa/query_corpus_expansions\"),\n",
    "    run(\"intfloat/e5-base-v2\", tasks, \"granite1\", \"dres\", \"cosqa/query_corpus_expansions\"),\n",
    "    run(\"BAAI/bge-base-en\", tasks, \"granite1\", \"dres\", \"cosqa/query_corpus_expansions\")\n",
    "    \n",
    "]\n",
    "\n",
    "def run_wrapper(params):\n",
    "    model_name, task, exp_type, retrieval, data_path = params\n",
    "    return run(model_name, task, exp_type, retrieval, data_path)\n",
    "\n",
    "# Run all in parallel\n",
    "if __name__ == \"__main__\":\n",
    "    max_workers = 4  # Adjust based on your machine's capacity\n",
    "\n",
    "    with ThreadPoolExecutor(max_workers=max_workers) as executor:\n",
    "        futures = [executor.submit(run_wrapper, params) for params in run_params]\n",
    "\n",
    "        for future in as_completed(futures):\n",
    "            try:\n",
    "                result = future.result()\n",
    "                print(\"Run completed successfully.\")\n",
    "            except Exception as e:\n",
    "                print(f\"Run failed: {e}\")\n"
   ]
  }
 ],
 "metadata": {
  "kernelspec": {
   "display_name": "“virtual-env”",
   "language": "python",
   "name": "vaishnavisha-virtual-env"
  },
  "language_info": {
   "codemirror_mode": {
    "name": "ipython",
    "version": 3
   },
   "file_extension": ".py",
   "mimetype": "text/x-python",
   "name": "python",
   "nbconvert_exporter": "python",
   "pygments_lexer": "ipython3",
   "version": "3.8.20"
  }
 },
 "nbformat": 4,
 "nbformat_minor": 5
}
