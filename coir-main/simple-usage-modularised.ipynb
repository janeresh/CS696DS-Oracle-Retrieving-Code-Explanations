{
 "cells": [
  {
   "cell_type": "markdown",
   "id": "5badc6fb-56b3-4e00-8c3e-a34482dbe593",
   "metadata": {
    "jp-MarkdownHeadingCollapsed": true,
    "tags": []
   },
   "source": [
    "#### things to make modular\n",
    "* query expansion\n",
    "* query expansion result aggregation method\n",
    "* using clean corpus\n",
    "* retrieval method (dres/bm25)"
   ]
  },
  {
   "cell_type": "markdown",
   "id": "c1239c3e-a778-4150-893d-53ddaadbf38e",
   "metadata": {
    "tags": []
   },
   "source": [
    "#### imports"
   ]
  },
  {
   "cell_type": "code",
   "execution_count": 18,
   "id": "9fd6b5e4-b2b9-4ba7-80c0-79f6c79b457a",
   "metadata": {},
   "outputs": [],
   "source": [
    "from coir.data_loader import get_tasks\n",
    "from coir.evaluation import COIR\n",
    "from coir.models import YourCustomDEModel\n",
    "from datasets import load_dataset, Dataset, concatenate_datasets\n",
    "import pandas as pd\n",
    "from query_expansion import expand_queries_and_qrels\n",
    "from functions import * \n",
    "from collections import defaultdict\n",
    "import copy"
   ]
  },
  {
   "cell_type": "code",
   "execution_count": 19,
   "id": "06a2d35f-3355-4e71-a5ca-f223b107f890",
   "metadata": {},
   "outputs": [],
   "source": [
    "cosqa_expl_path = '/work/pi_wenlongzhao_umass_edu/27/anamikaghosh/Cosqa/CoSQA_explanations_query_code.csv'\n",
    "cosqa_deepseek_updated_path='/work/pi_wenlongzhao_umass_edu/27/anamikaghosh/CS696DS-Oracle-Retrieving-Code-Explanations/Explanation_Generation/Cosqa/postprocessing/output/COSQA_deepseek_explanations_clean.csv'\n",
    "cosqa_granite_updated_path='/work/pi_wenlongzhao_umass_edu/27/anamikaghosh/CS696DS-Oracle-Retrieving-Code-Explanations/Explanation_Generation/Cosqa/postprocessing/output/COSQA_granite_explanations_clean.csv'\n",
    "cosqa_deepseek_temp_0_qe_path = '/work/pi_wenlongzhao_umass_edu/27/janet/query_expansion/results/cosqa/cosqa_queries_expanded_deepseek_temp_0.csv'\n",
    "cosqa_queries_expanded_granite_temp_0pt5_mmr_2_path='/work/pi_wenlongzhao_umass_edu/27/janet/query_expansion/results/cosqa/cosqa_queries_expanded_granite_temp_0.5_mmr_2.csv'\n",
    "cosqa_queries_variants_expanded_deepseek= '/work/pi_wenlongzhao_umass_edu/27/janet/query_expansion/results/cosqa/variants_based_prompting/cosqa_queries_variants_expanded_deepseek.csv'\n",
    "cosqa_queries_variants_expanded_granite='/work/pi_wenlongzhao_umass_edu/27/janet/query_expansion/results/cosqa/variants_based_prompting/cosqa_queries_variants_expanded_granite.csv'\n",
    "csn_queries_expanded_granite_temp_0pt5_mmr_path = '/work/pi_wenlongzhao_umass_edu/27/janet/query_expansion/results/csn/csn_test_queries_expanded_granite_temp_0.5_mmr.csv'\n",
    "csn_deepseek_path = '/work/pi_wenlongzhao_umass_edu/27/anamikaghosh/CS696DS-Oracle-Retrieving-Code-Explanations/Explanation_Generation/output/CSN_deepseek.csv'\n",
    "csn_granite_path = '/work/pi_wenlongzhao_umass_edu/27/anamikaghosh/CS696DS-Oracle-Retrieving-Code-Explanations/Explanation_Generation/output/CSN_granite.csv'\n",
    "csn_code_based_queries_expanded = '/work/pi_wenlongzhao_umass_edu/27/janet/query_expansion/results/csn/csn_test_queries_expanded_granite_code_based.csv'\n",
    "csn_test_queries_variants_expanded_granite = '/work/pi_wenlongzhao_umass_edu/27/janet/query_expansion/results/csn/variants_based_prompting/csn_test_queries_variants_expanded_granite.csv'\n",
    "csn_test_queries_variants_expanded_deepseek= '/work/pi_wenlongzhao_umass_edu/27/janet/query_expansion/results/csn/variants_based_prompting/csn_test_queries_variants_expanded_deepseek.csv'"
   ]
  },
  {
   "cell_type": "markdown",
   "id": "f69384e0-ec1f-4b4c-b0c7-d851ca2dd144",
   "metadata": {
    "tags": []
   },
   "source": [
    "#### No QE"
   ]
  },
  {
   "cell_type": "code",
   "execution_count": 3,
   "id": "8f9090a8-2ab7-4664-a65b-0bfcd71c94b6",
   "metadata": {},
   "outputs": [
    {
     "name": "stdout",
     "output_type": "stream",
     "text": [
      "in tasks \n",
      "data loader init\n"
     ]
    },
    {
     "data": {
      "application/vnd.jupyter.widget-view+json": {
       "model_id": "28c148a5d4d24e5f94b6b207321d6381",
       "version_major": 2,
       "version_minor": 0
      },
      "text/plain": [
       "0it [00:00, ?it/s]"
      ]
     },
     "metadata": {},
     "output_type": "display_data"
    }
   ],
   "source": [
    "dataset_name = \"cosqa\" #CodeSearchNet-python  or cosqa\n",
    "tasks = load_data(dataset_name)\n",
    "corpus, queries, qrels = tasks[dataset_name]"
   ]
  },
  {
   "cell_type": "code",
   "execution_count": 4,
   "id": "60906e5b-9901-4941-a1c8-9d0acf30dedc",
   "metadata": {},
   "outputs": [],
   "source": [
    "df= pd.read_csv(cosqa_granite_updated_path) # csn_granite_path or cosqa_deepseek_updated_path\n",
    "corpus = update_corpus_with_cleaned_code(corpus, df) # updating the corpus with no comments in code\n",
    "tasks[dataset_name] = (corpus, queries, qrels)"
   ]
  },
  {
   "cell_type": "markdown",
   "id": "f9fd7f81-5e3d-45d5-9ddc-615f44ecc51d",
   "metadata": {
    "jp-MarkdownHeadingCollapsed": true,
    "tags": []
   },
   "source": [
    "#### Query Expansion"
   ]
  },
  {
   "cell_type": "code",
   "execution_count": 28,
   "id": "4ac09cf8-957a-4045-af3c-520ec5511d69",
   "metadata": {},
   "outputs": [
    {
     "name": "stdout",
     "output_type": "stream",
     "text": [
      "in tasks \n",
      "data loader init\n"
     ]
    },
    {
     "data": {
      "application/vnd.jupyter.widget-view+json": {
       "model_id": "c6ec8a65ccc2488fa556a51f8ec8855f",
       "version_major": 2,
       "version_minor": 0
      },
      "text/plain": [
       "0it [00:00, ?it/s]"
      ]
     },
     "metadata": {},
     "output_type": "display_data"
    }
   ],
   "source": [
    "# CSN qe variants \n",
    "# csn_variants_qe_df = pd.read_csv(csn_test_queries_variants_expanded_deepseek)\n",
    "# csn_variants_qe_df = csn_variants_qe_df.rename(columns= {'generated_explanation': 'expanded_query'})\n",
    "\n",
    "# dataset_name = \"CodeSearchNet-python\"\n",
    "# tasks = load_data(dataset_name)\n",
    "# corpus, queries, qrels = tasks[dataset_name]\n",
    "\n",
    "# df= pd.read_csv(csn_granite_path) # csn_granite_path or cosqa_deepseek_updated_path\n",
    "# corpus = update_corpus_with_cleaned_code(corpus, df) # updating the corpus with no comments in code\n",
    "# tasks[dataset_name] = (corpus, queries, qrels)\n",
    "\n",
    "# # updating queries for qe\n",
    "# new_queries, new_qrels = expand_queries_and_qrels(csn_variants_qe_df, qrels)\n",
    "# tasks[dataset_name] = (corpus, new_queries, qrels)\n",
    "\n",
    "\n",
    "# CSN code based qe\n",
    "# csn_code_based_qe_df = pd.read_csv(csn_code_based_queries_expanded)\n",
    "# csn_code_based_qe_df=csn_code_based_qe_df.rename(columns={'explanation': 'expanded_query'})\n",
    "# csn_code_based_qe_df=csn_code_based_qe_df.rename(columns={'id': 'v_id'})\n",
    "# csn_code_based_qe_df=csn_code_based_qe_df.rename(columns={'query_id': 'id'})\n",
    "\n",
    "# dataset_name = \"CodeSearchNet-python\"\n",
    "# tasks = load_data(dataset_name)\n",
    "# corpus, queries, qrels = tasks[dataset_name]\n",
    "\n",
    "# df= pd.read_csv(csn_granite_path) # csn_granite_path or cosqa_deepseek_updated_path\n",
    "# corpus = update_corpus_with_cleaned_code(corpus, df) # updating the corpus with no comments in code\n",
    "# tasks[dataset_name] = (corpus, queries, qrels)\n",
    "\n",
    "# # updating queries for qe\n",
    "# new_queries, new_qrels = expand_queries_and_qrels(csn_code_based_qe_df, qrels)\n",
    "# tasks[dataset_name] = (corpus, new_queries, qrels)\n",
    "\n",
    "# CSN\n",
    "# csn_qe_df = pd.read_csv(csn_queries_expanded_granite_temp_0pt5_mmr_path)\n",
    "# csn_qe_df=csn_qe_df.rename(columns={'mmr_explanation': 'expanded_query'})\n",
    "\n",
    "# dataset_name = \"CodeSearchNet-python\"\n",
    "# tasks = load_data(dataset_name)\n",
    "# corpus, queries, qrels = tasks[dataset_name]\n",
    "\n",
    "# df= pd.read_csv(csn_granite_path) # csn_granite_path or cosqa_deepseek_updated_path\n",
    "# corpus = update_corpus_with_cleaned_code(corpus, df) # updating the corpus with no comments in code\n",
    "# tasks[dataset_name] = (corpus, queries, qrels)\n",
    "\n",
    "# # updating queries for qe\n",
    "# new_queries, new_qrels = expand_queries_and_qrels(csn_qe_df, qrels)\n",
    "# tasks[dataset_name] = (corpus, new_queries, qrels)\n",
    "\n",
    "# COSQA\n",
    "dataset_name = \"cosqa\"\n",
    "tasks = load_data(dataset_name)\n",
    "corpus, queries, qrels = tasks[dataset_name]\n",
    "\n",
    "# expanded df\n",
    "cosqa_qe_df = pd.read_csv(cosqa_queries_variants_expanded_deepseek)\n",
    "cosqa_qe_df = cosqa_qe_df.rename(columns={'generated_explanation': 'expanded_query'})\n",
    "cosqa_qe_df = cosqa_qe_df[cosqa_qe_df[\"id\"].isin(queries.keys())]\n",
    "\n",
    "\n",
    "# updating the corpus with no comments in code\n",
    "df= pd.read_csv(cosqa_granite_updated_path)\n",
    "corpus = update_corpus_with_cleaned_code(corpus, df) \n",
    "\n",
    "# updating queries for qe\n",
    "new_queries, new_qrels = expand_queries_and_qrels(cosqa_qe_df, qrels)\n",
    "tasks[dataset_name] = (corpus, new_queries, qrels)"
   ]
  },
  {
   "cell_type": "markdown",
   "id": "f349fbf4-4bf8-4616-8c6a-bc33c1f5ff3a",
   "metadata": {
    "tags": []
   },
   "source": [
    "#### Explanations"
   ]
  },
  {
   "cell_type": "code",
   "execution_count": 29,
   "id": "c5002aa4-93ad-43cd-95d1-92d0d43f3374",
   "metadata": {},
   "outputs": [
    {
     "name": "stdout",
     "output_type": "stream",
     "text": [
      "Total docs in corpus after replacement: 4419\n",
      "Number of docs still missing 'text': 0\n"
     ]
    }
   ],
   "source": [
    "# if you want to add explanations (deepseek / granite) (cosqa / csn)\n",
    "tasks_expl = copy.deepcopy(tasks)\n",
    "#add_expl(tasks_expl, dataset_name, csn_granite_path, \"explanation_granite_1\") # adding explanation instead of code\n",
    "#add_expl(tasks, \"CodeSearchNet-python\", csn_deepseek_path, \"explanation_deepseek_1\") # adding explanation instead of code\n",
    "add_expl(tasks_expl, \"cosqa\", cosqa_granite_updated_path, \"explanation_granite_1_cleaned\") # adding explanation instead of code"
   ]
  },
  {
   "cell_type": "markdown",
   "id": "736d1ff2-83e5-4d28-a6a9-8787ca69e332",
   "metadata": {
    "tags": []
   },
   "source": [
    "#### Running the pipeline"
   ]
  },
  {
   "cell_type": "code",
   "execution_count": 24,
   "id": "5c219aa5-79ac-40bd-ae24-223efe05ca11",
   "metadata": {
    "tags": []
   },
   "outputs": [],
   "source": [
    "c,b,a = tasks[dataset_name]\n",
    "f,e,d = tasks_expl[dataset_name]"
   ]
  },
  {
   "cell_type": "code",
   "execution_count": 30,
   "id": "764315d5-e96e-4fba-82b6-0ca7c2374e66",
   "metadata": {},
   "outputs": [
    {
     "name": "stdout",
     "output_type": "stream",
     "text": [
      "YourCustomDEModel init\n",
      "COIR init!\n",
      "in evaluation.py: loading up dres\n",
      "\n",
      "in evaluation.py: retrieving\n",
      "\n",
      "in beir/retrieval/evaluation.py: loading up search\n",
      "\n",
      "in exact_search.py\n",
      "len of queries:  2500\n"
     ]
    },
    {
     "data": {
      "application/vnd.jupyter.widget-view+json": {
       "model_id": "ed1d7536899a4fb3aaa94b62fe79d10b",
       "version_major": 2,
       "version_minor": 0
      },
      "text/plain": [
       "Encoding batches:   0%|          | 0/10 [00:00<?, ?batch/s]"
      ]
     },
     "metadata": {},
     "output_type": "display_data"
    },
    {
     "name": "stdout",
     "output_type": "stream",
     "text": [
      "len of corpus:  4419\n",
      "Encoding Corpus in batches... Warning: This might take a while!\n",
      "Scoring Function: Cosine Similarity (cos_sim)\n",
      "Encoding Batch 1/1...\n"
     ]
    },
    {
     "data": {
      "application/vnd.jupyter.widget-view+json": {
       "model_id": "25aec0cfdeb0405e895ca03d576ba360",
       "version_major": 2,
       "version_minor": 0
      },
      "text/plain": [
       "Encoding batches:   0%|          | 0/18 [00:00<?, ?batch/s]"
      ]
     },
     "metadata": {},
     "output_type": "display_data"
    },
    {
     "name": "stdout",
     "output_type": "stream",
     "text": [
      "exact_search finished\n",
      "in evaluation.py: evaluating\n",
      "\n",
      "in beir/retrieval/evaluation.py: evaluating now\n",
      "\n",
      "in combine scores by average\n",
      "Retrieval evaluation results saved to results/cosqa/qe/variants_expanded_deepseek/baseline/dres/intfloat/e5-base-v2\n",
      "{'cosqa': {'NDCG': {'NDCG@1': 0.356, 'NDCG@3': 0.47202, 'NDCG@5': 0.50171, 'NDCG@10': 0.54109, 'NDCG@100': 0.58582, 'NDCG@1000': 0.59148}, 'MAP': {'MAP@1': 0.356, 'MAP@3': 0.44367, 'MAP@5': 0.46017, 'MAP@10': 0.47638, 'MAP@100': 0.4857, 'MAP@1000': 0.48593}, 'Recall': {'Recall@1': 0.356, 'Recall@3': 0.554, 'Recall@5': 0.626, 'Recall@10': 0.748, 'Recall@100': 0.954, 'Recall@1000': 0.998}, 'Precision': {'P@1': 0.356, 'P@3': 0.18467, 'P@5': 0.1252, 'P@10': 0.0748, 'P@100': 0.00954, 'P@1000': 0.001}}}\n",
      "YourCustomDEModel init\n",
      "COIR init!\n",
      "in evaluation.py: loading up dres\n",
      "\n",
      "in evaluation.py: retrieving\n",
      "\n",
      "in beir/retrieval/evaluation.py: loading up search\n",
      "\n",
      "in exact_search.py\n",
      "len of queries:  2500\n"
     ]
    },
    {
     "data": {
      "application/vnd.jupyter.widget-view+json": {
       "model_id": "2878229efd6046c58f682d5f50f0e859",
       "version_major": 2,
       "version_minor": 0
      },
      "text/plain": [
       "Encoding batches:   0%|          | 0/10 [00:00<?, ?batch/s]"
      ]
     },
     "metadata": {},
     "output_type": "display_data"
    },
    {
     "name": "stdout",
     "output_type": "stream",
     "text": [
      "len of corpus:  4419\n",
      "Encoding Corpus in batches... Warning: This might take a while!\n",
      "Scoring Function: Cosine Similarity (cos_sim)\n",
      "Encoding Batch 1/1...\n"
     ]
    },
    {
     "data": {
      "application/vnd.jupyter.widget-view+json": {
       "model_id": "dee099d0ae3c45629d81c663c1e1401d",
       "version_major": 2,
       "version_minor": 0
      },
      "text/plain": [
       "Encoding batches:   0%|          | 0/18 [00:00<?, ?batch/s]"
      ]
     },
     "metadata": {},
     "output_type": "display_data"
    },
    {
     "name": "stdout",
     "output_type": "stream",
     "text": [
      "exact_search finished\n",
      "in evaluation.py: evaluating\n",
      "\n",
      "in beir/retrieval/evaluation.py: evaluating now\n",
      "\n",
      "in combine scores by average\n",
      "Retrieval evaluation results saved to results/cosqa/qe/variants_expanded_deepseek/baseline/dres/BAAI/bge-base-en\n",
      "{'cosqa': {'NDCG': {'NDCG@1': 0.308, 'NDCG@3': 0.42807, 'NDCG@5': 0.47515, 'NDCG@10': 0.50856, 'NDCG@100': 0.55165, 'NDCG@1000': 0.55929}, 'MAP': {'MAP@1': 0.308, 'MAP@3': 0.399, 'MAP@5': 0.4252, 'MAP@10': 0.43887, 'MAP@100': 0.44727, 'MAP@1000': 0.44756}, 'Recall': {'Recall@1': 0.308, 'Recall@3': 0.512, 'Recall@5': 0.626, 'Recall@10': 0.73, 'Recall@100': 0.936, 'Recall@1000': 0.996}, 'Precision': {'P@1': 0.308, 'P@3': 0.17067, 'P@5': 0.1252, 'P@10': 0.073, 'P@100': 0.00936, 'P@1000': 0.001}}}\n",
      "YourCustomDEModel init\n",
      "COIR init!\n",
      "in evaluation.py: loading up dres\n",
      "\n",
      "in evaluation.py: retrieving\n",
      "\n",
      "in beir/retrieval/evaluation.py: loading up search\n",
      "\n",
      "in exact_search.py\n",
      "len of queries:  2500\n"
     ]
    },
    {
     "data": {
      "application/vnd.jupyter.widget-view+json": {
       "model_id": "fea4690bdcc94dfe99efe8db53249e84",
       "version_major": 2,
       "version_minor": 0
      },
      "text/plain": [
       "Encoding batches:   0%|          | 0/10 [00:00<?, ?batch/s]"
      ]
     },
     "metadata": {},
     "output_type": "display_data"
    },
    {
     "name": "stdout",
     "output_type": "stream",
     "text": [
      "len of corpus:  4419\n",
      "Encoding Corpus in batches... Warning: This might take a while!\n",
      "Scoring Function: Cosine Similarity (cos_sim)\n",
      "Encoding Batch 1/1...\n"
     ]
    },
    {
     "data": {
      "application/vnd.jupyter.widget-view+json": {
       "model_id": "70c0802d248f47f996c9b9783e914bbb",
       "version_major": 2,
       "version_minor": 0
      },
      "text/plain": [
       "Encoding batches:   0%|          | 0/18 [00:00<?, ?batch/s]"
      ]
     },
     "metadata": {},
     "output_type": "display_data"
    },
    {
     "name": "stdout",
     "output_type": "stream",
     "text": [
      "exact_search finished\n",
      "in evaluation.py: evaluating\n",
      "\n",
      "in beir/retrieval/evaluation.py: evaluating now\n",
      "\n",
      "in combine scores by average\n",
      "Retrieval evaluation results saved to results/cosqa/qe/variants_expanded_deepseek/granite1/dres/intfloat/e5-base-v2\n",
      "{'cosqa': {'NDCG': {'NDCG@1': 0.332, 'NDCG@3': 0.42531, 'NDCG@5': 0.47712, 'NDCG@10': 0.5191, 'NDCG@100': 0.56491, 'NDCG@1000': 0.56925}, 'MAP': {'MAP@1': 0.332, 'MAP@3': 0.40167, 'MAP@5': 0.43037, 'MAP@10': 0.44804, 'MAP@100': 0.45727, 'MAP@1000': 0.45743}, 'Recall': {'Recall@1': 0.332, 'Recall@3': 0.494, 'Recall@5': 0.62, 'Recall@10': 0.748, 'Recall@100': 0.964, 'Recall@1000': 0.998}, 'Precision': {'P@1': 0.332, 'P@3': 0.16467, 'P@5': 0.124, 'P@10': 0.0748, 'P@100': 0.00964, 'P@1000': 0.001}}}\n",
      "YourCustomDEModel init\n",
      "COIR init!\n",
      "in evaluation.py: loading up dres\n",
      "\n",
      "in evaluation.py: retrieving\n",
      "\n",
      "in beir/retrieval/evaluation.py: loading up search\n",
      "\n",
      "in exact_search.py\n",
      "len of queries:  2500\n"
     ]
    },
    {
     "data": {
      "application/vnd.jupyter.widget-view+json": {
       "model_id": "696d6aa8b1a94faf9eb3ba4620433f7d",
       "version_major": 2,
       "version_minor": 0
      },
      "text/plain": [
       "Encoding batches:   0%|          | 0/10 [00:00<?, ?batch/s]"
      ]
     },
     "metadata": {},
     "output_type": "display_data"
    },
    {
     "name": "stdout",
     "output_type": "stream",
     "text": [
      "len of corpus:  4419\n",
      "Encoding Corpus in batches... Warning: This might take a while!\n",
      "Scoring Function: Cosine Similarity (cos_sim)\n",
      "Encoding Batch 1/1...\n"
     ]
    },
    {
     "data": {
      "application/vnd.jupyter.widget-view+json": {
       "model_id": "11feb0d403b647eb86926d8e13a6b802",
       "version_major": 2,
       "version_minor": 0
      },
      "text/plain": [
       "Encoding batches:   0%|          | 0/18 [00:00<?, ?batch/s]"
      ]
     },
     "metadata": {},
     "output_type": "display_data"
    },
    {
     "name": "stdout",
     "output_type": "stream",
     "text": [
      "exact_search finished\n",
      "in evaluation.py: evaluating\n",
      "\n",
      "in beir/retrieval/evaluation.py: evaluating now\n",
      "\n",
      "in combine scores by average\n",
      "Retrieval evaluation results saved to results/cosqa/qe/variants_expanded_deepseek/granite1/dres/BAAI/bge-base-en\n",
      "{'cosqa': {'NDCG': {'NDCG@1': 0.334, 'NDCG@3': 0.45728, 'NDCG@5': 0.4992, 'NDCG@10': 0.53729, 'NDCG@100': 0.58025, 'NDCG@1000': 0.5852}, 'MAP': {'MAP@1': 0.334, 'MAP@3': 0.42667, 'MAP@5': 0.44987, 'MAP@10': 0.46554, 'MAP@100': 0.47488, 'MAP@1000': 0.47508}, 'Recall': {'Recall@1': 0.334, 'Recall@3': 0.546, 'Recall@5': 0.648, 'Recall@10': 0.766, 'Recall@100': 0.962, 'Recall@1000': 1.0}, 'Precision': {'P@1': 0.334, 'P@3': 0.182, 'P@5': 0.1296, 'P@10': 0.0766, 'P@100': 0.00962, 'P@1000': 0.001}}}\n",
      "Run failed: cannot unpack non-iterable NoneType object\n",
      "Run failed: cannot unpack non-iterable NoneType object\n",
      "Run failed: cannot unpack non-iterable NoneType object\n",
      "Run failed: cannot unpack non-iterable NoneType object\n"
     ]
    }
   ],
   "source": [
    "from concurrent.futures import ThreadPoolExecutor, as_completed\n",
    "\n",
    "run_params = [\n",
    "    run(\"intfloat/e5-base-v2\", tasks, \"baseline\", \"dres\", \"cosqa/qe/variants_expanded_deepseek\"),\n",
    "    run(\"BAAI/bge-base-en\", tasks, \"baseline\", \"dres\", \"cosqa/qe/variants_expanded_deepseek\"),\n",
    "    run(\"intfloat/e5-base-v2\", tasks_expl, \"granite1\", \"dres\", \"cosqa/qe/variants_expanded_deepseek\"),\n",
    "    run(\"BAAI/bge-base-en\", tasks_expl, \"granite1\", \"dres\", \"cosqa/qe/variants_expanded_deepseek\")\n",
    "    \n",
    "]\n",
    "\n",
    "def run_wrapper(params):\n",
    "    model_name, task, exp_type, retrieval, data_path = params\n",
    "    return run(model_name, task, exp_type, retrieval, data_path)\n",
    "\n",
    "# Run all in parallel\n",
    "if __name__ == \"__main__\":\n",
    "    max_workers = 4  # Adjust based on your machine's capacity\n",
    "\n",
    "    with ThreadPoolExecutor(max_workers=max_workers) as executor:\n",
    "        futures = [executor.submit(run_wrapper, params) for params in run_params]\n",
    "\n",
    "        for future in as_completed(futures):\n",
    "            try:\n",
    "                result = future.result()\n",
    "                print(\"Run completed successfully.\")\n",
    "            except Exception as e:\n",
    "                print(f\"Run failed: {e}\")\n"
   ]
  },
  {
   "cell_type": "code",
   "execution_count": null,
   "id": "74748c65-b3c6-403a-8126-a455910fd24b",
   "metadata": {},
   "outputs": [],
   "source": []
  }
 ],
 "metadata": {
  "kernelspec": {
   "display_name": "“virtual-env”",
   "language": "python",
   "name": "vaishnavisha-virtual-env"
  },
  "language_info": {
   "codemirror_mode": {
    "name": "ipython",
    "version": 3
   },
   "file_extension": ".py",
   "mimetype": "text/x-python",
   "name": "python",
   "nbconvert_exporter": "python",
   "pygments_lexer": "ipython3",
   "version": "3.8.20"
  }
 },
 "nbformat": 4,
 "nbformat_minor": 5
}
