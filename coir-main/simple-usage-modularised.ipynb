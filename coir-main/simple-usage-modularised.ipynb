{
 "cells": [
  {
   "cell_type": "code",
   "execution_count": 1,
   "id": "7a911296-c7d8-49fd-a1a9-41f5241de9f9",
   "metadata": {},
   "outputs": [],
   "source": [
    "import sys\n",
    "#sys.path.insert(0, \"/work/pi_wenlongzhao_umass_edu/27/vaishnavisha/CS696DS-Oracle-Retrieving-Code-Explanations/coir-main\")\n",
    "#sys.path.remove(\"/work/pi_wenlongzhao_umass_edu/27/CS696DS-Oracle-Retrieving-Code-Explanations/coir-main\")\n",
    "\n",
    "#print(sys.path)\n"
   ]
  },
  {
   "cell_type": "code",
   "execution_count": 2,
   "id": "a78e0cc7-5993-4636-987c-63ff8a77d156",
   "metadata": {},
   "outputs": [],
   "source": [
    "if 'coir' in sys.modules:\n",
    "    del sys.modules['coir']"
   ]
  },
  {
   "cell_type": "code",
   "execution_count": 3,
   "id": "9fd6b5e4-b2b9-4ba7-80c0-79f6c79b457a",
   "metadata": {},
   "outputs": [
    {
     "name": "stderr",
     "output_type": "stream",
     "text": [
      "/work/pi_wenlongzhao_umass_edu/27/vaishnavisha/envs/virtual-env/lib/python3.8/site-packages/tqdm/auto.py:21: TqdmWarning: IProgress not found. Please update jupyter and ipywidgets. See https://ipywidgets.readthedocs.io/en/stable/user_install.html\n",
      "  from .autonotebook import tqdm as notebook_tqdm\n"
     ]
    }
   ],
   "source": [
    "from coir.data_loader import get_tasks\n",
    "from coir.evaluation import COIR\n",
    "from coir.models import YourCustomDEModel\n",
    "import pandas as pd"
   ]
  },
  {
   "cell_type": "code",
   "execution_count": 4,
   "id": "32a86eff-f408-458f-9643-bc9c56cae62a",
   "metadata": {},
   "outputs": [],
   "source": [
    "def load_data(dataset_name):\n",
    "    tasks = get_tasks(tasks=[dataset_name])\n",
    "    return tasks"
   ]
  },
  {
   "cell_type": "code",
   "execution_count": 5,
   "id": "e654fedc-75de-4d8f-9da6-04d46f4fe588",
   "metadata": {},
   "outputs": [],
   "source": [
    "def add_expl(tasks, dataset_name, explanation_df_path, col_name='explanation_deepseek_1_cleaned'):\n",
    "    corpus, queries, qrels = tasks[dataset_name]\n",
    "    expl_df = pd.read_csv(explanation_df_path)\n",
    "    expl_df.rename(columns={\"query_id\": \"query-id\", \"corpus_id\": \"corpus-id\"}, inplace=True)\n",
    "    for _, row in expl_df.iterrows():\n",
    "        corpus_id = row['corpus-id']\n",
    "        explanation = row[col_name]\n",
    "\n",
    "        if corpus_id in corpus and explanation and explanation.strip():\n",
    "            corpus[corpus_id]['text'] = explanation  \n",
    "\n",
    "    corpus = {doc_id: doc for doc_id, doc in corpus.items() if 'text' in doc and doc['text'].strip()}\n",
    "    print(corpus['c1'])\n",
    "    tasks[dataset_name] = (corpus, queries, qrels)\n",
    "\n",
    "    print(f\"Total docs in corpus after replacement: {len(tasks[dataset_name][0])}\")\n",
    "    missing_text = sum(1 for doc in tasks[dataset_name][0].values() if not doc.get('text'))\n",
    "    print(f\"Number of docs still missing 'text': {missing_text}\")"
   ]
  },
  {
   "cell_type": "code",
   "execution_count": 14,
   "id": "8132c67c-eded-4539-aba1-0c43c252d9a0",
   "metadata": {},
   "outputs": [],
   "source": [
    "def add_expl_2queries(tasks, dataset_name, explanation_df_path, col_name='explanation_deepseek_1_cleaned'):\n",
    "    corpus, queries, qrels = tasks[dataset_name]\n",
    "    expl_df = pd.read_csv(explanation_df_path)\n",
    "    expl_df.rename(columns={\"query_id\": \"query-id\", \"corpus_id\": \"corpus-id\"}, inplace=True)\n",
    "    for _, row in expl_df.iterrows():\n",
    "        query_id = row['query-id']\n",
    "        explanation = row[col_name]\n",
    "\n",
    "        if query_id in queries and explanation and explanation.strip():\n",
    "            queries[query_id] = explanation  \n",
    "\n",
    "    queries = {doc_id: doc for doc_id, doc in queries.items()}\n",
    "    print(queries['q265734'])\n",
    "    tasks[dataset_name] = (corpus, queries, qrels)\n",
    "\n",
    "    print(f\"Total docs in q after replacement: {len(tasks[dataset_name][1])}\")"
   ]
  },
  {
   "cell_type": "code",
   "execution_count": 6,
   "id": "130dd863-9563-45ac-8c9c-b1cca51015b6",
   "metadata": {},
   "outputs": [],
   "source": [
    "def run(model_name, tasks, llm_name, retrieval_name, dataset_name):\n",
    "    model = YourCustomDEModel(model_name=model_name)\n",
    "\n",
    "    evaluation = COIR(tasks=tasks,batch_size=256)\n",
    "    if(retrieval_name == \"bm25\"):\n",
    "        results = evaluation.run(model, output_folder=f\"results/{dataset_name}/{llm_name}/{retrieval_name}\")\n",
    "    else:\n",
    "        results = evaluation.run(model, output_folder=f\"results/{dataset_name}/{llm_name}/{retrieval_name}/{model_name}\")\n",
    "    print(results)"
   ]
  },
  {
   "cell_type": "code",
   "execution_count": 7,
   "id": "06a2d35f-3355-4e71-a5ca-f223b107f890",
   "metadata": {},
   "outputs": [],
   "source": [
    "cosqa_expl_path = '/work/pi_wenlongzhao_umass_edu/27/anamikaghosh/Cosqa/CoSQA_explanations_query_code.csv'\n",
    "csn_expl_path = '/work/pi_wenlongzhao_umass_edu/27/anamikaghosh/explanations/CodeSearchNet_Python_deepseek_allSplits.csv'"
   ]
  },
  {
   "cell_type": "code",
   "execution_count": 8,
   "id": "56f36744-d45c-4671-9952-0b2451899ba1",
   "metadata": {},
   "outputs": [],
   "source": [
    "dataset_name = \"CodeSearchNet-python\""
   ]
  },
  {
   "cell_type": "code",
   "execution_count": 9,
   "id": "8f9090a8-2ab7-4664-a65b-0bfcd71c94b6",
   "metadata": {},
   "outputs": [
    {
     "name": "stdout",
     "output_type": "stream",
     "text": [
      "in tasks \n",
      "fetched data from hf\n",
      "data loader init\n"
     ]
    },
    {
     "name": "stderr",
     "output_type": "stream",
     "text": [
      "280310it [00:01, 201213.94it/s]\n"
     ]
    }
   ],
   "source": [
    "tasks = load_data(dataset_name)"
   ]
  },
  {
   "cell_type": "code",
   "execution_count": 16,
   "id": "53d42182-950f-4936-a751-cad7574c20db",
   "metadata": {},
   "outputs": [],
   "source": [
    "corpus, queries, qrels = tasks[dataset_name]"
   ]
  },
  {
   "cell_type": "code",
   "execution_count": 17,
   "id": "e5947ae5-9d59-4977-a80d-edb364a1a9ee",
   "metadata": {},
   "outputs": [
    {
     "data": {
      "text/plain": [
       "{'text': 'Gets the latest state of a long-running operation in Google Storage\\n        Transfer Service.\\n\\n        :param job_name: (Required) Name of the job to be fetched\\n        :type job_name: str\\n        :param project_id: (Optional) the ID of the project that owns the Transfer\\n            Job. If set to None or missing, the default project_id from the GCP\\n            connection is used.\\n        :type project_id: str\\n        :return: Transfer Job\\n        :rtype: dict',\n",
       " 'title': ''}"
      ]
     },
     "execution_count": 17,
     "metadata": {},
     "output_type": "execute_result"
    }
   ],
   "source": [
    "corpus['c265731']"
   ]
  },
  {
   "cell_type": "code",
   "execution_count": 18,
   "id": "f399f412-2244-4947-a4f7-3d9dff87cacd",
   "metadata": {},
   "outputs": [
    {
     "data": {
      "text/plain": [
       "'The docstring and code snippets represent a function that parses an XML string and extracts URLs from it. The function processes each element of the XML to collect URL data.'"
      ]
     },
     "execution_count": 18,
     "metadata": {},
     "output_type": "execute_result"
    }
   ],
   "source": [
    "queries['q265734']"
   ]
  },
  {
   "cell_type": "code",
   "execution_count": 15,
   "id": "c5002aa4-93ad-43cd-95d1-92d0d43f3374",
   "metadata": {},
   "outputs": [
    {
     "name": "stdout",
     "output_type": "stream",
     "text": [
      "The docstring and code snippets represent a function that parses an XML string and extracts URLs from it. The function processes each element of the XML to collect URL data.\n",
      "Total docs in q after replacement: 14918\n"
     ]
    }
   ],
   "source": [
    "add_expl_2queries(tasks, \"CodeSearchNet-python\", csn_expl_path)"
   ]
  },
  {
   "cell_type": "code",
   "execution_count": 19,
   "id": "3b0f70d5-ccf8-4ef4-b0a6-d20c2f2315f2",
   "metadata": {},
   "outputs": [
    {
     "name": "stdout",
     "output_type": "stream",
     "text": [
      "YourCustomDEModel init\n",
      "COIR init!\n",
      "in evaluation.py: loading up dres\n",
      "\n",
      "in evaluation.py: retrieving\n",
      "\n",
      "in beir/retrieval/evaluation.py: loading up search\n",
      "\n",
      "len of queries:  14918\n"
     ]
    },
    {
     "name": "stderr",
     "output_type": "stream",
     "text": [
      "Encoding batches: 100%|██████████| 59/59 [02:07<00:00,  2.16s/batch]\n"
     ]
    },
    {
     "name": "stdout",
     "output_type": "stream",
     "text": [
      "len of corpus:  280310\n"
     ]
    },
    {
     "name": "stderr",
     "output_type": "stream",
     "text": [
      "Encoding batches: 100%|██████████| 196/196 [04:24<00:00,  1.35s/batch]\n",
      "Encoding batches: 100%|██████████| 196/196 [01:37<00:00,  2.02batch/s]\n",
      "Encoding batches: 100%|██████████| 196/196 [00:49<00:00,  3.96batch/s]\n",
      "Encoding batches: 100%|██████████| 196/196 [00:26<00:00,  7.52batch/s]\n",
      "Encoding batches: 100%|██████████| 196/196 [00:17<00:00, 11.16batch/s]\n",
      "Encoding batches: 100%|██████████| 119/119 [00:07<00:00, 16.16batch/s]\n"
     ]
    },
    {
     "name": "stdout",
     "output_type": "stream",
     "text": [
      "in evaluation.py: evaluating\n",
      "\n",
      "in beir/retrieval/evaluation.py: evaluating now\n",
      "\n",
      "Retrieval evaluation results saved to results/codesearchnet/deepseek1/dres/BAAI/bge-base-en\n",
      "{'CodeSearchNet-python': {'NDCG': {'NDCG@1': 0.57897, 'NDCG@3': 0.64679, 'NDCG@5': 0.66208, 'NDCG@10': 0.67648, 'NDCG@100': 0.69883, 'NDCG@1000': 0.70687}, 'MAP': {'MAP@1': 0.57897, 'MAP@3': 0.63054, 'MAP@5': 0.63906, 'MAP@10': 0.64502, 'MAP@100': 0.64943, 'MAP@1000': 0.64971}, 'Recall': {'Recall@1': 0.57897, 'Recall@3': 0.69366, 'Recall@5': 0.73059, 'Recall@10': 0.77504, 'Recall@100': 0.88169, 'Recall@1000': 0.94644}, 'Precision': {'P@1': 0.57897, 'P@3': 0.23122, 'P@5': 0.14612, 'P@10': 0.0775, 'P@100': 0.00882, 'P@1000': 0.00095}}}\n"
     ]
    }
   ],
   "source": [
    "run(\"BAAI/bge-base-en\", tasks, \"deepseek1\", \"dres\", \"codesearchnet\")"
   ]
  },
  {
   "cell_type": "code",
   "execution_count": 22,
   "id": "73e42b01-fc59-4bd7-bd84-7ea243c8063c",
   "metadata": {},
   "outputs": [],
   "source": [
    "# tasks = load_data(\"CodeSearchNet-python\")\n",
    "# run(\"BAAI/bge-base-en\", tasks, \"baseline\", \"dres\", \"codesearchnet\")"
   ]
  },
  {
   "cell_type": "code",
   "execution_count": null,
   "id": "96c0b31a-be04-4d96-81f8-911f695da8c5",
   "metadata": {},
   "outputs": [],
   "source": []
  }
 ],
 "metadata": {
  "kernelspec": {
   "display_name": "“virtual-env”",
   "language": "python",
   "name": "vaishnavisha-virtual-env"
  },
  "language_info": {
   "codemirror_mode": {
    "name": "ipython",
    "version": 3
   },
   "file_extension": ".py",
   "mimetype": "text/x-python",
   "name": "python",
   "nbconvert_exporter": "python",
   "pygments_lexer": "ipython3",
   "version": "3.8.20"
  }
 },
 "nbformat": 4,
 "nbformat_minor": 5
}
