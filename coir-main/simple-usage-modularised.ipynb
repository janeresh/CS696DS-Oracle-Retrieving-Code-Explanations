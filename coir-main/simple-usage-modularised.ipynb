{
 "cells": [
  {
   "cell_type": "code",
   "execution_count": null,
   "id": "61ab9b75-14ac-4f36-a9b1-736f70680308",
   "metadata": {},
   "outputs": [],
   "source": []
  },
  {
   "cell_type": "code",
   "execution_count": 1,
   "id": "9fd6b5e4-b2b9-4ba7-80c0-79f6c79b457a",
   "metadata": {},
   "outputs": [
    {
     "name": "stderr",
     "output_type": "stream",
     "text": [
      "/work/pi_wenlongzhao_umass_edu/27/vaishnavisha/envs/virtual-env/lib/python3.8/site-packages/tqdm/auto.py:21: TqdmWarning: IProgress not found. Please update jupyter and ipywidgets. See https://ipywidgets.readthedocs.io/en/stable/user_install.html\n",
      "  from .autonotebook import tqdm as notebook_tqdm\n"
     ]
    },
    {
     "name": "stdout",
     "output_type": "stream",
     "text": [
      "in tasks \n",
      "fetched data from hf\n",
      "data loader init\n"
     ]
    },
    {
     "name": "stderr",
     "output_type": "stream",
     "text": [
      "20604it [00:00, 121574.20it/s]\n"
     ]
    }
   ],
   "source": [
    "from coir.data_loader import get_tasks\n",
    "from coir.evaluation import COIR\n",
    "from coir.models import YourCustomDEModel\n",
    "from datasets import load_dataset, Dataset, concatenate_datasets\n",
    "import pandas as pd\n",
    "from query_expansion import expand_queries_and_qrels\n",
    "from functions import * \n",
    "from collections import defaultdict"
   ]
  },
  {
   "cell_type": "code",
   "execution_count": 2,
   "id": "06a2d35f-3355-4e71-a5ca-f223b107f890",
   "metadata": {},
   "outputs": [],
   "source": [
    "cosqa_expl_path = '/work/pi_wenlongzhao_umass_edu/27/anamikaghosh/Cosqa/CoSQA_explanations_query_code.csv'\n",
    "cosqa_deepseek_updated_path='/work/pi_wenlongzhao_umass_edu/27/anamikaghosh/CS696DS-Oracle-Retrieving-Code-Explanations/Explanation_Generation/Cosqa/postprocessing/output/COSQA_deepseek_explanations_clean.csv'\n",
    "cosqa_granite_updated_path='/work/pi_wenlongzhao_umass_edu/27/anamikaghosh/CS696DS-Oracle-Retrieving-Code-Explanations/Explanation_Generation/Cosqa/postprocessing/output/COSQA_granite_explanations_clean.csv'\n",
    "csn_expl_path = '/work/pi_wenlongzhao_umass_edu/27/anamikaghosh/explanations/CodeSearchNet_Python_deepseek_allSplits.csv'"
   ]
  },
  {
   "cell_type": "markdown",
   "id": "f9fd7f81-5e3d-45d5-9ddc-615f44ecc51d",
   "metadata": {
    "jp-MarkdownHeadingCollapsed": true,
    "tags": []
   },
   "source": [
    "#### Query Expansion"
   ]
  },
  {
   "cell_type": "code",
   "execution_count": 18,
   "id": "4ac09cf8-957a-4045-af3c-520ec5511d69",
   "metadata": {},
   "outputs": [
    {
     "name": "stdout",
     "output_type": "stream",
     "text": [
      "in tasks \n",
      "fetched data from hf\n",
      "data loader init\n"
     ]
    },
    {
     "name": "stderr",
     "output_type": "stream",
     "text": [
      "20604it [00:00, 217904.60it/s]\n"
     ]
    }
   ],
   "source": [
    "cosqa_deepseek_qe_path = '/work/pi_wenlongzhao_umass_edu/27/janet/query_expansion/results/cosqa/cosqa_queries_expanded_deepseek_temp_0.csv'\n",
    "cosqa_deepseek_qe_df = pd.read_csv(cosqa_deepseek_qe_path)\n",
    "dataset_name = \"cosqa\"\n",
    "tasks = load_data(dataset_name)\n",
    "corpus, queries, qrels = tasks[dataset_name]\n",
    "new_queries, new_qrels = expand_queries_and_qrels(cosqa_deepseek_qe_df, qrels)\n",
    "tasks[dataset_name] = (corpus, new_queries, new_qrels)"
   ]
  },
  {
   "cell_type": "code",
   "execution_count": 19,
   "id": "337eec42-7a76-45b7-9f2d-043e21377992",
   "metadata": {},
   "outputs": [],
   "source": [
    "for qid, query in new_queries.items():\n",
    "    if isinstance(query, float) and pd.isna(query):\n",
    "        print(qid, 'nan')\n",
    "        continue"
   ]
  },
  {
   "cell_type": "markdown",
   "id": "736d1ff2-83e5-4d28-a6a9-8787ca69e332",
   "metadata": {
    "tags": []
   },
   "source": [
    "#### Running the pipeline"
   ]
  },
  {
   "cell_type": "code",
   "execution_count": 3,
   "id": "8f9090a8-2ab7-4664-a65b-0bfcd71c94b6",
   "metadata": {},
   "outputs": [
    {
     "name": "stdout",
     "output_type": "stream",
     "text": [
      "in tasks \n",
      "fetched data from hf\n"
     ]
    },
    {
     "name": "stderr",
     "output_type": "stream",
     "text": [
      "Casting the dataset: 100%|██████████| 280310/280310 [00:00<00:00, 498128.10 examples/s]\n",
      "Casting the dataset: 100%|██████████| 280652/280652 [00:00<00:00, 1371451.11 examples/s]\n"
     ]
    },
    {
     "name": "stdout",
     "output_type": "stream",
     "text": [
      "data loader init\n"
     ]
    },
    {
     "name": "stderr",
     "output_type": "stream",
     "text": [
      "280310it [00:04, 68029.15it/s]\n"
     ]
    }
   ],
   "source": [
    "dataset_name = \"CodeSearchNet-python\"\n",
    "tasks = load_data(dataset_name)\n",
    "corpus, queries, qrels = tasks[dataset_name]"
   ]
  },
  {
   "cell_type": "code",
   "execution_count": 6,
   "id": "f80c4b40-c17a-4596-ba80-ef4a035bac9c",
   "metadata": {},
   "outputs": [
    {
     "data": {
      "text/plain": [
       "{'text': 'def settext(self, text, cls=\\'current\\'):\\n        \"\"\"Set the text for this element.\\n\\n        Arguments:\\n            text (str): The text\\n            cls (str): The class of the text, defaults to ``current`` (leave this unless you know what you are doing). There may be only one text content element of each class associated with the element.\\n        \"\"\"\\n        self.replace(TextContent, value=text, cls=cls)',\n",
       " 'title': ''}"
      ]
     },
     "execution_count": 6,
     "metadata": {},
     "output_type": "execute_result"
    }
   ],
   "source": [
    "corpus['c0']"
   ]
  },
  {
   "cell_type": "code",
   "execution_count": 7,
   "id": "a5c51eec-1e40-44f3-92a3-7e7b823f4f60",
   "metadata": {},
   "outputs": [
    {
     "data": {
      "text/plain": [
       "'str->list\\n    Convert XML to URL List.\\n    From Biligrab.'"
      ]
     },
     "execution_count": 7,
     "metadata": {},
     "output_type": "execute_result"
    }
   ],
   "source": [
    "queries['q265734']"
   ]
  },
  {
   "cell_type": "code",
   "execution_count": 21,
   "id": "60906e5b-9901-4941-a1c8-9d0acf30dedc",
   "metadata": {},
   "outputs": [],
   "source": [
    "# df= pd.read_csv(cosqa_deepseek_updated_path)\n",
    "# corpus = update_corpus_with_cleaned_code(corpus, df) # updating the corpus with no comments in code\n",
    "# #tasks[dataset_name] = (corpus, queries, qrels)\n",
    "# tasks[dataset_name] = (corpus, new_queries, new_qrels)"
   ]
  },
  {
   "cell_type": "code",
   "execution_count": 22,
   "id": "c5002aa4-93ad-43cd-95d1-92d0d43f3374",
   "metadata": {},
   "outputs": [],
   "source": [
    "#add_expl(tasks, \"cosqa\", cosqa_deepseek_updated_path, \"explanation_deepseek_1_cleaned\") # adding explanation instead of code"
   ]
  },
  {
   "cell_type": "code",
   "execution_count": 23,
   "id": "3b0f70d5-ccf8-4ef4-b0a6-d20c2f2315f2",
   "metadata": {},
   "outputs": [
    {
     "name": "stdout",
     "output_type": "stream",
     "text": [
      "YourCustomDEModel init\n",
      "COIR init!\n",
      "in evaluation.py: loading up dres\n",
      "\n",
      "in evaluation.py: retrieving\n",
      "\n",
      "in beir/retrieval/evaluation.py: loading up search\n",
      "\n",
      "in exact_search.py\n",
      "len of queries:  89817\n"
     ]
    },
    {
     "name": "stderr",
     "output_type": "stream",
     "text": [
      "Encoding batches: 100%|██████████| 351/351 [02:00<00:00,  2.91batch/s]\n"
     ]
    },
    {
     "name": "stdout",
     "output_type": "stream",
     "text": [
      "len of corpus:  20604\n"
     ]
    },
    {
     "name": "stderr",
     "output_type": "stream",
     "text": [
      "Encoding batches: 100%|██████████| 81/81 [00:17<00:00,  4.71batch/s]\n"
     ]
    },
    {
     "name": "stdout",
     "output_type": "stream",
     "text": [
      "in evaluation.py: evaluating\n",
      "\n",
      "Grouped evaluation based on query prefixes...\n",
      "\n",
      "Ignoring identical query and document IDs...\n",
      "Retrieval evaluation results saved to results/cosqa_qe/baseline/dres/intfloat/e5-base-v2\n",
      "{'cosqa': {'NDCG': {'NDCG@1': 0.1584, 'NDCG@3': 0.18625, 'NDCG@5': 0.20362, 'NDCG@10': 0.2354, 'NDCG@100': 0.34644, 'NDCG@1000': 0.4001}, 'MAP': {'MAP@1': 0.05402, 'MAP@3': 0.11, 'MAP@5': 0.14931, 'MAP@10': 0.20879, 'MAP@100': 0.26167, 'MAP@1000': 0.26584}, 'Recall': {'Recall@1': 0.05402, 'Recall@3': 0.12237, 'Recall@5': 0.17659, 'Recall@10': 0.27323, 'Recall@100': 0.57733, 'Recall@1000': 0.81303}, 'Precision': {'P@1': 0.1584, 'P@3': 0.16643, 'P@5': 0.16681, 'P@10': 0.15275, 'P@100': 0.03759, 'P@1000': 0.00542}}}\n"
     ]
    }
   ],
   "source": [
    "run(\"intfloat/e5-base-v2\", tasks, \"baseline\", \"dres\", \"cosqa_qe\")"
   ]
  },
  {
   "cell_type": "markdown",
   "id": "fd14dee4-da27-44e2-92d8-d7055c2f929c",
   "metadata": {
    "jp-MarkdownHeadingCollapsed": true,
    "tags": []
   },
   "source": [
    "#### duplicates"
   ]
  },
  {
   "cell_type": "code",
   "execution_count": null,
   "id": "9e58fd9a-3357-458e-8453-e0112f59b0df",
   "metadata": {},
   "outputs": [],
   "source": [
    "duplicate_code_groups = df.groupby('code').filter(lambda x: len(x) > 1)\n",
    "num_duplicate_code_groups = duplicate_code_groups['code'].nunique()\n",
    "print(f\"Number of code groups with >1 item: {num_duplicate_code_groups} out of {len(df)}\")"
   ]
  },
  {
   "cell_type": "code",
   "execution_count": 24,
   "id": "5f41fd99-2566-4a62-99e6-4753fcdcf291",
   "metadata": {},
   "outputs": [
    {
     "name": "stdout",
     "output_type": "stream",
     "text": [
      "                                                code  \\\n",
      "0  async def _send_plain_text(self, request: Requ...   \n",
      "1  async def _thread_coro(self, *args):\\n        ...   \n",
      "2  async def async_input(prompt):\\n    \"\"\"\\n    P...   \n",
      "3  async def async_run(self) -> None:\\n        \"\"...   \n",
      "4  async def cursor(self) -> Cursor:\\n        \"\"\"...   \n",
      "\n",
      "                           corpus_ids_with_same_code  \\\n",
      "0              [d3961, d1874, d20448, d6227, d10337]   \n",
      "1  [d6144, d118, d5150, d12781, d7622, d1889, d82...   \n",
      "2  [d2781, d16258, d16413, d4944, d9133, d9137, d...   \n",
      "3           [d19465, d20020, d16870, d19314, d19313]   \n",
      "4                   [d16659, d18387, d19386, d17979]   \n",
      "\n",
      "                          query_ids_for_those_corpus  \n",
      "0              [q20448, q1874, q3961, q6227, q10337]  \n",
      "1  [q11702, q5150, q6147, q7622, q8299, q118, q18...  \n",
      "2  [q4944, q16413, q9137, q16258, q20250, q9133, ...  \n",
      "3           [q20020, q19314, q16870, q19465, q19313]  \n",
      "4                   [q17979, q19386, q16659, q18387]  \n"
     ]
    }
   ],
   "source": [
    "duplicate_code_df = df.groupby('code').filter(lambda x: len(x) > 1)\n",
    "\n",
    "result = (\n",
    "    duplicate_code_df\n",
    "    .groupby('code')\n",
    "    .agg({\n",
    "        'corpus_id': lambda x: list(set(x)),\n",
    "        'query_id': lambda x: list(set(x))\n",
    "    })\n",
    "    .reset_index()\n",
    "    .rename(columns={'corpus_id': 'corpus_ids_with_same_code', 'query_id': 'query_ids_for_those_corpus'})\n",
    ")\n",
    "\n",
    "print(result.head())\n"
   ]
  },
  {
   "cell_type": "code",
   "execution_count": 17,
   "id": "7996c755-3109-478f-b337-31ac88f9ccbd",
   "metadata": {},
   "outputs": [
    {
     "name": "stdout",
     "output_type": "stream",
     "text": [
      "Number of cleaned_code groups with >1 item: 3406 out of 20604\n"
     ]
    }
   ],
   "source": [
    "duplicate_code_groups = df.groupby('cleaned_code').filter(lambda x: len(x) > 1)\n",
    "\n",
    "num_duplicate_code_groups = duplicate_code_groups['cleaned_code'].nunique()\n",
    "\n",
    "print(f\"Number of cleaned_code groups with >1 item: {num_duplicate_code_groups} out of {len(df)}\")"
   ]
  },
  {
   "cell_type": "code",
   "execution_count": 16,
   "id": "b7550dbd-a172-4e25-992f-eb78f10d632d",
   "metadata": {},
   "outputs": [
    {
     "name": "stdout",
     "output_type": "stream",
     "text": [
      "Number of explanation_deepseek_1_cleaned groups with >1 item: 93 out of 20604\n"
     ]
    }
   ],
   "source": [
    "duplicate_code_groups = df.groupby('explanation_deepseek_1_cleaned').filter(lambda x: len(x) > 1)\n",
    "\n",
    "num_duplicate_code_groups = duplicate_code_groups['explanation_deepseek_1_cleaned'].nunique()\n",
    "\n",
    "print(f\"Number of explanation_deepseek_1_cleaned groups with >1 item: {num_duplicate_code_groups} out of {len(df)}\")"
   ]
  },
  {
   "cell_type": "code",
   "execution_count": null,
   "id": "817b8fc6-62b1-482c-a529-201a5929357c",
   "metadata": {},
   "outputs": [],
   "source": []
  }
 ],
 "metadata": {
  "kernelspec": {
   "display_name": "“virtual-env”",
   "language": "python",
   "name": "vaishnavisha-virtual-env"
  },
  "language_info": {
   "codemirror_mode": {
    "name": "ipython",
    "version": 3
   },
   "file_extension": ".py",
   "mimetype": "text/x-python",
   "name": "python",
   "nbconvert_exporter": "python",
   "pygments_lexer": "ipython3",
   "version": "3.8.20"
  }
 },
 "nbformat": 4,
 "nbformat_minor": 5
}
