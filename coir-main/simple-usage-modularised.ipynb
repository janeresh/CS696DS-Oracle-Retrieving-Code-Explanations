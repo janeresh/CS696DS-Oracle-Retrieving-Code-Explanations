{
 "cells": [
  {
   "cell_type": "markdown",
   "id": "5badc6fb-56b3-4e00-8c3e-a34482dbe593",
   "metadata": {
    "jp-MarkdownHeadingCollapsed": true,
    "tags": []
   },
   "source": [
    "#### things to make modular\n",
    "* query expansion\n",
    "* query expansion result aggregation method\n",
    "* using clean corpus\n",
    "* retrieval method (dres/bm25)"
   ]
  },
  {
   "cell_type": "markdown",
   "id": "c1239c3e-a778-4150-893d-53ddaadbf38e",
   "metadata": {
    "tags": []
   },
   "source": [
    "#### imports"
   ]
  },
  {
   "cell_type": "code",
   "execution_count": 1,
   "id": "9fd6b5e4-b2b9-4ba7-80c0-79f6c79b457a",
   "metadata": {},
   "outputs": [],
   "source": [
    "from coir.data_loader import get_tasks\n",
    "from coir.evaluation import COIR\n",
    "from coir.models import YourCustomDEModel\n",
    "from datasets import load_dataset, Dataset, concatenate_datasets\n",
    "import pandas as pd\n",
    "from query_expansion import expand_queries_and_qrels\n",
    "from functions import * \n",
    "from collections import defaultdict\n",
    "from corpus_expansion import expand_corpus\n",
    "import copy"
   ]
  },
  {
   "cell_type": "code",
   "execution_count": 2,
   "id": "06a2d35f-3355-4e71-a5ca-f223b107f890",
   "metadata": {},
   "outputs": [],
   "source": [
    "cosqa_expl_path = '/work/pi_wenlongzhao_umass_edu/27/anamikaghosh/Cosqa/CoSQA_explanations_query_code.csv'\n",
    "cosqa_deepseek_updated_path='/work/pi_wenlongzhao_umass_edu/27/anamikaghosh/CS696DS-Oracle-Retrieving-Code-Explanations/Explanation_Generation/Cosqa/postprocessing/output/COSQA_deepseek_explanations_clean.csv'\n",
    "cosqa_granite_updated_path='/work/pi_wenlongzhao_umass_edu/27/anamikaghosh/CS696DS-Oracle-Retrieving-Code-Explanations/Explanation_Generation/Cosqa/postprocessing/output/COSQA_granite_explanations_clean.csv'\n",
    "cosqa_deepseek_temp_0_qe_path = '/work/pi_wenlongzhao_umass_edu/27/janet/query_expansion/results/cosqa/cosqa_queries_expanded_deepseek_temp_0.csv'\n",
    "cosqa_queries_expanded_granite_temp_0pt5_mmr_2_path='/work/pi_wenlongzhao_umass_edu/27/janet/query_expansion/results/cosqa/cosqa_queries_expanded_granite_temp_0.5_mmr_2.csv'\n",
    "cosqa_queries_variants_expanded_deepseek= '/work/pi_wenlongzhao_umass_edu/27/janet/query_expansion/results/cosqa/variants_based_prompting/cosqa_queries_variants_expanded_deepseek.csv'\n",
    "cosqa_queries_variants_expanded_granite='/work/pi_wenlongzhao_umass_edu/27/janet/query_expansion/results/cosqa/variants_based_prompting/cosqa_queries_variants_expanded_granite.csv'\n",
    "cosqa_granite_variants_corpus_expansions = '/work/pi_wenlongzhao_umass_edu/27/anamikaghosh/CS696DS-Oracle-Retrieving-Code-Explanations/Explanation_Generation/Cosqa/postprocessing/output/COSQA_granite_explanations_clean_new_prompts.csv'\n",
    "csn_queries_expanded_granite_temp_0pt5_mmr_path = '/work/pi_wenlongzhao_umass_edu/27/janet/query_expansion/results/csn/csn_test_queries_expanded_granite_temp_0.5_mmr.csv'\n",
    "csn_deepseek_path = '/work/pi_wenlongzhao_umass_edu/27/anamikaghosh/CS696DS-Oracle-Retrieving-Code-Explanations/Explanation_Generation/output/CSN_deepseek.csv'\n",
    "csn_granite_path = '/work/pi_wenlongzhao_umass_edu/27/anamikaghosh/CS696DS-Oracle-Retrieving-Code-Explanations/Explanation_Generation/output/CSN_granite.csv'\n",
    "csn_code_based_queries_expanded = '/work/pi_wenlongzhao_umass_edu/27/janet/query_expansion/results/csn/csn_test_queries_expanded_granite_code_based.csv'\n",
    "csn_test_queries_variants_expanded_granite = '/work/pi_wenlongzhao_umass_edu/27/janet/query_expansion/results/csn/variants_based_prompting/csn_test_queries_variants_expanded_granite.csv'\n",
    "csn_test_queries_variants_expanded_deepseek= '/work/pi_wenlongzhao_umass_edu/27/janet/query_expansion/results/csn/variants_based_prompting/csn_test_queries_variants_expanded_deepseek.csv'\n",
    "csn_granite_test_variants_corpus_expansions = '/work/pi_wenlongzhao_umass_edu/27/anamikaghosh/CS696DS-Oracle-Retrieving-Code-Explanations/Explanation_Generation/postprocessing/output/CSN_granite_test_clean_new_prompts.csv'\n",
    "csn_granite_train_variants_corpus_expansions= '/work/pi_wenlongzhao_umass_edu/27/anamikaghosh/CS696DS-Oracle-Retrieving-Code-Explanations/Explanation_Generation/postprocessing/output/CSN_granite_train_clean_new_prompts.csv'\n",
    "csn_granite_valid_variants_corpus_expansions = '/work/pi_wenlongzhao_umass_edu/27/anamikaghosh/CS696DS-Oracle-Retrieving-Code-Explanations/Explanation_Generation/postprocessing/output/CSN_granite_valid_clean_new_prompts.csv'"
   ]
  },
  {
   "cell_type": "markdown",
   "id": "f69384e0-ec1f-4b4c-b0c7-d851ca2dd144",
   "metadata": {
    "tags": []
   },
   "source": [
    "#### No QE"
   ]
  },
  {
   "cell_type": "code",
   "execution_count": 17,
   "id": "8f9090a8-2ab7-4664-a65b-0bfcd71c94b6",
   "metadata": {},
   "outputs": [],
   "source": [
    "# dataset_name = \"cosqa\" #CodeSearchNet-python  or cosqa\n",
    "# tasks = load_data(dataset_name)\n",
    "# corpus, queries, qrels = tasks[dataset_name]"
   ]
  },
  {
   "cell_type": "code",
   "execution_count": 18,
   "id": "60906e5b-9901-4941-a1c8-9d0acf30dedc",
   "metadata": {},
   "outputs": [],
   "source": [
    "# df= pd.read_csv(cosqa_granite_updated_path) # csn_granite_path or cosqa_deepseek_updated_path\n",
    "# corpus = update_corpus_with_cleaned_code(corpus, df) # updating the corpus with no comments in code\n",
    "# tasks[dataset_name] = (corpus, queries, qrels)"
   ]
  },
  {
   "cell_type": "markdown",
   "id": "f9fd7f81-5e3d-45d5-9ddc-615f44ecc51d",
   "metadata": {
    "jp-MarkdownHeadingCollapsed": true,
    "tags": []
   },
   "source": [
    "#### Query Expansion"
   ]
  },
  {
   "cell_type": "code",
   "execution_count": 3,
   "id": "4ac09cf8-957a-4045-af3c-520ec5511d69",
   "metadata": {},
   "outputs": [
    {
     "name": "stdout",
     "output_type": "stream",
     "text": [
      "in tasks \n",
      "data loader init\n"
     ]
    },
    {
     "data": {
      "application/vnd.jupyter.widget-view+json": {
       "model_id": "7697f4d925cc4b53b6338576f891b9ee",
       "version_major": 2,
       "version_minor": 0
      },
      "text/plain": [
       "0it [00:00, ?it/s]"
      ]
     },
     "metadata": {},
     "output_type": "display_data"
    }
   ],
   "source": [
    "# CSN qe variants \n",
    "# csn_variants_qe_df = pd.read_csv(csn_test_queries_variants_expanded_deepseek)\n",
    "# csn_variants_qe_df = csn_variants_qe_df.rename(columns= {'generated_explanation': 'expanded_query'})\n",
    "\n",
    "# dataset_name = \"CodeSearchNet-python\"\n",
    "# tasks = load_data(dataset_name)\n",
    "# corpus, queries, qrels = tasks[dataset_name]\n",
    "\n",
    "# df= pd.read_csv(csn_granite_path) # csn_granite_path or cosqa_deepseek_updated_path\n",
    "# corpus = update_corpus_with_cleaned_code(corpus, df) # updating the corpus with no comments in code\n",
    "# tasks[dataset_name] = (corpus, queries, qrels)\n",
    "\n",
    "# # updating queries for qe\n",
    "# new_queries, new_qrels = expand_queries_and_qrels(csn_variants_qe_df, qrels)\n",
    "# tasks[dataset_name] = (corpus, new_queries, qrels)\n",
    "\n",
    "\n",
    "# CSN code based qe\n",
    "# csn_code_based_qe_df = pd.read_csv(csn_code_based_queries_expanded)\n",
    "# csn_code_based_qe_df=csn_code_based_qe_df.rename(columns={'explanation': 'expanded_query'})\n",
    "# csn_code_based_qe_df=csn_code_based_qe_df.rename(columns={'id': 'v_id'})\n",
    "# csn_code_based_qe_df=csn_code_based_qe_df.rename(columns={'query_id': 'id'})\n",
    "\n",
    "# dataset_name = \"CodeSearchNet-python\"\n",
    "# tasks = load_data(dataset_name)\n",
    "# corpus, queries, qrels = tasks[dataset_name]\n",
    "\n",
    "# df= pd.read_csv(csn_granite_path) # csn_granite_path or cosqa_deepseek_updated_path\n",
    "# corpus = update_corpus_with_cleaned_code(corpus, df) # updating the corpus with no comments in code\n",
    "# tasks[dataset_name] = (corpus, queries, qrels)\n",
    "\n",
    "# # updating queries for qe\n",
    "# new_queries, new_qrels = expand_queries_and_qrels(csn_code_based_qe_df, qrels)\n",
    "# tasks[dataset_name] = (corpus, new_queries, qrels)\n",
    "\n",
    "# CSN\n",
    "# csn_qe_df = pd.read_csv(csn_queries_expanded_granite_temp_0pt5_mmr_path)\n",
    "# csn_qe_df=csn_qe_df.rename(columns={'mmr_explanation': 'expanded_query'})\n",
    "\n",
    "# dataset_name = \"CodeSearchNet-python\"\n",
    "# tasks = load_data(dataset_name)\n",
    "# corpus, queries, qrels = tasks[dataset_name]\n",
    "\n",
    "# df= pd.read_csv(csn_granite_path) # csn_granite_path or cosqa_deepseek_updated_path\n",
    "# corpus = update_corpus_with_cleaned_code(corpus, df) # updating the corpus with no comments in code\n",
    "# tasks[dataset_name] = (corpus, queries, qrels)\n",
    "\n",
    "# # updating queries for qe\n",
    "# new_queries, new_qrels = expand_queries_and_qrels(csn_qe_df, qrels)\n",
    "# tasks[dataset_name] = (corpus, new_queries, qrels)\n",
    "\n",
    "# COSQA\n",
    "dataset_name = \"cosqa\"\n",
    "tasks = load_data(dataset_name)\n",
    "corpus, queries, qrels = tasks[dataset_name]\n",
    "\n",
    "# expanded df\n",
    "cosqa_qe_df = pd.read_csv(cosqa_queries_variants_expanded_granite)\n",
    "cosqa_qe_df['expanded_query'] = cosqa_qe_df['generated_explanation'].str.split('Explanation:\\n').str[-1]\n",
    "cosqa_qe_df = cosqa_qe_df[cosqa_qe_df[\"id\"].isin(queries.keys())]\n",
    "\n",
    "\n",
    "# updating the corpus with no comments in code\n",
    "# df= pd.read_csv(cosqa_granite_updated_path)\n",
    "# new_corpus = update_corpus_with_cleaned_code(corpus, df) \n",
    "\n",
    "# updating the corpus with corpus expansions\n",
    "df=pd.read_csv(cosqa_granite_variants_corpus_expansions) \n",
    "new_corpus = expand_corpus(corpus, df)\n",
    "\n",
    "# updating queries for qe\n",
    "new_queries, new_qrels = expand_queries_and_qrels(cosqa_qe_df, qrels)\n",
    "tasks[dataset_name] = (new_corpus, new_queries, qrels)"
   ]
  },
  {
   "cell_type": "markdown",
   "id": "f349fbf4-4bf8-4616-8c6a-bc33c1f5ff3a",
   "metadata": {
    "tags": []
   },
   "source": [
    "#### Explanations"
   ]
  },
  {
   "cell_type": "code",
   "execution_count": 28,
   "id": "c5002aa4-93ad-43cd-95d1-92d0d43f3374",
   "metadata": {},
   "outputs": [
    {
     "name": "stdout",
     "output_type": "stream",
     "text": [
      "Total docs in corpus after replacement: 4419\n",
      "Number of docs still missing 'text': 0\n"
     ]
    }
   ],
   "source": [
    "# # if you want to add explanations (deepseek / granite) (cosqa / csn)\n",
    "tasks_expl = copy.deepcopy(tasks)\n",
    "# #add_expl(tasks_expl, dataset_name, csn_granite_path, \"explanation_granite_1\") # adding explanation instead of code\n",
    "# #add_expl(tasks, \"CodeSearchNet-python\", csn_deepseek_path, \"explanation_deepseek_1\") # adding explanation instead of code\n",
    "add_expl(tasks_expl, \"cosqa\", cosqa_granite_updated_path, \"explanation_granite_1_cleaned\") # adding explanation instead of code"
   ]
  },
  {
   "cell_type": "markdown",
   "id": "736d1ff2-83e5-4d28-a6a9-8787ca69e332",
   "metadata": {
    "tags": []
   },
   "source": [
    "#### Running the pipeline"
   ]
  },
  {
   "cell_type": "code",
   "execution_count": 5,
   "id": "5c219aa5-79ac-40bd-ae24-223efe05ca11",
   "metadata": {
    "tags": []
   },
   "outputs": [],
   "source": [
    "c,b,a = tasks[dataset_name]\n",
    "#f,e,d = tasks_expl[dataset_name]"
   ]
  },
  {
   "cell_type": "code",
   "execution_count": 13,
   "id": "764315d5-e96e-4fba-82b6-0ca7c2374e66",
   "metadata": {},
   "outputs": [
    {
     "name": "stdout",
     "output_type": "stream",
     "text": [
      "YourCustomDEModel init\n",
      "COIR init!\n",
      "in evaluation.py: loading up dres\n",
      "\n",
      "in evaluation.py: retrieving\n",
      "\n",
      "103020\n",
      "in beir/retrieval/evaluation.py: loading up search\n",
      "\n",
      "in exact_search.py\n",
      "len of queries:  3000\n"
     ]
    },
    {
     "data": {
      "application/vnd.jupyter.widget-view+json": {
       "model_id": "76b6c2e70198464e9283b3ea10a676fc",
       "version_major": 2,
       "version_minor": 0
      },
      "text/plain": [
       "Encoding batches:   0%|          | 0/12 [00:00<?, ?batch/s]"
      ]
     },
     "metadata": {},
     "output_type": "display_data"
    },
    {
     "name": "stdout",
     "output_type": "stream",
     "text": [
      "len of corpus:  103020\n",
      "Encoding Corpus in batches... Warning: This might take a while!\n",
      "Scoring Function: Cosine Similarity (cos_sim)\n",
      "Encoding Batch 1/11...\n"
     ]
    },
    {
     "data": {
      "application/vnd.jupyter.widget-view+json": {
       "model_id": "8d8e0a57b8d744119382b74d90a58a59",
       "version_major": 2,
       "version_minor": 0
      },
      "text/plain": [
       "Encoding batches:   0%|          | 0/40 [00:00<?, ?batch/s]"
      ]
     },
     "metadata": {},
     "output_type": "display_data"
    },
    {
     "name": "stdout",
     "output_type": "stream",
     "text": [
      "Encoding Batch 2/11...\n"
     ]
    },
    {
     "data": {
      "application/vnd.jupyter.widget-view+json": {
       "model_id": "3ff2ccacb9764e40b08e6bd28e6aa607",
       "version_major": 2,
       "version_minor": 0
      },
      "text/plain": [
       "Encoding batches:   0%|          | 0/40 [00:00<?, ?batch/s]"
      ]
     },
     "metadata": {},
     "output_type": "display_data"
    },
    {
     "name": "stdout",
     "output_type": "stream",
     "text": [
      "Encoding Batch 3/11...\n"
     ]
    },
    {
     "data": {
      "application/vnd.jupyter.widget-view+json": {
       "model_id": "9e35be27d3d042fe909882bff1723037",
       "version_major": 2,
       "version_minor": 0
      },
      "text/plain": [
       "Encoding batches:   0%|          | 0/40 [00:00<?, ?batch/s]"
      ]
     },
     "metadata": {},
     "output_type": "display_data"
    },
    {
     "name": "stdout",
     "output_type": "stream",
     "text": [
      "Encoding Batch 4/11...\n"
     ]
    },
    {
     "data": {
      "application/vnd.jupyter.widget-view+json": {
       "model_id": "9010cefcbad145bd8fe75600a158f804",
       "version_major": 2,
       "version_minor": 0
      },
      "text/plain": [
       "Encoding batches:   0%|          | 0/40 [00:00<?, ?batch/s]"
      ]
     },
     "metadata": {},
     "output_type": "display_data"
    },
    {
     "name": "stdout",
     "output_type": "stream",
     "text": [
      "Encoding Batch 5/11...\n"
     ]
    },
    {
     "data": {
      "application/vnd.jupyter.widget-view+json": {
       "model_id": "9a6ed853065b49c9ac17eebddd0966c8",
       "version_major": 2,
       "version_minor": 0
      },
      "text/plain": [
       "Encoding batches:   0%|          | 0/40 [00:00<?, ?batch/s]"
      ]
     },
     "metadata": {},
     "output_type": "display_data"
    },
    {
     "name": "stdout",
     "output_type": "stream",
     "text": [
      "Encoding Batch 6/11...\n"
     ]
    },
    {
     "data": {
      "application/vnd.jupyter.widget-view+json": {
       "model_id": "0d5f550c1c7743cd809fae771d2f32c1",
       "version_major": 2,
       "version_minor": 0
      },
      "text/plain": [
       "Encoding batches:   0%|          | 0/40 [00:00<?, ?batch/s]"
      ]
     },
     "metadata": {},
     "output_type": "display_data"
    },
    {
     "name": "stdout",
     "output_type": "stream",
     "text": [
      "Encoding Batch 7/11...\n"
     ]
    },
    {
     "data": {
      "application/vnd.jupyter.widget-view+json": {
       "model_id": "a37f38dcdde64806815bd72bb882c38d",
       "version_major": 2,
       "version_minor": 0
      },
      "text/plain": [
       "Encoding batches:   0%|          | 0/40 [00:00<?, ?batch/s]"
      ]
     },
     "metadata": {},
     "output_type": "display_data"
    },
    {
     "name": "stdout",
     "output_type": "stream",
     "text": [
      "Encoding Batch 8/11...\n"
     ]
    },
    {
     "data": {
      "application/vnd.jupyter.widget-view+json": {
       "model_id": "fb695f25792b423ab2663562c914e824",
       "version_major": 2,
       "version_minor": 0
      },
      "text/plain": [
       "Encoding batches:   0%|          | 0/40 [00:00<?, ?batch/s]"
      ]
     },
     "metadata": {},
     "output_type": "display_data"
    },
    {
     "name": "stdout",
     "output_type": "stream",
     "text": [
      "Encoding Batch 9/11...\n"
     ]
    },
    {
     "data": {
      "application/vnd.jupyter.widget-view+json": {
       "model_id": "7b9e3fd71feb4b8bbd7f4e2fe82c2a53",
       "version_major": 2,
       "version_minor": 0
      },
      "text/plain": [
       "Encoding batches:   0%|          | 0/40 [00:00<?, ?batch/s]"
      ]
     },
     "metadata": {},
     "output_type": "display_data"
    },
    {
     "name": "stdout",
     "output_type": "stream",
     "text": [
      "Encoding Batch 10/11...\n"
     ]
    },
    {
     "data": {
      "application/vnd.jupyter.widget-view+json": {
       "model_id": "d684e427d66c4c1ca1d60ec295656bcc",
       "version_major": 2,
       "version_minor": 0
      },
      "text/plain": [
       "Encoding batches:   0%|          | 0/40 [00:00<?, ?batch/s]"
      ]
     },
     "metadata": {},
     "output_type": "display_data"
    },
    {
     "name": "stdout",
     "output_type": "stream",
     "text": [
      "Encoding Batch 11/11...\n"
     ]
    },
    {
     "data": {
      "application/vnd.jupyter.widget-view+json": {
       "model_id": "c384e729cd20478d876c624a4b13e86e",
       "version_major": 2,
       "version_minor": 0
      },
      "text/plain": [
       "Encoding batches:   0%|          | 0/12 [00:00<?, ?batch/s]"
      ]
     },
     "metadata": {},
     "output_type": "display_data"
    },
    {
     "name": "stdout",
     "output_type": "stream",
     "text": [
      "exact_search finished\n",
      "in evaluation.py: evaluating\n",
      "\n",
      "in beir/retrieval/evaluation.py: evaluating now\n",
      "\n",
      "Retrieval evaluation results saved to results/cosqa/qce/granite1/dres/intfloat/e5-base-v2\n",
      "{'cosqa': {'NDCG': {'NDCG@1': 0.072, 'NDCG@3': 0.12028, 'NDCG@5': 0.15102, 'NDCG@10': 0.18138, 'NDCG@100': 0.25972, 'NDCG@1000': 0.29546}, 'MAP': {'MAP@1': 0.072, 'MAP@3': 0.108, 'MAP@5': 0.1252, 'MAP@10': 0.13771, 'MAP@100': 0.15189, 'MAP@1000': 0.15328}, 'Recall': {'Recall@1': 0.072, 'Recall@3': 0.156, 'Recall@5': 0.23, 'Recall@10': 0.324, 'Recall@100': 0.712, 'Recall@1000': 0.99}, 'Precision': {'P@1': 0.072, 'P@3': 0.052, 'P@5': 0.046, 'P@10': 0.0324, 'P@100': 0.00712, 'P@1000': 0.00099}}}\n",
      "YourCustomDEModel init\n",
      "COIR init!\n",
      "in evaluation.py: loading up dres\n",
      "\n",
      "in evaluation.py: retrieving\n",
      "\n",
      "103020\n",
      "in beir/retrieval/evaluation.py: loading up search\n",
      "\n",
      "in exact_search.py\n",
      "len of queries:  3000\n"
     ]
    },
    {
     "data": {
      "application/vnd.jupyter.widget-view+json": {
       "model_id": "3965e66dab40465da5d261985f212deb",
       "version_major": 2,
       "version_minor": 0
      },
      "text/plain": [
       "Encoding batches:   0%|          | 0/12 [00:00<?, ?batch/s]"
      ]
     },
     "metadata": {},
     "output_type": "display_data"
    },
    {
     "name": "stdout",
     "output_type": "stream",
     "text": [
      "len of corpus:  103020\n",
      "Encoding Corpus in batches... Warning: This might take a while!\n",
      "Scoring Function: Cosine Similarity (cos_sim)\n",
      "Encoding Batch 1/11...\n"
     ]
    },
    {
     "data": {
      "application/vnd.jupyter.widget-view+json": {
       "model_id": "69a2ee5e056f4e91bf1a90b5a9eba659",
       "version_major": 2,
       "version_minor": 0
      },
      "text/plain": [
       "Encoding batches:   0%|          | 0/40 [00:00<?, ?batch/s]"
      ]
     },
     "metadata": {},
     "output_type": "display_data"
    },
    {
     "name": "stdout",
     "output_type": "stream",
     "text": [
      "Encoding Batch 2/11...\n"
     ]
    },
    {
     "data": {
      "application/vnd.jupyter.widget-view+json": {
       "model_id": "29076d138c6c49e9a9591fc38cf9eabc",
       "version_major": 2,
       "version_minor": 0
      },
      "text/plain": [
       "Encoding batches:   0%|          | 0/40 [00:00<?, ?batch/s]"
      ]
     },
     "metadata": {},
     "output_type": "display_data"
    },
    {
     "name": "stdout",
     "output_type": "stream",
     "text": [
      "Encoding Batch 3/11...\n"
     ]
    },
    {
     "data": {
      "application/vnd.jupyter.widget-view+json": {
       "model_id": "11a1771ac1a4475ebaa4cc0352c0bdef",
       "version_major": 2,
       "version_minor": 0
      },
      "text/plain": [
       "Encoding batches:   0%|          | 0/40 [00:00<?, ?batch/s]"
      ]
     },
     "metadata": {},
     "output_type": "display_data"
    },
    {
     "name": "stdout",
     "output_type": "stream",
     "text": [
      "Encoding Batch 4/11...\n"
     ]
    },
    {
     "data": {
      "application/vnd.jupyter.widget-view+json": {
       "model_id": "e477ac96956547d686a64131e8d5c2f0",
       "version_major": 2,
       "version_minor": 0
      },
      "text/plain": [
       "Encoding batches:   0%|          | 0/40 [00:00<?, ?batch/s]"
      ]
     },
     "metadata": {},
     "output_type": "display_data"
    },
    {
     "name": "stdout",
     "output_type": "stream",
     "text": [
      "Encoding Batch 5/11...\n"
     ]
    },
    {
     "data": {
      "application/vnd.jupyter.widget-view+json": {
       "model_id": "d668f10d3207477883ae6c2e054f5746",
       "version_major": 2,
       "version_minor": 0
      },
      "text/plain": [
       "Encoding batches:   0%|          | 0/40 [00:00<?, ?batch/s]"
      ]
     },
     "metadata": {},
     "output_type": "display_data"
    },
    {
     "name": "stdout",
     "output_type": "stream",
     "text": [
      "Encoding Batch 6/11...\n"
     ]
    },
    {
     "data": {
      "application/vnd.jupyter.widget-view+json": {
       "model_id": "097fab10abe94ff784444a50bcd86ada",
       "version_major": 2,
       "version_minor": 0
      },
      "text/plain": [
       "Encoding batches:   0%|          | 0/40 [00:00<?, ?batch/s]"
      ]
     },
     "metadata": {},
     "output_type": "display_data"
    },
    {
     "name": "stdout",
     "output_type": "stream",
     "text": [
      "Encoding Batch 7/11...\n"
     ]
    },
    {
     "data": {
      "application/vnd.jupyter.widget-view+json": {
       "model_id": "87c5ecb861bd4ecc9c968731de159e6d",
       "version_major": 2,
       "version_minor": 0
      },
      "text/plain": [
       "Encoding batches:   0%|          | 0/40 [00:00<?, ?batch/s]"
      ]
     },
     "metadata": {},
     "output_type": "display_data"
    },
    {
     "name": "stdout",
     "output_type": "stream",
     "text": [
      "Encoding Batch 8/11...\n"
     ]
    },
    {
     "data": {
      "application/vnd.jupyter.widget-view+json": {
       "model_id": "90f948adad584f9fa56160cc8e068731",
       "version_major": 2,
       "version_minor": 0
      },
      "text/plain": [
       "Encoding batches:   0%|          | 0/40 [00:00<?, ?batch/s]"
      ]
     },
     "metadata": {},
     "output_type": "display_data"
    },
    {
     "name": "stdout",
     "output_type": "stream",
     "text": [
      "Encoding Batch 9/11...\n"
     ]
    },
    {
     "data": {
      "application/vnd.jupyter.widget-view+json": {
       "model_id": "6917bbfd9f794edaa7aa7b758bd3820b",
       "version_major": 2,
       "version_minor": 0
      },
      "text/plain": [
       "Encoding batches:   0%|          | 0/40 [00:00<?, ?batch/s]"
      ]
     },
     "metadata": {},
     "output_type": "display_data"
    },
    {
     "name": "stdout",
     "output_type": "stream",
     "text": [
      "Encoding Batch 10/11...\n"
     ]
    },
    {
     "data": {
      "application/vnd.jupyter.widget-view+json": {
       "model_id": "e00fd2e469334ce29dab8b7fb8ccfd4d",
       "version_major": 2,
       "version_minor": 0
      },
      "text/plain": [
       "Encoding batches:   0%|          | 0/40 [00:00<?, ?batch/s]"
      ]
     },
     "metadata": {},
     "output_type": "display_data"
    },
    {
     "name": "stdout",
     "output_type": "stream",
     "text": [
      "Encoding Batch 11/11...\n"
     ]
    },
    {
     "data": {
      "application/vnd.jupyter.widget-view+json": {
       "model_id": "35dc1556da054ec8948ad50853c6dbf6",
       "version_major": 2,
       "version_minor": 0
      },
      "text/plain": [
       "Encoding batches:   0%|          | 0/12 [00:00<?, ?batch/s]"
      ]
     },
     "metadata": {},
     "output_type": "display_data"
    },
    {
     "name": "stdout",
     "output_type": "stream",
     "text": [
      "exact_search finished\n",
      "in evaluation.py: evaluating\n",
      "\n",
      "in beir/retrieval/evaluation.py: evaluating now\n",
      "\n",
      "Retrieval evaluation results saved to results/cosqa/qce/granite1/dres/BAAI/bge-base-en\n",
      "{'cosqa': {'NDCG': {'NDCG@1': 0.058, 'NDCG@3': 0.10776, 'NDCG@5': 0.13143, 'NDCG@10': 0.1632, 'NDCG@100': 0.21999, 'NDCG@1000': 0.26835}, 'MAP': {'MAP@1': 0.058, 'MAP@3': 0.09467, 'MAP@5': 0.10767, 'MAP@10': 0.12044, 'MAP@100': 0.13058, 'MAP@1000': 0.13214}, 'Recall': {'Recall@1': 0.058, 'Recall@3': 0.146, 'Recall@5': 0.204, 'Recall@10': 0.304, 'Recall@100': 0.588, 'Recall@1000': 0.982}, 'Precision': {'P@1': 0.058, 'P@3': 0.04867, 'P@5': 0.0408, 'P@10': 0.0304, 'P@100': 0.00588, 'P@1000': 0.00098}}}\n",
      "Run failed: cannot unpack non-iterable NoneType object\n",
      "Run failed: cannot unpack non-iterable NoneType object\n"
     ]
    }
   ],
   "source": [
    "from concurrent.futures import ThreadPoolExecutor, as_completed\n",
    "\n",
    "run_params = [\n",
    "    # run(\"intfloat/e5-base-v2\", tasks, \"baseline\", \"dres\", \"cosqa/qe/variants_expanded_granite/includingOg\"),\n",
    "    # run(\"BAAI/bge-base-en\", tasks, \"baseline\", \"dres\", \"cosqa/qe/variants_expanded_granite/includingOg\"),\n",
    "    run(\"intfloat/e5-base-v2\", tasks, \"granite1\", \"dres\", \"cosqa/qce\"),\n",
    "    run(\"BAAI/bge-base-en\", tasks, \"granite1\", \"dres\", \"cosqa/qce\")\n",
    "    \n",
    "]\n",
    "\n",
    "def run_wrapper(params):\n",
    "    model_name, task, exp_type, retrieval, data_path = params\n",
    "    return run(model_name, task, exp_type, retrieval, data_path)\n",
    "\n",
    "# Run all in parallel\n",
    "if __name__ == \"__main__\":\n",
    "    max_workers = 4  # Adjust based on your machine's capacity\n",
    "\n",
    "    with ThreadPoolExecutor(max_workers=max_workers) as executor:\n",
    "        futures = [executor.submit(run_wrapper, params) for params in run_params]\n",
    "\n",
    "        for future in as_completed(futures):\n",
    "            try:\n",
    "                result = future.result()\n",
    "                print(\"Run completed successfully.\")\n",
    "            except Exception as e:\n",
    "                print(f\"Run failed: {e}\")\n"
   ]
  }
 ],
 "metadata": {
  "kernelspec": {
   "display_name": "“virtual-env”",
   "language": "python",
   "name": "vaishnavisha-virtual-env"
  },
  "language_info": {
   "codemirror_mode": {
    "name": "ipython",
    "version": 3
   },
   "file_extension": ".py",
   "mimetype": "text/x-python",
   "name": "python",
   "nbconvert_exporter": "python",
   "pygments_lexer": "ipython3",
   "version": "3.8.20"
  }
 },
 "nbformat": 4,
 "nbformat_minor": 5
}
