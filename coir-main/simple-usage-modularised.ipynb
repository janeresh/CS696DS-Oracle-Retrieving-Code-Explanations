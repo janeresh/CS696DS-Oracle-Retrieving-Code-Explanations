{
 "cells": [
  {
   "cell_type": "markdown",
   "id": "5badc6fb-56b3-4e00-8c3e-a34482dbe593",
   "metadata": {
    "jp-MarkdownHeadingCollapsed": true,
    "tags": []
   },
   "source": [
    "#### things to make modular\n",
    "* query expansion\n",
    "* query expansion result aggregation method\n",
    "* using clean corpus\n",
    "* retrieval method (dres/bm25)"
   ]
  },
  {
   "cell_type": "markdown",
   "id": "c1239c3e-a778-4150-893d-53ddaadbf38e",
   "metadata": {
    "tags": []
   },
   "source": [
    "#### imports"
   ]
  },
  {
   "cell_type": "code",
   "execution_count": 1,
   "id": "9fd6b5e4-b2b9-4ba7-80c0-79f6c79b457a",
   "metadata": {},
   "outputs": [],
   "source": [
    "from coir.data_loader import get_tasks\n",
    "from coir.evaluation import COIR\n",
    "from coir.models import YourCustomDEModel\n",
    "from datasets import load_dataset, Dataset, concatenate_datasets\n",
    "import pandas as pd\n",
    "from query_expansion import expand_queries_and_qrels\n",
    "from functions import * \n",
    "from collections import defaultdict\n",
    "import copy"
   ]
  },
  {
   "cell_type": "code",
   "execution_count": 2,
   "id": "06a2d35f-3355-4e71-a5ca-f223b107f890",
   "metadata": {},
   "outputs": [],
   "source": [
    "cosqa_expl_path = '/work/pi_wenlongzhao_umass_edu/27/anamikaghosh/Cosqa/CoSQA_explanations_query_code.csv'\n",
    "cosqa_deepseek_updated_path='/work/pi_wenlongzhao_umass_edu/27/anamikaghosh/CS696DS-Oracle-Retrieving-Code-Explanations/Explanation_Generation/Cosqa/postprocessing/output/COSQA_deepseek_explanations_clean.csv'\n",
    "cosqa_granite_updated_path='/work/pi_wenlongzhao_umass_edu/27/anamikaghosh/CS696DS-Oracle-Retrieving-Code-Explanations/Explanation_Generation/Cosqa/postprocessing/output/COSQA_granite_explanations_clean.csv'\n",
    "cosqa_deepseek_temp_0_qe_path = '/work/pi_wenlongzhao_umass_edu/27/janet/query_expansion/results/cosqa/cosqa_queries_expanded_deepseek_temp_0.csv'\n",
    "cosqa_queries_expanded_granite_temp_0pt5_mmr_2_path='/work/pi_wenlongzhao_umass_edu/27/janet/query_expansion/results/cosqa/cosqa_queries_expanded_granite_temp_0.5_mmr_2.csv'\n",
    "cosqa_queries_variants_expanded_deepseek= '/work/pi_wenlongzhao_umass_edu/27/janet/query_expansion/results/cosqa/variants_based_prompting/cosqa_queries_variants_expanded_deepseek.csv'\n",
    "cosqa_queries_variants_expanded_granite='/work/pi_wenlongzhao_umass_edu/27/janet/query_expansion/results/cosqa/variants_based_prompting/cosqa_queries_variants_expanded_granite.csv'\n",
    "csn_queries_expanded_granite_temp_0pt5_mmr_path = '/work/pi_wenlongzhao_umass_edu/27/janet/query_expansion/results/csn/csn_test_queries_expanded_granite_temp_0.5_mmr.csv'\n",
    "csn_deepseek_path = '/work/pi_wenlongzhao_umass_edu/27/anamikaghosh/CS696DS-Oracle-Retrieving-Code-Explanations/Explanation_Generation/output/CSN_deepseek.csv'\n",
    "csn_granite_path = '/work/pi_wenlongzhao_umass_edu/27/anamikaghosh/CS696DS-Oracle-Retrieving-Code-Explanations/Explanation_Generation/output/CSN_granite.csv'\n",
    "csn_code_based_queries_expanded = '/work/pi_wenlongzhao_umass_edu/27/janet/query_expansion/results/csn/csn_test_queries_expanded_granite_code_based.csv'\n",
    "csn_test_queries_variants_expanded_granite = '/work/pi_wenlongzhao_umass_edu/27/janet/query_expansion/results/csn/variants_based_prompting/csn_test_queries_variants_expanded_granite.csv'\n",
    "csn_test_queries_variants_expanded_deepseek= '/work/pi_wenlongzhao_umass_edu/27/janet/query_expansion/results/csn/variants_based_prompting/csn_test_queries_variants_expanded_deepseek.csv'"
   ]
  },
  {
   "cell_type": "markdown",
   "id": "f69384e0-ec1f-4b4c-b0c7-d851ca2dd144",
   "metadata": {
    "tags": []
   },
   "source": [
    "#### No QE"
   ]
  },
  {
   "cell_type": "code",
   "execution_count": 3,
   "id": "8f9090a8-2ab7-4664-a65b-0bfcd71c94b6",
   "metadata": {},
   "outputs": [
    {
     "name": "stdout",
     "output_type": "stream",
     "text": [
      "in tasks \n",
      "data loader init\n"
     ]
    },
    {
     "data": {
      "application/vnd.jupyter.widget-view+json": {
       "model_id": "044a831c031843038babc7c6e4640199",
       "version_major": 2,
       "version_minor": 0
      },
      "text/plain": [
       "0it [00:00, ?it/s]"
      ]
     },
     "metadata": {},
     "output_type": "display_data"
    }
   ],
   "source": [
    "dataset_name = \"cosqa\" #CodeSearchNet-python  or cosqa\n",
    "tasks = load_data(dataset_name)\n",
    "corpus, queries, qrels = tasks[dataset_name]"
   ]
  },
  {
   "cell_type": "code",
   "execution_count": 4,
   "id": "60906e5b-9901-4941-a1c8-9d0acf30dedc",
   "metadata": {},
   "outputs": [],
   "source": [
    "df= pd.read_csv(cosqa_granite_updated_path) # csn_granite_path or cosqa_deepseek_updated_path\n",
    "corpus = update_corpus_with_cleaned_code(corpus, df) # updating the corpus with no comments in code\n",
    "tasks[dataset_name] = (corpus, queries, qrels)"
   ]
  },
  {
   "cell_type": "markdown",
   "id": "f9fd7f81-5e3d-45d5-9ddc-615f44ecc51d",
   "metadata": {
    "jp-MarkdownHeadingCollapsed": true,
    "tags": []
   },
   "source": [
    "#### Query Expansion"
   ]
  },
  {
   "cell_type": "code",
   "execution_count": 5,
   "id": "4ac09cf8-957a-4045-af3c-520ec5511d69",
   "metadata": {},
   "outputs": [],
   "source": [
    "# CSN qe variants \n",
    "# csn_variants_qe_df = pd.read_csv(csn_test_queries_variants_expanded_deepseek)\n",
    "# csn_variants_qe_df = csn_variants_qe_df.rename(columns= {'generated_explanation': 'expanded_query'})\n",
    "\n",
    "# dataset_name = \"CodeSearchNet-python\"\n",
    "# tasks = load_data(dataset_name)\n",
    "# corpus, queries, qrels = tasks[dataset_name]\n",
    "\n",
    "# df= pd.read_csv(csn_granite_path) # csn_granite_path or cosqa_deepseek_updated_path\n",
    "# corpus = update_corpus_with_cleaned_code(corpus, df) # updating the corpus with no comments in code\n",
    "# tasks[dataset_name] = (corpus, queries, qrels)\n",
    "\n",
    "# # updating queries for qe\n",
    "# new_queries, new_qrels = expand_queries_and_qrels(csn_variants_qe_df, qrels)\n",
    "# tasks[dataset_name] = (corpus, new_queries, qrels)\n",
    "\n",
    "\n",
    "# CSN code based qe\n",
    "# csn_code_based_qe_df = pd.read_csv(csn_code_based_queries_expanded)\n",
    "# csn_code_based_qe_df=csn_code_based_qe_df.rename(columns={'explanation': 'expanded_query'})\n",
    "# csn_code_based_qe_df=csn_code_based_qe_df.rename(columns={'id': 'v_id'})\n",
    "# csn_code_based_qe_df=csn_code_based_qe_df.rename(columns={'query_id': 'id'})\n",
    "\n",
    "# dataset_name = \"CodeSearchNet-python\"\n",
    "# tasks = load_data(dataset_name)\n",
    "# corpus, queries, qrels = tasks[dataset_name]\n",
    "\n",
    "# df= pd.read_csv(csn_granite_path) # csn_granite_path or cosqa_deepseek_updated_path\n",
    "# corpus = update_corpus_with_cleaned_code(corpus, df) # updating the corpus with no comments in code\n",
    "# tasks[dataset_name] = (corpus, queries, qrels)\n",
    "\n",
    "# # updating queries for qe\n",
    "# new_queries, new_qrels = expand_queries_and_qrels(csn_code_based_qe_df, qrels)\n",
    "# tasks[dataset_name] = (corpus, new_queries, qrels)\n",
    "\n",
    "# CSN\n",
    "# csn_qe_df = pd.read_csv(csn_queries_expanded_granite_temp_0pt5_mmr_path)\n",
    "# csn_qe_df=csn_qe_df.rename(columns={'mmr_explanation': 'expanded_query'})\n",
    "\n",
    "# dataset_name = \"CodeSearchNet-python\"\n",
    "# tasks = load_data(dataset_name)\n",
    "# corpus, queries, qrels = tasks[dataset_name]\n",
    "\n",
    "# df= pd.read_csv(csn_granite_path) # csn_granite_path or cosqa_deepseek_updated_path\n",
    "# corpus = update_corpus_with_cleaned_code(corpus, df) # updating the corpus with no comments in code\n",
    "# tasks[dataset_name] = (corpus, queries, qrels)\n",
    "\n",
    "# # updating queries for qe\n",
    "# new_queries, new_qrels = expand_queries_and_qrels(csn_qe_df, qrels)\n",
    "# tasks[dataset_name] = (corpus, new_queries, qrels)\n",
    "\n",
    "# COSQA\n",
    "# dataset_name = \"cosqa\"\n",
    "# tasks = load_data(dataset_name)\n",
    "# corpus, queries, qrels = tasks[dataset_name]\n",
    "\n",
    "# # expanded df\n",
    "# cosqa_qe_df = pd.read_csv(cosqa_queries_variants_expanded_deepseek)\n",
    "# cosqa_qe_df = cosqa_qe_df.rename(columns={'generated_explanation': 'expanded_query'})\n",
    "# cosqa_qe_df = cosqa_qe_df[cosqa_qe_df[\"id\"].isin(queries.keys())]\n",
    "\n",
    "\n",
    "# # updating the corpus with no comments in code\n",
    "# df= pd.read_csv(cosqa_granite_updated_path)\n",
    "# corpus = update_corpus_with_cleaned_code(corpus, df) \n",
    "\n",
    "# # updating queries for qe\n",
    "# new_queries, new_qrels = expand_queries_and_qrels(cosqa_qe_df, qrels)\n",
    "# tasks[dataset_name] = (corpus, new_queries, qrels)"
   ]
  },
  {
   "cell_type": "markdown",
   "id": "f349fbf4-4bf8-4616-8c6a-bc33c1f5ff3a",
   "metadata": {
    "tags": []
   },
   "source": [
    "#### Explanations"
   ]
  },
  {
   "cell_type": "code",
   "execution_count": 6,
   "id": "c5002aa4-93ad-43cd-95d1-92d0d43f3374",
   "metadata": {},
   "outputs": [
    {
     "name": "stdout",
     "output_type": "stream",
     "text": [
      "Total docs in corpus after replacement: 4419\n",
      "Number of docs still missing 'text': 0\n"
     ]
    }
   ],
   "source": [
    "# if you want to add explanations (deepseek / granite) (cosqa / csn)\n",
    "tasks_expl = copy.deepcopy(tasks)\n",
    "#add_expl(tasks_expl, dataset_name, csn_granite_path, \"explanation_granite_1\") # adding explanation instead of code\n",
    "#add_expl(tasks, \"CodeSearchNet-python\", csn_deepseek_path, \"explanation_deepseek_1\") # adding explanation instead of code\n",
    "add_expl(tasks_expl, \"cosqa\", cosqa_granite_updated_path, \"explanation_granite_1_cleaned\") # adding explanation instead of code"
   ]
  },
  {
   "cell_type": "markdown",
   "id": "736d1ff2-83e5-4d28-a6a9-8787ca69e332",
   "metadata": {
    "tags": []
   },
   "source": [
    "#### Running the pipeline"
   ]
  },
  {
   "cell_type": "code",
   "execution_count": 7,
   "id": "5c219aa5-79ac-40bd-ae24-223efe05ca11",
   "metadata": {
    "tags": []
   },
   "outputs": [],
   "source": [
    "c,b,a = tasks[dataset_name]\n",
    "f,e,d = tasks_expl[dataset_name]"
   ]
  },
  {
   "cell_type": "code",
   "execution_count": 8,
   "id": "764315d5-e96e-4fba-82b6-0ca7c2374e66",
   "metadata": {},
   "outputs": [
    {
     "name": "stdout",
     "output_type": "stream",
     "text": [
      "YourCustomDEModel init\n",
      "COIR init!\n",
      "in evaluation.py: loading up dres\n",
      "\n",
      "in evaluation.py: retrieving\n",
      "\n",
      "in beir/retrieval/evaluation.py: loading up search\n",
      "\n",
      "in exact_search codet5.py\n",
      "encoding queries\n"
     ]
    },
    {
     "data": {
      "application/vnd.jupyter.widget-view+json": {
       "model_id": "27e24eba042d4af4b02b11ac27d0b45f",
       "version_major": 2,
       "version_minor": 0
      },
      "text/plain": [
       "Encoding batches:   0%|          | 0/2 [00:00<?, ?batch/s]"
      ]
     },
     "metadata": {},
     "output_type": "display_data"
    },
    {
     "name": "stdout",
     "output_type": "stream",
     "text": [
      "encoding corpus\n"
     ]
    },
    {
     "data": {
      "application/vnd.jupyter.widget-view+json": {
       "model_id": "6c023b04b6554db5b0cfb220e3b1aa2a",
       "version_major": 2,
       "version_minor": 0
      },
      "text/plain": [
       "Encoding batches:   0%|          | 0/18 [00:00<?, ?batch/s]"
      ]
     },
     "metadata": {},
     "output_type": "display_data"
    },
    {
     "name": "stdout",
     "output_type": "stream",
     "text": [
      "using cross encoder\n",
      "in evaluation.py: evaluating\n",
      "\n",
      "in beir/retrieval/evaluation.py: evaluating now\n",
      "\n",
      "in combine scores by average\n",
      "Retrieval evaluation results saved to results/cosqa/cross-encoder/ms-marco-MiniLM-L-6-v2/0.8/baseline/dres/intfloat/e5-base-v2\n",
      "{'cosqa': {'NDCG': {'NDCG@1': 0.21, 'NDCG@3': 0.28043, 'NDCG@5': 0.3133, 'NDCG@10': 0.34505, 'NDCG@100': 0.40536, 'NDCG@1000': 0.42842}, 'MAP': {'MAP@1': 0.21, 'MAP@3': 0.26267, 'MAP@5': 0.28087, 'MAP@10': 0.29401, 'MAP@100': 0.30474, 'MAP@1000': 0.30555}, 'Recall': {'Recall@1': 0.21, 'Recall@3': 0.332, 'Recall@5': 0.412, 'Recall@10': 0.51, 'Recall@100': 0.81, 'Recall@1000': 0.996}, 'Precision': {'P@1': 0.21, 'P@3': 0.11067, 'P@5': 0.0824, 'P@10': 0.051, 'P@100': 0.0081, 'P@1000': 0.001}}}\n",
      "YourCustomDEModel init\n",
      "COIR init!\n",
      "in evaluation.py: loading up dres\n",
      "\n",
      "in evaluation.py: retrieving\n",
      "\n",
      "in beir/retrieval/evaluation.py: loading up search\n",
      "\n",
      "in exact_search codet5.py\n",
      "encoding queries\n"
     ]
    },
    {
     "data": {
      "application/vnd.jupyter.widget-view+json": {
       "model_id": "6b177de65c4e43ee8129140ee9aac849",
       "version_major": 2,
       "version_minor": 0
      },
      "text/plain": [
       "Encoding batches:   0%|          | 0/2 [00:00<?, ?batch/s]"
      ]
     },
     "metadata": {},
     "output_type": "display_data"
    },
    {
     "name": "stdout",
     "output_type": "stream",
     "text": [
      "encoding corpus\n"
     ]
    },
    {
     "data": {
      "application/vnd.jupyter.widget-view+json": {
       "model_id": "378827631d87475aa16d37e3393515c4",
       "version_major": 2,
       "version_minor": 0
      },
      "text/plain": [
       "Encoding batches:   0%|          | 0/18 [00:00<?, ?batch/s]"
      ]
     },
     "metadata": {},
     "output_type": "display_data"
    },
    {
     "name": "stdout",
     "output_type": "stream",
     "text": [
      "using cross encoder\n",
      "in evaluation.py: evaluating\n",
      "\n",
      "in beir/retrieval/evaluation.py: evaluating now\n",
      "\n",
      "in combine scores by average\n",
      "Retrieval evaluation results saved to results/cosqa/cross-encoder/ms-marco-MiniLM-L-6-v2/0.8/baseline/dres/BAAI/bge-base-en\n",
      "{'cosqa': {'NDCG': {'NDCG@1': 0.212, 'NDCG@3': 0.28569, 'NDCG@5': 0.32166, 'NDCG@10': 0.35054, 'NDCG@100': 0.41154, 'NDCG@1000': 0.43353}, 'MAP': {'MAP@1': 0.212, 'MAP@3': 0.267, 'MAP@5': 0.2868, 'MAP@10': 0.29858, 'MAP@100': 0.30974, 'MAP@1000': 0.31054}, 'Recall': {'Recall@1': 0.212, 'Recall@3': 0.34, 'Recall@5': 0.428, 'Recall@10': 0.518, 'Recall@100': 0.818, 'Recall@1000': 0.994}, 'Precision': {'P@1': 0.212, 'P@3': 0.11333, 'P@5': 0.0856, 'P@10': 0.0518, 'P@100': 0.00818, 'P@1000': 0.00099}}}\n",
      "YourCustomDEModel init\n",
      "COIR init!\n",
      "in evaluation.py: loading up dres\n",
      "\n",
      "in evaluation.py: retrieving\n",
      "\n",
      "in beir/retrieval/evaluation.py: loading up search\n",
      "\n",
      "in exact_search codet5.py\n",
      "encoding queries\n"
     ]
    },
    {
     "data": {
      "application/vnd.jupyter.widget-view+json": {
       "model_id": "53d8406911204971bcceb118ec337055",
       "version_major": 2,
       "version_minor": 0
      },
      "text/plain": [
       "Encoding batches:   0%|          | 0/2 [00:00<?, ?batch/s]"
      ]
     },
     "metadata": {},
     "output_type": "display_data"
    },
    {
     "name": "stdout",
     "output_type": "stream",
     "text": [
      "encoding corpus\n"
     ]
    },
    {
     "data": {
      "application/vnd.jupyter.widget-view+json": {
       "model_id": "b88931899c9e41908e5e7bf0810628e0",
       "version_major": 2,
       "version_minor": 0
      },
      "text/plain": [
       "Encoding batches:   0%|          | 0/18 [00:00<?, ?batch/s]"
      ]
     },
     "metadata": {},
     "output_type": "display_data"
    },
    {
     "name": "stdout",
     "output_type": "stream",
     "text": [
      "using cross encoder\n",
      "in evaluation.py: evaluating\n",
      "\n",
      "in beir/retrieval/evaluation.py: evaluating now\n",
      "\n",
      "in combine scores by average\n",
      "Retrieval evaluation results saved to results/cosqa/cross-encoder/ms-marco-MiniLM-L-6-v2/0.8/granite1/dres/intfloat/e5-base-v2\n",
      "{'cosqa': {'NDCG': {'NDCG@1': 0.298, 'NDCG@3': 0.38988, 'NDCG@5': 0.42309, 'NDCG@10': 0.45951, 'NDCG@100': 0.51242, 'NDCG@1000': 0.52579}, 'MAP': {'MAP@1': 0.298, 'MAP@3': 0.36767, 'MAP@5': 0.38577, 'MAP@10': 0.40093, 'MAP@100': 0.41233, 'MAP@1000': 0.41281}, 'Recall': {'Recall@1': 0.298, 'Recall@3': 0.454, 'Recall@5': 0.536, 'Recall@10': 0.648, 'Recall@100': 0.892, 'Recall@1000': 0.998}, 'Precision': {'P@1': 0.298, 'P@3': 0.15133, 'P@5': 0.1072, 'P@10': 0.0648, 'P@100': 0.00892, 'P@1000': 0.001}}}\n",
      "YourCustomDEModel init\n",
      "COIR init!\n",
      "in evaluation.py: loading up dres\n",
      "\n",
      "in evaluation.py: retrieving\n",
      "\n",
      "in beir/retrieval/evaluation.py: loading up search\n",
      "\n",
      "in exact_search codet5.py\n",
      "encoding queries\n"
     ]
    },
    {
     "data": {
      "application/vnd.jupyter.widget-view+json": {
       "model_id": "64f914d56eb04683bacbb6b43daa967d",
       "version_major": 2,
       "version_minor": 0
      },
      "text/plain": [
       "Encoding batches:   0%|          | 0/2 [00:00<?, ?batch/s]"
      ]
     },
     "metadata": {},
     "output_type": "display_data"
    },
    {
     "name": "stdout",
     "output_type": "stream",
     "text": [
      "encoding corpus\n"
     ]
    },
    {
     "data": {
      "application/vnd.jupyter.widget-view+json": {
       "model_id": "83a885866ded42a686137aa105426e07",
       "version_major": 2,
       "version_minor": 0
      },
      "text/plain": [
       "Encoding batches:   0%|          | 0/18 [00:00<?, ?batch/s]"
      ]
     },
     "metadata": {},
     "output_type": "display_data"
    },
    {
     "name": "stdout",
     "output_type": "stream",
     "text": [
      "using cross encoder\n",
      "in evaluation.py: evaluating\n",
      "\n",
      "in beir/retrieval/evaluation.py: evaluating now\n",
      "\n",
      "in combine scores by average\n",
      "Retrieval evaluation results saved to results/cosqa/cross-encoder/ms-marco-MiniLM-L-6-v2/0.8/granite1/dres/BAAI/bge-base-en\n",
      "{'cosqa': {'NDCG': {'NDCG@1': 0.298, 'NDCG@3': 0.38888, 'NDCG@5': 0.42519, 'NDCG@10': 0.46095, 'NDCG@100': 0.51312, 'NDCG@1000': 0.52689}, 'MAP': {'MAP@1': 0.298, 'MAP@3': 0.367, 'MAP@5': 0.3867, 'MAP@10': 0.40159, 'MAP@100': 0.41284, 'MAP@1000': 0.41336}, 'Recall': {'Recall@1': 0.298, 'Recall@3': 0.452, 'Recall@5': 0.542, 'Recall@10': 0.652, 'Recall@100': 0.892, 'Recall@1000': 1.0}, 'Precision': {'P@1': 0.298, 'P@3': 0.15067, 'P@5': 0.1084, 'P@10': 0.0652, 'P@100': 0.00892, 'P@1000': 0.001}}}\n",
      "Run failed: cannot unpack non-iterable NoneType object\n",
      "Run failed: cannot unpack non-iterable NoneType object\n",
      "Run failed: cannot unpack non-iterable NoneType object\n",
      "Run failed: cannot unpack non-iterable NoneType object\n"
     ]
    }
   ],
   "source": [
    "from concurrent.futures import ThreadPoolExecutor, as_completed\n",
    "\n",
    "run_params = [\n",
    "    run(\"intfloat/e5-base-v2\", tasks, \"baseline\", \"dres\", \"cosqa/cross-encoder/ms-marco-MiniLM-L-6-v2/0.8\"),\n",
    "    run(\"BAAI/bge-base-en\", tasks, \"baseline\", \"dres\", \"cosqa/cross-encoder/ms-marco-MiniLM-L-6-v2/0.8\"),\n",
    "    run(\"intfloat/e5-base-v2\", tasks_expl, \"granite1\", \"dres\", \"cosqa/cross-encoder/ms-marco-MiniLM-L-6-v2/0.8\"),\n",
    "    run(\"BAAI/bge-base-en\", tasks_expl, \"granite1\", \"dres\", \"cosqa/cross-encoder/ms-marco-MiniLM-L-6-v2/0.8\")\n",
    "    \n",
    "]\n",
    "\n",
    "def run_wrapper(params):\n",
    "    model_name, task, exp_type, retrieval, data_path = params\n",
    "    return run(model_name, task, exp_type, retrieval, data_path)\n",
    "\n",
    "# Run all in parallel\n",
    "if __name__ == \"__main__\":\n",
    "    max_workers = 4  # Adjust based on your machine's capacity\n",
    "\n",
    "    with ThreadPoolExecutor(max_workers=max_workers) as executor:\n",
    "        futures = [executor.submit(run_wrapper, params) for params in run_params]\n",
    "\n",
    "        for future in as_completed(futures):\n",
    "            try:\n",
    "                result = future.result()\n",
    "                print(\"Run completed successfully.\")\n",
    "            except Exception as e:\n",
    "                print(f\"Run failed: {e}\")\n"
   ]
  }
 ],
 "metadata": {
  "kernelspec": {
   "display_name": "“virtual-env”",
   "language": "python",
   "name": "vaishnavisha-virtual-env"
  },
  "language_info": {
   "codemirror_mode": {
    "name": "ipython",
    "version": 3
   },
   "file_extension": ".py",
   "mimetype": "text/x-python",
   "name": "python",
   "nbconvert_exporter": "python",
   "pygments_lexer": "ipython3",
   "version": "3.8.20"
  }
 },
 "nbformat": 4,
 "nbformat_minor": 5
}
