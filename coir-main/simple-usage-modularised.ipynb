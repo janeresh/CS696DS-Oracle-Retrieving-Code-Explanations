{
 "cells": [
  {
   "cell_type": "markdown",
   "id": "5badc6fb-56b3-4e00-8c3e-a34482dbe593",
   "metadata": {},
   "source": [
    "#### things to make modular\n",
    "* query expansion\n",
    "* query expansion result aggregation method\n",
    "* using clean corpus\n",
    "* retrieval method (dres/bm25)"
   ]
  },
  {
   "cell_type": "markdown",
   "id": "c1239c3e-a778-4150-893d-53ddaadbf38e",
   "metadata": {
    "jp-MarkdownHeadingCollapsed": true,
    "tags": []
   },
   "source": [
    "#### imports"
   ]
  },
  {
   "cell_type": "code",
   "execution_count": 1,
   "id": "9fd6b5e4-b2b9-4ba7-80c0-79f6c79b457a",
   "metadata": {},
   "outputs": [],
   "source": [
    "from coir.data_loader import get_tasks\n",
    "from coir.evaluation import COIR\n",
    "from coir.models import YourCustomDEModel\n",
    "from datasets import load_dataset, Dataset, concatenate_datasets\n",
    "import pandas as pd\n",
    "from query_expansion import expand_queries_and_qrels\n",
    "from functions import * \n",
    "from collections import defaultdict"
   ]
  },
  {
   "cell_type": "code",
   "execution_count": 2,
   "id": "06a2d35f-3355-4e71-a5ca-f223b107f890",
   "metadata": {},
   "outputs": [],
   "source": [
    "cosqa_expl_path = '/work/pi_wenlongzhao_umass_edu/27/anamikaghosh/Cosqa/CoSQA_explanations_query_code.csv'\n",
    "cosqa_deepseek_updated_path='/work/pi_wenlongzhao_umass_edu/27/anamikaghosh/CS696DS-Oracle-Retrieving-Code-Explanations/Explanation_Generation/Cosqa/postprocessing/output/COSQA_deepseek_explanations_clean.csv'\n",
    "cosqa_granite_updated_path='/work/pi_wenlongzhao_umass_edu/27/anamikaghosh/CS696DS-Oracle-Retrieving-Code-Explanations/Explanation_Generation/Cosqa/postprocessing/output/COSQA_granite_explanations_clean.csv'\n",
    "csn_expl_path = '/work/pi_wenlongzhao_umass_edu/27/anamikaghosh/explanations/CodeSearchNet_Python_deepseek_allSplits.csv'"
   ]
  },
  {
   "cell_type": "markdown",
   "id": "f9fd7f81-5e3d-45d5-9ddc-615f44ecc51d",
   "metadata": {
    "jp-MarkdownHeadingCollapsed": true,
    "tags": []
   },
   "source": [
    "#### Query Expansion"
   ]
  },
  {
   "cell_type": "code",
   "execution_count": 12,
   "id": "4ac09cf8-957a-4045-af3c-520ec5511d69",
   "metadata": {},
   "outputs": [
    {
     "name": "stdout",
     "output_type": "stream",
     "text": [
      "in tasks \n",
      "fetched data from hf\n",
      "in deduplicate_qrels_by_code\n",
      "data loader init\n"
     ]
    },
    {
     "data": {
      "application/vnd.jupyter.widget-view+json": {
       "model_id": "5cce5cf2fa3442eaa92b9bbf07fa1c66",
       "version_major": 2,
       "version_minor": 0
      },
      "text/plain": [
       "0it [00:00, ?it/s]"
      ]
     },
     "metadata": {},
     "output_type": "display_data"
    }
   ],
   "source": [
    "cosqa_deepseek_temp_0_qe_path = '/work/pi_wenlongzhao_umass_edu/27/janet/query_expansion/results/cosqa/cosqa_queries_expanded_deepseek_temp_0.csv'\n",
    "cosqa_queries_expanded_granite_temp_0pt5_mmr_2_path='/work/pi_wenlongzhao_umass_edu/27/janet/query_expansion/results/cosqa/cosqa_queries_expanded_granite_temp_0.5_mmr_2.csv'\n",
    "cosqa_qe_df = pd.read_csv(cosqa_deepseek_temp_0_qe_path)\n",
    "cosqa_qe_df = cosqa_qe_df.rename(columns={'mmr_explanation': 'expanded_query'})\n",
    "cosqa_qe_df.head()\n",
    "dataset_name = \"cosqa\"\n",
    "tasks = load_data(dataset_name)\n",
    "corpus, queries, qrels = tasks[dataset_name]\n",
    "\n",
    "# updating the corpus with no comments in code\n",
    "df= pd.read_csv(cosqa_deepseek_updated_path)\n",
    "corpus = update_corpus_with_cleaned_code(corpus, df) \n",
    "\n",
    "# updating queries for qe\n",
    "new_queries, new_qrels = expand_queries_and_qrels(cosqa_qe_df, qrels)\n",
    "tasks[dataset_name] = (corpus, new_queries, qrels)"
   ]
  },
  {
   "cell_type": "markdown",
   "id": "f69384e0-ec1f-4b4c-b0c7-d851ca2dd144",
   "metadata": {
    "jp-MarkdownHeadingCollapsed": true,
    "tags": []
   },
   "source": [
    "#### No QE"
   ]
  },
  {
   "cell_type": "code",
   "execution_count": 13,
   "id": "8f9090a8-2ab7-4664-a65b-0bfcd71c94b6",
   "metadata": {},
   "outputs": [],
   "source": [
    "# dataset_name = \"cosqa\"\n",
    "# tasks = load_data(dataset_name)\n",
    "# corpus, queries, qrels = tasks[dataset_name]"
   ]
  },
  {
   "cell_type": "code",
   "execution_count": 14,
   "id": "60906e5b-9901-4941-a1c8-9d0acf30dedc",
   "metadata": {},
   "outputs": [],
   "source": [
    "# df= pd.read_csv(cosqa_deepseek_updated_path)\n",
    "# corpus = update_corpus_with_cleaned_code(corpus, df) # updating the corpus with no comments in code\n",
    "# tasks[dataset_name] = (corpus, queries, qrels)"
   ]
  },
  {
   "cell_type": "markdown",
   "id": "736d1ff2-83e5-4d28-a6a9-8787ca69e332",
   "metadata": {
    "jp-MarkdownHeadingCollapsed": true,
    "tags": []
   },
   "source": [
    "#### Running the pipeline"
   ]
  },
  {
   "cell_type": "code",
   "execution_count": 15,
   "id": "c5002aa4-93ad-43cd-95d1-92d0d43f3374",
   "metadata": {},
   "outputs": [],
   "source": [
    "# if you want to add explanations (deepseek / granite)\n",
    "#add_expl(tasks, \"cosqa\", cosqa_deepseek_updated_path, \"explanation_deepseek_1_cleaned\") # adding explanation instead of code"
   ]
  },
  {
   "cell_type": "code",
   "execution_count": 17,
   "id": "4fe9e281-4fab-4383-bef6-ec789bcb80e2",
   "metadata": {},
   "outputs": [
    {
     "name": "stdout",
     "output_type": "stream",
     "text": [
      "YourCustomDEModel init\n",
      "COIR init!\n",
      "in evaluation.py: loading up dres\n",
      "\n",
      "in evaluation.py: retrieving\n",
      "\n",
      "in beir/retrieval/evaluation.py: loading up search\n",
      "\n",
      "in exact_search.py\n",
      "len of queries:  89817\n"
     ]
    },
    {
     "data": {
      "application/vnd.jupyter.widget-view+json": {
       "model_id": "535b807ee9f541a5a6fcd60f25b042a6",
       "version_major": 2,
       "version_minor": 0
      },
      "text/plain": [
       "Encoding batches:   0%|          | 0/351 [00:00<?, ?batch/s]"
      ]
     },
     "metadata": {},
     "output_type": "display_data"
    },
    {
     "name": "stdout",
     "output_type": "stream",
     "text": [
      "len of corpus:  20604\n"
     ]
    },
    {
     "data": {
      "application/vnd.jupyter.widget-view+json": {
       "model_id": "3f217fce089248aa980db8fd5769104e",
       "version_major": 2,
       "version_minor": 0
      },
      "text/plain": [
       "Encoding batches:   0%|          | 0/81 [00:00<?, ?batch/s]"
      ]
     },
     "metadata": {},
     "output_type": "display_data"
    },
    {
     "name": "stdout",
     "output_type": "stream",
     "text": [
      "in evaluation.py: evaluating\n",
      "\n",
      "in beir/retrieval/evaluation.py: evaluating now\n",
      "\n",
      "in combine scores by average\n",
      "Retrieval evaluation results saved to results/cosqa_qe/granite_temp_0.5_mmr_2/average/baseline/dres/BAAI/bge-base-en\n",
      "{'cosqa': {'NDCG': {'NDCG@1': 0.078, 'NDCG@3': 0.13912, 'NDCG@5': 0.17166, 'NDCG@10': 0.20211, 'NDCG@100': 0.27631, 'NDCG@1000': 0.3032}, 'MAP': {'MAP@1': 0.078, 'MAP@3': 0.12367, 'MAP@5': 0.14197, 'MAP@10': 0.15456, 'MAP@100': 0.16774, 'MAP@1000': 0.1688}, 'Recall': {'Recall@1': 0.078, 'Recall@3': 0.184, 'Recall@5': 0.262, 'Recall@10': 0.356, 'Recall@100': 0.726, 'Recall@1000': 0.936}, 'Precision': {'P@1': 0.078, 'P@3': 0.06133, 'P@5': 0.0524, 'P@10': 0.0356, 'P@100': 0.00726, 'P@1000': 0.00094}}}\n"
     ]
    }
   ],
   "source": [
    "run(\"BAAI/bge-base-en\", tasks, \"baseline\", \"dres\", \"cosqa_qe/granite_temp_0.5_mmr_2/average\")"
   ]
  },
  {
   "cell_type": "markdown",
   "id": "fd14dee4-da27-44e2-92d8-d7055c2f929c",
   "metadata": {
    "jp-MarkdownHeadingCollapsed": true,
    "tags": []
   },
   "source": [
    "#### duplicate checking"
   ]
  },
  {
   "cell_type": "code",
   "execution_count": null,
   "id": "9e58fd9a-3357-458e-8453-e0112f59b0df",
   "metadata": {},
   "outputs": [],
   "source": [
    "duplicate_code_groups = df.groupby('code').filter(lambda x: len(x) > 1)\n",
    "num_duplicate_code_groups = duplicate_code_groups['code'].nunique()\n",
    "print(f\"Number of code groups with >1 item: {num_duplicate_code_groups} out of {len(df)}\")"
   ]
  },
  {
   "cell_type": "code",
   "execution_count": null,
   "id": "5f41fd99-2566-4a62-99e6-4753fcdcf291",
   "metadata": {},
   "outputs": [
    {
     "name": "stdout",
     "output_type": "stream",
     "text": [
      "                                                code  \\\n",
      "0  async def _send_plain_text(self, request: Requ...   \n",
      "1  async def _thread_coro(self, *args):\\n        ...   \n",
      "2  async def async_input(prompt):\\n    \"\"\"\\n    P...   \n",
      "3  async def async_run(self) -> None:\\n        \"\"...   \n",
      "4  async def cursor(self) -> Cursor:\\n        \"\"\"...   \n",
      "\n",
      "                           corpus_ids_with_same_code  \\\n",
      "0              [d3961, d1874, d20448, d6227, d10337]   \n",
      "1  [d6144, d118, d5150, d12781, d7622, d1889, d82...   \n",
      "2  [d2781, d16258, d16413, d4944, d9133, d9137, d...   \n",
      "3           [d19465, d20020, d16870, d19314, d19313]   \n",
      "4                   [d16659, d18387, d19386, d17979]   \n",
      "\n",
      "                          query_ids_for_those_corpus  \n",
      "0              [q20448, q1874, q3961, q6227, q10337]  \n",
      "1  [q11702, q5150, q6147, q7622, q8299, q118, q18...  \n",
      "2  [q4944, q16413, q9137, q16258, q20250, q9133, ...  \n",
      "3           [q20020, q19314, q16870, q19465, q19313]  \n",
      "4                   [q17979, q19386, q16659, q18387]  \n"
     ]
    }
   ],
   "source": [
    "duplicate_code_df = df.groupby('code').filter(lambda x: len(x) > 1)\n",
    "\n",
    "result = (\n",
    "    duplicate_code_df\n",
    "    .groupby('code')\n",
    "    .agg({\n",
    "        'corpus_id': lambda x: list(set(x)),\n",
    "        'query_id': lambda x: list(set(x))\n",
    "    })\n",
    "    .reset_index()\n",
    "    .rename(columns={'corpus_id': 'corpus_ids_with_same_code', 'query_id': 'query_ids_for_those_corpus'})\n",
    ")\n",
    "\n",
    "print(result.head())\n"
   ]
  },
  {
   "cell_type": "code",
   "execution_count": null,
   "id": "7996c755-3109-478f-b337-31ac88f9ccbd",
   "metadata": {},
   "outputs": [
    {
     "name": "stdout",
     "output_type": "stream",
     "text": [
      "Number of cleaned_code groups with >1 item: 3406 out of 20604\n"
     ]
    }
   ],
   "source": [
    "duplicate_code_groups = df.groupby('cleaned_code').filter(lambda x: len(x) > 1)\n",
    "\n",
    "num_duplicate_code_groups = duplicate_code_groups['cleaned_code'].nunique()\n",
    "\n",
    "print(f\"Number of cleaned_code groups with >1 item: {num_duplicate_code_groups} out of {len(df)}\")"
   ]
  },
  {
   "cell_type": "code",
   "execution_count": null,
   "id": "b7550dbd-a172-4e25-992f-eb78f10d632d",
   "metadata": {},
   "outputs": [
    {
     "name": "stdout",
     "output_type": "stream",
     "text": [
      "Number of explanation_deepseek_1_cleaned groups with >1 item: 93 out of 20604\n"
     ]
    }
   ],
   "source": [
    "duplicate_code_groups = df.groupby('explanation_deepseek_1_cleaned').filter(lambda x: len(x) > 1)\n",
    "\n",
    "num_duplicate_code_groups = duplicate_code_groups['explanation_deepseek_1_cleaned'].nunique()\n",
    "\n",
    "print(f\"Number of explanation_deepseek_1_cleaned groups with >1 item: {num_duplicate_code_groups} out of {len(df)}\")"
   ]
  },
  {
   "cell_type": "code",
   "execution_count": null,
   "id": "817b8fc6-62b1-482c-a529-201a5929357c",
   "metadata": {},
   "outputs": [],
   "source": []
  }
 ],
 "metadata": {
  "kernelspec": {
   "display_name": "“virtual-env”",
   "language": "python",
   "name": "vaishnavisha-virtual-env"
  },
  "language_info": {
   "codemirror_mode": {
    "name": "ipython",
    "version": 3
   },
   "file_extension": ".py",
   "mimetype": "text/x-python",
   "name": "python",
   "nbconvert_exporter": "python",
   "pygments_lexer": "ipython3",
   "version": "3.8.20"
  }
 },
 "nbformat": 4,
 "nbformat_minor": 5
}
