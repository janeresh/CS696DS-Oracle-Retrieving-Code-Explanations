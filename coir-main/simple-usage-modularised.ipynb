{
 "cells": [
  {
   "cell_type": "markdown",
   "id": "5badc6fb-56b3-4e00-8c3e-a34482dbe593",
   "metadata": {
    "jp-MarkdownHeadingCollapsed": true,
    "tags": []
   },
   "source": [
    "#### things to make modular\n",
    "* query expansion\n",
    "* query expansion result aggregation method\n",
    "* using clean corpus\n",
    "* retrieval method (dres/bm25)"
   ]
  },
  {
   "cell_type": "markdown",
   "id": "c1239c3e-a778-4150-893d-53ddaadbf38e",
   "metadata": {
    "tags": []
   },
   "source": [
    "#### imports"
   ]
  },
  {
   "cell_type": "code",
   "execution_count": 1,
   "id": "9fd6b5e4-b2b9-4ba7-80c0-79f6c79b457a",
   "metadata": {},
   "outputs": [],
   "source": [
    "from coir.data_loader import get_tasks\n",
    "from coir.evaluation import COIR\n",
    "from coir.models import YourCustomDEModel\n",
    "from datasets import load_dataset, Dataset, concatenate_datasets\n",
    "import pandas as pd\n",
    "from query_expansion import expand_queries_and_qrels\n",
    "from functions import * \n",
    "from collections import defaultdict\n",
    "import copy"
   ]
  },
  {
   "cell_type": "code",
   "execution_count": 2,
   "id": "06a2d35f-3355-4e71-a5ca-f223b107f890",
   "metadata": {},
   "outputs": [],
   "source": [
    "cosqa_expl_path = '/work/pi_wenlongzhao_umass_edu/27/anamikaghosh/Cosqa/CoSQA_explanations_query_code.csv'\n",
    "cosqa_deepseek_updated_path='/work/pi_wenlongzhao_umass_edu/27/anamikaghosh/CS696DS-Oracle-Retrieving-Code-Explanations/Explanation_Generation/Cosqa/postprocessing/output/COSQA_deepseek_explanations_clean.csv'\n",
    "cosqa_granite_updated_path='/work/pi_wenlongzhao_umass_edu/27/anamikaghosh/CS696DS-Oracle-Retrieving-Code-Explanations/Explanation_Generation/Cosqa/postprocessing/output/COSQA_granite_explanations_clean.csv'\n",
    "cosqa_deepseek_temp_0_qe_path = '/work/pi_wenlongzhao_umass_edu/27/janet/query_expansion/results/cosqa/cosqa_queries_expanded_deepseek_temp_0.csv'\n",
    "cosqa_queries_expanded_granite_temp_0pt5_mmr_2_path='/work/pi_wenlongzhao_umass_edu/27/janet/query_expansion/results/cosqa/cosqa_queries_expanded_granite_temp_0.5_mmr_2.csv'\n",
    "csn_queries_expanded_granite_temp_0pt5_mmr_path = '/work/pi_wenlongzhao_umass_edu/27/janet/query_expansion/results/csn/csn_test_queries_expanded_granite_temp_0.5_mmr.csv'\n",
    "csn_deepseek_path = '/work/pi_wenlongzhao_umass_edu/27/anamikaghosh/CS696DS-Oracle-Retrieving-Code-Explanations/Explanation_Generation/output/CSN_deepseek.csv'\n",
    "csn_granite_path = '/work/pi_wenlongzhao_umass_edu/27/anamikaghosh/CS696DS-Oracle-Retrieving-Code-Explanations/Explanation_Generation/output/CSN_granite.csv'\n",
    "csn_code_based_queries_expanded = '/work/pi_wenlongzhao_umass_edu/27/janet/query_expansion/results/csn/csn_test_queries_expanded_granite_code_based.csv'"
   ]
  },
  {
   "cell_type": "markdown",
   "id": "f69384e0-ec1f-4b4c-b0c7-d851ca2dd144",
   "metadata": {
    "jp-MarkdownHeadingCollapsed": true,
    "tags": []
   },
   "source": [
    "#### No QE"
   ]
  },
  {
   "cell_type": "code",
   "execution_count": 3,
   "id": "8f9090a8-2ab7-4664-a65b-0bfcd71c94b6",
   "metadata": {},
   "outputs": [
    {
     "name": "stdout",
     "output_type": "stream",
     "text": [
      "in tasks \n",
      "data loader init\n"
     ]
    },
    {
     "data": {
      "application/vnd.jupyter.widget-view+json": {
       "model_id": "31d04bf164254ddb93d59676d5ff153a",
       "version_major": 2,
       "version_minor": 0
      },
      "text/plain": [
       "0it [00:00, ?it/s]"
      ]
     },
     "metadata": {},
     "output_type": "display_data"
    }
   ],
   "source": [
    "dataset_name = \"cosqa\" #CodeSearchNet-python  or cosqa\n",
    "tasks = load_data(dataset_name)\n",
    "corpus, queries, qrels = tasks[dataset_name]"
   ]
  },
  {
   "cell_type": "code",
   "execution_count": 8,
   "id": "60906e5b-9901-4941-a1c8-9d0acf30dedc",
   "metadata": {},
   "outputs": [],
   "source": [
    "df= pd.read_csv(cosqa_granite_updated_path) # csn_granite_path or cosqa_deepseek_updated_path\n",
    "corpus = update_corpus_with_cleaned_code(corpus, df) # updating the corpus with no comments in code\n",
    "tasks[dataset_name] = (corpus, queries, qrels)"
   ]
  },
  {
   "cell_type": "markdown",
   "id": "f9fd7f81-5e3d-45d5-9ddc-615f44ecc51d",
   "metadata": {
    "tags": []
   },
   "source": [
    "#### Query Expansion"
   ]
  },
  {
   "cell_type": "code",
   "execution_count": 3,
   "id": "4ac09cf8-957a-4045-af3c-520ec5511d69",
   "metadata": {},
   "outputs": [
    {
     "name": "stdout",
     "output_type": "stream",
     "text": [
      "in tasks \n",
      "data loader init\n"
     ]
    },
    {
     "data": {
      "application/vnd.jupyter.widget-view+json": {
       "model_id": "87067cad9eef4e8cbd007547c8831be3",
       "version_major": 2,
       "version_minor": 0
      },
      "text/plain": [
       "0it [00:00, ?it/s]"
      ]
     },
     "metadata": {},
     "output_type": "display_data"
    }
   ],
   "source": [
    "# # CSN code based qe\n",
    "# csn_code_based_qe_df = pd.read_csv(csn_code_based_queries_expanded)\n",
    "# csn_code_based_qe_df=csn_code_based_qe_df.rename(columns={'explanation': 'expanded_query'})\n",
    "# csn_code_based_qe_df=csn_code_based_qe_df.rename(columns={'id': 'v_id'})\n",
    "# csn_code_based_qe_df=csn_code_based_qe_df.rename(columns={'query_id': 'id'})\n",
    "\n",
    "# dataset_name = \"CodeSearchNet-python\"\n",
    "# tasks = load_data(dataset_name)\n",
    "# corpus, queries, qrels = tasks[dataset_name]\n",
    "\n",
    "# df= pd.read_csv(csn_granite_path) # csn_granite_path or cosqa_deepseek_updated_path\n",
    "# corpus = update_corpus_with_cleaned_code(corpus, df) # updating the corpus with no comments in code\n",
    "# tasks[dataset_name] = (corpus, queries, qrels)\n",
    "\n",
    "# # updating queries for qe\n",
    "# new_queries, new_qrels = expand_queries_and_qrels(csn_code_based_qe_df, qrels)\n",
    "# tasks[dataset_name] = (corpus, new_queries, qrels)\n",
    "\n",
    "# CSN\n",
    "# csn_qe_df = pd.read_csv(csn_queries_expanded_granite_temp_0pt5_mmr_path)\n",
    "# csn_qe_df=csn_qe_df.rename(columns={'mmr_explanation': 'expanded_query'})\n",
    "\n",
    "# dataset_name = \"CodeSearchNet-python\"\n",
    "# tasks = load_data(dataset_name)\n",
    "# corpus, queries, qrels = tasks[dataset_name]\n",
    "\n",
    "# df= pd.read_csv(csn_granite_path) # csn_granite_path or cosqa_deepseek_updated_path\n",
    "# corpus = update_corpus_with_cleaned_code(corpus, df) # updating the corpus with no comments in code\n",
    "# tasks[dataset_name] = (corpus, queries, qrels)\n",
    "\n",
    "# # updating queries for qe\n",
    "# new_queries, new_qrels = expand_queries_and_qrels(csn_qe_df, qrels)\n",
    "# tasks[dataset_name] = (corpus, new_queries, qrels)\n",
    "\n",
    "# COSQA\n",
    "dataset_name = \"cosqa\"\n",
    "tasks = load_data(dataset_name)\n",
    "corpus, queries, qrels = tasks[dataset_name]\n",
    "\n",
    "# expanded df\n",
    "cosqa_qe_df = pd.read_csv(cosqa_queries_expanded_granite_temp_0pt5_mmr_2_path)\n",
    "cosqa_qe_df = cosqa_qe_df.rename(columns={'mmr_explanation': 'expanded_query'})\n",
    "cosqa_qe_df = cosqa_qe_df[cosqa_qe_df[\"id\"].isin(queries.keys())]\n",
    "\n",
    "\n",
    "# updating the corpus with no comments in code\n",
    "df= pd.read_csv(cosqa_granite_updated_path)\n",
    "corpus = update_corpus_with_cleaned_code(corpus, df) \n",
    "\n",
    "# updating queries for qe\n",
    "new_queries, new_qrels = expand_queries_and_qrels(cosqa_qe_df, qrels)\n",
    "tasks[dataset_name] = (corpus, new_queries, qrels)"
   ]
  },
  {
   "cell_type": "markdown",
   "id": "f349fbf4-4bf8-4616-8c6a-bc33c1f5ff3a",
   "metadata": {
    "tags": []
   },
   "source": [
    "#### Explanations"
   ]
  },
  {
   "cell_type": "code",
   "execution_count": 4,
   "id": "c5002aa4-93ad-43cd-95d1-92d0d43f3374",
   "metadata": {},
   "outputs": [
    {
     "name": "stdout",
     "output_type": "stream",
     "text": [
      "Total docs in corpus after replacement: 4419\n",
      "Number of docs still missing 'text': 0\n"
     ]
    }
   ],
   "source": [
    "# if you want to add explanations (deepseek / granite) (cosqa / csn)\n",
    "tasks_expl = copy.deepcopy(tasks)\n",
    "#add_expl(tasks, \"CodeSearchNet-python\", csn_deepseek_path, \"explanation_deepseek_1\") # adding explanation instead of code\n",
    "add_expl(tasks_expl, \"cosqa\", cosqa_granite_updated_path, \"explanation_granite_1_cleaned\") # adding explanation instead of code"
   ]
  },
  {
   "cell_type": "markdown",
   "id": "736d1ff2-83e5-4d28-a6a9-8787ca69e332",
   "metadata": {
    "tags": []
   },
   "source": [
    "#### Running the pipeline"
   ]
  },
  {
   "cell_type": "code",
   "execution_count": 5,
   "id": "5c219aa5-79ac-40bd-ae24-223efe05ca11",
   "metadata": {
    "tags": []
   },
   "outputs": [],
   "source": [
    "c,b,a = tasks[dataset_name]\n",
    "f,e,d = tasks_expl[dataset_name]"
   ]
  },
  {
   "cell_type": "code",
   "execution_count": 6,
   "id": "d3255b32-3162-41c9-b1db-47ac1b2c2cd9",
   "metadata": {},
   "outputs": [
    {
     "data": {
      "text/plain": [
       "{'text': '\\ndef _convert_to_array(array_like, dtype):\\n\\n    if isinstance(array_like, bytes):\\n        return np.frombuffer(array_like, dtype=dtype)\\n    return np.asarray(array_like, dtype=dtype)',\n",
       " 'title': ''}"
      ]
     },
     "execution_count": 6,
     "metadata": {},
     "output_type": "execute_result"
    }
   ],
   "source": [
    "c['d9318']"
   ]
  },
  {
   "cell_type": "code",
   "execution_count": 7,
   "id": "ca9f15c7-319a-49e4-8d8b-6cf1eec5f027",
   "metadata": {},
   "outputs": [
    {
     "data": {
      "text/plain": [
       "{'text': 'This Python function, `_convert_to_array`, converts an input `array_like` object into a NumPy array. It checks if the input is a `bytes` object, and if so, uses `np.frombuffer` to convert it to a NumPy array. Otherwise, it uses `np.asarray` for conversion. The `dtype` parameter specifies the data type of the output array.',\n",
       " 'title': ''}"
      ]
     },
     "execution_count": 7,
     "metadata": {},
     "output_type": "execute_result"
    }
   ],
   "source": [
    "f['d9318']"
   ]
  },
  {
   "cell_type": "code",
   "execution_count": 8,
   "id": "764315d5-e96e-4fba-82b6-0ca7c2374e66",
   "metadata": {},
   "outputs": [
    {
     "name": "stdout",
     "output_type": "stream",
     "text": [
      "YourCustomDEModel init\n",
      "COIR init!\n",
      "in evaluation.py: loading up dres\n",
      "\n",
      "in evaluation.py: retrieving\n",
      "\n",
      "in beir/retrieval/evaluation.py: loading up search\n",
      "\n",
      "in exact_search.py\n",
      "len of queries:  2500\n"
     ]
    },
    {
     "data": {
      "application/vnd.jupyter.widget-view+json": {
       "model_id": "c0856f8233d145e48a75d92d3e5020f1",
       "version_major": 2,
       "version_minor": 0
      },
      "text/plain": [
       "Encoding batches:   0%|          | 0/10 [00:00<?, ?batch/s]"
      ]
     },
     "metadata": {},
     "output_type": "display_data"
    },
    {
     "name": "stdout",
     "output_type": "stream",
     "text": [
      "len of corpus:  4419\n",
      "Encoding Corpus in batches... Warning: This might take a while!\n",
      "Scoring Function: Cosine Similarity (cos_sim)\n",
      "Encoding Batch 1/1...\n"
     ]
    },
    {
     "data": {
      "application/vnd.jupyter.widget-view+json": {
       "model_id": "0f31232999e7480f98cebde7fee50dda",
       "version_major": 2,
       "version_minor": 0
      },
      "text/plain": [
       "Encoding batches:   0%|          | 0/18 [00:00<?, ?batch/s]"
      ]
     },
     "metadata": {},
     "output_type": "display_data"
    },
    {
     "name": "stdout",
     "output_type": "stream",
     "text": [
      "exact_search finished\n",
      "in evaluation.py: evaluating\n",
      "\n",
      "in beir/retrieval/evaluation.py: evaluating now\n",
      "\n",
      "in combine scores by median\n",
      "Retrieval evaluation results saved to results/cosqa/qe/granite_temp_0.5_mmr_2/median/baseline/dres/intfloat/e5-base-v2\n",
      "{'cosqa': {'NDCG': {'NDCG@1': 0.32, 'NDCG@3': 0.44881, 'NDCG@5': 0.48703, 'NDCG@10': 0.5221, 'NDCG@100': 0.56746, 'NDCG@1000': 0.57463}, 'MAP': {'MAP@1': 0.32, 'MAP@3': 0.41667, 'MAP@5': 0.43807, 'MAP@10': 0.453, 'MAP@100': 0.46312, 'MAP@1000': 0.46339}, 'Recall': {'Recall@1': 0.32, 'Recall@3': 0.542, 'Recall@5': 0.634, 'Recall@10': 0.74, 'Recall@100': 0.944, 'Recall@1000': 1.0}, 'Precision': {'P@1': 0.32, 'P@3': 0.18067, 'P@5': 0.1268, 'P@10': 0.074, 'P@100': 0.00944, 'P@1000': 0.001}}}\n",
      "YourCustomDEModel init\n",
      "COIR init!\n",
      "in evaluation.py: loading up dres\n",
      "\n",
      "in evaluation.py: retrieving\n",
      "\n",
      "in beir/retrieval/evaluation.py: loading up search\n",
      "\n",
      "in exact_search.py\n",
      "len of queries:  2500\n"
     ]
    },
    {
     "data": {
      "application/vnd.jupyter.widget-view+json": {
       "model_id": "daf326006bee4925a4281050cce17333",
       "version_major": 2,
       "version_minor": 0
      },
      "text/plain": [
       "Encoding batches:   0%|          | 0/10 [00:00<?, ?batch/s]"
      ]
     },
     "metadata": {},
     "output_type": "display_data"
    },
    {
     "name": "stdout",
     "output_type": "stream",
     "text": [
      "len of corpus:  4419\n",
      "Encoding Corpus in batches... Warning: This might take a while!\n",
      "Scoring Function: Cosine Similarity (cos_sim)\n",
      "Encoding Batch 1/1...\n"
     ]
    },
    {
     "data": {
      "application/vnd.jupyter.widget-view+json": {
       "model_id": "1a01915db7f44411ae9ebf4df60cf5e9",
       "version_major": 2,
       "version_minor": 0
      },
      "text/plain": [
       "Encoding batches:   0%|          | 0/18 [00:00<?, ?batch/s]"
      ]
     },
     "metadata": {},
     "output_type": "display_data"
    },
    {
     "name": "stdout",
     "output_type": "stream",
     "text": [
      "exact_search finished\n",
      "in evaluation.py: evaluating\n",
      "\n",
      "in beir/retrieval/evaluation.py: evaluating now\n",
      "\n",
      "in combine scores by median\n",
      "Retrieval evaluation results saved to results/cosqa/qe/granite_temp_0.5_mmr_2/median/baseline/dres/BAAI/bge-base-en\n",
      "{'cosqa': {'NDCG': {'NDCG@1': 0.318, 'NDCG@3': 0.43693, 'NDCG@5': 0.47221, 'NDCG@10': 0.51185, 'NDCG@100': 0.55507, 'NDCG@1000': 0.56201}, 'MAP': {'MAP@1': 0.318, 'MAP@3': 0.40633, 'MAP@5': 0.42583, 'MAP@10': 0.4423, 'MAP@100': 0.4507, 'MAP@1000': 0.45092}, 'Recall': {'Recall@1': 0.318, 'Recall@3': 0.526, 'Recall@5': 0.612, 'Recall@10': 0.734, 'Recall@100': 0.942, 'Recall@1000': 0.998}, 'Precision': {'P@1': 0.318, 'P@3': 0.17533, 'P@5': 0.1224, 'P@10': 0.0734, 'P@100': 0.00942, 'P@1000': 0.001}}}\n",
      "YourCustomDEModel init\n",
      "COIR init!\n",
      "in evaluation.py: loading up dres\n",
      "\n",
      "in evaluation.py: retrieving\n",
      "\n",
      "in beir/retrieval/evaluation.py: loading up search\n",
      "\n",
      "in exact_search.py\n",
      "len of queries:  2500\n"
     ]
    },
    {
     "data": {
      "application/vnd.jupyter.widget-view+json": {
       "model_id": "d95ded99e9474c38a68f8c4802f3fd00",
       "version_major": 2,
       "version_minor": 0
      },
      "text/plain": [
       "Encoding batches:   0%|          | 0/10 [00:00<?, ?batch/s]"
      ]
     },
     "metadata": {},
     "output_type": "display_data"
    },
    {
     "name": "stdout",
     "output_type": "stream",
     "text": [
      "len of corpus:  4419\n",
      "Encoding Corpus in batches... Warning: This might take a while!\n",
      "Scoring Function: Cosine Similarity (cos_sim)\n",
      "Encoding Batch 1/1...\n"
     ]
    },
    {
     "data": {
      "application/vnd.jupyter.widget-view+json": {
       "model_id": "3658aec9a501468085c8515113b24091",
       "version_major": 2,
       "version_minor": 0
      },
      "text/plain": [
       "Encoding batches:   0%|          | 0/18 [00:00<?, ?batch/s]"
      ]
     },
     "metadata": {},
     "output_type": "display_data"
    },
    {
     "name": "stdout",
     "output_type": "stream",
     "text": [
      "exact_search finished\n",
      "in evaluation.py: evaluating\n",
      "\n",
      "in beir/retrieval/evaluation.py: evaluating now\n",
      "\n",
      "in combine scores by median\n",
      "Retrieval evaluation results saved to results/cosqa/qe/granite_temp_0.5_mmr_2/median/granite1/dres/intfloat/e5-base-v2\n",
      "{'cosqa': {'NDCG': {'NDCG@1': 0.316, 'NDCG@3': 0.42224, 'NDCG@5': 0.46389, 'NDCG@10': 0.50478, 'NDCG@100': 0.55743, 'NDCG@1000': 0.56206}, 'MAP': {'MAP@1': 0.316, 'MAP@3': 0.39667, 'MAP@5': 0.41957, 'MAP@10': 0.43653, 'MAP@100': 0.44811, 'MAP@1000': 0.44829}, 'Recall': {'Recall@1': 0.316, 'Recall@3': 0.496, 'Recall@5': 0.598, 'Recall@10': 0.724, 'Recall@100': 0.962, 'Recall@1000': 0.998}, 'Precision': {'P@1': 0.316, 'P@3': 0.16533, 'P@5': 0.1196, 'P@10': 0.0724, 'P@100': 0.00962, 'P@1000': 0.001}}}\n",
      "YourCustomDEModel init\n",
      "COIR init!\n",
      "in evaluation.py: loading up dres\n",
      "\n",
      "in evaluation.py: retrieving\n",
      "\n",
      "in beir/retrieval/evaluation.py: loading up search\n",
      "\n",
      "in exact_search.py\n",
      "len of queries:  2500\n"
     ]
    },
    {
     "data": {
      "application/vnd.jupyter.widget-view+json": {
       "model_id": "6e1cd19da1eb4b569e73917ccb722728",
       "version_major": 2,
       "version_minor": 0
      },
      "text/plain": [
       "Encoding batches:   0%|          | 0/10 [00:00<?, ?batch/s]"
      ]
     },
     "metadata": {},
     "output_type": "display_data"
    },
    {
     "name": "stdout",
     "output_type": "stream",
     "text": [
      "len of corpus:  4419\n",
      "Encoding Corpus in batches... Warning: This might take a while!\n",
      "Scoring Function: Cosine Similarity (cos_sim)\n",
      "Encoding Batch 1/1...\n"
     ]
    },
    {
     "data": {
      "application/vnd.jupyter.widget-view+json": {
       "model_id": "4c925dfc41784590abb5b14958a4d81f",
       "version_major": 2,
       "version_minor": 0
      },
      "text/plain": [
       "Encoding batches:   0%|          | 0/18 [00:00<?, ?batch/s]"
      ]
     },
     "metadata": {},
     "output_type": "display_data"
    },
    {
     "name": "stdout",
     "output_type": "stream",
     "text": [
      "exact_search finished\n",
      "in evaluation.py: evaluating\n",
      "\n",
      "in beir/retrieval/evaluation.py: evaluating now\n",
      "\n",
      "in combine scores by median\n",
      "Retrieval evaluation results saved to results/cosqa/qe/granite_temp_0.5_mmr_2/median/granite1/dres/BAAI/bge-base-en\n",
      "{'cosqa': {'NDCG': {'NDCG@1': 0.318, 'NDCG@3': 0.43193, 'NDCG@5': 0.47428, 'NDCG@10': 0.52433, 'NDCG@100': 0.56868, 'NDCG@1000': 0.57202}, 'MAP': {'MAP@1': 0.318, 'MAP@3': 0.403, 'MAP@5': 0.4267, 'MAP@10': 0.44752, 'MAP@100': 0.45714, 'MAP@1000': 0.45727}, 'Recall': {'Recall@1': 0.318, 'Recall@3': 0.516, 'Recall@5': 0.618, 'Recall@10': 0.772, 'Recall@100': 0.974, 'Recall@1000': 1.0}, 'Precision': {'P@1': 0.318, 'P@3': 0.172, 'P@5': 0.1236, 'P@10': 0.0772, 'P@100': 0.00974, 'P@1000': 0.001}}}\n",
      "Run failed: cannot unpack non-iterable NoneType object\n",
      "Run failed: cannot unpack non-iterable NoneType object\n",
      "Run failed: cannot unpack non-iterable NoneType object\n",
      "Run failed: cannot unpack non-iterable NoneType object\n"
     ]
    }
   ],
   "source": [
    "from concurrent.futures import ThreadPoolExecutor, as_completed\n",
    "\n",
    "run_params = [\n",
    "    run(\"intfloat/e5-base-v2\", tasks, \"baseline\", \"dres\", \"cosqa/qe/granite_temp_0.5_mmr_2/median\"),\n",
    "    run(\"BAAI/bge-base-en\", tasks, \"baseline\", \"dres\", \"cosqa/qe/granite_temp_0.5_mmr_2/median\"),\n",
    "    run(\"intfloat/e5-base-v2\", tasks_expl, \"granite1\", \"dres\", \"cosqa/qe/granite_temp_0.5_mmr_2/median\"),\n",
    "    run(\"BAAI/bge-base-en\", tasks_expl, \"granite1\", \"dres\", \"cosqa/qe/granite_temp_0.5_mmr_2/median\")\n",
    "    \n",
    "]\n",
    "\n",
    "def run_wrapper(params):\n",
    "    model_name, task, exp_type, retrieval, data_path = params\n",
    "    return run(model_name, task, exp_type, retrieval, data_path)\n",
    "\n",
    "# Run all in parallel\n",
    "if __name__ == \"__main__\":\n",
    "    max_workers = 4  # Adjust based on your machine's capacity\n",
    "\n",
    "    with ThreadPoolExecutor(max_workers=max_workers) as executor:\n",
    "        futures = [executor.submit(run_wrapper, params) for params in run_params]\n",
    "\n",
    "        for future in as_completed(futures):\n",
    "            try:\n",
    "                result = future.result()\n",
    "                print(\"Run completed successfully.\")\n",
    "            except Exception as e:\n",
    "                print(f\"Run failed: {e}\")\n"
   ]
  },
  {
   "cell_type": "code",
   "execution_count": null,
   "id": "9e58fd9a-3357-458e-8453-e0112f59b0df",
   "metadata": {},
   "outputs": [],
   "source": [
    "duplicate_code_groups = df.groupby('code').filter(lambda x: len(x) > 1)\n",
    "num_duplicate_code_groups = duplicate_code_groups['code'].nunique()\n",
    "print(f\"Number of code groups with >1 item: {num_duplicate_code_groups} out of {len(df)}\")"
   ]
  },
  {
   "cell_type": "code",
   "execution_count": null,
   "id": "5f41fd99-2566-4a62-99e6-4753fcdcf291",
   "metadata": {},
   "outputs": [
    {
     "name": "stdout",
     "output_type": "stream",
     "text": [
      "                                                code  \\\n",
      "0  async def _send_plain_text(self, request: Requ...   \n",
      "1  async def _thread_coro(self, *args):\\n        ...   \n",
      "2  async def async_input(prompt):\\n    \"\"\"\\n    P...   \n",
      "3  async def async_run(self) -> None:\\n        \"\"...   \n",
      "4  async def cursor(self) -> Cursor:\\n        \"\"\"...   \n",
      "\n",
      "                           corpus_ids_with_same_code  \\\n",
      "0              [d3961, d1874, d20448, d6227, d10337]   \n",
      "1  [d6144, d118, d5150, d12781, d7622, d1889, d82...   \n",
      "2  [d2781, d16258, d16413, d4944, d9133, d9137, d...   \n",
      "3           [d19465, d20020, d16870, d19314, d19313]   \n",
      "4                   [d16659, d18387, d19386, d17979]   \n",
      "\n",
      "                          query_ids_for_those_corpus  \n",
      "0              [q20448, q1874, q3961, q6227, q10337]  \n",
      "1  [q11702, q5150, q6147, q7622, q8299, q118, q18...  \n",
      "2  [q4944, q16413, q9137, q16258, q20250, q9133, ...  \n",
      "3           [q20020, q19314, q16870, q19465, q19313]  \n",
      "4                   [q17979, q19386, q16659, q18387]  \n"
     ]
    }
   ],
   "source": [
    "duplicate_code_df = df.groupby('code').filter(lambda x: len(x) > 1)\n",
    "\n",
    "result = (\n",
    "    duplicate_code_df\n",
    "    .groupby('code')\n",
    "    .agg({\n",
    "        'corpus_id': lambda x: list(set(x)),\n",
    "        'query_id': lambda x: list(set(x))\n",
    "    })\n",
    "    .reset_index()\n",
    "    .rename(columns={'corpus_id': 'corpus_ids_with_same_code', 'query_id': 'query_ids_for_those_corpus'})\n",
    ")\n",
    "\n",
    "print(result.head())\n"
   ]
  },
  {
   "cell_type": "code",
   "execution_count": null,
   "id": "7996c755-3109-478f-b337-31ac88f9ccbd",
   "metadata": {},
   "outputs": [
    {
     "name": "stdout",
     "output_type": "stream",
     "text": [
      "Number of cleaned_code groups with >1 item: 3406 out of 20604\n"
     ]
    }
   ],
   "source": [
    "duplicate_code_groups = df.groupby('cleaned_code').filter(lambda x: len(x) > 1)\n",
    "\n",
    "num_duplicate_code_groups = duplicate_code_groups['cleaned_code'].nunique()\n",
    "\n",
    "print(f\"Number of cleaned_code groups with >1 item: {num_duplicate_code_groups} out of {len(df)}\")"
   ]
  },
  {
   "cell_type": "code",
   "execution_count": null,
   "id": "b7550dbd-a172-4e25-992f-eb78f10d632d",
   "metadata": {},
   "outputs": [
    {
     "name": "stdout",
     "output_type": "stream",
     "text": [
      "Number of explanation_deepseek_1_cleaned groups with >1 item: 93 out of 20604\n"
     ]
    }
   ],
   "source": [
    "duplicate_code_groups = df.groupby('explanation_deepseek_1_cleaned').filter(lambda x: len(x) > 1)\n",
    "\n",
    "num_duplicate_code_groups = duplicate_code_groups['explanation_deepseek_1_cleaned'].nunique()\n",
    "\n",
    "print(f\"Number of explanation_deepseek_1_cleaned groups with >1 item: {num_duplicate_code_groups} out of {len(df)}\")"
   ]
  },
  {
   "cell_type": "code",
   "execution_count": null,
   "id": "817b8fc6-62b1-482c-a529-201a5929357c",
   "metadata": {},
   "outputs": [],
   "source": []
  }
 ],
 "metadata": {
  "kernelspec": {
   "display_name": "“virtual-env”",
   "language": "python",
   "name": "vaishnavisha-virtual-env"
  },
  "language_info": {
   "codemirror_mode": {
    "name": "ipython",
    "version": 3
   },
   "file_extension": ".py",
   "mimetype": "text/x-python",
   "name": "python",
   "nbconvert_exporter": "python",
   "pygments_lexer": "ipython3",
   "version": "3.8.20"
  }
 },
 "nbformat": 4,
 "nbformat_minor": 5
}
