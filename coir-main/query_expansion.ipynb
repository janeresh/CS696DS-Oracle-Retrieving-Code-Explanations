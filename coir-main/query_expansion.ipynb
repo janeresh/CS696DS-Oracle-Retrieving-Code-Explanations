{
 "cells": [
  {
   "cell_type": "code",
   "execution_count": 3,
   "id": "8bd2f871-64ed-4cb7-9a86-f92e4fa7bd4b",
   "metadata": {},
   "outputs": [],
   "source": [
    "import pandas as pd"
   ]
  },
  {
   "cell_type": "code",
   "execution_count": 4,
   "id": "34dbf54e-62c2-450d-886a-aa3b8b9a0bfa",
   "metadata": {},
   "outputs": [],
   "source": [
    "cosqa_deepseek_qe_path = '/work/pi_wenlongzhao_umass_edu/27/janet/query_expansion/results/cosqa/cosqa_queries_expanded_deepseek_temp_0.csv'"
   ]
  },
  {
   "cell_type": "code",
   "execution_count": 5,
   "id": "9ed49309-9b90-4bb1-92ae-0a2bf50e41ce",
   "metadata": {},
   "outputs": [],
   "source": [
    "df = pd.read_csv(cosqa_deepseek_qe_path)"
   ]
  },
  {
   "cell_type": "code",
   "execution_count": 6,
   "id": "32d86a51-9a5b-4560-b288-33d7716c88f9",
   "metadata": {},
   "outputs": [
    {
     "data": {
      "text/html": [
       "<div>\n",
       "<style scoped>\n",
       "    .dataframe tbody tr th:only-of-type {\n",
       "        vertical-align: middle;\n",
       "    }\n",
       "\n",
       "    .dataframe tbody tr th {\n",
       "        vertical-align: top;\n",
       "    }\n",
       "\n",
       "    .dataframe thead th {\n",
       "        text-align: right;\n",
       "    }\n",
       "</style>\n",
       "<table border=\"1\" class=\"dataframe\">\n",
       "  <thead>\n",
       "    <tr style=\"text-align: right;\">\n",
       "      <th></th>\n",
       "      <th>id</th>\n",
       "      <th>expanded_query</th>\n",
       "    </tr>\n",
       "  </thead>\n",
       "  <tbody>\n",
       "    <tr>\n",
       "      <th>0</th>\n",
       "      <td>q1</td>\n",
       "      <td>Okay, so I need to figure out how to write a b...</td>\n",
       "    </tr>\n",
       "    <tr>\n",
       "      <th>1</th>\n",
       "      <td>q1</td>\n",
       "      <td>Wait, I think there's a function called bool()...</td>\n",
       "    </tr>\n",
       "    <tr>\n",
       "      <th>2</th>\n",
       "      <td>q1</td>\n",
       "      <td>But the user might also want to see how to che...</td>\n",
       "    </tr>\n",
       "    <tr>\n",
       "      <th>3</th>\n",
       "      <td>q1</td>\n",
       "      <td>Now, the user is asking for a boolean value of...</td>\n",
       "    </tr>\n",
       "    <tr>\n",
       "      <th>4</th>\n",
       "      <td>q2</td>\n",
       "      <td>Okay, so I need to help expand the query about...</td>\n",
       "    </tr>\n",
       "  </tbody>\n",
       "</table>\n",
       "</div>"
      ],
      "text/plain": [
       "   id                                     expanded_query\n",
       "0  q1  Okay, so I need to figure out how to write a b...\n",
       "1  q1  Wait, I think there's a function called bool()...\n",
       "2  q1  But the user might also want to see how to che...\n",
       "3  q1  Now, the user is asking for a boolean value of...\n",
       "4  q2  Okay, so I need to help expand the query about..."
      ]
     },
     "execution_count": 6,
     "metadata": {},
     "output_type": "execute_result"
    }
   ],
   "source": [
    "df[['id', 'expanded_query']].head()"
   ]
  },
  {
   "cell_type": "markdown",
   "id": "2308065d-7bfa-439c-b4de-aa377b90aa8f",
   "metadata": {},
   "source": [
    " instead of q1 i will rename it as q1.1 q1.2\n",
    " and then create qrels {}\n",
    " and "
   ]
  },
  {
   "cell_type": "code",
   "execution_count": 18,
   "id": "27b2f0cd-0fd4-4800-9ac3-024867641594",
   "metadata": {},
   "outputs": [
    {
     "name": "stderr",
     "output_type": "stream",
     "text": [
      "/work/pi_wenlongzhao_umass_edu/27/vaishnavisha/envs/virtual-env/lib/python3.8/site-packages/tqdm/auto.py:21: TqdmWarning: IProgress not found. Please update jupyter and ipywidgets. See https://ipywidgets.readthedocs.io/en/stable/user_install.html\n",
      "  from .autonotebook import tqdm as notebook_tqdm\n"
     ]
    }
   ],
   "source": [
    "from coir.data_loader import get_tasks\n",
    "from coir.evaluation import COIR\n",
    "from coir.models import YourCustomDEModel\n",
    "import pandas as pd"
   ]
  },
  {
   "cell_type": "code",
   "execution_count": 19,
   "id": "44c1c3b2-3372-4034-9078-cef20b9655b6",
   "metadata": {
    "tags": []
   },
   "outputs": [],
   "source": [
    "def load_data(dataset_name):\n",
    "    tasks = get_tasks(tasks=[dataset_name])\n",
    "    return tasks"
   ]
  },
  {
   "cell_type": "code",
   "execution_count": 20,
   "id": "b519af91-2386-43e5-b8d7-82c7354bddff",
   "metadata": {},
   "outputs": [],
   "source": [
    "dataset_name = \"cosqa\""
   ]
  },
  {
   "cell_type": "code",
   "execution_count": 22,
   "id": "bf715e59-8d25-478d-8fd2-16d9d6a4ead0",
   "metadata": {},
   "outputs": [
    {
     "name": "stdout",
     "output_type": "stream",
     "text": [
      "in tasks \n",
      "fetched data from hf\n",
      "data loader init\n"
     ]
    },
    {
     "name": "stderr",
     "output_type": "stream",
     "text": [
      "20604it [00:00, 211585.21it/s]\n"
     ]
    }
   ],
   "source": [
    "tasks = load_data(dataset_name)"
   ]
  },
  {
   "cell_type": "code",
   "execution_count": 24,
   "id": "43806a31-f355-4334-b44d-61ab5aa9833a",
   "metadata": {},
   "outputs": [],
   "source": [
    "corpus, queries, qrels = tasks[\"cosqa\"]"
   ]
  },
  {
   "cell_type": "code",
   "execution_count": 41,
   "id": "aa651ede-36b5-4a6c-b350-644c0bd4a753",
   "metadata": {},
   "outputs": [
    {
     "data": {
      "text/plain": [
       "500"
      ]
     },
     "execution_count": 41,
     "metadata": {},
     "output_type": "execute_result"
    }
   ],
   "source": [
    "len(queries)"
   ]
  },
  {
   "cell_type": "code",
   "execution_count": 36,
   "id": "e70d257f-fbdc-4485-943d-a877e35ea713",
   "metadata": {},
   "outputs": [
    {
     "data": {
      "text/plain": [
       "{'d20105': 1}"
      ]
     },
     "execution_count": 36,
     "metadata": {},
     "output_type": "execute_result"
    }
   ],
   "source": [
    "qrels['q20105']"
   ]
  },
  {
   "cell_type": "code",
   "execution_count": 1,
   "id": "f9a27359-70a8-47a4-b529-314602e44daf",
   "metadata": {},
   "outputs": [],
   "source": [
    "def expand_queries_and_qrels(expanded_df, original_qrels):\n",
    "    new_queries = {}\n",
    "    new_qrels = {}\n",
    "\n",
    "    grouped = expanded_df.groupby('id')\n",
    "\n",
    "    for qid, group in grouped:\n",
    "        for idx, row in enumerate(group.itertuples(index=False), start=1):\n",
    "            if pd.isna(row.expanded_query) or not str(row.expanded_query).strip():\n",
    "                continue\n",
    "            new_qid = f\"{qid}.{idx}\"\n",
    "            new_queries[new_qid] = row.expanded_query\n",
    "\n",
    "            if qid in original_qrels:\n",
    "                new_qrels[new_qid] = original_qrels[qid]\n",
    "\n",
    "    return new_queries, new_qrels\n"
   ]
  },
  {
   "cell_type": "code",
   "execution_count": 38,
   "id": "af20f659-598f-4f5b-8deb-190e6b21a6f3",
   "metadata": {},
   "outputs": [],
   "source": [
    "new_queries, new_qrels = expand_queries_and_qrels(df, qrels)"
   ]
  },
  {
   "cell_type": "code",
   "execution_count": 51,
   "id": "fc7b6005-97ab-4a2f-8190-220979e28e0a",
   "metadata": {},
   "outputs": [
    {
     "data": {
      "text/html": [
       "<div>\n",
       "<style scoped>\n",
       "    .dataframe tbody tr th:only-of-type {\n",
       "        vertical-align: middle;\n",
       "    }\n",
       "\n",
       "    .dataframe tbody tr th {\n",
       "        vertical-align: top;\n",
       "    }\n",
       "\n",
       "    .dataframe thead th {\n",
       "        text-align: right;\n",
       "    }\n",
       "</style>\n",
       "<table border=\"1\" class=\"dataframe\">\n",
       "  <thead>\n",
       "    <tr style=\"text-align: right;\">\n",
       "      <th></th>\n",
       "      <th>id</th>\n",
       "      <th>original_query</th>\n",
       "      <th>rank</th>\n",
       "      <th>expanded_query</th>\n",
       "      <th>similarity</th>\n",
       "    </tr>\n",
       "  </thead>\n",
       "  <tbody>\n",
       "    <tr>\n",
       "      <th>87402</th>\n",
       "      <td>q20108</td>\n",
       "      <td>test for iterable is string in python</td>\n",
       "      <td>1</td>\n",
       "      <td>I should also consider the subject. Instead of...</td>\n",
       "      <td>0.5212</td>\n",
       "    </tr>\n",
       "    <tr>\n",
       "      <th>87403</th>\n",
       "      <td>q20108</td>\n",
       "      <td>test for iterable is string in python</td>\n",
       "      <td>2</td>\n",
       "      <td>Wait, maybe I can vary the verbs. Instead of \"...</td>\n",
       "      <td>0.4628</td>\n",
       "    </tr>\n",
       "    <tr>\n",
       "      <th>87404</th>\n",
       "      <td>q20108</td>\n",
       "      <td>test for iterable is string in python</td>\n",
       "      <td>3</td>\n",
       "      <td>Maybe I can start by changing the structure. I...</td>\n",
       "      <td>0.4573</td>\n",
       "    </tr>\n",
       "    <tr>\n",
       "      <th>87405</th>\n",
       "      <td>q20108</td>\n",
       "      <td>test for iterable is string in python</td>\n",
       "      <td>4</td>\n",
       "      <td>Another angle could be to focus on the purpose...</td>\n",
       "      <td>0.3054</td>\n",
       "    </tr>\n",
       "    <tr>\n",
       "      <th>87406</th>\n",
       "      <td>q20108</td>\n",
       "      <td>test for iterable is string in python</td>\n",
       "      <td>5</td>\n",
       "      <td>Okay, so I'm trying to figure out how to expan...</td>\n",
       "      <td>0.2737</td>\n",
       "    </tr>\n",
       "  </tbody>\n",
       "</table>\n",
       "</div>"
      ],
      "text/plain": [
       "           id                         original_query  rank  \\\n",
       "87402  q20108  test for iterable is string in python     1   \n",
       "87403  q20108  test for iterable is string in python     2   \n",
       "87404  q20108  test for iterable is string in python     3   \n",
       "87405  q20108  test for iterable is string in python     4   \n",
       "87406  q20108  test for iterable is string in python     5   \n",
       "\n",
       "                                          expanded_query  similarity  \n",
       "87402  I should also consider the subject. Instead of...      0.5212  \n",
       "87403  Wait, maybe I can vary the verbs. Instead of \"...      0.4628  \n",
       "87404  Maybe I can start by changing the structure. I...      0.4573  \n",
       "87405  Another angle could be to focus on the purpose...      0.3054  \n",
       "87406  Okay, so I'm trying to figure out how to expan...      0.2737  "
      ]
     },
     "execution_count": 51,
     "metadata": {},
     "output_type": "execute_result"
    }
   ],
   "source": [
    "df.loc[df['id'] == 'q20108']"
   ]
  },
  {
   "cell_type": "code",
   "execution_count": 47,
   "id": "9d27d410-863d-45ab-9d51-df34c08b44df",
   "metadata": {},
   "outputs": [
    {
     "data": {
      "text/plain": [
       "'I should think about different ways to rephrase this. Maybe changing the order of the words or using synonyms. For example, \"sort tokens in a string using Python\" could be one variant. That way, it\\'s still clear but uses a different structure.'"
      ]
     },
     "execution_count": 47,
     "metadata": {},
     "output_type": "execute_result"
    }
   ],
   "source": [
    "new_queries['q20105.5']"
   ]
  },
  {
   "cell_type": "code",
   "execution_count": 52,
   "id": "fc0a4e03-9870-4790-86ec-5e606ea272b2",
   "metadata": {},
   "outputs": [
    {
     "data": {
      "text/plain": [
       "{'d20105': 1}"
      ]
     },
     "execution_count": 52,
     "metadata": {},
     "output_type": "execute_result"
    }
   ],
   "source": [
    "new_qrels['q20105.5']"
   ]
  },
  {
   "cell_type": "code",
   "execution_count": null,
   "id": "b02a52fb-acb9-41f3-8819-cfa23368a6a0",
   "metadata": {},
   "outputs": [],
   "source": []
  }
 ],
 "metadata": {
  "kernelspec": {
   "display_name": "“virtual-env”",
   "language": "python",
   "name": "vaishnavisha-virtual-env"
  },
  "language_info": {
   "codemirror_mode": {
    "name": "ipython",
    "version": 3
   },
   "file_extension": ".py",
   "mimetype": "text/x-python",
   "name": "python",
   "nbconvert_exporter": "python",
   "pygments_lexer": "ipython3",
   "version": "3.8.20"
  }
 },
 "nbformat": 4,
 "nbformat_minor": 5
}
