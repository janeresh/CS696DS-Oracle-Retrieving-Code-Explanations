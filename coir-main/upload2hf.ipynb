{
 "cells": [
  {
   "cell_type": "code",
   "execution_count": 4,
   "id": "169f34f3-b319-4260-9121-47e41e5ef566",
   "metadata": {},
   "outputs": [],
   "source": [
    "from coir.data_loader import get_tasks\n",
    "from coir.evaluation import COIR\n",
    "import pandas as pd\n",
    "from datasets import load_dataset, Dataset, concatenate_datasets\n",
    "from huggingface_hub import HfApi"
   ]
  },
  {
   "cell_type": "markdown",
   "id": "e3aecbdb-6b35-4cb0-b1fa-4d1ce910fadc",
   "metadata": {
    "jp-MarkdownHeadingCollapsed": true,
    "tags": []
   },
   "source": [
    "### Uploading expl"
   ]
  },
  {
   "cell_type": "code",
   "execution_count": 2,
   "id": "3b252027-0f85-44c4-b6ce-6a0350d2cc77",
   "metadata": {},
   "outputs": [],
   "source": [
    "task_name = \"cosqa\""
   ]
  },
  {
   "cell_type": "code",
   "execution_count": 10,
   "id": "6b6ad883-33e8-48ae-b3be-10750ee99e9f",
   "metadata": {},
   "outputs": [
    {
     "data": {
      "text/html": [
       "<div>\n",
       "<style scoped>\n",
       "    .dataframe tbody tr th:only-of-type {\n",
       "        vertical-align: middle;\n",
       "    }\n",
       "\n",
       "    .dataframe tbody tr th {\n",
       "        vertical-align: top;\n",
       "    }\n",
       "\n",
       "    .dataframe thead th {\n",
       "        text-align: right;\n",
       "    }\n",
       "</style>\n",
       "<table border=\"1\" class=\"dataframe\">\n",
       "  <thead>\n",
       "    <tr style=\"text-align: right;\">\n",
       "      <th></th>\n",
       "      <th>Unnamed: 0</th>\n",
       "      <th>query_id</th>\n",
       "      <th>doc</th>\n",
       "      <th>corpus_id</th>\n",
       "      <th>code</th>\n",
       "      <th>explanation_granite_1</th>\n",
       "      <th>explanation_granite_2</th>\n",
       "      <th>explanation_granite_3</th>\n",
       "      <th>explanation_granite_4</th>\n",
       "      <th>explanation_deepseek_1_cleaned</th>\n",
       "      <th>explanation_deepseek_2_cleaned</th>\n",
       "      <th>explanation_deepseek_3_cleaned</th>\n",
       "      <th>explanation_deepseek_4_cleaned</th>\n",
       "    </tr>\n",
       "  </thead>\n",
       "  <tbody>\n",
       "    <tr>\n",
       "      <th>0</th>\n",
       "      <td>0</td>\n",
       "      <td>q1</td>\n",
       "      <td>python code to write bool value 1</td>\n",
       "      <td>d1</td>\n",
       "      <td>def writeBoolean(self, n):\\n        \"\"\"\\n     ...</td>\n",
       "      <td>\\nThe provided code is a Python method named `...</td>\n",
       "      <td>\\n1. `def writeBoolean(self, n):` - This line ...</td>\n",
       "      <td>\\nThis code snippet is a function that writes ...</td>\n",
       "      <td>\\nThe code snippet provided is a method named ...</td>\n",
       "      <td>The doc string and code both write the boolean...</td>\n",
       "      <td>Alright, I need to break down this Python code...</td>\n",
       "      <td>The code snippet writes a boolean value to a s...</td>\n",
       "      <td>The code snippet defines a method called write...</td>\n",
       "    </tr>\n",
       "    <tr>\n",
       "      <th>1</th>\n",
       "      <td>1</td>\n",
       "      <td>q2</td>\n",
       "      <td>\"python how to manipulate clipboard\"</td>\n",
       "      <td>d2</td>\n",
       "      <td>def paste(xsel=False):\\n    \"\"\"Returns system ...</td>\n",
       "      <td>\\nThe provided Python code snippet defines a f...</td>\n",
       "      <td>\\n1. `def paste(xsel=False):` - This line defi...</td>\n",
       "      <td>\\nThis code snippet is a function in Python th...</td>\n",
       "      <td>\\nThe code snippet provided is a Python functi...</td>\n",
       "      <td>The paste function pastes data from the clipbo...</td>\n",
       "      <td>The code snippet begins by defining a function...</td>\n",
       "      <td>The code snippet is a function called paste th...</td>\n",
       "      <td>The code snippet defines a function called pas...</td>\n",
       "    </tr>\n",
       "    <tr>\n",
       "      <th>2</th>\n",
       "      <td>2</td>\n",
       "      <td>q3</td>\n",
       "      <td>python colored output to html</td>\n",
       "      <td>d3</td>\n",
       "      <td>def _format_json(data, theme):\\n    \"\"\"Pretty ...</td>\n",
       "      <td>\\nThis Python function, `_format_json`, takes ...</td>\n",
       "      <td>\\n1. `def _format_json(data, theme):` - This l...</td>\n",
       "      <td>\\nThis code snippet, named `_format_json`, is ...</td>\n",
       "      <td>\\n```python\\nimport json\\nimport sys\\nimport p...</td>\n",
       "      <td>The docstring explains that the function _form...</td>\n",
       "      <td>```pythondef _format_json(data, theme):    \"\"\"...</td>\n",
       "      <td>This code snippet is a function called _format...</td>\n",
       "      <td>To explain the code snippet in a way that can ...</td>\n",
       "    </tr>\n",
       "    <tr>\n",
       "      <th>3</th>\n",
       "      <td>3</td>\n",
       "      <td>q4</td>\n",
       "      <td>python \"create directory\" using \"relative path\"</td>\n",
       "      <td>d4</td>\n",
       "      <td>def create_path(path):\\n    \"\"\"Creates a absol...</td>\n",
       "      <td>\\nThe provided Python function, `create_path(p...</td>\n",
       "      <td>\\n1. The code snippet defines a function named...</td>\n",
       "      <td>\\nThis code snippet helps you create a new dir...</td>\n",
       "      <td>\\nThe provided code snippet is a Python functi...</td>\n",
       "      <td>The doc and code create an absolute path from ...</td>\n",
       "      <td>Okay, I need to explain this Python code snipp...</td>\n",
       "      <td>This code creates a file system where any path...</td>\n",
       "      <td>The code snippet defines a function called cre...</td>\n",
       "    </tr>\n",
       "    <tr>\n",
       "      <th>4</th>\n",
       "      <td>4</td>\n",
       "      <td>q5</td>\n",
       "      <td>python column of an array</td>\n",
       "      <td>d5</td>\n",
       "      <td>def _vector_or_scalar(x, type='row'):\\n    \"\"\"...</td>\n",
       "      <td>\\nThe provided Python code defines a function ...</td>\n",
       "      <td>\\nThis code snippet defines a function called ...</td>\n",
       "      <td>\\nThis code snippet is a function that convert...</td>\n",
       "      <td>\\nThe code snippet provided is a function defi...</td>\n",
       "      <td>The code checks if an object `x` is an array o...</td>\n",
       "      <td>Alright, so I've got this Python code snippet ...</td>\n",
       "      <td>The code snippet is a Python function called _...</td>\n",
       "      <td>Okay, I'm going to try to figure out how to ex...</td>\n",
       "    </tr>\n",
       "  </tbody>\n",
       "</table>\n",
       "</div>"
      ],
      "text/plain": [
       "   Unnamed: 0 query_id                                              doc  \\\n",
       "0           0       q1                python code to write bool value 1   \n",
       "1           1       q2             \"python how to manipulate clipboard\"   \n",
       "2           2       q3                    python colored output to html   \n",
       "3           3       q4  python \"create directory\" using \"relative path\"   \n",
       "4           4       q5                        python column of an array   \n",
       "\n",
       "  corpus_id                                               code  \\\n",
       "0        d1  def writeBoolean(self, n):\\n        \"\"\"\\n     ...   \n",
       "1        d2  def paste(xsel=False):\\n    \"\"\"Returns system ...   \n",
       "2        d3  def _format_json(data, theme):\\n    \"\"\"Pretty ...   \n",
       "3        d4  def create_path(path):\\n    \"\"\"Creates a absol...   \n",
       "4        d5  def _vector_or_scalar(x, type='row'):\\n    \"\"\"...   \n",
       "\n",
       "                               explanation_granite_1  \\\n",
       "0  \\nThe provided code is a Python method named `...   \n",
       "1  \\nThe provided Python code snippet defines a f...   \n",
       "2  \\nThis Python function, `_format_json`, takes ...   \n",
       "3  \\nThe provided Python function, `create_path(p...   \n",
       "4  \\nThe provided Python code defines a function ...   \n",
       "\n",
       "                               explanation_granite_2  \\\n",
       "0  \\n1. `def writeBoolean(self, n):` - This line ...   \n",
       "1  \\n1. `def paste(xsel=False):` - This line defi...   \n",
       "2  \\n1. `def _format_json(data, theme):` - This l...   \n",
       "3  \\n1. The code snippet defines a function named...   \n",
       "4  \\nThis code snippet defines a function called ...   \n",
       "\n",
       "                               explanation_granite_3  \\\n",
       "0  \\nThis code snippet is a function that writes ...   \n",
       "1  \\nThis code snippet is a function in Python th...   \n",
       "2  \\nThis code snippet, named `_format_json`, is ...   \n",
       "3  \\nThis code snippet helps you create a new dir...   \n",
       "4  \\nThis code snippet is a function that convert...   \n",
       "\n",
       "                               explanation_granite_4  \\\n",
       "0  \\nThe code snippet provided is a method named ...   \n",
       "1  \\nThe code snippet provided is a Python functi...   \n",
       "2  \\n```python\\nimport json\\nimport sys\\nimport p...   \n",
       "3  \\nThe provided code snippet is a Python functi...   \n",
       "4  \\nThe code snippet provided is a function defi...   \n",
       "\n",
       "                      explanation_deepseek_1_cleaned  \\\n",
       "0  The doc string and code both write the boolean...   \n",
       "1  The paste function pastes data from the clipbo...   \n",
       "2  The docstring explains that the function _form...   \n",
       "3  The doc and code create an absolute path from ...   \n",
       "4  The code checks if an object `x` is an array o...   \n",
       "\n",
       "                      explanation_deepseek_2_cleaned  \\\n",
       "0  Alright, I need to break down this Python code...   \n",
       "1  The code snippet begins by defining a function...   \n",
       "2  ```pythondef _format_json(data, theme):    \"\"\"...   \n",
       "3  Okay, I need to explain this Python code snipp...   \n",
       "4  Alright, so I've got this Python code snippet ...   \n",
       "\n",
       "                      explanation_deepseek_3_cleaned  \\\n",
       "0  The code snippet writes a boolean value to a s...   \n",
       "1  The code snippet is a function called paste th...   \n",
       "2  This code snippet is a function called _format...   \n",
       "3  This code creates a file system where any path...   \n",
       "4  The code snippet is a Python function called _...   \n",
       "\n",
       "                      explanation_deepseek_4_cleaned  \n",
       "0  The code snippet defines a method called write...  \n",
       "1  The code snippet defines a function called pas...  \n",
       "2  To explain the code snippet in a way that can ...  \n",
       "3  The code snippet defines a function called cre...  \n",
       "4  Okay, I'm going to try to figure out how to ex...  "
      ]
     },
     "execution_count": 10,
     "metadata": {},
     "output_type": "execute_result"
    }
   ],
   "source": [
    "expl_df = pd.read_csv(cosqa_expl_path)\n",
    "expl_df.head()"
   ]
  },
  {
   "cell_type": "code",
   "execution_count": 3,
   "id": "1b244bf1-00d6-498d-ad0a-cf641f3203df",
   "metadata": {},
   "outputs": [],
   "source": [
    "queries_corpus_dataset = load_dataset(f\"CoIR-Retrieval/{task_name}-queries-corpus\")\n",
    "qrels_dataset = load_dataset(f\"CoIR-Retrieval/{task_name}-qrels\")\n",
    "corpus_data = queries_corpus_dataset['corpus']\n",
    "query_data = queries_corpus_dataset['queries']\n",
    "qrels_data_test = qrels_dataset['test']          \n",
    "qrels_data_train = qrels_dataset['train']\n",
    "qrels_data_valid = qrels_dataset['valid']"
   ]
  },
  {
   "cell_type": "code",
   "execution_count": 4,
   "id": "e874c960-59b0-4490-9fd8-bd0b0ebb6347",
   "metadata": {},
   "outputs": [],
   "source": [
    "cosqa_expl_path = '/work/pi_wenlongzhao_umass_edu/27/anamikaghosh/Cosqa/CoSQA_explanations_query_code.csv'\n",
    "\n",
    "def add_expl(corpus_data, explanation_df_path, col_name='explanation_deepseek_1_cleaned'):\n",
    "    expl_df = pd.read_csv(explanation_df_path)\n",
    "    \n",
    "    # Make sure column names are consistent\n",
    "    expl_df.rename(columns={\"corpus_id\": \"corpus-id\"}, inplace=True)\n",
    "\n",
    "    # Create a map of corpus-id to explanation\n",
    "    expl_map = {\n",
    "        str(row[\"corpus-id\"]): row[col_name]\n",
    "        for _, row in expl_df.iterrows()\n",
    "        if pd.notna(row[col_name]) and str(row[col_name]).strip()\n",
    "    }\n",
    "\n",
    "    # Replace corpus_data['text'] with explanation where _id matches\n",
    "    corpus_list = corpus_data.to_list()\n",
    "\n",
    "    for item in corpus_list:\n",
    "        corpus_id = item[\"_id\"]\n",
    "        if corpus_id in expl_map:\n",
    "            item[\"text\"] = expl_map[corpus_id]\n",
    "\n",
    "    # Filter out entries with empty or missing text\n",
    "    corpus_list = [doc for doc in corpus_list if doc.get(\"text\", \"\").strip()]\n",
    "\n",
    "    # Convert back to Dataset\n",
    "    corpus_data_with_expl = Dataset.from_list(corpus_list).cast(corpus_data.features)\n",
    "\n",
    "    return corpus_data_with_expl\n"
   ]
  },
  {
   "cell_type": "code",
   "execution_count": 6,
   "id": "cf0ca31b-403c-429f-a9a0-e8eccf4001f5",
   "metadata": {},
   "outputs": [
    {
     "data": {
      "text/plain": [
       "Dataset({\n",
       "    features: ['_id', 'partition', 'text', 'title', 'language', 'meta_information'],\n",
       "    num_rows: 20604\n",
       "})"
      ]
     },
     "execution_count": 6,
     "metadata": {},
     "output_type": "execute_result"
    }
   ],
   "source": [
    "corpus_data"
   ]
  },
  {
   "cell_type": "code",
   "execution_count": 7,
   "id": "76f9d08a-6498-436e-8cdf-0294472b8e60",
   "metadata": {},
   "outputs": [
    {
     "data": {
      "text/plain": [
       "'def writeBoolean(self, n):\\n        \"\"\"\\n        Writes a Boolean to the stream.\\n        \"\"\"\\n        t = TYPE_BOOL_TRUE\\n\\n        if n is False:\\n            t = TYPE_BOOL_FALSE\\n\\n        self.stream.write(t)'"
      ]
     },
     "execution_count": 7,
     "metadata": {},
     "output_type": "execute_result"
    }
   ],
   "source": [
    "corpus_data['text'][0]"
   ]
  },
  {
   "cell_type": "code",
   "execution_count": 8,
   "id": "eb6e6c53-4182-464b-b1d2-003c81d80463",
   "metadata": {},
   "outputs": [
    {
     "name": "stderr",
     "output_type": "stream",
     "text": [
      "Casting the dataset: 100%|██████████| 20604/20604 [00:00<00:00, 1600745.36 examples/s]\n"
     ]
    }
   ],
   "source": [
    "corpus_data = add_expl(corpus_data, cosqa_expl_path, \"explanation_granite_1\")"
   ]
  },
  {
   "cell_type": "code",
   "execution_count": 9,
   "id": "b3d14037-d691-4d27-95d9-d19f1e49e162",
   "metadata": {},
   "outputs": [
    {
     "data": {
      "text/plain": [
       "\"\\nThe provided code is a Python method named `writeBoolean` that writes a Boolean value to a stream. It takes one argument `n`, which is a Boolean value. If `n` is `False`, it sets the value of `t` to `TYPE_BOOL_FALSE`. Otherwise, it sets `t` to `TYPE_BOOL_TRUE`. Finally, it writes the value of `t` to the stream using the `write` method of the `self.stream` object. The doc string provides a brief description of the method's purpose and functionality.\""
      ]
     },
     "execution_count": 9,
     "metadata": {},
     "output_type": "execute_result"
    }
   ],
   "source": [
    "corpus_data['text'][0]"
   ]
  },
  {
   "cell_type": "code",
   "execution_count": 11,
   "id": "bae57fb8-5c49-4122-8207-4571688f4bf6",
   "metadata": {},
   "outputs": [
    {
     "data": {
      "text/plain": [
       "Dataset({\n",
       "    features: ['_id', 'partition', 'text', 'title', 'language', 'meta_information'],\n",
       "    num_rows: 20604\n",
       "})"
      ]
     },
     "execution_count": 11,
     "metadata": {},
     "output_type": "execute_result"
    }
   ],
   "source": [
    "corpus_data"
   ]
  },
  {
   "cell_type": "code",
   "execution_count": 12,
   "id": "a210b6bc-0a1e-4c42-9137-3dcde73e525d",
   "metadata": {},
   "outputs": [
    {
     "data": {
      "text/plain": [
       "Dataset({\n",
       "    features: ['_id', 'partition', 'text', 'title', 'language', 'meta_information'],\n",
       "    num_rows: 20604\n",
       "})"
      ]
     },
     "execution_count": 12,
     "metadata": {},
     "output_type": "execute_result"
    }
   ],
   "source": [
    "query_data"
   ]
  },
  {
   "cell_type": "code",
   "execution_count": 13,
   "id": "04be553e-ca96-4146-b65b-811e8894e576",
   "metadata": {},
   "outputs": [
    {
     "data": {
      "text/plain": [
       "Dataset({\n",
       "    features: ['query_id', 'corpus_id', 'score'],\n",
       "    num_rows: 500\n",
       "})"
      ]
     },
     "execution_count": 13,
     "metadata": {},
     "output_type": "execute_result"
    }
   ],
   "source": [
    "qrels_data_test"
   ]
  },
  {
   "cell_type": "code",
   "execution_count": 14,
   "id": "49664acb-5f4a-4e82-a0ca-5fa432475e63",
   "metadata": {},
   "outputs": [
    {
     "name": "stderr",
     "output_type": "stream",
     "text": [
      "Uploading the dataset shards:   0%|          | 0/1 [00:00<?, ?it/s]\n",
      "Creating parquet from Arrow format: 100%|██████████| 21/21 [00:00<00:00, 264.88ba/s]\n",
      "Uploading the dataset shards: 100%|██████████| 1/1 [00:00<00:00,  1.42it/s]\n"
     ]
    },
    {
     "data": {
      "text/plain": [
       "CommitInfo(commit_url='https://huggingface.co/datasets/vaishnavisha/corpus_data_cosqa_granite1/commit/b7083027e34998b57eb6650f55877d0ce8e1eca7', commit_message='Upload dataset', commit_description='', oid='b7083027e34998b57eb6650f55877d0ce8e1eca7', pr_url=None, repo_url=RepoUrl('https://huggingface.co/datasets/vaishnavisha/corpus_data_cosqa_granite1', endpoint='https://huggingface.co', repo_type='dataset', repo_id='vaishnavisha/corpus_data_cosqa_granite1'), pr_revision=None, pr_num=None)"
      ]
     },
     "execution_count": 14,
     "metadata": {},
     "output_type": "execute_result"
    }
   ],
   "source": [
    "corpus_data.push_to_hub(\"vaishnavisha/corpus_data_cosqa_granite1\")"
   ]
  },
  {
   "cell_type": "markdown",
   "id": "48d3308e-5f74-4d2c-8f25-83530b5a3bda",
   "metadata": {
    "tags": []
   },
   "source": [
    "### Uploading results"
   ]
  },
  {
   "cell_type": "code",
   "execution_count": 16,
   "id": "3531411c-b939-4f97-9c05-3ac7d0c2d100",
   "metadata": {},
   "outputs": [],
   "source": [
    "df = pd.read_parquet('/work/pi_wenlongzhao_umass_edu/27/vaishnavisha/CS696DS-Oracle-Retrieving-Code-Explanations/coir-main/results/cosqa/granite1/dres/intfloat_e5-base-v2/augmented_retrieval_analysis.parquet')"
   ]
  },
  {
   "cell_type": "code",
   "execution_count": 17,
   "id": "4011a17b-5a12-4327-b5fb-6c402cb106de",
   "metadata": {},
   "outputs": [
    {
     "name": "stderr",
     "output_type": "stream",
     "text": [
      "Uploading the dataset shards:   0%|          | 0/1 [00:00<?, ?it/s]\n",
      "Creating parquet from Arrow format:   0%|          | 0/500 [00:00<?, ?ba/s]\u001b[A\n",
      "Creating parquet from Arrow format:   5%|▌         | 27/500 [00:00<00:01, 265.11ba/s]\u001b[A\n",
      "Creating parquet from Arrow format:  15%|█▌        | 76/500 [00:00<00:01, 392.86ba/s]\u001b[A\n",
      "Creating parquet from Arrow format:  25%|██▌       | 126/500 [00:00<00:00, 438.21ba/s]\u001b[A\n",
      "Creating parquet from Arrow format:  35%|███▌      | 177/500 [00:00<00:00, 464.37ba/s]\u001b[A\n",
      "Creating parquet from Arrow format:  45%|████▍     | 224/500 [00:00<00:00, 436.40ba/s]\u001b[A\n",
      "Creating parquet from Arrow format:  55%|█████▌    | 275/500 [00:00<00:00, 459.38ba/s]\u001b[A\n",
      "Creating parquet from Arrow format:  65%|██████▌   | 325/500 [00:00<00:00, 470.08ba/s]\u001b[A\n",
      "Creating parquet from Arrow format:  75%|███████▍  | 373/500 [00:00<00:00, 459.21ba/s]\u001b[A\n",
      "Creating parquet from Arrow format:  85%|████████▍ | 423/500 [00:00<00:00, 469.04ba/s]\u001b[A\n",
      "Creating parquet from Arrow format: 100%|██████████| 500/500 [00:01<00:00, 457.46ba/s]\u001b[A\n",
      "Uploading the dataset shards: 100%|██████████| 1/1 [00:04<00:00,  4.25s/it]\n"
     ]
    },
    {
     "data": {
      "text/plain": [
       "CommitInfo(commit_url='https://huggingface.co/datasets/vaishnavisha/retrieved_results_cosqa_granite1_dres_intfloat_e5-base-v2/commit/3b656d6f7b7e9a6a1a46ef49b37b87e35f564e1a', commit_message='Upload dataset', commit_description='', oid='3b656d6f7b7e9a6a1a46ef49b37b87e35f564e1a', pr_url=None, repo_url=RepoUrl('https://huggingface.co/datasets/vaishnavisha/retrieved_results_cosqa_granite1_dres_intfloat_e5-base-v2', endpoint='https://huggingface.co', repo_type='dataset', repo_id='vaishnavisha/retrieved_results_cosqa_granite1_dres_intfloat_e5-base-v2'), pr_revision=None, pr_num=None)"
      ]
     },
     "execution_count": 17,
     "metadata": {},
     "output_type": "execute_result"
    }
   ],
   "source": [
    "dataset = Dataset.from_pandas(df)\n",
    "dataset.push_to_hub(\"vaishnavisha/retrieved_results_cosqa_granite1_dres_intfloat_e5-base-v2\")"
   ]
  },
  {
   "cell_type": "code",
   "execution_count": null,
   "id": "34292a73-b643-43a3-b7c3-a8d8d15c42d1",
   "metadata": {},
   "outputs": [],
   "source": []
  }
 ],
 "metadata": {
  "kernelspec": {
   "display_name": "“virtual-env”",
   "language": "python",
   "name": "vaishnavisha-virtual-env"
  },
  "language_info": {
   "codemirror_mode": {
    "name": "ipython",
    "version": 3
   },
   "file_extension": ".py",
   "mimetype": "text/x-python",
   "name": "python",
   "nbconvert_exporter": "python",
   "pygments_lexer": "ipython3",
   "version": "3.8.20"
  }
 },
 "nbformat": 4,
 "nbformat_minor": 5
}
