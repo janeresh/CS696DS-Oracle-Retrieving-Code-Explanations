{
 "cells": [
  {
   "cell_type": "markdown",
   "id": "de7367e0-b72a-448c-98d0-ddfcaa12fa67",
   "metadata": {},
   "source": [
    "####\n",
    "1. removing all zero scored records\n",
    "2. combining the data\n",
    "3. removing duplicates (keeping only test ones)"
   ]
  },
  {
   "cell_type": "code",
   "execution_count": 52,
   "id": "09a3a8b9-a974-4d9b-b768-592a637e4e77",
   "metadata": {},
   "outputs": [
    {
     "name": "stdout",
     "output_type": "stream",
     "text": [
      "fetched data from hf\n"
     ]
    }
   ],
   "source": [
    "task_name='cosqa'\n",
    "queries_corpus_dataset = load_dataset(f\"CoIR-Retrieval/{task_name}-queries-corpus\")\n",
    "qrels_dataset = load_dataset(f\"CoIR-Retrieval/{task_name}-qrels\")\n",
    "\n",
    "print('fetched data from hf')\n",
    "corpus_data = queries_corpus_dataset['corpus']\n",
    "query_data = queries_corpus_dataset['queries']\n",
    "qrels_data_test = qrels_dataset['test']"
   ]
  },
  {
   "cell_type": "code",
   "execution_count": 53,
   "id": "36542dd5-2e10-4191-89ae-7a5bd20783a3",
   "metadata": {},
   "outputs": [
    {
     "data": {
      "text/plain": [
       "Dataset({\n",
       "    features: ['_id', 'partition', 'text', 'title', 'language', 'meta_information'],\n",
       "    num_rows: 20604\n",
       "})"
      ]
     },
     "execution_count": 53,
     "metadata": {},
     "output_type": "execute_result"
    }
   ],
   "source": [
    "corpus_data"
   ]
  },
  {
   "cell_type": "code",
   "execution_count": 59,
   "id": "5db8c7d0-be54-4130-88af-97c2a0a45210",
   "metadata": {},
   "outputs": [],
   "source": [
    "corpus_data = load_dataset(\"vaishnavisha/cosqa_corpus_data\")['train']\n",
    "query_data = load_dataset(\"vaishnavisha/cosqa_query_data\")['train']\n",
    "qrels_data_test = load_dataset(\"vaishnavisha/cosqa_qrels_data_test\")['train']"
   ]
  },
  {
   "cell_type": "code",
   "execution_count": 60,
   "id": "75c301b6-79be-432b-8e36-6a72911df489",
   "metadata": {},
   "outputs": [
    {
     "data": {
      "text/plain": [
       "Dataset({\n",
       "    features: ['query_id', 'corpus_id', 'score'],\n",
       "    num_rows: 500\n",
       "})"
      ]
     },
     "execution_count": 60,
     "metadata": {},
     "output_type": "execute_result"
    }
   ],
   "source": [
    "qrels_data_test"
   ]
  },
  {
   "cell_type": "code",
   "execution_count": 1,
   "id": "5eb59cf5-bb12-428f-985a-804d8ab6ebb7",
   "metadata": {},
   "outputs": [],
   "source": [
    "from coir.data_loader import get_tasks\n",
    "from coir.evaluation import COIR\n",
    "from coir.models import YourCustomDEModel\n",
    "from coir.beir.retrieval import TrainRetriever\n",
    "import pandas as pd\n",
    "from datasets import load_dataset, Dataset, concatenate_datasets\n",
    "from collections import defaultdict"
   ]
  },
  {
   "cell_type": "code",
   "execution_count": 2,
   "id": "33f38665-4034-444e-a366-dcdb34c0e7ba",
   "metadata": {},
   "outputs": [],
   "source": [
    "queries_corpus_dataset = load_dataset(f\"CoIR-Retrieval/cosqa-queries-corpus\")\n",
    "qrels_dataset = load_dataset(f\"CoIR-Retrieval/cosqa-qrels\")"
   ]
  },
  {
   "cell_type": "code",
   "execution_count": 3,
   "id": "1a8ba5c5-7502-4271-9627-df6d6e49301d",
   "metadata": {},
   "outputs": [],
   "source": [
    "corpus_data = queries_corpus_dataset['corpus']\n",
    "query_data = queries_corpus_dataset['queries']\n",
    "qrels_data_test = qrels_dataset['test']\n",
    "qrels_df_test = qrels_data_test.to_pandas()\n",
    "qrels_data_train = qrels_dataset['train']\n",
    "qrels_data_valid = qrels_dataset['valid']\n",
    "qrels_data = concatenate_datasets([qrels_data_train, qrels_data_valid, qrels_data_test])"
   ]
  },
  {
   "cell_type": "code",
   "execution_count": 4,
   "id": "c3a5756e-2328-4dfe-8ec4-8b3c4044104b",
   "metadata": {},
   "outputs": [],
   "source": [
    "test_query_ids = qrels_df_test['query_id'].to_list()"
   ]
  },
  {
   "cell_type": "code",
   "execution_count": 5,
   "id": "473c93ca-f4e3-4bce-a3ee-5c96de42fb1e",
   "metadata": {},
   "outputs": [
    {
     "data": {
      "text/plain": [
       "500"
      ]
     },
     "execution_count": 5,
     "metadata": {},
     "output_type": "execute_result"
    }
   ],
   "source": [
    "len(test_query_ids)"
   ]
  },
  {
   "cell_type": "code",
   "execution_count": 6,
   "id": "1f06d6f9-9e98-4c5e-b122-e9266d1df402",
   "metadata": {},
   "outputs": [
    {
     "data": {
      "text/plain": [
       "Dataset({\n",
       "    features: ['_id', 'partition', 'text', 'title', 'language', 'meta_information'],\n",
       "    num_rows: 20604\n",
       "})"
      ]
     },
     "execution_count": 6,
     "metadata": {},
     "output_type": "execute_result"
    }
   ],
   "source": [
    "corpus_data"
   ]
  },
  {
   "cell_type": "code",
   "execution_count": 7,
   "id": "31f3e39f-3c56-4a8b-a311-efcf6b0eeab0",
   "metadata": {},
   "outputs": [
    {
     "data": {
      "text/plain": [
       "Dataset({\n",
       "    features: ['_id', 'partition', 'text', 'title', 'language', 'meta_information'],\n",
       "    num_rows: 20604\n",
       "})"
      ]
     },
     "execution_count": 7,
     "metadata": {},
     "output_type": "execute_result"
    }
   ],
   "source": [
    "query_data"
   ]
  },
  {
   "cell_type": "code",
   "execution_count": 8,
   "id": "3b32469e-bd46-4963-a238-320c721726ac",
   "metadata": {},
   "outputs": [
    {
     "data": {
      "text/plain": [
       "Dataset({\n",
       "    features: ['query_id', 'corpus_id', 'score'],\n",
       "    num_rows: 20604\n",
       "})"
      ]
     },
     "execution_count": 8,
     "metadata": {},
     "output_type": "execute_result"
    }
   ],
   "source": [
    "qrels_data"
   ]
  },
  {
   "cell_type": "code",
   "execution_count": 9,
   "id": "c6ebd3ee-e657-4986-af5f-f5fcd0fc3eb3",
   "metadata": {},
   "outputs": [],
   "source": [
    "qrels_df = qrels_data.to_pandas()\n",
    "qrels_df = qrels_df[qrels_df[\"score\"] == 1] # keeping only score 1\n",
    "query_df = query_data.to_pandas()\n",
    "corpus_df = corpus_data.to_pandas()"
   ]
  },
  {
   "cell_type": "code",
   "execution_count": 22,
   "id": "da339298-0b66-4809-b561-d32c126d9fcb",
   "metadata": {},
   "outputs": [],
   "source": [
    "query_df = query_df.rename(columns={\"_id\": \"query_id\", \"partition\":\"query_partition\", \"text\": \"query_text\", \"title\": \"query_title\",  \"language\": \"query_language\", \"meta_information\": \"query_meta_information\"})\n",
    "corpus_df = corpus_df.rename(columns={\"_id\": \"corpus_id\", \"partition\":\"corpus_partition\", \"text\": \"corpus_text\", \"title\": \"corpus_title\", \"language\": \"corpus_language\", \"meta_information\": \"corpus_meta_information\"})\n",
    "\n",
    "merged = qrels_df.merge(query_df[[\"query_id\", \"query_partition\", \"query_text\", \"query_title\", \"query_language\", \"query_meta_information\"]], on=\"query_id\", how=\"left\")\n",
    "\n",
    "merged = merged.merge(corpus_df[[\"corpus_id\", \"corpus_partition\",\"corpus_text\", \"corpus_title\", \"corpus_language\", \"corpus_meta_information\"]], on=\"corpus_id\", how=\"left\")\n",
    "merged = merged.sort_values(by=\"query_id\", ascending=True)"
   ]
  },
  {
   "cell_type": "code",
   "execution_count": 26,
   "id": "bbf8282a-22b4-49d8-b25b-8f2adab87d48",
   "metadata": {},
   "outputs": [
    {
     "data": {
      "text/html": [
       "<div>\n",
       "<style scoped>\n",
       "    .dataframe tbody tr th:only-of-type {\n",
       "        vertical-align: middle;\n",
       "    }\n",
       "\n",
       "    .dataframe tbody tr th {\n",
       "        vertical-align: top;\n",
       "    }\n",
       "\n",
       "    .dataframe thead th {\n",
       "        text-align: right;\n",
       "    }\n",
       "</style>\n",
       "<table border=\"1\" class=\"dataframe\">\n",
       "  <thead>\n",
       "    <tr style=\"text-align: right;\">\n",
       "      <th></th>\n",
       "      <th>query_id</th>\n",
       "      <th>corpus_id</th>\n",
       "      <th>score</th>\n",
       "      <th>query_partition</th>\n",
       "      <th>query_text</th>\n",
       "      <th>query_title</th>\n",
       "      <th>query_language</th>\n",
       "      <th>query_meta_information</th>\n",
       "      <th>corpus_partition</th>\n",
       "      <th>corpus_text</th>\n",
       "      <th>corpus_title</th>\n",
       "      <th>corpus_language</th>\n",
       "      <th>corpus_meta_information</th>\n",
       "    </tr>\n",
       "  </thead>\n",
       "  <tbody>\n",
       "    <tr>\n",
       "      <th>0</th>\n",
       "      <td>q10</td>\n",
       "      <td>d10</td>\n",
       "      <td>1</td>\n",
       "      <td>train</td>\n",
       "      <td>1d array in char datatype in python</td>\n",
       "      <td></td>\n",
       "      <td></td>\n",
       "      <td>{'dummy_field': ''}</td>\n",
       "      <td>train</td>\n",
       "      <td>def _convert_to_array(array_like, dtype):\\n   ...</td>\n",
       "      <td></td>\n",
       "      <td>PYTHON</td>\n",
       "      <td>{'dummy_field': ''}</td>\n",
       "    </tr>\n",
       "    <tr>\n",
       "      <th>2799</th>\n",
       "      <td>q9318</td>\n",
       "      <td>d9318</td>\n",
       "      <td>1</td>\n",
       "      <td>train</td>\n",
       "      <td>how to create a 2d array from 1d array using n...</td>\n",
       "      <td></td>\n",
       "      <td></td>\n",
       "      <td>{'dummy_field': ''}</td>\n",
       "      <td>train</td>\n",
       "      <td>def _convert_to_array(array_like, dtype):\\n   ...</td>\n",
       "      <td></td>\n",
       "      <td>PYTHON</td>\n",
       "      <td>{'dummy_field': ''}</td>\n",
       "    </tr>\n",
       "  </tbody>\n",
       "</table>\n",
       "</div>"
      ],
      "text/plain": [
       "     query_id corpus_id  score query_partition  \\\n",
       "0         q10       d10      1           train   \n",
       "2799    q9318     d9318      1           train   \n",
       "\n",
       "                                             query_text query_title  \\\n",
       "0                   1d array in char datatype in python               \n",
       "2799  how to create a 2d array from 1d array using n...               \n",
       "\n",
       "     query_language query_meta_information corpus_partition  \\\n",
       "0                      {'dummy_field': ''}            train   \n",
       "2799                   {'dummy_field': ''}            train   \n",
       "\n",
       "                                            corpus_text corpus_title  \\\n",
       "0     def _convert_to_array(array_like, dtype):\\n   ...                \n",
       "2799  def _convert_to_array(array_like, dtype):\\n   ...                \n",
       "\n",
       "     corpus_language corpus_meta_information  \n",
       "0             PYTHON     {'dummy_field': ''}  \n",
       "2799          PYTHON     {'dummy_field': ''}  "
      ]
     },
     "execution_count": 26,
     "metadata": {},
     "output_type": "execute_result"
    }
   ],
   "source": [
    "merged[merged['corpus_text'] == 'def _convert_to_array(array_like, dtype):\\n        \"\"\"\\n        Convert Matrix attributes which are array-like or buffer to array.\\n        \"\"\"\\n        if isinstance(array_like, bytes):\\n            return np.frombuffer(array_like, dtype=dtype)\\n        return np.asarray(array_like, dtype=dtype)']"
   ]
  },
  {
   "cell_type": "code",
   "execution_count": 28,
   "id": "ed2c388c-f747-4354-989f-8f51904632f5",
   "metadata": {},
   "outputs": [
    {
     "data": {
      "text/html": [
       "<div>\n",
       "<style scoped>\n",
       "    .dataframe tbody tr th:only-of-type {\n",
       "        vertical-align: middle;\n",
       "    }\n",
       "\n",
       "    .dataframe tbody tr th {\n",
       "        vertical-align: top;\n",
       "    }\n",
       "\n",
       "    .dataframe thead th {\n",
       "        text-align: right;\n",
       "    }\n",
       "</style>\n",
       "<table border=\"1\" class=\"dataframe\">\n",
       "  <thead>\n",
       "    <tr style=\"text-align: right;\">\n",
       "      <th></th>\n",
       "      <th>query_id</th>\n",
       "      <th>corpus_id</th>\n",
       "      <th>score</th>\n",
       "      <th>query_partition</th>\n",
       "      <th>query_text</th>\n",
       "      <th>query_title</th>\n",
       "      <th>query_language</th>\n",
       "      <th>query_meta_information</th>\n",
       "      <th>corpus_partition</th>\n",
       "      <th>corpus_text</th>\n",
       "      <th>corpus_title</th>\n",
       "      <th>corpus_language</th>\n",
       "      <th>corpus_meta_information</th>\n",
       "    </tr>\n",
       "  </thead>\n",
       "  <tbody>\n",
       "    <tr>\n",
       "      <th>0</th>\n",
       "      <td>q10</td>\n",
       "      <td>d10</td>\n",
       "      <td>1</td>\n",
       "      <td>train</td>\n",
       "      <td>1d array in char datatype in python</td>\n",
       "      <td></td>\n",
       "      <td></td>\n",
       "      <td>{'dummy_field': ''}</td>\n",
       "      <td>train</td>\n",
       "      <td>def _convert_to_array(array_like, dtype):\\n   ...</td>\n",
       "      <td></td>\n",
       "      <td>PYTHON</td>\n",
       "      <td>{'dummy_field': ''}</td>\n",
       "    </tr>\n",
       "  </tbody>\n",
       "</table>\n",
       "</div>"
      ],
      "text/plain": [
       "  query_id corpus_id  score query_partition  \\\n",
       "0      q10       d10      1           train   \n",
       "\n",
       "                            query_text query_title query_language  \\\n",
       "0  1d array in char datatype in python                              \n",
       "\n",
       "  query_meta_information corpus_partition  \\\n",
       "0    {'dummy_field': ''}            train   \n",
       "\n",
       "                                         corpus_text corpus_title  \\\n",
       "0  def _convert_to_array(array_like, dtype):\\n   ...                \n",
       "\n",
       "  corpus_language corpus_meta_information  \n",
       "0          PYTHON     {'dummy_field': ''}  "
      ]
     },
     "execution_count": 28,
     "metadata": {},
     "output_type": "execute_result"
    }
   ],
   "source": [
    "merged[merged['corpus_id'] == 'd10']"
   ]
  },
  {
   "cell_type": "code",
   "execution_count": 31,
   "id": "8df40589-4550-4d74-8a5b-040b9f61efac",
   "metadata": {},
   "outputs": [
    {
     "data": {
      "text/html": [
       "<div>\n",
       "<style scoped>\n",
       "    .dataframe tbody tr th:only-of-type {\n",
       "        vertical-align: middle;\n",
       "    }\n",
       "\n",
       "    .dataframe tbody tr th {\n",
       "        vertical-align: top;\n",
       "    }\n",
       "\n",
       "    .dataframe thead th {\n",
       "        text-align: right;\n",
       "    }\n",
       "</style>\n",
       "<table border=\"1\" class=\"dataframe\">\n",
       "  <thead>\n",
       "    <tr style=\"text-align: right;\">\n",
       "      <th></th>\n",
       "      <th>query_id</th>\n",
       "      <th>corpus_id</th>\n",
       "      <th>score</th>\n",
       "      <th>query_partition</th>\n",
       "      <th>query_text</th>\n",
       "      <th>query_title</th>\n",
       "      <th>query_language</th>\n",
       "      <th>query_meta_information</th>\n",
       "      <th>corpus_partition</th>\n",
       "      <th>corpus_text</th>\n",
       "      <th>corpus_title</th>\n",
       "      <th>corpus_language</th>\n",
       "      <th>corpus_meta_information</th>\n",
       "    </tr>\n",
       "  </thead>\n",
       "  <tbody>\n",
       "    <tr>\n",
       "      <th>0</th>\n",
       "      <td>q10</td>\n",
       "      <td>d9318</td>\n",
       "      <td>1</td>\n",
       "      <td>train</td>\n",
       "      <td>1d array in char datatype in python</td>\n",
       "      <td></td>\n",
       "      <td></td>\n",
       "      <td>{'dummy_field': ''}</td>\n",
       "      <td>train</td>\n",
       "      <td>def _convert_to_array(array_like, dtype):\\n   ...</td>\n",
       "      <td></td>\n",
       "      <td>PYTHON</td>\n",
       "      <td>{'dummy_field': ''}</td>\n",
       "    </tr>\n",
       "    <tr>\n",
       "      <th>2799</th>\n",
       "      <td>q9318</td>\n",
       "      <td>d9318</td>\n",
       "      <td>1</td>\n",
       "      <td>train</td>\n",
       "      <td>how to create a 2d array from 1d array using n...</td>\n",
       "      <td></td>\n",
       "      <td></td>\n",
       "      <td>{'dummy_field': ''}</td>\n",
       "      <td>train</td>\n",
       "      <td>def _convert_to_array(array_like, dtype):\\n   ...</td>\n",
       "      <td></td>\n",
       "      <td>PYTHON</td>\n",
       "      <td>{'dummy_field': ''}</td>\n",
       "    </tr>\n",
       "  </tbody>\n",
       "</table>\n",
       "</div>"
      ],
      "text/plain": [
       "     query_id corpus_id  score query_partition  \\\n",
       "0         q10     d9318      1           train   \n",
       "2799    q9318     d9318      1           train   \n",
       "\n",
       "                                             query_text query_title  \\\n",
       "0                   1d array in char datatype in python               \n",
       "2799  how to create a 2d array from 1d array using n...               \n",
       "\n",
       "     query_language query_meta_information corpus_partition  \\\n",
       "0                      {'dummy_field': ''}            train   \n",
       "2799                   {'dummy_field': ''}            train   \n",
       "\n",
       "                                            corpus_text corpus_title  \\\n",
       "0     def _convert_to_array(array_like, dtype):\\n   ...                \n",
       "2799  def _convert_to_array(array_like, dtype):\\n   ...                \n",
       "\n",
       "     corpus_language corpus_meta_information  \n",
       "0             PYTHON     {'dummy_field': ''}  \n",
       "2799          PYTHON     {'dummy_field': ''}  "
      ]
     },
     "execution_count": 31,
     "metadata": {},
     "output_type": "execute_result"
    }
   ],
   "source": [
    "merged[merged['corpus_id'] == 'd9318']"
   ]
  },
  {
   "cell_type": "code",
   "execution_count": 30,
   "id": "b34a87df-4825-43ca-987e-67af36eed7b6",
   "metadata": {},
   "outputs": [],
   "source": [
    "last_corpus_ids = (\n",
    "    merged\n",
    "    .drop_duplicates(subset=[\"corpus_text\"], keep=\"last\")\n",
    "    .set_index(\"corpus_text\")[\"corpus_id\"]\n",
    "    .to_dict()\n",
    ")\n",
    "\n",
    "merged[\"corpus_id\"] = merged[\"corpus_text\"].map(last_corpus_ids)\n",
    "\n",
    "merged = merged.reset_index(drop=True)"
   ]
  },
  {
   "cell_type": "code",
   "execution_count": 39,
   "id": "43548ce6-afbe-4a33-b9c5-7146d238604f",
   "metadata": {},
   "outputs": [
    {
     "data": {
      "text/plain": [
       "10020"
      ]
     },
     "execution_count": 39,
     "metadata": {},
     "output_type": "execute_result"
    }
   ],
   "source": [
    "len(merged)"
   ]
  },
  {
   "cell_type": "code",
   "execution_count": 43,
   "id": "91aa436d-ddf9-41a6-aae9-00a6f4f4e578",
   "metadata": {},
   "outputs": [],
   "source": [
    "query_df = merged[[\n",
    "    \"query_id\", \"query_partition\", \"query_text\", \"query_title\", \"query_language\", \"query_meta_information\"\n",
    "]].rename(columns={\n",
    "    \"query_id\": \"_id\", \"query_partition\": \"partition\", \"query_text\": \"text\", \n",
    "    \"query_title\": \"title\", \"query_language\": \"language\", \"query_meta_information\": \"meta_information\"\n",
    "})\n",
    "query_data = Dataset.from_pandas(query_df.reset_index(drop=True))\n",
    "\n",
    "# Corpus Data\n",
    "corpus_df = merged[[\n",
    "    \"corpus_id\", \"corpus_partition\", \"corpus_text\", \"corpus_title\", \"corpus_language\", \"corpus_meta_information\"\n",
    "]].rename(columns={\n",
    "    \"corpus_id\": \"_id\", \"corpus_partition\": \"partition\", \"corpus_text\": \"text\", \n",
    "    \"corpus_title\": \"title\", \"corpus_language\": \"language\", \"corpus_meta_information\": \"meta_information\"\n",
    "})\n",
    "corpus_data = Dataset.from_pandas(corpus_df.reset_index(drop=True))\n",
    "\n",
    "# Qrels Data\n",
    "qrels_df = merged[[\"query_id\", \"corpus_id\", \"score\"]].drop_duplicates()\n",
    "qrels_df_test = qrels_df[qrels_df[\"query_id\"].isin(test_query_ids)]\n",
    "qrels_data = Dataset.from_pandas(qrels_df.reset_index(drop=True))\n",
    "qrels_data_test = Dataset.from_pandas(qrels_df_test.reset_index(drop=True))\n"
   ]
  },
  {
   "cell_type": "code",
   "execution_count": 61,
   "id": "46ef08e2-c7b0-4aef-bb55-84aec88aee94",
   "metadata": {},
   "outputs": [
    {
     "data": {
      "text/plain": [
       "Dataset({\n",
       "    features: ['_id', 'partition', 'text', 'title', 'language', 'meta_information'],\n",
       "    num_rows: 10020\n",
       "})"
      ]
     },
     "execution_count": 61,
     "metadata": {},
     "output_type": "execute_result"
    }
   ],
   "source": [
    "query_data"
   ]
  },
  {
   "cell_type": "code",
   "execution_count": 48,
   "id": "087719e7-24fc-4fa9-a8c6-6e6026934465",
   "metadata": {},
   "outputs": [
    {
     "data": {
      "application/vnd.jupyter.widget-view+json": {
       "model_id": "fafcce95cbe24a8d9892a818f7971f0b",
       "version_major": 2,
       "version_minor": 0
      },
      "text/plain": [
       "Uploading the dataset shards:   0%|          | 0/1 [00:00<?, ?it/s]"
      ]
     },
     "metadata": {},
     "output_type": "display_data"
    },
    {
     "data": {
      "application/vnd.jupyter.widget-view+json": {
       "model_id": "a105c19847b44852b9d10570424b69ff",
       "version_major": 2,
       "version_minor": 0
      },
      "text/plain": [
       "Creating parquet from Arrow format:   0%|          | 0/11 [00:00<?, ?ba/s]"
      ]
     },
     "metadata": {},
     "output_type": "display_data"
    },
    {
     "data": {
      "text/plain": [
       "CommitInfo(commit_url='https://huggingface.co/datasets/vaishnavisha/cosqa_corpus_data/commit/dc56c5109ca530427fcfd21ad1b4d658c91d8cd5', commit_message='Upload dataset', commit_description='', oid='dc56c5109ca530427fcfd21ad1b4d658c91d8cd5', pr_url=None, repo_url=RepoUrl('https://huggingface.co/datasets/vaishnavisha/cosqa_corpus_data', endpoint='https://huggingface.co', repo_type='dataset', repo_id='vaishnavisha/cosqa_corpus_data'), pr_revision=None, pr_num=None)"
      ]
     },
     "execution_count": 48,
     "metadata": {},
     "output_type": "execute_result"
    }
   ],
   "source": [
    "corpus_data.push_to_hub(\"vaishnavisha/cosqa_corpus_data\")"
   ]
  },
  {
   "cell_type": "code",
   "execution_count": 49,
   "id": "e26fe1c1-c161-4f31-82b1-ce8d36d857a7",
   "metadata": {},
   "outputs": [
    {
     "data": {
      "application/vnd.jupyter.widget-view+json": {
       "model_id": "ca81a6ef64ef4e95a9d682508c10d8c7",
       "version_major": 2,
       "version_minor": 0
      },
      "text/plain": [
       "Uploading the dataset shards:   0%|          | 0/1 [00:00<?, ?it/s]"
      ]
     },
     "metadata": {},
     "output_type": "display_data"
    },
    {
     "data": {
      "application/vnd.jupyter.widget-view+json": {
       "model_id": "107361cb84d34160884bdff8cb60cf0a",
       "version_major": 2,
       "version_minor": 0
      },
      "text/plain": [
       "Creating parquet from Arrow format:   0%|          | 0/11 [00:00<?, ?ba/s]"
      ]
     },
     "metadata": {},
     "output_type": "display_data"
    },
    {
     "data": {
      "text/plain": [
       "CommitInfo(commit_url='https://huggingface.co/datasets/vaishnavisha/cosqa_qrels_data/commit/9bb70630920d7bac4f811e2064f6f82801167b7c', commit_message='Upload dataset', commit_description='', oid='9bb70630920d7bac4f811e2064f6f82801167b7c', pr_url=None, repo_url=RepoUrl('https://huggingface.co/datasets/vaishnavisha/cosqa_qrels_data', endpoint='https://huggingface.co', repo_type='dataset', repo_id='vaishnavisha/cosqa_qrels_data'), pr_revision=None, pr_num=None)"
      ]
     },
     "execution_count": 49,
     "metadata": {},
     "output_type": "execute_result"
    }
   ],
   "source": [
    "qrels_data.push_to_hub(\"vaishnavisha/cosqa_qrels_data\")"
   ]
  },
  {
   "cell_type": "code",
   "execution_count": 50,
   "id": "10259612-54ec-4194-a4df-46b70197ce5b",
   "metadata": {},
   "outputs": [
    {
     "data": {
      "application/vnd.jupyter.widget-view+json": {
       "model_id": "00c7f9c90f49446a9dc825c5b97aaa55",
       "version_major": 2,
       "version_minor": 0
      },
      "text/plain": [
       "Uploading the dataset shards:   0%|          | 0/1 [00:00<?, ?it/s]"
      ]
     },
     "metadata": {},
     "output_type": "display_data"
    },
    {
     "data": {
      "application/vnd.jupyter.widget-view+json": {
       "model_id": "d0f5c33380ac42dfbf27d394bdb7e436",
       "version_major": 2,
       "version_minor": 0
      },
      "text/plain": [
       "Creating parquet from Arrow format:   0%|          | 0/1 [00:00<?, ?ba/s]"
      ]
     },
     "metadata": {},
     "output_type": "display_data"
    },
    {
     "data": {
      "text/plain": [
       "CommitInfo(commit_url='https://huggingface.co/datasets/vaishnavisha/cosqa_qrels_data_test/commit/94d82a30ebfec85ba30fb0a680c2b5c255283c67', commit_message='Upload dataset', commit_description='', oid='94d82a30ebfec85ba30fb0a680c2b5c255283c67', pr_url=None, repo_url=RepoUrl('https://huggingface.co/datasets/vaishnavisha/cosqa_qrels_data_test', endpoint='https://huggingface.co', repo_type='dataset', repo_id='vaishnavisha/cosqa_qrels_data_test'), pr_revision=None, pr_num=None)"
      ]
     },
     "execution_count": 50,
     "metadata": {},
     "output_type": "execute_result"
    }
   ],
   "source": [
    "qrels_data_test.push_to_hub(\"vaishnavisha/cosqa_qrels_data_test\")"
   ]
  },
  {
   "cell_type": "code",
   "execution_count": 51,
   "id": "031eec3c-c263-4f97-bff7-4027bac03a56",
   "metadata": {},
   "outputs": [
    {
     "data": {
      "application/vnd.jupyter.widget-view+json": {
       "model_id": "ff359bdf2b984fb99cb8028f53e0ca13",
       "version_major": 2,
       "version_minor": 0
      },
      "text/plain": [
       "Uploading the dataset shards:   0%|          | 0/1 [00:00<?, ?it/s]"
      ]
     },
     "metadata": {},
     "output_type": "display_data"
    },
    {
     "data": {
      "application/vnd.jupyter.widget-view+json": {
       "model_id": "ad75552ca7224c699f797b9482a5d598",
       "version_major": 2,
       "version_minor": 0
      },
      "text/plain": [
       "Creating parquet from Arrow format:   0%|          | 0/11 [00:00<?, ?ba/s]"
      ]
     },
     "metadata": {},
     "output_type": "display_data"
    },
    {
     "data": {
      "text/plain": [
       "CommitInfo(commit_url='https://huggingface.co/datasets/vaishnavisha/cosqa_query_data/commit/71a390af150552be131fa7607bad76135d079af1', commit_message='Upload dataset', commit_description='', oid='71a390af150552be131fa7607bad76135d079af1', pr_url=None, repo_url=RepoUrl('https://huggingface.co/datasets/vaishnavisha/cosqa_query_data', endpoint='https://huggingface.co', repo_type='dataset', repo_id='vaishnavisha/cosqa_query_data'), pr_revision=None, pr_num=None)"
      ]
     },
     "execution_count": 51,
     "metadata": {},
     "output_type": "execute_result"
    }
   ],
   "source": [
    "query_data.push_to_hub(\"vaishnavisha/cosqa_query_data\")"
   ]
  },
  {
   "cell_type": "code",
   "execution_count": null,
   "id": "1b70dfab-5c6d-47bd-aaa6-6cac006b904a",
   "metadata": {},
   "outputs": [],
   "source": []
  }
 ],
 "metadata": {
  "kernelspec": {
   "display_name": "“virtual-env”",
   "language": "python",
   "name": "vaishnavisha-virtual-env"
  },
  "language_info": {
   "codemirror_mode": {
    "name": "ipython",
    "version": 3
   },
   "file_extension": ".py",
   "mimetype": "text/x-python",
   "name": "python",
   "nbconvert_exporter": "python",
   "pygments_lexer": "ipython3",
   "version": "3.8.20"
  }
 },
 "nbformat": 4,
 "nbformat_minor": 5
}
