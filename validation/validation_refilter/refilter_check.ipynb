{
 "cells": [
  {
   "cell_type": "code",
   "execution_count": 5,
   "metadata": {},
   "outputs": [],
   "source": [
    "import pandas as pd\n",
    "df = pd.read_csv(\"/work/pi_wenlongzhao_umass_edu/27/janet/validation_tool/validation_refilter/results/csn_test_new_granite/result_0.csv\")\n",
    "low_rtc=pd.read_csv(\"/work/pi_wenlongzhao_umass_edu/27/janet/validation_tool/validation_refilter/results/csn_test_new_granite/result_0_low_rtc.csv\")"
   ]
  },
  {
   "cell_type": "code",
   "execution_count": 11,
   "metadata": {},
   "outputs": [
    {
     "data": {
      "text/html": [
       "<div>\n",
       "<style scoped>\n",
       "    .dataframe tbody tr th:only-of-type {\n",
       "        vertical-align: middle;\n",
       "    }\n",
       "\n",
       "    .dataframe tbody tr th {\n",
       "        vertical-align: top;\n",
       "    }\n",
       "\n",
       "    .dataframe thead th {\n",
       "        text-align: right;\n",
       "    }\n",
       "</style>\n",
       "<table border=\"1\" class=\"dataframe\">\n",
       "  <thead>\n",
       "    <tr style=\"text-align: right;\">\n",
       "      <th></th>\n",
       "      <th>corpus_id</th>\n",
       "      <th>cleaned_code</th>\n",
       "      <th>explanation</th>\n",
       "      <th>explanation_number</th>\n",
       "    </tr>\n",
       "  </thead>\n",
       "  <tbody>\n",
       "    <tr>\n",
       "      <th>0</th>\n",
       "      <td>c265609</td>\n",
       "      <td>\\ndef dailymotion_download(url, output_dir='.'...</td>\n",
       "      <td>This Python function, `dailymotion_download`, ...</td>\n",
       "      <td>1</td>\n",
       "    </tr>\n",
       "    <tr>\n",
       "      <th>1</th>\n",
       "      <td>c265613</td>\n",
       "      <td>\\ndef e(message, exit_code=None):\\n\\n    print...</td>\n",
       "      <td>This Python function, `e`, takes a message and...</td>\n",
       "      <td>1</td>\n",
       "    </tr>\n",
       "    <tr>\n",
       "      <th>2</th>\n",
       "      <td>c265615</td>\n",
       "      <td>\\ndef detect_os():\\n\\n    syst = system().lowe...</td>\n",
       "      <td>This Python function, `detect_os()`, identifie...</td>\n",
       "      <td>1</td>\n",
       "    </tr>\n",
       "    <tr>\n",
       "      <th>3</th>\n",
       "      <td>c265618</td>\n",
       "      <td>\\ndef get_video_url_from_video_id(video_id):\\n...</td>\n",
       "      <td>This Python function, `get_video_url_from_vide...</td>\n",
       "      <td>1</td>\n",
       "    </tr>\n",
       "    <tr>\n",
       "      <th>4</th>\n",
       "      <td>c265621</td>\n",
       "      <td>\\ndef download(self, **kwargs):\\n\\n        if ...</td>\n",
       "      <td>This Python function, `download`, is designed ...</td>\n",
       "      <td>1</td>\n",
       "    </tr>\n",
       "    <tr>\n",
       "      <th>...</th>\n",
       "      <td>...</td>\n",
       "      <td>...</td>\n",
       "      <td>...</td>\n",
       "      <td>...</td>\n",
       "    </tr>\n",
       "    <tr>\n",
       "      <th>619</th>\n",
       "      <td>c273506</td>\n",
       "      <td>\\ndef main():\\n\\n    parser = argparse.Argumen...</td>\n",
       "      <td>This code snippet defines a Python function `m...</td>\n",
       "      <td>5</td>\n",
       "    </tr>\n",
       "    <tr>\n",
       "      <th>620</th>\n",
       "      <td>c273542</td>\n",
       "      <td>\\ndef _build_kernel_function_declaration(self,...</td>\n",
       "      <td>The code snippet defines a function `_build_ke...</td>\n",
       "      <td>5</td>\n",
       "    </tr>\n",
       "    <tr>\n",
       "      <th>621</th>\n",
       "      <td>c273544</td>\n",
       "      <td>\\ndef get_kernel_code(self, openmp=False, as_f...</td>\n",
       "      <td>The provided code snippet is a method named `g...</td>\n",
       "      <td>5</td>\n",
       "    </tr>\n",
       "    <tr>\n",
       "      <th>622</th>\n",
       "      <td>c273553</td>\n",
       "      <td>\\ndef get_bandwidth(self, cache_level, read_st...</td>\n",
       "      <td>This code snippet defines a method `get_bandwi...</td>\n",
       "      <td>5</td>\n",
       "    </tr>\n",
       "    <tr>\n",
       "      <th>623</th>\n",
       "      <td>c273554</td>\n",
       "      <td>\\ndef get_compiler(self, compiler=None, flags=...</td>\n",
       "      <td>This code snippet defines a method `get_compil...</td>\n",
       "      <td>5</td>\n",
       "    </tr>\n",
       "  </tbody>\n",
       "</table>\n",
       "<p>624 rows × 4 columns</p>\n",
       "</div>"
      ],
      "text/plain": [
       "    corpus_id                                       cleaned_code  \\\n",
       "0     c265609  \\ndef dailymotion_download(url, output_dir='.'...   \n",
       "1     c265613  \\ndef e(message, exit_code=None):\\n\\n    print...   \n",
       "2     c265615  \\ndef detect_os():\\n\\n    syst = system().lowe...   \n",
       "3     c265618  \\ndef get_video_url_from_video_id(video_id):\\n...   \n",
       "4     c265621  \\ndef download(self, **kwargs):\\n\\n        if ...   \n",
       "..        ...                                                ...   \n",
       "619   c273506  \\ndef main():\\n\\n    parser = argparse.Argumen...   \n",
       "620   c273542  \\ndef _build_kernel_function_declaration(self,...   \n",
       "621   c273544  \\ndef get_kernel_code(self, openmp=False, as_f...   \n",
       "622   c273553  \\ndef get_bandwidth(self, cache_level, read_st...   \n",
       "623   c273554  \\ndef get_compiler(self, compiler=None, flags=...   \n",
       "\n",
       "                                           explanation  explanation_number  \n",
       "0    This Python function, `dailymotion_download`, ...                   1  \n",
       "1    This Python function, `e`, takes a message and...                   1  \n",
       "2    This Python function, `detect_os()`, identifie...                   1  \n",
       "3    This Python function, `get_video_url_from_vide...                   1  \n",
       "4    This Python function, `download`, is designed ...                   1  \n",
       "..                                                 ...                 ...  \n",
       "619  This code snippet defines a Python function `m...                   5  \n",
       "620  The code snippet defines a function `_build_ke...                   5  \n",
       "621  The provided code snippet is a method named `g...                   5  \n",
       "622  This code snippet defines a method `get_bandwi...                   5  \n",
       "623  This code snippet defines a method `get_compil...                   5  \n",
       "\n",
       "[624 rows x 4 columns]"
      ]
     },
     "execution_count": 11,
     "metadata": {},
     "output_type": "execute_result"
    }
   ],
   "source": [
    "low_rtc"
   ]
  },
  {
   "cell_type": "code",
   "execution_count": 15,
   "metadata": {},
   "outputs": [
    {
     "data": {
      "text/plain": [
       "Index(['corpus_id', 'cleaned_code', 'explanation_1', 'generated_code_1_code1',\n",
       "       'generated_code_1_code2', 'generated_code_1_code3', 'explanation_2',\n",
       "       'generated_code_2_code1', 'generated_code_2_code2',\n",
       "       'generated_code_2_code3',\n",
       "       ...\n",
       "       'CodeBLEU_Score_4_code2', 'CodeBLEU_Score_4_code3',\n",
       "       'RTC_CodeBLEU_Score_4', 'CodeBLEU_Score_5_code1',\n",
       "       'CodeBLEU_Score_5_code2', 'CodeBLEU_Score_5_code3',\n",
       "       'RTC_CodeBLEU_Score_5', 'RTC_CodeBLEU_Score', 'Pass@1_CodeBLEU_Score',\n",
       "       'filtered'],\n",
       "      dtype='object', length=104)"
      ]
     },
     "execution_count": 15,
     "metadata": {},
     "output_type": "execute_result"
    }
   ],
   "source": [
    "df.columns"
   ]
  },
  {
   "cell_type": "code",
   "execution_count": 12,
   "metadata": {},
   "outputs": [],
   "source": [
    "sample1=df[df[\"corpus_id\"] == \"c265609\"]"
   ]
  },
  {
   "cell_type": "code",
   "execution_count": 16,
   "metadata": {},
   "outputs": [
    {
     "data": {
      "text/html": [
       "<div>\n",
       "<style scoped>\n",
       "    .dataframe tbody tr th:only-of-type {\n",
       "        vertical-align: middle;\n",
       "    }\n",
       "\n",
       "    .dataframe tbody tr th {\n",
       "        vertical-align: top;\n",
       "    }\n",
       "\n",
       "    .dataframe thead th {\n",
       "        text-align: right;\n",
       "    }\n",
       "</style>\n",
       "<table border=\"1\" class=\"dataframe\">\n",
       "  <thead>\n",
       "    <tr style=\"text-align: right;\">\n",
       "      <th></th>\n",
       "      <th>CodeBERT_Score_1_code1</th>\n",
       "    </tr>\n",
       "  </thead>\n",
       "  <tbody>\n",
       "    <tr>\n",
       "      <th>1</th>\n",
       "      <td>0.735208</td>\n",
       "    </tr>\n",
       "  </tbody>\n",
       "</table>\n",
       "</div>"
      ],
      "text/plain": [
       "   CodeBERT_Score_1_code1\n",
       "1                0.735208"
      ]
     },
     "execution_count": 16,
     "metadata": {},
     "output_type": "execute_result"
    }
   ],
   "source": [
    "sample1[[\"CodeBERT_Score_1_code1\"]]"
   ]
  },
  {
   "cell_type": "code",
   "execution_count": null,
   "metadata": {},
   "outputs": [],
   "source": []
  }
 ],
 "metadata": {
  "kernelspec": {
   "display_name": "Python (GPU)",
   "language": "python",
   "name": "gpu_env"
  },
  "language_info": {
   "codemirror_mode": {
    "name": "ipython",
    "version": 3
   },
   "file_extension": ".py",
   "mimetype": "text/x-python",
   "name": "python",
   "nbconvert_exporter": "python",
   "pygments_lexer": "ipython3",
   "version": "3.12.3"
  }
 },
 "nbformat": 4,
 "nbformat_minor": 2
}
